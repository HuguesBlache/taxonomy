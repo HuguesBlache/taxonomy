{
 "cells": [
  {
   "cell_type": "markdown",
   "id": "yellow-minority",
   "metadata": {},
   "source": [
    "<h1 align=\"center\"> Importation des modules </h1>"
   ]
  },
  {
   "cell_type": "code",
   "execution_count": 1,
   "id": "complete-locator",
   "metadata": {},
   "outputs": [],
   "source": [
    "import plotly.graph_objects as go\n",
    "import pandas as pd\n",
    "import plotly.express as px\n",
    "import pandas as pd\n",
    "import ipywidgets as widgets\n",
    "from ipywidgets import interactive\n",
    "from IPython.display import display\n",
    "from ipywidgets import interact, Dropdown\n",
    "import plotly.graph_objects as go\n",
    "from plotly.subplots import make_subplots\n",
    "import random\n",
    "import numpy as np\n",
    "\n"
   ]
  },
  {
   "cell_type": "markdown",
   "id": "palestinian-antibody",
   "metadata": {},
   "source": [
    "<h1 align=\"center\"> Importation des scripts </h1>"
   ]
  },
  {
   "cell_type": "markdown",
   "id": "accessory-plate",
   "metadata": {},
   "source": [
    "<h2 align=\"center\"> Importation des données </h2>"
   ]
  },
  {
   "cell_type": "code",
   "execution_count": 2,
   "id": "acute-brave",
   "metadata": {},
   "outputs": [],
   "source": [
    "%run ./Code/data/Data.ipynb"
   ]
  },
  {
   "cell_type": "markdown",
   "id": "radio-charlotte",
   "metadata": {},
   "source": [
    "<h2 align=\"center\"> Importation des traitements de données </h2>"
   ]
  },
  {
   "cell_type": "code",
   "execution_count": 3,
   "id": "forced-musician",
   "metadata": {},
   "outputs": [
    {
     "name": "stderr",
     "output_type": "stream",
     "text": [
      ".\\data_treatment\\data_treatment_application.ipynb:5: SettingWithCopyWarning: \n",
      "A value is trying to be set on a copy of a slice from a DataFrame\n",
      "\n",
      "See the caveats in the documentation: https://pandas.pydata.org/pandas-docs/stable/user_guide/indexing.html#returning-a-view-versus-a-copy\n",
      "  \"id\": \"divine-occurrence\",\n",
      ".\\data_treatment\\data_treatment_application.ipynb:21: SettingWithCopyWarning: \n",
      "A value is trying to be set on a copy of a slice from a DataFrame\n",
      "\n",
      "See the caveats in the documentation: https://pandas.pydata.org/pandas-docs/stable/user_guide/indexing.html#returning-a-view-versus-a-copy\n",
      "  \"        if application_data[j][i]==\\\"Yes\\\":\\n\",\n",
      "C:\\Users\\hugue\\anaconda\\lib\\site-packages\\pandas\\core\\indexing.py:1637: SettingWithCopyWarning: \n",
      "A value is trying to be set on a copy of a slice from a DataFrame\n",
      "\n",
      "See the caveats in the documentation: https://pandas.pydata.org/pandas-docs/stable/user_guide/indexing.html#returning-a-view-versus-a-copy\n",
      "  self._setitem_single_block(indexer, value, name)\n",
      ".\\data_treatment\\data_treatment_application.ipynb:9: SettingWithCopyWarning: \n",
      "A value is trying to be set on a copy of a slice from a DataFrame\n",
      "\n",
      "See the caveats in the documentation: https://pandas.pydata.org/pandas-docs/stable/user_guide/indexing.html#returning-a-view-versus-a-copy\n",
      "  ]\n",
      ".\\data_treatment\\data_treatment_application.ipynb:14: SettingWithCopyWarning: \n",
      "A value is trying to be set on a copy of a slice from a DataFrame\n",
      "\n",
      "See the caveats in the documentation: https://pandas.pydata.org/pandas-docs/stable/user_guide/indexing.html#returning-a-view-versus-a-copy\n",
      "  \"id\": \"optical-antibody\",\n",
      ".\\data_treatment\\data_treatment_application.ipynb:20: SettingWithCopyWarning: \n",
      "A value is trying to be set on a copy of a slice from a DataFrame\n",
      "\n",
      "See the caveats in the documentation: https://pandas.pydata.org/pandas-docs/stable/user_guide/indexing.html#returning-a-view-versus-a-copy\n",
      "  \"    for i in range(0,len(application_data[j])):\\n\",\n",
      ".\\data_treatment\\data_treatment_application.ipynb:20: SettingWithCopyWarning: \n",
      "A value is trying to be set on a copy of a slice from a DataFrame\n",
      "\n",
      "See the caveats in the documentation: https://pandas.pydata.org/pandas-docs/stable/user_guide/indexing.html#returning-a-view-versus-a-copy\n",
      "  \"    for i in range(0,len(application_data[j])):\\n\",\n",
      ".\\data_treatment\\data_treatment_communication.ipynb:5: SettingWithCopyWarning: \n",
      "A value is trying to be set on a copy of a slice from a DataFrame\n",
      "\n",
      "See the caveats in the documentation: https://pandas.pydata.org/pandas-docs/stable/user_guide/indexing.html#returning-a-view-versus-a-copy\n",
      "  \"execution_count\": 4,\n",
      ".\\data_treatment\\data_treatment_communication.ipynb:21: SettingWithCopyWarning: \n",
      "A value is trying to be set on a copy of a slice from a DataFrame\n",
      "\n",
      "See the caveats in the documentation: https://pandas.pydata.org/pandas-docs/stable/user_guide/indexing.html#returning-a-view-versus-a-copy\n",
      "  \"source\": [\n",
      ".\\data_treatment\\data_treatment_technologies.ipynb:7: SettingWithCopyWarning: \n",
      "A value is trying to be set on a copy of a slice from a DataFrame\n",
      "\n",
      "See the caveats in the documentation: https://pandas.pydata.org/pandas-docs/stable/user_guide/indexing.html#returning-a-view-versus-a-copy\n",
      "  \"source\": [\n"
     ]
    }
   ],
   "source": [
    "%run ./Code/data_treatment/data_treatment_application.ipynb\n",
    "%run ./Code/data_treatment/data_treatment_communication.ipynb\n",
    "%run ./Code/data_treatment/data_treatment_technologies.ipynb\n",
    "%run ./Code/data_treatment/data_treatment_fusion.ipynb"
   ]
  },
  {
   "cell_type": "markdown",
   "id": "external-nomination",
   "metadata": {},
   "source": [
    "<h2 align=\"center\"> Importation des fonctions </h2>"
   ]
  },
  {
   "cell_type": "code",
   "execution_count": 4,
   "id": "published-newcastle",
   "metadata": {},
   "outputs": [],
   "source": [
    "%run ./Code/functions/Application_Categories_Sankey.ipynb\n",
    "%run ./Code/functions/Application_KPI_Sankey.ipynb\n",
    "%run ./Code/functions/Application_User_Sankey.ipynb\n",
    "%run ./Code/functions/Category_Parallel_Cordianate.ipynb\n",
    "%run ./Code/functions/Communication_Mode_Application.ipynb\n",
    "%run ./Code/functions/Communication_Mode_Sankey_Fusion.ipynb\n",
    "%run ./Code/functions/Communication_Mode_Technologies_Sankey.ipynb\n",
    "%run ./Code/functions/plot_bar_Category_2d.ipynb\n",
    "%run ./Code/functions/plot_Kpi_Category_2d.ipynb\n",
    "%run ./Code/functions/Plot_Technologies.ipynb\n",
    "%run ./Code/functions/Technologies_Parallel_Cordianate.ipynb\n",
    "%run ./Code/functions/tableau_fusion.ipynb"
   ]
  },
  {
   "cell_type": "code",
   "execution_count": 10,
   "id": "operational-storm",
   "metadata": {
    "scrolled": false
   },
   "outputs": [
    {
     "data": {
      "application/vnd.jupyter.widget-view+json": {
       "model_id": "62fdf756124d4041bb578b1cf9efc23e",
       "version_major": 2,
       "version_minor": 0
      },
      "text/plain": [
       "interactive(children=(Dropdown(description='Partie', options=('Application', 'Technologie', 'Fusion'), value='…"
      ]
     },
     "metadata": {},
     "output_type": "display_data"
    }
   ],
   "source": [
    "itemsParallel =sorted(technologies_data[\"Range Type\"].unique().tolist())\n",
    "a = widgets.Dropdown(options=itemsParallel)\n",
    "\n",
    "abb = widgets.Dropdown(options=technologies_data.columns)\n",
    "orr = widgets.Dropdown(options=technologies_data.columns)\n",
    "\n",
    "items =sorted(Category_KPI.index.unique().tolist())\n",
    "w = widgets.Dropdown(options=items)\n",
    "\n",
    "a_kpi=widgets.Dropdown(options=Category_KPI.iloc[:, np.r_[2:11]].columns)\n",
    "\n",
    "\n",
    "aPlot2DApp = widgets.Dropdown(options=Category_KPI.iloc[:, np.r_[2:11]].columns)\n",
    "oPlot2DApp = widgets.Dropdown(options=Category_KPI.iloc[:, np.r_[2:11]].columns)\n",
    "\n",
    "\n",
    "#First Dropdown\n",
    "_partie_ = {\n",
    "    \n",
    "    #Application chose\n",
    "    'Application':['Telecommunication','Transportation'],\n",
    "            \n",
    "    #Technologie chose    \n",
    "    'Technologie':['KPI_Technologies',\"Communication_Mode_Technologies\"],\n",
    "    \n",
    "    #Fusion chose \n",
    "    'Fusion':['Communication_Mode_Fusion','KPI_Fusion']}\n",
    "\n",
    "\n",
    "#Seconde Dropdown\n",
    "_domaine_={\n",
    "    \n",
    "    \n",
    "    ##Application Part##\n",
    "    'Telecommunication':['Communication_Mode_Application',\n",
    "                         'KPI_Parallel_Coordinates_Application',\n",
    "                         'KPI_Plot_2D_Category',\n",
    "                         'KPI_Bar_Category'],\n",
    "    \n",
    "    'Transportation':['Category_Sankey',\n",
    "                      'User_Type_Sankey'],\n",
    "    \n",
    "    \n",
    "    ##Technologie Part##\n",
    "    'KPI_Technologies':['KPI_Parallel_Coordinates_Technologies',\n",
    "                        'KPI_Plot_2D_Technologies'],\n",
    "    'Communication_Mode_Technologies':['Communication_Mode_Sankey_Technologies'],\n",
    "    \n",
    "    \n",
    "    ##Fusion Part##\n",
    "    'Communication_Mode_Fusion':['Communication_Mode_Sankey_Fusion'],\n",
    "    'KPI_Fusion':['KPI_Table_Fusion']\n",
    "    \n",
    "           }\n",
    "\n",
    "\n",
    "#Third Dropdown\n",
    "_figure_={\n",
    "    \n",
    "    \n",
    "    ###Application Part###\n",
    "    \n",
    "    #Telecommunication\n",
    "    'Communication_Mode_Application':Application_communication_mode(application_communication_mode),\n",
    "    'KPI_Parallel_Coordinates_Application':interactive(Category_Parallel_Cordianate,Categorie=w),\n",
    "    'KPI_Plot_2D_Category':interactive(plot_category_kpi_2d,abscisse=aPlot2DApp,ordonne=oPlot2DApp), \n",
    "    'KPI_Bar_Category':interactive(plot_bar_category,KPI=a_kpi),\n",
    "    #Transportation\n",
    "    'Category_Sankey':Application_Categories_Sankey(application_categories),\n",
    "    'User_Type_Sankey':Application_User_Sankey(application_user),\n",
    "    \n",
    "    ###Technologie Part###\n",
    "    \n",
    "    #KPI_Technologies\n",
    "    'KPI_Parallel_Coordinates_Technologies':interactive(Technologies_Parallel_Cordianate,Range=a),\n",
    "    'KPI_Plot_2D_Technologies':interactive(plot_technologies,abscisse=abb,ordonne=orr),\n",
    "    \n",
    "    #Communication_Mode_Technologies\n",
    "    'Communication_Mode_Sankey_Technologies':Communication_Mode_Technologies_Sankey(communication_mode_technologies),\n",
    "    \n",
    "    \n",
    "    ###Fusion Part###\n",
    "    \n",
    "    #Communication_Mode_Fusion\n",
    "    'Communication_Mode_Sankey_Fusion':Communication_Mode_Sankey_Fusion(merge_com_app_tech),\n",
    "      \n",
    "    #KPI_Fusion\n",
    "    'KPI_Table_Fusion':tableau_fusion(test)}\n",
    "\n",
    "\n",
    "\n",
    "\n",
    "\n",
    "PartieW = Dropdown(options = _partie_.keys())\n",
    "DomaineW = Dropdown(options = _partie_[PartieW.value])\n",
    "FigureW = Dropdown(options = _domaine_[DomaineW.value])\n",
    "programW=Dropdown()\n",
    "\n",
    "\n",
    "@interact(Partie = PartieW, Domaine = DomaineW, Figure = FigureW, program = programW)\n",
    "def print_figure(Partie, Domaine, Figure):\n",
    "    DomaineW.options = _partie_[Partie] \n",
    "    FigureW.options = _domaine_[Domaine]\n",
    "    return _figure_[Figure]"
   ]
  },
  {
   "cell_type": "code",
   "execution_count": null,
   "id": "official-acting",
   "metadata": {},
   "outputs": [],
   "source": []
  },
  {
   "cell_type": "code",
   "execution_count": null,
   "id": "still-metro",
   "metadata": {},
   "outputs": [],
   "source": []
  },
  {
   "cell_type": "code",
   "execution_count": null,
   "id": "every-occupation",
   "metadata": {},
   "outputs": [],
   "source": []
  }
 ],
 "metadata": {
  "kernelspec": {
   "display_name": "Python 3",
   "language": "python",
   "name": "python3"
  },
  "language_info": {
   "codemirror_mode": {
    "name": "ipython",
    "version": 3
   },
   "file_extension": ".py",
   "mimetype": "text/x-python",
   "name": "python",
   "nbconvert_exporter": "python",
   "pygments_lexer": "ipython3",
   "version": "3.7.6"
  }
 },
 "nbformat": 4,
 "nbformat_minor": 5
}
