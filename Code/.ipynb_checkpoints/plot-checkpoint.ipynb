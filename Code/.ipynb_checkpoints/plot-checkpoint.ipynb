{
 "cells": [
  {
   "cell_type": "code",
   "execution_count": 1,
   "id": "90ebc28a",
   "metadata": {},
   "outputs": [],
   "source": [
    "import plotly.graph_objects as go\n",
    "import pandas as pd\n",
    "import plotly.express as px\n",
    "import pandas as pd\n",
    "import ipywidgets as widgets\n",
    "from ipywidgets import interactive\n",
    "from IPython.display import display\n",
    "from ipywidgets import interact, Dropdown\n",
    "import plotly.graph_objects as go\n",
    "from plotly.subplots import make_subplots\n",
    "import random\n",
    "import numpy as np\n",
    "import statistics"
   ]
  },
  {
   "cell_type": "code",
   "execution_count": 3,
   "id": "0e1b9c97",
   "metadata": {},
   "outputs": [
    {
     "name": "stderr",
     "output_type": "stream",
     "text": [
      "./data_treatment/data_treatment_application.ipynb:5: SettingWithCopyWarning: \n",
      "A value is trying to be set on a copy of a slice from a DataFrame\n",
      "\n",
      "See the caveats in the documentation: https://pandas.pydata.org/pandas-docs/stable/user_guide/indexing.html#returning-a-view-versus-a-copy\n",
      "  \"id\": \"divine-occurrence\",\n",
      "./data_treatment/data_treatment_application.ipynb:21: SettingWithCopyWarning: \n",
      "A value is trying to be set on a copy of a slice from a DataFrame\n",
      "\n",
      "See the caveats in the documentation: https://pandas.pydata.org/pandas-docs/stable/user_guide/indexing.html#returning-a-view-versus-a-copy\n",
      "  \"        if application_data[j][i]==\\\"Yes\\\":\\n\",\n",
      "C:\\Users\\hugue\\anaconda\\lib\\site-packages\\pandas\\core\\indexing.py:1637: SettingWithCopyWarning: \n",
      "A value is trying to be set on a copy of a slice from a DataFrame\n",
      "\n",
      "See the caveats in the documentation: https://pandas.pydata.org/pandas-docs/stable/user_guide/indexing.html#returning-a-view-versus-a-copy\n",
      "  self._setitem_single_block(indexer, value, name)\n",
      "./data_treatment/data_treatment_application.ipynb:9: SettingWithCopyWarning: \n",
      "A value is trying to be set on a copy of a slice from a DataFrame\n",
      "\n",
      "See the caveats in the documentation: https://pandas.pydata.org/pandas-docs/stable/user_guide/indexing.html#returning-a-view-versus-a-copy\n",
      "  ]\n",
      "./data_treatment/data_treatment_application.ipynb:14: SettingWithCopyWarning: \n",
      "A value is trying to be set on a copy of a slice from a DataFrame\n",
      "\n",
      "See the caveats in the documentation: https://pandas.pydata.org/pandas-docs/stable/user_guide/indexing.html#returning-a-view-versus-a-copy\n",
      "  \"id\": \"optical-antibody\",\n",
      "./data_treatment/data_treatment_application.ipynb:20: SettingWithCopyWarning: \n",
      "A value is trying to be set on a copy of a slice from a DataFrame\n",
      "\n",
      "See the caveats in the documentation: https://pandas.pydata.org/pandas-docs/stable/user_guide/indexing.html#returning-a-view-versus-a-copy\n",
      "  \"    for i in range(0,len(application_data[j])):\\n\",\n",
      "./data_treatment/data_treatment_application.ipynb:20: SettingWithCopyWarning: \n",
      "A value is trying to be set on a copy of a slice from a DataFrame\n",
      "\n",
      "See the caveats in the documentation: https://pandas.pydata.org/pandas-docs/stable/user_guide/indexing.html#returning-a-view-versus-a-copy\n",
      "  \"    for i in range(0,len(application_data[j])):\\n\",\n",
      "./data_treatment/data_treatment_application.ipynb:20: SettingWithCopyWarning: \n",
      "A value is trying to be set on a copy of a slice from a DataFrame\n",
      "\n",
      "See the caveats in the documentation: https://pandas.pydata.org/pandas-docs/stable/user_guide/indexing.html#returning-a-view-versus-a-copy\n",
      "  \"    for i in range(0,len(application_data[j])):\\n\",\n",
      "./data_treatment/data_treatment_communication.ipynb:5: SettingWithCopyWarning: \n",
      "A value is trying to be set on a copy of a slice from a DataFrame\n",
      "\n",
      "See the caveats in the documentation: https://pandas.pydata.org/pandas-docs/stable/user_guide/indexing.html#returning-a-view-versus-a-copy\n",
      "  \"execution_count\": 4,\n",
      "./data_treatment/data_treatment_communication.ipynb:21: SettingWithCopyWarning: \n",
      "A value is trying to be set on a copy of a slice from a DataFrame\n",
      "\n",
      "See the caveats in the documentation: https://pandas.pydata.org/pandas-docs/stable/user_guide/indexing.html#returning-a-view-versus-a-copy\n",
      "  \"source\": [\n",
      "./data_treatment/data_treatment_technologies.ipynb:7: SettingWithCopyWarning: \n",
      "A value is trying to be set on a copy of a slice from a DataFrame\n",
      "\n",
      "See the caveats in the documentation: https://pandas.pydata.org/pandas-docs/stable/user_guide/indexing.html#returning-a-view-versus-a-copy\n",
      "  \"source\": [\n"
     ]
    }
   ],
   "source": [
    "%run ./data/Data.ipynb\n",
    "%run ./data_treatment/data_treatment_application.ipynb\n",
    "%run ./data_treatment/data_treatment_communication.ipynb\n",
    "%run ./data_treatment/data_treatment_technologies.ipynb\n",
    "%run ./data_treatment/data_treatment_fusion.ipynb\n"
   ]
  },
  {
   "cell_type": "code",
   "execution_count": 9,
   "id": "ed3672bf",
   "metadata": {
    "scrolled": false
   },
   "outputs": [
    {
     "data": {
      "application/vnd.plotly.v1+json": {
       "config": {
        "plotlyServerURL": "https://plot.ly"
       },
       "data": [
        {
         "hoverlabel": {
          "align": "left",
          "bordercolor": "black"
         },
         "link": {
          "color": [
           "#6EFD7B",
           "#6EFD7B",
           "#6EFD7B",
           "#6EFD7B",
           "#6EFD7B",
           "#6EFD7B",
           "#6EFD7B",
           "#6EFD7B",
           "#6EFD7B",
           "#6EFD7B",
           "#6EFD7B",
           "#6EFD7B",
           "#6EFD7B",
           "#6EFD7B",
           "#6EFD7B",
           "#6EFD7B",
           "#6EFD7B",
           "#6EFD7B",
           "#6EFD7B",
           "#6EFD7B",
           "#6EFD7B",
           "#6EFD7B",
           "#6EFD7B",
           "#6EFD7B",
           "#6EFD7B",
           "#6EFD7B",
           "#6EFD7B",
           "#6EFD7B",
           "#6EFD7B",
           "#6EFD7B",
           "#6EFD7B",
           "#6EFD7B",
           "#6EFD7B",
           "#D6D409",
           "#D6D409",
           "#D6D409",
           "#D6D409",
           "#D6D409",
           "#D6D409",
           "#D6D409",
           "#D6D409",
           "#D6D409",
           "#D6D409",
           "#D6D409",
           "#D6D409",
           "#D6D409",
           "#D6D409",
           "#D6D409",
           "#D6D409",
           "#D6D409",
           "#D6D409",
           "#D6D409",
           "#D6D409",
           "#D6D409",
           "#D6D409",
           "#F8826D",
           "#F8826D",
           "#F8826D",
           "#7A5FFC",
           "#7A5FFC",
           "#7A5FFC",
           "#42B550",
           "#42B550",
           "#42B550",
           "#42B550",
           "#42B550",
           "#42B550",
           "#42B550",
           "#42B550",
           "#42B550",
           "#42B550",
           "#42B550",
           "#42B550",
           "#42B550",
           "#074A91",
           "#074A91",
           "#074A91",
           "#074A91",
           "#074A91",
           "#3538FD",
           "#3538FD",
           "#3538FD",
           "#3538FD",
           "#3538FD",
           "#3538FD",
           "#3538FD",
           "#3538FD",
           "#3538FD",
           "#3538FD",
           "#7FD8E9",
           "#7FD8E9",
           "#7FD8E9",
           "#7FD8E9",
           "#7FD8E9",
           "#7FD8E9",
           "#7FD8E9",
           "#FEB4E5",
           "#FEB4E5",
           "#FEB4E5",
           "#FEB4E5",
           "#D3F8D1",
           "#D3F8D1",
           "#D3F8D1",
           "#D3F8D1",
           "#D3F8D1",
           "#D3F8D1",
           "#D3F8D1",
           "#A02CC5",
           "#A02CC5",
           "#A02CC5",
           "#A02CC5",
           "#A02CC5",
           "#A02CC5",
           "#739D66",
           "#739D66",
           "#739D66",
           "#739D66",
           "#739D66",
           "#739D66",
           "#739D66",
           "#739D66",
           "#739D66",
           "#739D66",
           "#739D66",
           "#80F086",
           "#80F086",
           "#80F086",
           "#80F086",
           "#80F086",
           "#80F086",
           "#80F086",
           "#B4D9C2",
           "#B4D9C2",
           "#B680BE",
           "#B680BE",
           "#B680BE",
           "#B680BE",
           "#B680BE",
           "#B680BE",
           "#B680BE"
          ],
          "source": [
           32,
           7,
           8,
           60,
           11,
           19,
           42,
           17,
           2,
           35,
           40,
           0,
           13,
           22,
           50,
           29,
           37,
           34,
           59,
           47,
           58,
           26,
           45,
           48,
           3,
           51,
           38,
           39,
           56,
           52,
           33,
           49,
           43,
           1,
           8,
           30,
           2,
           4,
           15,
           31,
           13,
           50,
           16,
           53,
           29,
           26,
           45,
           3,
           38,
           55,
           52,
           33,
           6,
           21,
           20,
           25,
           36,
           9,
           2,
           39,
           46,
           1,
           30,
           44,
           50,
           16,
           27,
           9,
           26,
           55,
           33,
           6,
           21,
           20,
           10,
           5,
           12,
           23,
           14,
           44,
           4,
           5,
           12,
           29,
           23,
           14,
           55,
           6,
           21,
           54,
           15,
           18,
           3,
           33,
           41,
           24,
           36,
           54,
           15,
           57,
           1,
           30,
           44,
           50,
           26,
           55,
           21,
           28,
           29,
           18,
           48,
           41,
           24,
           36,
           44,
           54,
           15,
           28,
           16,
           57,
           12,
           18,
           55,
           46,
           25,
           54,
           16,
           53,
           57,
           27,
           9,
           36,
           15,
           4,
           53,
           12,
           29,
           14,
           3,
           6
          ],
          "target": [
           61,
           61,
           61,
           61,
           61,
           61,
           61,
           61,
           61,
           61,
           61,
           61,
           61,
           61,
           61,
           61,
           61,
           61,
           61,
           61,
           61,
           61,
           61,
           61,
           61,
           61,
           61,
           61,
           61,
           61,
           61,
           61,
           61,
           62,
           62,
           62,
           62,
           62,
           62,
           62,
           62,
           62,
           62,
           62,
           62,
           62,
           62,
           62,
           62,
           62,
           62,
           62,
           62,
           62,
           62,
           68,
           68,
           68,
           70,
           70,
           70,
           72,
           72,
           72,
           72,
           72,
           72,
           72,
           72,
           72,
           72,
           72,
           72,
           72,
           74,
           74,
           74,
           74,
           74,
           73,
           73,
           73,
           73,
           73,
           73,
           73,
           73,
           73,
           73,
           63,
           63,
           63,
           63,
           63,
           63,
           63,
           66,
           66,
           66,
           66,
           71,
           71,
           71,
           71,
           71,
           71,
           71,
           64,
           64,
           64,
           64,
           64,
           64,
           67,
           67,
           67,
           67,
           67,
           67,
           67,
           67,
           67,
           67,
           67,
           69,
           69,
           69,
           69,
           69,
           69,
           69,
           65,
           65,
           75,
           75,
           75,
           75,
           75,
           75,
           75
          ],
          "value": [
           1,
           1,
           1,
           1,
           1,
           1,
           1,
           1,
           1,
           1,
           1,
           1,
           1,
           1,
           1,
           1,
           1,
           1,
           1,
           1,
           1,
           1,
           1,
           1,
           1,
           1,
           1,
           1,
           1,
           1,
           1,
           1,
           1,
           1,
           1,
           1,
           1,
           1,
           1,
           1,
           1,
           1,
           1,
           1,
           1,
           1,
           1,
           1,
           1,
           1,
           1,
           1,
           1,
           1,
           1,
           1,
           1,
           1,
           1,
           1,
           1,
           1,
           1,
           1,
           1,
           1,
           1,
           1,
           1,
           1,
           1,
           1,
           1,
           1,
           1,
           1,
           1,
           1,
           1,
           1,
           1,
           1,
           1,
           1,
           1,
           1,
           1,
           1,
           1,
           1,
           1,
           1,
           1,
           1,
           1,
           1,
           1,
           1,
           1,
           1,
           1,
           1,
           1,
           1,
           1,
           1,
           1,
           1,
           1,
           1,
           1,
           1,
           1,
           1,
           1,
           1,
           1,
           1,
           1,
           1,
           1,
           1,
           1,
           1,
           1,
           1,
           1,
           1,
           1,
           1,
           1,
           1,
           1,
           1,
           1,
           1,
           1,
           1,
           1,
           1
          ]
         },
         "node": {
          "color": "white",
          "label": [
           "HCW",
           "CACC",
           "EVSP",
           "DS",
           "ERGN",
           "IM",
           "TIRI",
           "CFCW",
           "CGR",
           "PA",
           "GIS",
           "CMA",
           "LEC",
           "IS",
           "PIN",
           "FM",
           "LM",
           "EEBL",
           "RD",
           "CRWRSU",
           "TVSP",
           "TLOSP",
           "ICW",
           "MD",
           "VS",
           "AAC",
           "CSL",
           "LWZM",
           "IFS",
           "MDU",
           "CVHAS",
           "FADL",
           "ATTCRW",
           "TCW",
           "MW",
           "EVW",
           "CTR",
           "MTTCRW",
           "SlVW",
           "SOSS",
           "HLN",
           "VRSUDC",
           "CLW",
           "WWDW",
           "EDCV",
           "RW",
           "SVA",
           "PCW",
           "SFONCW",
           "VRUW",
           "InM",
           "SiVW",
           "TOD",
           "LAW",
           "ETC",
           "SM",
           "StVW",
           "LZM",
           "PCSW",
           "OVW",
           "CLCA",
           "Safety",
           "Efficiency",
           "Data Collection",
           "Vehicle Maintenance",
           "Shared Transport",
           "Freight",
           "Economic",
           "Parking",
           "Access",
           "Security / Public Safety",
           "Energy",
           "Environnement",
           "Confort",
           "Entertainment",
           "Traveler Information"
          ],
          "pad": 300,
          "thickness": 30
         },
         "orientation": "h",
         "type": "sankey",
         "valueformat": ".0f"
        }
       ],
       "layout": {
        "font": {
         "size": 20
        },
        "height": 2000,
        "template": {
         "data": {
          "bar": [
           {
            "error_x": {
             "color": "#2a3f5f"
            },
            "error_y": {
             "color": "#2a3f5f"
            },
            "marker": {
             "line": {
              "color": "#E5ECF6",
              "width": 0.5
             }
            },
            "type": "bar"
           }
          ],
          "barpolar": [
           {
            "marker": {
             "line": {
              "color": "#E5ECF6",
              "width": 0.5
             }
            },
            "type": "barpolar"
           }
          ],
          "carpet": [
           {
            "aaxis": {
             "endlinecolor": "#2a3f5f",
             "gridcolor": "white",
             "linecolor": "white",
             "minorgridcolor": "white",
             "startlinecolor": "#2a3f5f"
            },
            "baxis": {
             "endlinecolor": "#2a3f5f",
             "gridcolor": "white",
             "linecolor": "white",
             "minorgridcolor": "white",
             "startlinecolor": "#2a3f5f"
            },
            "type": "carpet"
           }
          ],
          "choropleth": [
           {
            "colorbar": {
             "outlinewidth": 0,
             "ticks": ""
            },
            "type": "choropleth"
           }
          ],
          "contour": [
           {
            "colorbar": {
             "outlinewidth": 0,
             "ticks": ""
            },
            "colorscale": [
             [
              0,
              "#0d0887"
             ],
             [
              0.1111111111111111,
              "#46039f"
             ],
             [
              0.2222222222222222,
              "#7201a8"
             ],
             [
              0.3333333333333333,
              "#9c179e"
             ],
             [
              0.4444444444444444,
              "#bd3786"
             ],
             [
              0.5555555555555556,
              "#d8576b"
             ],
             [
              0.6666666666666666,
              "#ed7953"
             ],
             [
              0.7777777777777778,
              "#fb9f3a"
             ],
             [
              0.8888888888888888,
              "#fdca26"
             ],
             [
              1,
              "#f0f921"
             ]
            ],
            "type": "contour"
           }
          ],
          "contourcarpet": [
           {
            "colorbar": {
             "outlinewidth": 0,
             "ticks": ""
            },
            "type": "contourcarpet"
           }
          ],
          "heatmap": [
           {
            "colorbar": {
             "outlinewidth": 0,
             "ticks": ""
            },
            "colorscale": [
             [
              0,
              "#0d0887"
             ],
             [
              0.1111111111111111,
              "#46039f"
             ],
             [
              0.2222222222222222,
              "#7201a8"
             ],
             [
              0.3333333333333333,
              "#9c179e"
             ],
             [
              0.4444444444444444,
              "#bd3786"
             ],
             [
              0.5555555555555556,
              "#d8576b"
             ],
             [
              0.6666666666666666,
              "#ed7953"
             ],
             [
              0.7777777777777778,
              "#fb9f3a"
             ],
             [
              0.8888888888888888,
              "#fdca26"
             ],
             [
              1,
              "#f0f921"
             ]
            ],
            "type": "heatmap"
           }
          ],
          "heatmapgl": [
           {
            "colorbar": {
             "outlinewidth": 0,
             "ticks": ""
            },
            "colorscale": [
             [
              0,
              "#0d0887"
             ],
             [
              0.1111111111111111,
              "#46039f"
             ],
             [
              0.2222222222222222,
              "#7201a8"
             ],
             [
              0.3333333333333333,
              "#9c179e"
             ],
             [
              0.4444444444444444,
              "#bd3786"
             ],
             [
              0.5555555555555556,
              "#d8576b"
             ],
             [
              0.6666666666666666,
              "#ed7953"
             ],
             [
              0.7777777777777778,
              "#fb9f3a"
             ],
             [
              0.8888888888888888,
              "#fdca26"
             ],
             [
              1,
              "#f0f921"
             ]
            ],
            "type": "heatmapgl"
           }
          ],
          "histogram": [
           {
            "marker": {
             "colorbar": {
              "outlinewidth": 0,
              "ticks": ""
             }
            },
            "type": "histogram"
           }
          ],
          "histogram2d": [
           {
            "colorbar": {
             "outlinewidth": 0,
             "ticks": ""
            },
            "colorscale": [
             [
              0,
              "#0d0887"
             ],
             [
              0.1111111111111111,
              "#46039f"
             ],
             [
              0.2222222222222222,
              "#7201a8"
             ],
             [
              0.3333333333333333,
              "#9c179e"
             ],
             [
              0.4444444444444444,
              "#bd3786"
             ],
             [
              0.5555555555555556,
              "#d8576b"
             ],
             [
              0.6666666666666666,
              "#ed7953"
             ],
             [
              0.7777777777777778,
              "#fb9f3a"
             ],
             [
              0.8888888888888888,
              "#fdca26"
             ],
             [
              1,
              "#f0f921"
             ]
            ],
            "type": "histogram2d"
           }
          ],
          "histogram2dcontour": [
           {
            "colorbar": {
             "outlinewidth": 0,
             "ticks": ""
            },
            "colorscale": [
             [
              0,
              "#0d0887"
             ],
             [
              0.1111111111111111,
              "#46039f"
             ],
             [
              0.2222222222222222,
              "#7201a8"
             ],
             [
              0.3333333333333333,
              "#9c179e"
             ],
             [
              0.4444444444444444,
              "#bd3786"
             ],
             [
              0.5555555555555556,
              "#d8576b"
             ],
             [
              0.6666666666666666,
              "#ed7953"
             ],
             [
              0.7777777777777778,
              "#fb9f3a"
             ],
             [
              0.8888888888888888,
              "#fdca26"
             ],
             [
              1,
              "#f0f921"
             ]
            ],
            "type": "histogram2dcontour"
           }
          ],
          "mesh3d": [
           {
            "colorbar": {
             "outlinewidth": 0,
             "ticks": ""
            },
            "type": "mesh3d"
           }
          ],
          "parcoords": [
           {
            "line": {
             "colorbar": {
              "outlinewidth": 0,
              "ticks": ""
             }
            },
            "type": "parcoords"
           }
          ],
          "pie": [
           {
            "automargin": true,
            "type": "pie"
           }
          ],
          "scatter": [
           {
            "marker": {
             "colorbar": {
              "outlinewidth": 0,
              "ticks": ""
             }
            },
            "type": "scatter"
           }
          ],
          "scatter3d": [
           {
            "line": {
             "colorbar": {
              "outlinewidth": 0,
              "ticks": ""
             }
            },
            "marker": {
             "colorbar": {
              "outlinewidth": 0,
              "ticks": ""
             }
            },
            "type": "scatter3d"
           }
          ],
          "scattercarpet": [
           {
            "marker": {
             "colorbar": {
              "outlinewidth": 0,
              "ticks": ""
             }
            },
            "type": "scattercarpet"
           }
          ],
          "scattergeo": [
           {
            "marker": {
             "colorbar": {
              "outlinewidth": 0,
              "ticks": ""
             }
            },
            "type": "scattergeo"
           }
          ],
          "scattergl": [
           {
            "marker": {
             "colorbar": {
              "outlinewidth": 0,
              "ticks": ""
             }
            },
            "type": "scattergl"
           }
          ],
          "scattermapbox": [
           {
            "marker": {
             "colorbar": {
              "outlinewidth": 0,
              "ticks": ""
             }
            },
            "type": "scattermapbox"
           }
          ],
          "scatterpolar": [
           {
            "marker": {
             "colorbar": {
              "outlinewidth": 0,
              "ticks": ""
             }
            },
            "type": "scatterpolar"
           }
          ],
          "scatterpolargl": [
           {
            "marker": {
             "colorbar": {
              "outlinewidth": 0,
              "ticks": ""
             }
            },
            "type": "scatterpolargl"
           }
          ],
          "scatterternary": [
           {
            "marker": {
             "colorbar": {
              "outlinewidth": 0,
              "ticks": ""
             }
            },
            "type": "scatterternary"
           }
          ],
          "surface": [
           {
            "colorbar": {
             "outlinewidth": 0,
             "ticks": ""
            },
            "colorscale": [
             [
              0,
              "#0d0887"
             ],
             [
              0.1111111111111111,
              "#46039f"
             ],
             [
              0.2222222222222222,
              "#7201a8"
             ],
             [
              0.3333333333333333,
              "#9c179e"
             ],
             [
              0.4444444444444444,
              "#bd3786"
             ],
             [
              0.5555555555555556,
              "#d8576b"
             ],
             [
              0.6666666666666666,
              "#ed7953"
             ],
             [
              0.7777777777777778,
              "#fb9f3a"
             ],
             [
              0.8888888888888888,
              "#fdca26"
             ],
             [
              1,
              "#f0f921"
             ]
            ],
            "type": "surface"
           }
          ],
          "table": [
           {
            "cells": {
             "fill": {
              "color": "#EBF0F8"
             },
             "line": {
              "color": "white"
             }
            },
            "header": {
             "fill": {
              "color": "#C8D4E3"
             },
             "line": {
              "color": "white"
             }
            },
            "type": "table"
           }
          ]
         },
         "layout": {
          "annotationdefaults": {
           "arrowcolor": "#2a3f5f",
           "arrowhead": 0,
           "arrowwidth": 1
          },
          "autotypenumbers": "strict",
          "coloraxis": {
           "colorbar": {
            "outlinewidth": 0,
            "ticks": ""
           }
          },
          "colorscale": {
           "diverging": [
            [
             0,
             "#8e0152"
            ],
            [
             0.1,
             "#c51b7d"
            ],
            [
             0.2,
             "#de77ae"
            ],
            [
             0.3,
             "#f1b6da"
            ],
            [
             0.4,
             "#fde0ef"
            ],
            [
             0.5,
             "#f7f7f7"
            ],
            [
             0.6,
             "#e6f5d0"
            ],
            [
             0.7,
             "#b8e186"
            ],
            [
             0.8,
             "#7fbc41"
            ],
            [
             0.9,
             "#4d9221"
            ],
            [
             1,
             "#276419"
            ]
           ],
           "sequential": [
            [
             0,
             "#0d0887"
            ],
            [
             0.1111111111111111,
             "#46039f"
            ],
            [
             0.2222222222222222,
             "#7201a8"
            ],
            [
             0.3333333333333333,
             "#9c179e"
            ],
            [
             0.4444444444444444,
             "#bd3786"
            ],
            [
             0.5555555555555556,
             "#d8576b"
            ],
            [
             0.6666666666666666,
             "#ed7953"
            ],
            [
             0.7777777777777778,
             "#fb9f3a"
            ],
            [
             0.8888888888888888,
             "#fdca26"
            ],
            [
             1,
             "#f0f921"
            ]
           ],
           "sequentialminus": [
            [
             0,
             "#0d0887"
            ],
            [
             0.1111111111111111,
             "#46039f"
            ],
            [
             0.2222222222222222,
             "#7201a8"
            ],
            [
             0.3333333333333333,
             "#9c179e"
            ],
            [
             0.4444444444444444,
             "#bd3786"
            ],
            [
             0.5555555555555556,
             "#d8576b"
            ],
            [
             0.6666666666666666,
             "#ed7953"
            ],
            [
             0.7777777777777778,
             "#fb9f3a"
            ],
            [
             0.8888888888888888,
             "#fdca26"
            ],
            [
             1,
             "#f0f921"
            ]
           ]
          },
          "colorway": [
           "#636efa",
           "#EF553B",
           "#00cc96",
           "#ab63fa",
           "#FFA15A",
           "#19d3f3",
           "#FF6692",
           "#B6E880",
           "#FF97FF",
           "#FECB52"
          ],
          "font": {
           "color": "#2a3f5f"
          },
          "geo": {
           "bgcolor": "white",
           "lakecolor": "white",
           "landcolor": "#E5ECF6",
           "showlakes": true,
           "showland": true,
           "subunitcolor": "white"
          },
          "hoverlabel": {
           "align": "left"
          },
          "hovermode": "closest",
          "mapbox": {
           "style": "light"
          },
          "paper_bgcolor": "white",
          "plot_bgcolor": "#E5ECF6",
          "polar": {
           "angularaxis": {
            "gridcolor": "white",
            "linecolor": "white",
            "ticks": ""
           },
           "bgcolor": "#E5ECF6",
           "radialaxis": {
            "gridcolor": "white",
            "linecolor": "white",
            "ticks": ""
           }
          },
          "scene": {
           "xaxis": {
            "backgroundcolor": "#E5ECF6",
            "gridcolor": "white",
            "gridwidth": 2,
            "linecolor": "white",
            "showbackground": true,
            "ticks": "",
            "zerolinecolor": "white"
           },
           "yaxis": {
            "backgroundcolor": "#E5ECF6",
            "gridcolor": "white",
            "gridwidth": 2,
            "linecolor": "white",
            "showbackground": true,
            "ticks": "",
            "zerolinecolor": "white"
           },
           "zaxis": {
            "backgroundcolor": "#E5ECF6",
            "gridcolor": "white",
            "gridwidth": 2,
            "linecolor": "white",
            "showbackground": true,
            "ticks": "",
            "zerolinecolor": "white"
           }
          },
          "shapedefaults": {
           "line": {
            "color": "#2a3f5f"
           }
          },
          "ternary": {
           "aaxis": {
            "gridcolor": "white",
            "linecolor": "white",
            "ticks": ""
           },
           "baxis": {
            "gridcolor": "white",
            "linecolor": "white",
            "ticks": ""
           },
           "bgcolor": "#E5ECF6",
           "caxis": {
            "gridcolor": "white",
            "linecolor": "white",
            "ticks": ""
           }
          },
          "title": {
           "x": 0.05
          },
          "xaxis": {
           "automargin": true,
           "gridcolor": "white",
           "linecolor": "white",
           "ticks": "",
           "title": {
            "standoff": 15
           },
           "zerolinecolor": "white",
           "zerolinewidth": 2
          },
          "yaxis": {
           "automargin": true,
           "gridcolor": "white",
           "linecolor": "white",
           "ticks": "",
           "title": {
            "standoff": 15
           },
           "zerolinecolor": "white",
           "zerolinewidth": 2
          }
         }
        },
        "width": 1000
       }
      },
      "text/html": [
       "<div>                            <div id=\"6f43a9c3-d7d7-41e3-8fa7-a744e16cc934\" class=\"plotly-graph-div\" style=\"height:2000px; width:1000px;\"></div>            <script type=\"text/javascript\">                require([\"plotly\"], function(Plotly) {                    window.PLOTLYENV=window.PLOTLYENV || {};                                    if (document.getElementById(\"6f43a9c3-d7d7-41e3-8fa7-a744e16cc934\")) {                    Plotly.newPlot(                        \"6f43a9c3-d7d7-41e3-8fa7-a744e16cc934\",                        [{\"hoverlabel\": {\"align\": \"left\", \"bordercolor\": \"black\"}, \"link\": {\"color\": [\"#6EFD7B\", \"#6EFD7B\", \"#6EFD7B\", \"#6EFD7B\", \"#6EFD7B\", \"#6EFD7B\", \"#6EFD7B\", \"#6EFD7B\", \"#6EFD7B\", \"#6EFD7B\", \"#6EFD7B\", \"#6EFD7B\", \"#6EFD7B\", \"#6EFD7B\", \"#6EFD7B\", \"#6EFD7B\", \"#6EFD7B\", \"#6EFD7B\", \"#6EFD7B\", \"#6EFD7B\", \"#6EFD7B\", \"#6EFD7B\", \"#6EFD7B\", \"#6EFD7B\", \"#6EFD7B\", \"#6EFD7B\", \"#6EFD7B\", \"#6EFD7B\", \"#6EFD7B\", \"#6EFD7B\", \"#6EFD7B\", \"#6EFD7B\", \"#6EFD7B\", \"#D6D409\", \"#D6D409\", \"#D6D409\", \"#D6D409\", \"#D6D409\", \"#D6D409\", \"#D6D409\", \"#D6D409\", \"#D6D409\", \"#D6D409\", \"#D6D409\", \"#D6D409\", \"#D6D409\", \"#D6D409\", \"#D6D409\", \"#D6D409\", \"#D6D409\", \"#D6D409\", \"#D6D409\", \"#D6D409\", \"#D6D409\", \"#D6D409\", \"#F8826D\", \"#F8826D\", \"#F8826D\", \"#7A5FFC\", \"#7A5FFC\", \"#7A5FFC\", \"#42B550\", \"#42B550\", \"#42B550\", \"#42B550\", \"#42B550\", \"#42B550\", \"#42B550\", \"#42B550\", \"#42B550\", \"#42B550\", \"#42B550\", \"#42B550\", \"#42B550\", \"#074A91\", \"#074A91\", \"#074A91\", \"#074A91\", \"#074A91\", \"#3538FD\", \"#3538FD\", \"#3538FD\", \"#3538FD\", \"#3538FD\", \"#3538FD\", \"#3538FD\", \"#3538FD\", \"#3538FD\", \"#3538FD\", \"#7FD8E9\", \"#7FD8E9\", \"#7FD8E9\", \"#7FD8E9\", \"#7FD8E9\", \"#7FD8E9\", \"#7FD8E9\", \"#FEB4E5\", \"#FEB4E5\", \"#FEB4E5\", \"#FEB4E5\", \"#D3F8D1\", \"#D3F8D1\", \"#D3F8D1\", \"#D3F8D1\", \"#D3F8D1\", \"#D3F8D1\", \"#D3F8D1\", \"#A02CC5\", \"#A02CC5\", \"#A02CC5\", \"#A02CC5\", \"#A02CC5\", \"#A02CC5\", \"#739D66\", \"#739D66\", \"#739D66\", \"#739D66\", \"#739D66\", \"#739D66\", \"#739D66\", \"#739D66\", \"#739D66\", \"#739D66\", \"#739D66\", \"#80F086\", \"#80F086\", \"#80F086\", \"#80F086\", \"#80F086\", \"#80F086\", \"#80F086\", \"#B4D9C2\", \"#B4D9C2\", \"#B680BE\", \"#B680BE\", \"#B680BE\", \"#B680BE\", \"#B680BE\", \"#B680BE\", \"#B680BE\"], \"source\": [32, 7, 8, 60, 11, 19, 42, 17, 2, 35, 40, 0, 13, 22, 50, 29, 37, 34, 59, 47, 58, 26, 45, 48, 3, 51, 38, 39, 56, 52, 33, 49, 43, 1, 8, 30, 2, 4, 15, 31, 13, 50, 16, 53, 29, 26, 45, 3, 38, 55, 52, 33, 6, 21, 20, 25, 36, 9, 2, 39, 46, 1, 30, 44, 50, 16, 27, 9, 26, 55, 33, 6, 21, 20, 10, 5, 12, 23, 14, 44, 4, 5, 12, 29, 23, 14, 55, 6, 21, 54, 15, 18, 3, 33, 41, 24, 36, 54, 15, 57, 1, 30, 44, 50, 26, 55, 21, 28, 29, 18, 48, 41, 24, 36, 44, 54, 15, 28, 16, 57, 12, 18, 55, 46, 25, 54, 16, 53, 57, 27, 9, 36, 15, 4, 53, 12, 29, 14, 3, 6], \"target\": [61, 61, 61, 61, 61, 61, 61, 61, 61, 61, 61, 61, 61, 61, 61, 61, 61, 61, 61, 61, 61, 61, 61, 61, 61, 61, 61, 61, 61, 61, 61, 61, 61, 62, 62, 62, 62, 62, 62, 62, 62, 62, 62, 62, 62, 62, 62, 62, 62, 62, 62, 62, 62, 62, 62, 68, 68, 68, 70, 70, 70, 72, 72, 72, 72, 72, 72, 72, 72, 72, 72, 72, 72, 72, 74, 74, 74, 74, 74, 73, 73, 73, 73, 73, 73, 73, 73, 73, 73, 63, 63, 63, 63, 63, 63, 63, 66, 66, 66, 66, 71, 71, 71, 71, 71, 71, 71, 64, 64, 64, 64, 64, 64, 67, 67, 67, 67, 67, 67, 67, 67, 67, 67, 67, 69, 69, 69, 69, 69, 69, 69, 65, 65, 75, 75, 75, 75, 75, 75, 75], \"value\": [1, 1, 1, 1, 1, 1, 1, 1, 1, 1, 1, 1, 1, 1, 1, 1, 1, 1, 1, 1, 1, 1, 1, 1, 1, 1, 1, 1, 1, 1, 1, 1, 1, 1, 1, 1, 1, 1, 1, 1, 1, 1, 1, 1, 1, 1, 1, 1, 1, 1, 1, 1, 1, 1, 1, 1, 1, 1, 1, 1, 1, 1, 1, 1, 1, 1, 1, 1, 1, 1, 1, 1, 1, 1, 1, 1, 1, 1, 1, 1, 1, 1, 1, 1, 1, 1, 1, 1, 1, 1, 1, 1, 1, 1, 1, 1, 1, 1, 1, 1, 1, 1, 1, 1, 1, 1, 1, 1, 1, 1, 1, 1, 1, 1, 1, 1, 1, 1, 1, 1, 1, 1, 1, 1, 1, 1, 1, 1, 1, 1, 1, 1, 1, 1, 1, 1, 1, 1, 1, 1]}, \"node\": {\"color\": \"white\", \"label\": [\"HCW\", \"CACC\", \"EVSP\", \"DS\", \"ERGN\", \"IM\", \"TIRI\", \"CFCW\", \"CGR\", \"PA\", \"GIS\", \"CMA\", \"LEC\", \"IS\", \"PIN\", \"FM\", \"LM\", \"EEBL\", \"RD\", \"CRWRSU\", \"TVSP\", \"TLOSP\", \"ICW\", \"MD\", \"VS\", \"AAC\", \"CSL\", \"LWZM\", \"IFS\", \"MDU\", \"CVHAS\", \"FADL\", \"ATTCRW\", \"TCW\", \"MW\", \"EVW\", \"CTR\", \"MTTCRW\", \"SlVW\", \"SOSS\", \"HLN\", \"VRSUDC\", \"CLW\", \"WWDW\", \"EDCV\", \"RW\", \"SVA\", \"PCW\", \"SFONCW\", \"VRUW\", \"InM\", \"SiVW\", \"TOD\", \"LAW\", \"ETC\", \"SM\", \"StVW\", \"LZM\", \"PCSW\", \"OVW\", \"CLCA\", \"Safety\", \"Efficiency\", \"Data Collection\", \"Vehicle Maintenance\", \"Shared Transport\", \"Freight\", \"Economic\", \"Parking\", \"Access\", \"Security / Public Safety\", \"Energy\", \"Environnement\", \"Confort\", \"Entertainment\", \"Traveler Information\"], \"pad\": 300, \"thickness\": 30}, \"orientation\": \"h\", \"type\": \"sankey\", \"valueformat\": \".0f\"}],                        {\"font\": {\"size\": 20}, \"height\": 2000, \"template\": {\"data\": {\"bar\": [{\"error_x\": {\"color\": \"#2a3f5f\"}, \"error_y\": {\"color\": \"#2a3f5f\"}, \"marker\": {\"line\": {\"color\": \"#E5ECF6\", \"width\": 0.5}}, \"type\": \"bar\"}], \"barpolar\": [{\"marker\": {\"line\": {\"color\": \"#E5ECF6\", \"width\": 0.5}}, \"type\": \"barpolar\"}], \"carpet\": [{\"aaxis\": {\"endlinecolor\": \"#2a3f5f\", \"gridcolor\": \"white\", \"linecolor\": \"white\", \"minorgridcolor\": \"white\", \"startlinecolor\": \"#2a3f5f\"}, \"baxis\": {\"endlinecolor\": \"#2a3f5f\", \"gridcolor\": \"white\", \"linecolor\": \"white\", \"minorgridcolor\": \"white\", \"startlinecolor\": \"#2a3f5f\"}, \"type\": \"carpet\"}], \"choropleth\": [{\"colorbar\": {\"outlinewidth\": 0, \"ticks\": \"\"}, \"type\": \"choropleth\"}], \"contour\": [{\"colorbar\": {\"outlinewidth\": 0, \"ticks\": \"\"}, \"colorscale\": [[0.0, \"#0d0887\"], [0.1111111111111111, \"#46039f\"], [0.2222222222222222, \"#7201a8\"], [0.3333333333333333, \"#9c179e\"], [0.4444444444444444, \"#bd3786\"], [0.5555555555555556, \"#d8576b\"], [0.6666666666666666, \"#ed7953\"], [0.7777777777777778, \"#fb9f3a\"], [0.8888888888888888, \"#fdca26\"], [1.0, \"#f0f921\"]], \"type\": \"contour\"}], \"contourcarpet\": [{\"colorbar\": {\"outlinewidth\": 0, \"ticks\": \"\"}, \"type\": \"contourcarpet\"}], \"heatmap\": [{\"colorbar\": {\"outlinewidth\": 0, \"ticks\": \"\"}, \"colorscale\": [[0.0, \"#0d0887\"], [0.1111111111111111, \"#46039f\"], [0.2222222222222222, \"#7201a8\"], [0.3333333333333333, \"#9c179e\"], [0.4444444444444444, \"#bd3786\"], [0.5555555555555556, \"#d8576b\"], [0.6666666666666666, \"#ed7953\"], [0.7777777777777778, \"#fb9f3a\"], [0.8888888888888888, \"#fdca26\"], [1.0, \"#f0f921\"]], \"type\": \"heatmap\"}], \"heatmapgl\": [{\"colorbar\": {\"outlinewidth\": 0, \"ticks\": \"\"}, \"colorscale\": [[0.0, \"#0d0887\"], [0.1111111111111111, \"#46039f\"], [0.2222222222222222, \"#7201a8\"], [0.3333333333333333, \"#9c179e\"], [0.4444444444444444, \"#bd3786\"], [0.5555555555555556, \"#d8576b\"], [0.6666666666666666, \"#ed7953\"], [0.7777777777777778, \"#fb9f3a\"], [0.8888888888888888, \"#fdca26\"], [1.0, \"#f0f921\"]], \"type\": \"heatmapgl\"}], \"histogram\": [{\"marker\": {\"colorbar\": {\"outlinewidth\": 0, \"ticks\": \"\"}}, \"type\": \"histogram\"}], \"histogram2d\": [{\"colorbar\": {\"outlinewidth\": 0, \"ticks\": \"\"}, \"colorscale\": [[0.0, \"#0d0887\"], [0.1111111111111111, \"#46039f\"], [0.2222222222222222, \"#7201a8\"], [0.3333333333333333, \"#9c179e\"], [0.4444444444444444, \"#bd3786\"], [0.5555555555555556, \"#d8576b\"], [0.6666666666666666, \"#ed7953\"], [0.7777777777777778, \"#fb9f3a\"], [0.8888888888888888, \"#fdca26\"], [1.0, \"#f0f921\"]], \"type\": \"histogram2d\"}], \"histogram2dcontour\": [{\"colorbar\": {\"outlinewidth\": 0, \"ticks\": \"\"}, \"colorscale\": [[0.0, \"#0d0887\"], [0.1111111111111111, \"#46039f\"], [0.2222222222222222, \"#7201a8\"], [0.3333333333333333, \"#9c179e\"], [0.4444444444444444, \"#bd3786\"], [0.5555555555555556, \"#d8576b\"], [0.6666666666666666, \"#ed7953\"], [0.7777777777777778, \"#fb9f3a\"], [0.8888888888888888, \"#fdca26\"], [1.0, \"#f0f921\"]], \"type\": \"histogram2dcontour\"}], \"mesh3d\": [{\"colorbar\": {\"outlinewidth\": 0, \"ticks\": \"\"}, \"type\": \"mesh3d\"}], \"parcoords\": [{\"line\": {\"colorbar\": {\"outlinewidth\": 0, \"ticks\": \"\"}}, \"type\": \"parcoords\"}], \"pie\": [{\"automargin\": true, \"type\": \"pie\"}], \"scatter\": [{\"marker\": {\"colorbar\": {\"outlinewidth\": 0, \"ticks\": \"\"}}, \"type\": \"scatter\"}], \"scatter3d\": [{\"line\": {\"colorbar\": {\"outlinewidth\": 0, \"ticks\": \"\"}}, \"marker\": {\"colorbar\": {\"outlinewidth\": 0, \"ticks\": \"\"}}, \"type\": \"scatter3d\"}], \"scattercarpet\": [{\"marker\": {\"colorbar\": {\"outlinewidth\": 0, \"ticks\": \"\"}}, \"type\": \"scattercarpet\"}], \"scattergeo\": [{\"marker\": {\"colorbar\": {\"outlinewidth\": 0, \"ticks\": \"\"}}, \"type\": \"scattergeo\"}], \"scattergl\": [{\"marker\": {\"colorbar\": {\"outlinewidth\": 0, \"ticks\": \"\"}}, \"type\": \"scattergl\"}], \"scattermapbox\": [{\"marker\": {\"colorbar\": {\"outlinewidth\": 0, \"ticks\": \"\"}}, \"type\": \"scattermapbox\"}], \"scatterpolar\": [{\"marker\": {\"colorbar\": {\"outlinewidth\": 0, \"ticks\": \"\"}}, \"type\": \"scatterpolar\"}], \"scatterpolargl\": [{\"marker\": {\"colorbar\": {\"outlinewidth\": 0, \"ticks\": \"\"}}, \"type\": \"scatterpolargl\"}], \"scatterternary\": [{\"marker\": {\"colorbar\": {\"outlinewidth\": 0, \"ticks\": \"\"}}, \"type\": \"scatterternary\"}], \"surface\": [{\"colorbar\": {\"outlinewidth\": 0, \"ticks\": \"\"}, \"colorscale\": [[0.0, \"#0d0887\"], [0.1111111111111111, \"#46039f\"], [0.2222222222222222, \"#7201a8\"], [0.3333333333333333, \"#9c179e\"], [0.4444444444444444, \"#bd3786\"], [0.5555555555555556, \"#d8576b\"], [0.6666666666666666, \"#ed7953\"], [0.7777777777777778, \"#fb9f3a\"], [0.8888888888888888, \"#fdca26\"], [1.0, \"#f0f921\"]], \"type\": \"surface\"}], \"table\": [{\"cells\": {\"fill\": {\"color\": \"#EBF0F8\"}, \"line\": {\"color\": \"white\"}}, \"header\": {\"fill\": {\"color\": \"#C8D4E3\"}, \"line\": {\"color\": \"white\"}}, \"type\": \"table\"}]}, \"layout\": {\"annotationdefaults\": {\"arrowcolor\": \"#2a3f5f\", \"arrowhead\": 0, \"arrowwidth\": 1}, \"autotypenumbers\": \"strict\", \"coloraxis\": {\"colorbar\": {\"outlinewidth\": 0, \"ticks\": \"\"}}, \"colorscale\": {\"diverging\": [[0, \"#8e0152\"], [0.1, \"#c51b7d\"], [0.2, \"#de77ae\"], [0.3, \"#f1b6da\"], [0.4, \"#fde0ef\"], [0.5, \"#f7f7f7\"], [0.6, \"#e6f5d0\"], [0.7, \"#b8e186\"], [0.8, \"#7fbc41\"], [0.9, \"#4d9221\"], [1, \"#276419\"]], \"sequential\": [[0.0, \"#0d0887\"], [0.1111111111111111, \"#46039f\"], [0.2222222222222222, \"#7201a8\"], [0.3333333333333333, \"#9c179e\"], [0.4444444444444444, \"#bd3786\"], [0.5555555555555556, \"#d8576b\"], [0.6666666666666666, \"#ed7953\"], [0.7777777777777778, \"#fb9f3a\"], [0.8888888888888888, \"#fdca26\"], [1.0, \"#f0f921\"]], \"sequentialminus\": [[0.0, \"#0d0887\"], [0.1111111111111111, \"#46039f\"], [0.2222222222222222, \"#7201a8\"], [0.3333333333333333, \"#9c179e\"], [0.4444444444444444, \"#bd3786\"], [0.5555555555555556, \"#d8576b\"], [0.6666666666666666, \"#ed7953\"], [0.7777777777777778, \"#fb9f3a\"], [0.8888888888888888, \"#fdca26\"], [1.0, \"#f0f921\"]]}, \"colorway\": [\"#636efa\", \"#EF553B\", \"#00cc96\", \"#ab63fa\", \"#FFA15A\", \"#19d3f3\", \"#FF6692\", \"#B6E880\", \"#FF97FF\", \"#FECB52\"], \"font\": {\"color\": \"#2a3f5f\"}, \"geo\": {\"bgcolor\": \"white\", \"lakecolor\": \"white\", \"landcolor\": \"#E5ECF6\", \"showlakes\": true, \"showland\": true, \"subunitcolor\": \"white\"}, \"hoverlabel\": {\"align\": \"left\"}, \"hovermode\": \"closest\", \"mapbox\": {\"style\": \"light\"}, \"paper_bgcolor\": \"white\", \"plot_bgcolor\": \"#E5ECF6\", \"polar\": {\"angularaxis\": {\"gridcolor\": \"white\", \"linecolor\": \"white\", \"ticks\": \"\"}, \"bgcolor\": \"#E5ECF6\", \"radialaxis\": {\"gridcolor\": \"white\", \"linecolor\": \"white\", \"ticks\": \"\"}}, \"scene\": {\"xaxis\": {\"backgroundcolor\": \"#E5ECF6\", \"gridcolor\": \"white\", \"gridwidth\": 2, \"linecolor\": \"white\", \"showbackground\": true, \"ticks\": \"\", \"zerolinecolor\": \"white\"}, \"yaxis\": {\"backgroundcolor\": \"#E5ECF6\", \"gridcolor\": \"white\", \"gridwidth\": 2, \"linecolor\": \"white\", \"showbackground\": true, \"ticks\": \"\", \"zerolinecolor\": \"white\"}, \"zaxis\": {\"backgroundcolor\": \"#E5ECF6\", \"gridcolor\": \"white\", \"gridwidth\": 2, \"linecolor\": \"white\", \"showbackground\": true, \"ticks\": \"\", \"zerolinecolor\": \"white\"}}, \"shapedefaults\": {\"line\": {\"color\": \"#2a3f5f\"}}, \"ternary\": {\"aaxis\": {\"gridcolor\": \"white\", \"linecolor\": \"white\", \"ticks\": \"\"}, \"baxis\": {\"gridcolor\": \"white\", \"linecolor\": \"white\", \"ticks\": \"\"}, \"bgcolor\": \"#E5ECF6\", \"caxis\": {\"gridcolor\": \"white\", \"linecolor\": \"white\", \"ticks\": \"\"}}, \"title\": {\"x\": 0.05}, \"xaxis\": {\"automargin\": true, \"gridcolor\": \"white\", \"linecolor\": \"white\", \"ticks\": \"\", \"title\": {\"standoff\": 15}, \"zerolinecolor\": \"white\", \"zerolinewidth\": 2}, \"yaxis\": {\"automargin\": true, \"gridcolor\": \"white\", \"linecolor\": \"white\", \"ticks\": \"\", \"title\": {\"standoff\": 15}, \"zerolinecolor\": \"white\", \"zerolinewidth\": 2}}}, \"width\": 1000},                        {\"responsive\": true}                    ).then(function(){\n",
       "                            \n",
       "var gd = document.getElementById('6f43a9c3-d7d7-41e3-8fa7-a744e16cc934');\n",
       "var x = new MutationObserver(function (mutations, observer) {{\n",
       "        var display = window.getComputedStyle(gd).display;\n",
       "        if (!display || display === 'none') {{\n",
       "            console.log([gd, 'removed!']);\n",
       "            Plotly.purge(gd);\n",
       "            observer.disconnect();\n",
       "        }}\n",
       "}});\n",
       "\n",
       "// Listen for the removal of the full notebook cells\n",
       "var notebookContainer = gd.closest('#notebook-container');\n",
       "if (notebookContainer) {{\n",
       "    x.observe(notebookContainer, {childList: true});\n",
       "}}\n",
       "\n",
       "// Listen for the clearing of the current output cell\n",
       "var outputEl = gd.closest('.output');\n",
       "if (outputEl) {{\n",
       "    x.observe(outputEl, {childList: true});\n",
       "}}\n",
       "\n",
       "                        })                };                });            </script>        </div>"
      ]
     },
     "metadata": {},
     "output_type": "display_data"
    }
   ],
   "source": [
    "df=application_categories\n",
    "Specifique=df['Acronym']\n",
    "Application=df['Category']\n",
    "Color=df['Color']\n",
    "Source=[]\n",
    "Target=[]\n",
    "index=[]\n",
    "Col=[]\n",
    "\n",
    "Specifique=list(set(Specifique))\n",
    "Application=list(set(Application))\n",
    "\n",
    "\n",
    "for h in range(0,len(df[\"Acronym\"])):\n",
    "    for i in range(0,len(Application)):\n",
    "        for j in range(0,len(Specifique)):\n",
    "            if df[\"Category\"][h]==Application[i] and df[\"Acronym\"][h]==Specifique[j]:\n",
    "                Source.append(j)\n",
    "                Target.append(len(Specifique)+i)\n",
    "                Col.append(Color[j])\n",
    "                index.append(j)\n",
    "\n",
    "\n",
    "for i in range(0,len(Source)):\n",
    "    for j in range(0,len(Source)):\n",
    "        if Source[i]==Source[j] and Target[i]==Target[j]  and i!=j:\n",
    "            Source[j]=\"Nan\"\n",
    "            Target[j]=\"Nan\"\n",
    "label1=Specifique\n",
    "\n",
    "\n",
    "for i in range(0,len(Application)):\n",
    "    label1.append(Application[i])\n",
    "\n",
    "Value=[1 for i in range(len(Source))]\n",
    "\n",
    "fig = go.Figure(data=[go.Sankey(\n",
    "    orientation=\"h\",\n",
    "    valueformat = \".0f\",\n",
    "    node = dict(\n",
    "      pad = 300,\n",
    "\n",
    "\n",
    "      thickness = 30,\n",
    "\n",
    "     \n",
    "\n",
    "      label = label1,\n",
    "\n",
    "      color = \"white\",\n",
    "\n",
    "\n",
    "    ),\n",
    "    link = dict(\n",
    "      source = Source, # indices correspond to labels, eg A1, A2, A1, B1, ...\n",
    "      target = Target,\n",
    "      value = Value,\n",
    "      color=df['Color'],\n",
    "  )\n",
    ")])\n",
    "\n",
    "fig.update_layout(font_size=20, width=1000,\n",
    "height=2000)"
   ]
  },
  {
   "cell_type": "code",
   "execution_count": 10,
   "id": "933f0712",
   "metadata": {},
   "outputs": [],
   "source": [
    "import os\n",
    "\n",
    "if not os.path.exists(\"images\"):\n",
    "    os.mkdir(\"images\")\n",
    "fig.write_image(\"images/Category_Sankey.pdf\", width=650, height=800)\n"
   ]
  },
  {
   "cell_type": "code",
   "execution_count": null,
   "id": "fe18435b",
   "metadata": {},
   "outputs": [],
   "source": []
  }
 ],
 "metadata": {
  "kernelspec": {
   "display_name": "Python 3",
   "language": "python",
   "name": "python3"
  },
  "language_info": {
   "codemirror_mode": {
    "name": "ipython",
    "version": 3
   },
   "file_extension": ".py",
   "mimetype": "text/x-python",
   "name": "python",
   "nbconvert_exporter": "python",
   "pygments_lexer": "ipython3",
   "version": "3.7.6"
  }
 },
 "nbformat": 4,
 "nbformat_minor": 5
}
