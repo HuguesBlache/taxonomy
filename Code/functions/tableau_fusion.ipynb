{
 "cells": [
  {
   "cell_type": "code",
   "execution_count": 11,
   "id": "direct-fiction",
   "metadata": {},
   "outputs": [],
   "source": [
    "def tableau_fusion(df):\n",
    "    fig = go.Figure(data=[go.Table(header=dict(values=['Application', 'Technology']),\n",
    "                         cells=dict(values=[df['Application'], df['Technology']]))\n",
    "                         ])\n",
    "    return fig"
   ]
  }
 ],
 "metadata": {
  "kernelspec": {
   "display_name": "Python 3",
   "language": "python",
   "name": "python3"
  },
  "language_info": {
   "codemirror_mode": {
    "name": "ipython",
    "version": 3
   },
   "file_extension": ".py",
   "mimetype": "text/x-python",
   "name": "python",
   "nbconvert_exporter": "python",
   "pygments_lexer": "ipython3",
   "version": "3.7.6"
  }
 },
 "nbformat": 4,
 "nbformat_minor": 5
}
