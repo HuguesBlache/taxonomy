{
 "cells": [
  {
   "cell_type": "code",
   "execution_count": 1,
   "id": "defined-uncertainty",
   "metadata": {},
   "outputs": [],
   "source": [
    "def Communication_Mode_Technologies_Sankey(df):\n",
    "    Specifique=df['Type']\n",
    "    Application=df['Technologies']\n",
    "    Specifique=list(set(Specifique))\n",
    "    Application=list(set(Application))\n",
    "    Source=[]\n",
    "    Target=[]\n",
    "    for h in range(0,len(df[\"Type\"])):\n",
    "        for i in range(0,len(Application)):\n",
    "            for j in range(0,len(Specifique)):\n",
    "                if df[\"Technologies\"][h]==Application[i] and df[\"Type\"][h]==Specifique[j]:\n",
    "                    Source.append(j)\n",
    "                    Target.append(len(Specifique)+i)\n",
    "    for i in range(0,len(Source)):\n",
    "        for j in range(0,len(Source)):\n",
    "            if Source[i]==Source[j] and Target[i]==Target[j]  and i!=j:\n",
    "                Source[j]=\"Nan\"\n",
    "                Target[j]=\"Nan\"\n",
    "    label1=Specifique\n",
    "    for i in range(0,len(Application)):\n",
    "        label1.append(Application[i])\n",
    "    Value=[1 for i in range(len(Source))]\n",
    "    import plotly.graph_objects as go\n",
    "    fig = go.Figure(data=[go.Sankey(\n",
    "        orientation=\"h\",\n",
    "        valueformat = \".0f\",\n",
    "        valuesuffix = \"TWh\",\n",
    "        node = dict(\n",
    "          pad = 300,\n",
    "\n",
    "\n",
    "          thickness = 12,\n",
    "          line = dict(color = \"black\", width = 1),\n",
    "          label = label1,\n",
    "          color = \"white\"\n",
    "        ),\n",
    "        link = dict(\n",
    "          source = Source, # indices correspond to labels, eg A1, A2, A1, B1, ...\n",
    "          target = Target,\n",
    "          value = Value,\n",
    "         color=df['Color']\n",
    "\n",
    "      )\n",
    "    )])\n",
    "\n",
    "    fig.update_layout( font_size=15, width=1000,\n",
    "        height=1000)\n",
    "    return fig"
   ]
  },
  {
   "cell_type": "code",
   "execution_count": null,
   "id": "intensive-logistics",
   "metadata": {},
   "outputs": [],
   "source": []
  }
 ],
 "metadata": {
  "kernelspec": {
   "display_name": "Python 3",
   "language": "python",
   "name": "python3"
  },
  "language_info": {
   "codemirror_mode": {
    "name": "ipython",
    "version": 3
   },
   "file_extension": ".py",
   "mimetype": "text/x-python",
   "name": "python",
   "nbconvert_exporter": "python",
   "pygments_lexer": "ipython3",
   "version": "3.7.6"
  }
 },
 "nbformat": 4,
 "nbformat_minor": 5
}
