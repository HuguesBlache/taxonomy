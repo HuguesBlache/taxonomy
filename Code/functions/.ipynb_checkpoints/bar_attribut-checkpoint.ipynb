{
 "cells": [
  {
   "cell_type": "code",
   "execution_count": null,
   "id": "da04fc21",
   "metadata": {},
   "outputs": [],
   "source": [
    "def bar_attribut(application_data):\n",
    "    a=application_data[['Passenger','Commercial Vehicle Driver','Cyclist','Motorcyclist','Pedestrian','Public Transit','Driver/Car','Emergency vehicle']].count()\n",
    "    b=application_data[['Limited Access Highways','Roads with at-grade crossings','Intersections']].count()\n",
    "    c=application_data[['Automated','Connected information','Connected coordination']].count()\n",
    "    _partie_ = {\n",
    "    \n",
    "    #Application chose\n",
    "    'User Types':go.Figure(data=[go.Bar(x=a.index, y=a,text=a,textposition='auto')]),\n",
    "            \n",
    "    #Technologie chose    \n",
    "    'Road Types':go.Figure(data=[go.Bar(x=b.index, y=b,text=b,textposition='auto')]),\n",
    "    \n",
    "    #Fusion chose \n",
    "    'Application Mechanisms':go.Figure(data=[go.Bar(x=c.index, y=c,text=c,textposition='auto')])}\n",
    "    PartieW = Dropdown(options = _partie_.keys())\n",
    "    programW=Dropdown()\n",
    "\n",
    "\n",
    "    @interact(Attribut = PartieW, program = programW)\n",
    "    def print_figure(Attribut):\n",
    "        return _partie_[Attribut] \n"
   ]
  }
 ],
 "metadata": {
  "kernelspec": {
   "display_name": "Python 3",
   "language": "python",
   "name": "python3"
  },
  "language_info": {
   "codemirror_mode": {
    "name": "ipython",
    "version": 3
   },
   "file_extension": ".py",
   "mimetype": "text/x-python",
   "name": "python",
   "nbconvert_exporter": "python",
   "pygments_lexer": "ipython3",
   "version": "3.7.6"
  }
 },
 "nbformat": 4,
 "nbformat_minor": 5
}
