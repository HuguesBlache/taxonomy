{
 "cells": [
  {
   "cell_type": "code",
   "execution_count": 35,
   "id": "exact-capture",
   "metadata": {},
   "outputs": [],
   "source": [
    "def Technologies_Parallel_Cordianate(Range):     \n",
    "    df=technologies_data[technologies_data[\"Range Type\"]==Range]\n",
    "    b=df[\"Range Type\"]  \n",
    "    new_list1 = [] \n",
    "    for i in b : \n",
    "        if i not in new_list1: \n",
    "            new_list1.append(i) \n",
    "            \n",
    "    a=df[\"Value\"]    \n",
    "    new_list = [] \n",
    "    for i in a : \n",
    "        if i not in new_list: \n",
    "            new_list.append(i) \n",
    "\n",
    "    fig = go.Figure(data=\n",
    "    go.Parcoords(\n",
    "        \n",
    "        dimensions = list([\n",
    "            dict(tickvals = df[\"Value\"],\n",
    "                 ticktext = df.index,\n",
    "                 label = \"Technology\", values = df[\"Value\"]),\n",
    "          \n",
    "              dict(range = [min(df['Delay (ms)']),max(df['Delay (ms)'])],\n",
    "                 label = 'Delay (ms)', values = df['Delay (ms)']),\n",
    "        \n",
    "              dict(range = [min(df['Max Range (m)']),max(df['Max Range (m)'])],\n",
    "                 label = 'Max Range (m)', values = df['Max Range (m)']),\n",
    "             dict(range = [min(df['Data Rate (Mb/s)']),max(df['Data Rate (Mb/s)'])],\n",
    "                 label = 'Data Rate (Mb/s)', values = df['Data Rate (Mb/s)']),\n",
    "            dict(range = [min(df['Frequency Band(s) (GHz)']),max(df['Frequency Band(s) (GHz)'])],\n",
    "                 label = 'Frequency Band(s) (GHz)', values = df['Frequency Band(s) (GHz)']),\n",
    "             dict(range = [min(df['Frequency Band(s) (MHz)']),max(df['Frequency Band(s) (MHz)'])],\n",
    "                 label = 'Frequency Band(s) (MHz)', values = df['Frequency Band(s) (MHz)']),\n",
    "            ] ) \n",
    "        )\n",
    "    )\n",
    "    \n",
    "    \n",
    "    return fig.show()"
   ]
  }
 ],
 "metadata": {
  "kernelspec": {
   "display_name": "Python 3",
   "language": "python",
   "name": "python3"
  },
  "language_info": {
   "codemirror_mode": {
    "name": "ipython",
    "version": 3
   },
   "file_extension": ".py",
   "mimetype": "text/x-python",
   "name": "python",
   "nbconvert_exporter": "python",
   "pygments_lexer": "ipython3",
   "version": "3.7.6"
  }
 },
 "nbformat": 4,
 "nbformat_minor": 5
}
