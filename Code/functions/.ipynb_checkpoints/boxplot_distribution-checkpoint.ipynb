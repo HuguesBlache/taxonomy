{
 "cells": [
  {
   "cell_type": "code",
   "execution_count": 4,
   "id": "57f06dde",
   "metadata": {},
   "outputs": [],
   "source": [
    "def get_mean(liste):\n",
    "    return statistics.mean(liste)\n",
    "def boxplot(test,application_categories):\n",
    "    new_test=test.rename({'Application': 'Acronym'}, axis=1)\n",
    "    application_categories_new=application_categories[['Acronym','Category']]\n",
    "    fusion_tech_category=application_categories_new.merge(new_test,on='Acronym')\n",
    "    boxtest=new_test.drop_duplicates()\n",
    "    boxplot_fusion=boxtest.groupby(['Acronym']).size()\n",
    "    fusion_tech_category_test={}\n",
    "    category_i=fusion_tech_category['Category']\n",
    "    category_i.drop_duplicates(keep = 'first', inplace=True)\n",
    "    add=[]\n",
    "    for i in category_i:\n",
    "        fusion_tech_category_test['%s'%(i)]=fusion_tech_category[fusion_tech_category['Category']==i].drop_duplicates()\n",
    "        add.append(pd.DataFrame(data=fusion_tech_category_test['%s'%(i)].groupby('Acronym').size(), columns=['%s'%(i)])['%s'%(i)])\n",
    "\n",
    "    add.sort(key=get_mean, reverse=False)\n",
    "    liste=[]\n",
    "    for i in range(0,len(add)):\n",
    "        liste.append(add[i].name)    \n",
    "\n",
    "    add.append(pd.DataFrame(data=boxplot_fusion, columns=[\"Total\"])[\"Total\"])\n",
    "    liste.append(\"total\")\n",
    "    fig = go.Figure()\n",
    "    for i in range(0,len(add)):\n",
    "        fig.add_trace(go.Box(y=add[i], name=liste[i]))\n",
    "    fig.update_layout(title='Distribution of the number of usable technologies by category',\n",
    "                       yaxis=dict(\n",
    "            autorange=True,\n",
    "            showgrid=True,\n",
    "            zeroline=True,\n",
    "            dtick=5,\n",
    "            gridcolor='rgb(255, 255, 255)',\n",
    "            gridwidth=1,\n",
    "            zerolinecolor='rgb(255, 255, 255)',\n",
    "            zerolinewidth=2,\n",
    "        ),\n",
    "        margin=dict(\n",
    "            l=40,\n",
    "            r=30,\n",
    "            b=80,\n",
    "            t=100,\n",
    "        ),\n",
    "        paper_bgcolor='rgb(243, 243, 243)',\n",
    "        plot_bgcolor='rgb(243, 243, 243)',\n",
    "                      showlegend=False)\n",
    "    return fig\n"
   ]
  },
  {
   "cell_type": "code",
   "execution_count": null,
   "id": "4e7b06f2",
   "metadata": {},
   "outputs": [],
   "source": []
  }
 ],
 "metadata": {
  "kernelspec": {
   "display_name": "Python 3",
   "language": "python",
   "name": "python3"
  },
  "language_info": {
   "codemirror_mode": {
    "name": "ipython",
    "version": 3
   },
   "file_extension": ".py",
   "mimetype": "text/x-python",
   "name": "python",
   "nbconvert_exporter": "python",
   "pygments_lexer": "ipython3",
   "version": "3.7.6"
  }
 },
 "nbformat": 4,
 "nbformat_minor": 5
}
