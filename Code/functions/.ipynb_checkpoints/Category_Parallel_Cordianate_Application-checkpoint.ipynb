{
 "cells": [
  {
   "cell_type": "code",
   "execution_count": null,
   "id": "518b9c23",
   "metadata": {},
   "outputs": [],
   "source": [
    "def Category_Parallel_Cordianate_Application(df1):    \n",
    "\n",
    "    df1[\"Count\"]=1\n",
    "    a=df1[\"Count\"]\n",
    "    new_list = [] \n",
    "    for i in a : \n",
    "        if i not in new_list: \n",
    "            new_list.append(i) \n",
    "\n",
    "\n",
    "    c=df1[\"Messaging Type\"]    \n",
    "    new_list2 = [] \n",
    "    for i in c : \n",
    "        if i not in new_list2: \n",
    "            new_list2.append(i) \n",
    "    df1[\"MeCount\"]=1\n",
    "    d=df1[\"MeCount\"]    \n",
    "    new_list3 = [] \n",
    "    for i in d : \n",
    "        if i not in new_list3: \n",
    "            new_list3.append(i)         \n",
    "\n",
    "    fig = go.Figure(data=\n",
    "        go.Parcoords(\n",
    "\n",
    "            dimensions = list([\n",
    "                \n",
    "                dict(range = [min(df1[\"Max latency (ms)\"]),max(df1[\"Max latency (ms)\"])],\n",
    "                     label = 'Max Latency (ms)', values = df1[\"Max latency (ms)\"]),\n",
    "                  \n",
    "                dict(range = [min(df1[\"Message size up (bits)\"]),max(df1[\"Message size up (bits)\"])],\n",
    "                     label = 'Message size up (bits)', values = df1[\"Message size up (bits)\"]),\n",
    "                \n",
    "                 dict(range = [min(df1[\"Message Period (ms)\"]),max(df1[\"Message Period (ms)\"])],\n",
    "                     label = 'Message Period (ms)', values = df1[\"Message Period (ms)\"]),\n",
    "                 dict(range = [min(df1[\"Range\"]),max(df1[\"Range\"])],\n",
    "                     label = 'Range', values = df1[\"Range\"]),  \n",
    "             dict(range = [min(df1[\"Message Frequency (msg/sec)\"]),max(df1[\"Message Frequency (msg/sec)\"])],\n",
    "                         label = 'Message Frequency (msg/sec)', values = df1[\"Message Frequency (msg/sec)\"]),   \n",
    "\n",
    "                ])\n",
    "        )\n",
    "    )\n",
    "    return fig"
   ]
  }
 ],
 "metadata": {
  "kernelspec": {
   "display_name": "Python 3",
   "language": "python",
   "name": "python3"
  },
  "language_info": {
   "codemirror_mode": {
    "name": "ipython",
    "version": 3
   },
   "file_extension": ".py",
   "mimetype": "text/x-python",
   "name": "python",
   "nbconvert_exporter": "python",
   "pygments_lexer": "ipython3",
   "version": "3.7.6"
  }
 },
 "nbformat": 4,
 "nbformat_minor": 5
}
