{
 "cells": [
  {
   "cell_type": "code",
   "execution_count": null,
   "id": "ed3a6490",
   "metadata": {},
   "outputs": [],
   "source": [
    "def bar_attribut(attribut):\n",
    "    a=application_data[['Passenger','Commercial Vehicle Driver','Cyclist','Motorcyclist','Pedestrian','Public Transit','Driver/Car','Emergency vehicle']].count()\n",
    "    b=application_data[['Limited Access Highways','Roads with at-grade crossings','Intersections']].count()\n",
    "    c=application_data[['Automated','Connected information','Connected coordination']].count()\n",
    "    _partie_ = {\n",
    "    \n",
    "    #Application chose\n",
    "    'User Types':go.Figure(data=[go.Bar(x=a.index, y=a,text=a,textposition='auto')]),\n",
    "            \n",
    "    #Technologie chose    \n",
    "    'Road Types':go.Figure(data=[go.Bar(x=b.index, y=b,text=b,textposition='auto')]),\n",
    "    \n",
    "    #Fusion chose \n",
    "    'Application Mechanisms':go.Figure(data=[go.Bar(x=c.index, y=c,text=c,textposition='auto')])}\n",
    "    \n",
    "\n",
    "\n",
    "    return _partie_[attribut].show()\n"
   ]
  }
 ],
 "metadata": {
  "kernelspec": {
   "display_name": "Python 3",
   "language": "python",
   "name": "python3"
  },
  "language_info": {
   "codemirror_mode": {
    "name": "ipython",
    "version": 3
   },
   "file_extension": ".py",
   "mimetype": "text/x-python",
   "name": "python",
   "nbconvert_exporter": "python",
   "pygments_lexer": "ipython3",
   "version": "3.7.6"
  }
 },
 "nbformat": 4,
 "nbformat_minor": 5
}
