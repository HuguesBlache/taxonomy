{
 "cells": [
  {
   "cell_type": "code",
   "execution_count": 195,
   "id": "initial-elder",
   "metadata": {},
   "outputs": [],
   "source": [
    "\n",
    "def plot_bar_category(KPI):\n",
    "    df=Category_KPI.iloc[:, np.r_[1:11]]\n",
    "    df = df.reset_index()\n",
    "    df_percent = df.groupby(['Category', KPI]).size().reset_index()\n",
    "    df_percent['percentage'] = df.groupby(['Category',KPI]).size().groupby(level=1).apply(lambda x: 100 * x / float(x.sum())).values\n",
    "    df_percent.columns = ['Category', KPI, 'Counts', 'Percentage']\n",
    "    fig=px.bar(df_percent, x=KPI, y='Percentage', color='Category',)\n",
    "    return fig.show()"
   ]
  }
 ],
 "metadata": {
  "kernelspec": {
   "display_name": "Python 3",
   "language": "python",
   "name": "python3"
  },
  "language_info": {
   "codemirror_mode": {
    "name": "ipython",
    "version": 3
   },
   "file_extension": ".py",
   "mimetype": "text/x-python",
   "name": "python",
   "nbconvert_exporter": "python",
   "pygments_lexer": "ipython3",
   "version": "3.7.6"
  }
 },
 "nbformat": 4,
 "nbformat_minor": 5
}
