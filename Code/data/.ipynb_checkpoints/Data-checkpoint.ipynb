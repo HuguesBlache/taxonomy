{
 "cells": [
  {
   "cell_type": "code",
   "execution_count": 1,
   "id": "moving-spotlight",
   "metadata": {},
   "outputs": [],
   "source": [
    "import pandas as pd\n"
   ]
  },
  {
   "cell_type": "markdown",
   "id": "severe-marshall",
   "metadata": {},
   "source": [
    "## Application data"
   ]
  },
  {
   "cell_type": "code",
   "execution_count": 2,
   "id": "advance-cabin",
   "metadata": {},
   "outputs": [],
   "source": [
    "sheet_application_data = \"https://docs.google.com/spreadsheets/d/1OfUOVvTzfcZZhlYli21-WmcEfmikRiymsMdYXG2SAA4/edit#gid=386603968\"\n",
    "application_data_url = sheet_application_data.replace('/edit#gid=', '/export?format=csv&gid=')\n",
    "application_data=pd.read_csv(application_data_url,header=1)"
   ]
  },
  {
   "cell_type": "markdown",
   "id": "black-shift",
   "metadata": {},
   "source": [
    "## Communication mode data"
   ]
  },
  {
   "cell_type": "code",
   "execution_count": 38,
   "id": "pursuant-approval",
   "metadata": {},
   "outputs": [],
   "source": [
    "sheet_communication_mode_data = \"https://docs.google.com/spreadsheets/d/1OfUOVvTzfcZZhlYli21-WmcEfmikRiymsMdYXG2SAA4/edit#gid=1185192284\"\n",
    "communication_mode_data_url = sheet_communication_mode_data.replace('/edit#gid=', '/export?format=csv&gid=')\n",
    "communication_mode_data=pd.read_csv(communication_mode_data_url,header=1)"
   ]
  },
  {
   "cell_type": "markdown",
   "id": "running-repository",
   "metadata": {},
   "source": [
    "## Technologies Data"
   ]
  },
  {
   "cell_type": "code",
   "execution_count": 39,
   "id": "academic-visitor",
   "metadata": {},
   "outputs": [],
   "source": [
    "sheet_technologies_data = \"https://docs.google.com/spreadsheets/d/1OfUOVvTzfcZZhlYli21-WmcEfmikRiymsMdYXG2SAA4/edit#gid=2129413061\"\n",
    "technologies_data_url = sheet_technologies_data.replace('/edit#gid=', '/export?format=csv&gid=')\n",
    "technologies_data=pd.read_csv(technologies_data_url,index_col=\"Technology\")"
   ]
  },
  {
   "cell_type": "code",
   "execution_count": null,
   "id": "remarkable-synthesis",
   "metadata": {},
   "outputs": [],
   "source": []
  },
  {
   "cell_type": "code",
   "execution_count": null,
   "id": "73a7f7b8",
   "metadata": {},
   "outputs": [],
   "source": []
  },
  {
   "cell_type": "code",
   "execution_count": null,
   "id": "2a3b77bc",
   "metadata": {},
   "outputs": [],
   "source": []
  },
  {
   "cell_type": "code",
   "execution_count": null,
   "id": "2b4145bd",
   "metadata": {},
   "outputs": [],
   "source": []
  }
 ],
 "metadata": {
  "kernelspec": {
   "display_name": "Python 3",
   "language": "python",
   "name": "python3"
  },
  "language_info": {
   "codemirror_mode": {
    "name": "ipython",
    "version": 3
   },
   "file_extension": ".py",
   "mimetype": "text/x-python",
   "name": "python",
   "nbconvert_exporter": "python",
   "pygments_lexer": "ipython3",
   "version": "3.7.6"
  }
 },
 "nbformat": 4,
 "nbformat_minor": 5
}
