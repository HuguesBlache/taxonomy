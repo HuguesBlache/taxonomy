{
 "cells": [
  {
   "cell_type": "code",
   "execution_count": 66,
   "metadata": {},
   "outputs": [],
   "source": [
    "import plotly.express as px\n",
    "import pandas as pd\n",
    "import ipywidgets as widgets\n",
    "from ipywidgets import interactive\n",
    "\n",
    "def Radar(x):\n",
    "    variables = df1.columns\n",
    "   \n",
    "    df = pd.DataFrame(dict(\n",
    "        r=df1.loc[x],\n",
    "        theta=df1.columns))\n",
    "    fig = px.line_polar(df, r='r', theta='theta', line_close=True)\n",
    "    return fig.show()"
   ]
  },
  {
   "cell_type": "code",
   "execution_count": 67,
   "metadata": {},
   "outputs": [
    {
     "data": {
      "application/vnd.jupyter.widget-view+json": {
       "model_id": "012581b9ab834dac905d3ac2f653c246",
       "version_major": 2,
       "version_minor": 0
      },
      "text/plain": [
       "interactive(children=(Dropdown(description='x', options=('5G', 'Bluetooth', 'DSRC', 'LTE-V', 'UWB', 'WIFI', 'W…"
      ]
     },
     "metadata": {},
     "output_type": "display_data"
    }
   ],
   "source": [
    "df1=pd.read_csv('technoperform.csv', sep=';',index_col=\"Technology\")\n",
    "items =sorted(df1.index.unique().tolist())\n",
    "w = widgets.Dropdown(options=items)\n",
    "interactive(Radar, x=w)\n"
   ]
  },
  {
   "cell_type": "code",
   "execution_count": 71,
   "metadata": {},
   "outputs": [
    {
     "data": {
      "application/vnd.jupyter.widget-view+json": {
       "model_id": "227b70b49f844cd8a3e32c144f91ce93",
       "version_major": 2,
       "version_minor": 0
      },
      "text/plain": [
       "interactive(children=(Dropdown(description='x', options=('5G', 'Bluetooth', 'DSRC', 'LTE-V', 'UWB', 'WIFI', 'W…"
      ]
     },
     "metadata": {},
     "output_type": "display_data"
    }
   ],
   "source": [
    "def view(x):\n",
    "    return df1[df1.index==x]\n",
    "w = widgets.Dropdown(options=items)\n",
    "interactive(view, x=w)"
   ]
  },
  {
   "cell_type": "code",
   "execution_count": null,
   "metadata": {},
   "outputs": [],
   "source": []
  },
  {
   "cell_type": "code",
   "execution_count": null,
   "metadata": {},
   "outputs": [],
   "source": []
  }
 ],
 "metadata": {
  "kernelspec": {
   "display_name": "Python 3",
   "language": "python",
   "name": "python3"
  },
  "language_info": {
   "codemirror_mode": {
    "name": "ipython",
    "version": 3
   },
   "file_extension": ".py",
   "mimetype": "text/x-python",
   "name": "python",
   "nbconvert_exporter": "python",
   "pygments_lexer": "ipython3",
   "version": "3.7.6"
  }
 },
 "nbformat": 4,
 "nbformat_minor": 4
}
