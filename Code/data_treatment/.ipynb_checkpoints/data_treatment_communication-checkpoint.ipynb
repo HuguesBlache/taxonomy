{
 "cells": [
  {
   "cell_type": "code",
   "execution_count": 4,
   "id": "neural-clerk",
   "metadata": {},
   "outputs": [
    {
     "name": "stderr",
     "output_type": "stream",
     "text": [
      "C:\\Users\\hugue\\anaconda\\lib\\site-packages\\ipykernel_launcher.py:5: SettingWithCopyWarning: \n",
      "A value is trying to be set on a copy of a slice from a DataFrame\n",
      "\n",
      "See the caveats in the documentation: https://pandas.pydata.org/pandas-docs/stable/user_guide/indexing.html#returning-a-view-versus-a-copy\n",
      "  \"\"\"\n"
     ]
    }
   ],
   "source": [
    "communication_mode_data\n",
    "for j in communication_mode_data.columns:\n",
    "    for i in range(0,len(communication_mode_data[j])):\n",
    "        if communication_mode_data[j][i]==\"Yes\":\n",
    "            communication_mode_data[j][i]=j"
   ]
  },
  {
   "cell_type": "markdown",
   "id": "working-burlington",
   "metadata": {},
   "source": [
    "## Communication mode with techmologies"
   ]
  },
  {
   "cell_type": "code",
   "execution_count": 12,
   "id": "agreed-package",
   "metadata": {},
   "outputs": [
    {
     "name": "stderr",
     "output_type": "stream",
     "text": [
      "C:\\Users\\hugue\\anaconda\\lib\\site-packages\\ipykernel_launcher.py:21: SettingWithCopyWarning: \n",
      "A value is trying to be set on a copy of a slice from a DataFrame\n",
      "\n",
      "See the caveats in the documentation: https://pandas.pydata.org/pandas-docs/stable/user_guide/indexing.html#returning-a-view-versus-a-copy\n"
     ]
    }
   ],
   "source": [
    "colnames = ['Type','Technologies']\n",
    "communication_mode_technologies = pd.DataFrame(columns = colnames)\n",
    "for i in communication_mode_data.columns[2:25]:\n",
    "    for j in range(0,len(communication_mode_data[i])):\n",
    "        if communication_mode_data[i][j] is i :\n",
    "            communication_mode_technologies=communication_mode_technologies.append(pd.DataFrame({'Type': [communication_mode_data['Type'][j]],'Technologies':[communication_mode_data[i][j]]}))\n",
    "## Redefinition des indices\n",
    "            ind=[i for i in range(len(communication_mode_technologies))]\n",
    "communication_mode_technologies=communication_mode_technologies.set_index([ind])\n",
    "\n",
    "\n",
    "## Creer une colomn couleur pour les Sankey... Pour l'instant que des valeurs aléatoires\n",
    "communication_mode_technologies[\"Color\"] = np.nan\n",
    "for i in communication_mode_technologies['Type']:\n",
    "    r = lambda: random.randint(0,255)\n",
    "    b = lambda: random.randint(0,255)\n",
    "    g= lambda: random.randint(0,255)\n",
    "    color='#%02X%02X%02X' % (r(),b(),g())\n",
    "    for j in range(0,len(communication_mode_technologies)):\n",
    "        if communication_mode_technologies['Type'][j]==i:\n",
    "            communication_mode_technologies['Color'][j]=color"
   ]
  },
  {
   "cell_type": "code",
   "execution_count": null,
   "id": "ready-springer",
   "metadata": {},
   "outputs": [],
   "source": []
  },
  {
   "cell_type": "code",
   "execution_count": null,
   "id": "wrapped-contributor",
   "metadata": {},
   "outputs": [],
   "source": []
  }
 ],
 "metadata": {
  "kernelspec": {
   "display_name": "Python 3",
   "language": "python",
   "name": "python3"
  },
  "language_info": {
   "codemirror_mode": {
    "name": "ipython",
    "version": 3
   },
   "file_extension": ".py",
   "mimetype": "text/x-python",
   "name": "python",
   "nbconvert_exporter": "python",
   "pygments_lexer": "ipython3",
   "version": "3.7.6"
  }
 },
 "nbformat": 4,
 "nbformat_minor": 5
}
