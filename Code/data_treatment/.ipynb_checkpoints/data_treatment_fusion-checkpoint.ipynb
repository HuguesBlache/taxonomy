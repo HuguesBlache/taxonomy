{
 "cells": [
  {
   "cell_type": "markdown",
   "id": "divine-occurrence",
   "metadata": {},
   "source": [
    "## Fusion mode communication appli et technologie"
   ]
  },
  {
   "cell_type": "code",
   "execution_count": 8,
   "id": "departmental-amendment",
   "metadata": {},
   "outputs": [
    {
     "ename": "NameError",
     "evalue": "name 'application_communication_mode' is not defined",
     "output_type": "error",
     "traceback": [
      "\u001b[1;31m---------------------------------------------------------------------------\u001b[0m",
      "\u001b[1;31mNameError\u001b[0m                                 Traceback (most recent call last)",
      "\u001b[1;32m<ipython-input-8-581392355011>\u001b[0m in \u001b[0;36m<module>\u001b[1;34m\u001b[0m\n\u001b[1;32m----> 1\u001b[1;33m \u001b[0mapplication_communication_mode_columns\u001b[0m \u001b[1;33m=\u001b[0m \u001b[0mapplication_communication_mode\u001b[0m\u001b[1;33m.\u001b[0m\u001b[0mrename\u001b[0m\u001b[1;33m(\u001b[0m\u001b[0mcolumns\u001b[0m\u001b[1;33m=\u001b[0m\u001b[1;33m{\u001b[0m\u001b[1;34m'Comm'\u001b[0m\u001b[1;33m:\u001b[0m \u001b[1;34m'Type'\u001b[0m\u001b[1;33m}\u001b[0m\u001b[1;33m)\u001b[0m\u001b[1;33m\u001b[0m\u001b[1;33m\u001b[0m\u001b[0m\n\u001b[0m\u001b[0;32m      2\u001b[0m \u001b[0mmerge_com_app_tech\u001b[0m\u001b[1;33m=\u001b[0m\u001b[0mpd\u001b[0m\u001b[1;33m.\u001b[0m\u001b[0mmerge\u001b[0m\u001b[1;33m(\u001b[0m\u001b[0mcommunication_mode_technologies\u001b[0m\u001b[1;33m,\u001b[0m \u001b[0mapplication_communication_mode_columns\u001b[0m\u001b[1;33m,\u001b[0m \u001b[0mon\u001b[0m\u001b[1;33m=\u001b[0m\u001b[1;34m\"Type\"\u001b[0m\u001b[1;33m)\u001b[0m\u001b[1;33m\u001b[0m\u001b[1;33m\u001b[0m\u001b[0m\n",
      "\u001b[1;31mNameError\u001b[0m: name 'application_communication_mode' is not defined"
     ]
    }
   ],
   "source": [
    "application_communication_mode_columns = application_communication_mode.rename(columns={'Comm': 'Type'})\n",
    "merge_com_app_tech=pd.merge(communication_mode_technologies, application_communication_mode_columns, on=\"Type\")\n"
   ]
  },
  {
   "cell_type": "code",
   "execution_count": 7,
   "id": "physical-check",
   "metadata": {},
   "outputs": [
    {
     "ename": "NameError",
     "evalue": "name 'application_data' is not defined",
     "output_type": "error",
     "traceback": [
      "\u001b[1;31m---------------------------------------------------------------------------\u001b[0m",
      "\u001b[1;31mNameError\u001b[0m                                 Traceback (most recent call last)",
      "\u001b[1;32m<ipython-input-7-67cbe2cefb75>\u001b[0m in \u001b[0;36m<module>\u001b[1;34m\u001b[0m\n\u001b[1;32m----> 1\u001b[1;33m \u001b[0mapplication_requirement\u001b[0m\u001b[1;33m=\u001b[0m\u001b[0mapplication_data\u001b[0m\u001b[1;33m.\u001b[0m\u001b[0miloc\u001b[0m\u001b[1;33m[\u001b[0m\u001b[1;33m:\u001b[0m\u001b[1;33m,\u001b[0m \u001b[0mnp\u001b[0m\u001b[1;33m.\u001b[0m\u001b[0mr_\u001b[0m\u001b[1;33m[\u001b[0m\u001b[1;36m0\u001b[0m\u001b[1;33m,\u001b[0m\u001b[1;36m38\u001b[0m\u001b[1;33m:\u001b[0m\u001b[1;36m48\u001b[0m\u001b[1;33m]\u001b[0m\u001b[1;33m]\u001b[0m\u001b[1;33m\u001b[0m\u001b[1;33m\u001b[0m\u001b[0m\n\u001b[0m\u001b[0;32m      2\u001b[0m \u001b[0mapplication_requirement\u001b[0m\u001b[1;33m.\u001b[0m\u001b[0mset_index\u001b[0m\u001b[1;33m(\u001b[0m\u001b[1;34m\"Name\"\u001b[0m\u001b[1;33m,\u001b[0m \u001b[0minplace\u001b[0m \u001b[1;33m=\u001b[0m \u001b[1;32mTrue\u001b[0m\u001b[1;33m)\u001b[0m\u001b[1;33m\u001b[0m\u001b[1;33m\u001b[0m\u001b[0m\n\u001b[0;32m      3\u001b[0m \u001b[0mtechnologies_performances\u001b[0m\u001b[1;33m=\u001b[0m\u001b[0mtechnologies_data\u001b[0m\u001b[1;33m.\u001b[0m\u001b[0miloc\u001b[0m\u001b[1;33m[\u001b[0m\u001b[1;33m:\u001b[0m\u001b[1;33m,\u001b[0m \u001b[0mnp\u001b[0m\u001b[1;33m.\u001b[0m\u001b[0mr_\u001b[0m\u001b[1;33m[\u001b[0m\u001b[1;36m2\u001b[0m\u001b[1;33m:\u001b[0m\u001b[1;36m15\u001b[0m\u001b[1;33m]\u001b[0m\u001b[1;33m]\u001b[0m\u001b[1;33m\u001b[0m\u001b[1;33m\u001b[0m\u001b[0m\n\u001b[0;32m      4\u001b[0m \u001b[0mcolnames\u001b[0m \u001b[1;33m=\u001b[0m \u001b[1;33m[\u001b[0m\u001b[1;34m'Application'\u001b[0m\u001b[1;33m,\u001b[0m\u001b[1;34m'Technology'\u001b[0m\u001b[1;33m]\u001b[0m\u001b[1;33m\u001b[0m\u001b[1;33m\u001b[0m\u001b[0m\n\u001b[0;32m      5\u001b[0m \u001b[0mtest\u001b[0m \u001b[1;33m=\u001b[0m \u001b[0mpd\u001b[0m\u001b[1;33m.\u001b[0m\u001b[0mDataFrame\u001b[0m\u001b[1;33m(\u001b[0m\u001b[0mcolumns\u001b[0m \u001b[1;33m=\u001b[0m \u001b[0mcolnames\u001b[0m\u001b[1;33m)\u001b[0m\u001b[1;33m\u001b[0m\u001b[1;33m\u001b[0m\u001b[0m\n",
      "\u001b[1;31mNameError\u001b[0m: name 'application_data' is not defined"
     ]
    }
   ],
   "source": [
    "application_requirement=application_data.iloc[:, np.r_[1,38:48]]\n",
    "application_requirement.set_index(\"Acronym\", inplace = True)\n",
    "technologies_performances=technologies_data.iloc[:, np.r_[2:15]]\n",
    "colnames = ['Application','Technology']\n",
    "test = pd.DataFrame(columns = colnames)\n",
    "for i in range(0,len(merge_com_app_tech)):\n",
    "    if int(application_requirement[\"Max latency (ms)\"][merge_com_app_tech['Name'][i]])>int(technologies_performances[\"Delay (ms)\"][merge_com_app_tech['Technologies'][i]]) and int(application_requirement[\"Range\"][merge_com_app_tech['Name'][i]])<int(technologies_performances[\"Max Range (m)\"][merge_com_app_tech['Technologies'][i]]):\n",
    "            test=test.append(pd.DataFrame({'Application':[merge_com_app_tech['Name'][i]],\"Technology\":[merge_com_app_tech['Technologies'][i]]}))\n",
    "\n"
   ]
  },
  {
   "cell_type": "code",
   "execution_count": null,
   "id": "greater-sixth",
   "metadata": {},
   "outputs": [],
   "source": [
    "      "
   ]
  }
 ],
 "metadata": {
  "kernelspec": {
   "display_name": "Python 3",
   "language": "python",
   "name": "python3"
  },
  "language_info": {
   "codemirror_mode": {
    "name": "ipython",
    "version": 3
   },
   "file_extension": ".py",
   "mimetype": "text/x-python",
   "name": "python",
   "nbconvert_exporter": "python",
   "pygments_lexer": "ipython3",
   "version": "3.7.6"
  }
 },
 "nbformat": 4,
 "nbformat_minor": 5
}
