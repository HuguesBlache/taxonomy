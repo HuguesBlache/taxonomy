{
 "cells": [
  {
   "cell_type": "markdown",
   "id": "economic-moses",
   "metadata": {},
   "source": [
    "## Ajout de valeur pour l'indice des nom des technologies"
   ]
  },
  {
   "cell_type": "code",
   "execution_count": 7,
   "id": "breeding-bhutan",
   "metadata": {},
   "outputs": [
    {
     "name": "stderr",
     "output_type": "stream",
     "text": [
      "C:\\Users\\hugue\\anaconda\\lib\\site-packages\\ipykernel_launcher.py:7: SettingWithCopyWarning: \n",
      "A value is trying to be set on a copy of a slice from a DataFrame\n",
      "\n",
      "See the caveats in the documentation: https://pandas.pydata.org/pandas-docs/stable/user_guide/indexing.html#returning-a-view-versus-a-copy\n",
      "  import sys\n"
     ]
    }
   ],
   "source": [
    "technologies_data_modif=technologies_data\n",
    "technologies_data_modif[\"Value\"]  = np.nan\n",
    "\n",
    "for i in technologies_data_modif.index:\n",
    "    for j in range(0,len(technologies_data_modif)):\n",
    "        if technologies_data_modif.index[j]==i:\n",
    "            technologies_data_modif['Value'][j]=j+1\n"
   ]
  },
  {
   "cell_type": "code",
   "execution_count": null,
   "id": "indie-glory",
   "metadata": {},
   "outputs": [],
   "source": []
  },
  {
   "cell_type": "code",
   "execution_count": null,
   "id": "backed-importance",
   "metadata": {},
   "outputs": [],
   "source": []
  }
 ],
 "metadata": {
  "kernelspec": {
   "display_name": "Python 3",
   "language": "python",
   "name": "python3"
  },
  "language_info": {
   "codemirror_mode": {
    "name": "ipython",
    "version": 3
   },
   "file_extension": ".py",
   "mimetype": "text/x-python",
   "name": "python",
   "nbconvert_exporter": "python",
   "pygments_lexer": "ipython3",
   "version": "3.7.6"
  }
 },
 "nbformat": 4,
 "nbformat_minor": 5
}
