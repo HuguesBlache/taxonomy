{
 "cells": [
  {
   "cell_type": "markdown",
   "id": "divine-occurrence",
   "metadata": {},
   "source": [
    "## Remplacement des valeurs YES par le nombre des colonnes"
   ]
  },
  {
   "cell_type": "code",
   "execution_count": 36,
   "id": "optical-antibody",
   "metadata": {},
   "outputs": [],
   "source": [
    "application_data\n",
    "for j in application_data.columns:\n",
    "    for i in range(0,len(application_data[j])):\n",
    "        if application_data[j][i]==\"Yes\":\n",
    "            application_data[j][i]=j"
   ]
  },
  {
   "cell_type": "markdown",
   "id": "after-destiny",
   "metadata": {},
   "source": [
    "## Rassemblement données Catégories et Application (Sankey)"
   ]
  },
  {
   "cell_type": "code",
   "execution_count": 37,
   "id": "linear-chicken",
   "metadata": {},
   "outputs": [
    {
     "name": "stderr",
     "output_type": "stream",
     "text": [
      "C:\\Users\\hugue\\anaconda\\lib\\site-packages\\ipykernel_launcher.py:21: SettingWithCopyWarning: \n",
      "A value is trying to be set on a copy of a slice from a DataFrame\n",
      "\n",
      "See the caveats in the documentation: https://pandas.pydata.org/pandas-docs/stable/user_guide/indexing.html#returning-a-view-versus-a-copy\n",
      "C:\\Users\\hugue\\anaconda\\lib\\site-packages\\pandas\\core\\indexing.py:1637: SettingWithCopyWarning: \n",
      "A value is trying to be set on a copy of a slice from a DataFrame\n",
      "\n",
      "See the caveats in the documentation: https://pandas.pydata.org/pandas-docs/stable/user_guide/indexing.html#returning-a-view-versus-a-copy\n",
      "  self._setitem_single_block(indexer, value, name)\n"
     ]
    }
   ],
   "source": [
    "colnames = ['Name','Category']\n",
    "application_categories = pd.DataFrame(columns = colnames)\n",
    "for i in application_data.columns[4:19]:\n",
    "    for j in range(0,len(application_data[i])):\n",
    "        if application_data[i][j] is i :\n",
    "            application_categories=application_categories.append(pd.DataFrame({'Name': [application_data['Name'][j]],'Category':[application_data[i][j]]}))\n",
    "## Redefinition des indices\n",
    "            ind=[i for i in range(len(application_categories))]\n",
    "application_categories=application_categories.set_index([ind])\n",
    "\n",
    "\n",
    "## Creer une colomn couleur pour les Sankey... Pour l'instant que des valeurs aléatoires\n",
    "application_categories[\"Color\"] = np.nan\n",
    "for i in application_categories['Category']:\n",
    "    r = lambda: random.randint(0,255)\n",
    "    b = lambda: random.randint(0,255)\n",
    "    g= lambda: random.randint(0,255)\n",
    "    color='#%02X%02X%02X' % (r(),b(),g())\n",
    "    for j in range(0,len(application_categories)):\n",
    "        if application_categories['Category'][j]==i:\n",
    "            application_categories['Color'][j]=color"
   ]
  },
  {
   "cell_type": "markdown",
   "id": "chief-beach",
   "metadata": {},
   "source": [
    "## Rassemblement Catagory KPI _ Category_Parallel_Cordianate"
   ]
  },
  {
   "cell_type": "code",
   "execution_count": 38,
   "id": "shaped-mechanics",
   "metadata": {},
   "outputs": [
    {
     "name": "stderr",
     "output_type": "stream",
     "text": [
      "C:\\Users\\hugue\\anaconda\\lib\\site-packages\\ipykernel_launcher.py:9: SettingWithCopyWarning: \n",
      "A value is trying to be set on a copy of a slice from a DataFrame\n",
      "\n",
      "See the caveats in the documentation: https://pandas.pydata.org/pandas-docs/stable/user_guide/indexing.html#returning-a-view-versus-a-copy\n",
      "  if __name__ == '__main__':\n",
      "C:\\Users\\hugue\\anaconda\\lib\\site-packages\\ipykernel_launcher.py:14: SettingWithCopyWarning: \n",
      "A value is trying to be set on a copy of a slice from a DataFrame\n",
      "\n",
      "See the caveats in the documentation: https://pandas.pydata.org/pandas-docs/stable/user_guide/indexing.html#returning-a-view-versus-a-copy\n",
      "  \n"
     ]
    }
   ],
   "source": [
    "Category_KPI=pd.merge(application_categories,application_data.iloc[:, np.r_[0,38:48]],on='Name')\n",
    "del(Category_KPI['Name'])\n",
    "Category_KPI.set_index(Category_KPI['Category'],inplace = True)\n",
    "Category_KPI[\"Count\"]  = np.nan\n",
    "Category_KPI[\"MeCount\"]  = np.nan\n",
    "for i in Category_KPI.index:\n",
    "    for j in range(0,len(Category_KPI)):\n",
    "        if Category_KPI.index[j]==i:\n",
    "            Category_KPI['Count'][j]=j+1\n",
    "\n",
    "for i in Category_KPI['Priority']:\n",
    "    for j in range(0,len(Category_KPI)):\n",
    "        if Category_KPI['Priority'][j]==i:\n",
    "            Category_KPI['MeCount'][j]=j+1\n"
   ]
  },
  {
   "cell_type": "markdown",
   "id": "ongoing-nebraska",
   "metadata": {},
   "source": [
    "## Rassemblement Application et user type"
   ]
  },
  {
   "cell_type": "code",
   "execution_count": 40,
   "id": "civil-recycling",
   "metadata": {},
   "outputs": [],
   "source": [
    "colnames = ['Name','User']\n",
    "application_user = pd.DataFrame(columns = colnames)\n",
    "for i in application_data.columns[22:30]:\n",
    "    for j in range(0,len(application_data[i])):\n",
    "        if application_data[i][j] is i :\n",
    "            application_user=application_user.append(pd.DataFrame({'Name': [application_data['Name'][j]],'User':[application_data[i][j]]}))\n",
    "            \n",
    "ind=[i for i in range(len(application_user))]\n",
    "application_user=application_user.set_index([ind])   \n",
    "\n",
    "    ## Creer une colomn couleur pour les Sankey... Pour l'instant que des valeurs aléatoires\n",
    "application_user[\"Color\"] = np.nan\n",
    "for i in application_user['User']:\n",
    "    r = lambda: random.randint(0,255)\n",
    "    b = lambda: random.randint(0,255)\n",
    "    g= lambda: random.randint(0,255)\n",
    "    color='#%02X%02X%02X' % (r(),b(),g())\n",
    "    for j in range(0,len(application_user)):\n",
    "        if application_user['User'][j]==i:\n",
    "            application_user['Color'][j]=color            "
   ]
  },
  {
   "cell_type": "markdown",
   "id": "decreased-delight",
   "metadata": {},
   "source": [
    "## Rassemblement Application et Mode de communication"
   ]
  },
  {
   "cell_type": "code",
   "execution_count": null,
   "id": "indie-terrace",
   "metadata": {},
   "outputs": [],
   "source": [
    "colnames = ['Name','Comm']\n",
    "application_communication_mode = pd.DataFrame(columns = colnames)\n",
    "for i in application_data.columns[49:52]:\n",
    "    for j in range(0,len(application_data[i])):\n",
    "        if application_data[i][j] is i :\n",
    "            application_communication_mode=application_communication_mode.append(pd.DataFrame({'Name': [application_data['Name'][j]],'Comm':[application_data[i][j]]}))\n",
    "## Redefinition des indices\n",
    "ind=[i for i in range(len(application_communication_mode))]\n",
    "application_communication_mode=application_communication_mode.set_index([ind])   \n",
    "\n",
    "    ## Creer une colomn couleur pour les Sankey... Pour l'instant que des valeurs aléatoires\n",
    "application_communication_mode[\"Color\"] = np.nan\n",
    "for i in application_communication_mode['Comm']:\n",
    "    r = lambda: random.randint(0,255)\n",
    "    b = lambda: random.randint(0,255)\n",
    "    g= lambda: random.randint(0,255)\n",
    "    color='#%02X%02X%02X' % (r(),b(),g())\n",
    "    for j in range(0,len(application_communication_mode)):\n",
    "        if application_communication_mode['Comm'][j]==i:\n",
    "            application_communication_mode['Color'][j]=color"
   ]
  }
 ],
 "metadata": {
  "kernelspec": {
   "display_name": "Python 3",
   "language": "python",
   "name": "python3"
  },
  "language_info": {
   "codemirror_mode": {
    "name": "ipython",
    "version": 3
   },
   "file_extension": ".py",
   "mimetype": "text/x-python",
   "name": "python",
   "nbconvert_exporter": "python",
   "pygments_lexer": "ipython3",
   "version": "3.7.6"
  }
 },
 "nbformat": 4,
 "nbformat_minor": 5
}
