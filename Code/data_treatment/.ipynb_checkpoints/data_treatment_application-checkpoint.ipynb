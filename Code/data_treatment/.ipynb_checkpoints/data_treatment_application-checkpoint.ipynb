{
 "cells": [
  {
   "cell_type": "markdown",
   "id": "divine-occurrence",
   "metadata": {},
   "source": [
    "## Remplacement des valeurs YES par le nombre des colonnes"
   ]
  },
  {
   "cell_type": "code",
   "execution_count": 36,
   "id": "optical-antibody",
   "metadata": {},
   "outputs": [],
   "source": [
    "application_data\n",
    "for j in application_data.columns:\n",
    "    for i in range(0,len(application_data[j])):\n",
    "        if application_data[j][i]==\"Yes\":\n",
    "            application_data[j][i]=j"
   ]
  },
  {
   "cell_type": "markdown",
   "id": "after-destiny",
   "metadata": {},
   "source": [
    "## Rassemblement données Catégories et Application (Sankey)"
   ]
  },
  {
   "cell_type": "code",
   "execution_count": 8,
   "id": "linear-chicken",
   "metadata": {},
   "outputs": [
    {
     "ename": "NameError",
     "evalue": "name 'pd' is not defined",
     "output_type": "error",
     "traceback": [
      "\u001b[1;31m---------------------------------------------------------------------------\u001b[0m",
      "\u001b[1;31mNameError\u001b[0m                                 Traceback (most recent call last)",
      "\u001b[1;32m<ipython-input-8-705493e6f305>\u001b[0m in \u001b[0;36m<module>\u001b[1;34m\u001b[0m\n\u001b[0;32m      1\u001b[0m \u001b[0mcolnames\u001b[0m \u001b[1;33m=\u001b[0m \u001b[1;33m[\u001b[0m\u001b[1;34m'Acronym'\u001b[0m\u001b[1;33m,\u001b[0m\u001b[1;34m'Category'\u001b[0m\u001b[1;33m]\u001b[0m\u001b[1;33m\u001b[0m\u001b[1;33m\u001b[0m\u001b[0m\n\u001b[1;32m----> 2\u001b[1;33m \u001b[0mapplication_categories\u001b[0m \u001b[1;33m=\u001b[0m \u001b[0mpd\u001b[0m\u001b[1;33m.\u001b[0m\u001b[0mDataFrame\u001b[0m\u001b[1;33m(\u001b[0m\u001b[0mcolumns\u001b[0m \u001b[1;33m=\u001b[0m \u001b[0mcolnames\u001b[0m\u001b[1;33m)\u001b[0m\u001b[1;33m\u001b[0m\u001b[1;33m\u001b[0m\u001b[0m\n\u001b[0m\u001b[0;32m      3\u001b[0m \u001b[1;32mfor\u001b[0m \u001b[0mi\u001b[0m \u001b[1;32min\u001b[0m \u001b[0mapplication_data\u001b[0m\u001b[1;33m.\u001b[0m\u001b[0mcolumns\u001b[0m\u001b[1;33m[\u001b[0m\u001b[1;36m4\u001b[0m\u001b[1;33m:\u001b[0m\u001b[1;36m20\u001b[0m\u001b[1;33m]\u001b[0m\u001b[1;33m:\u001b[0m\u001b[1;33m\u001b[0m\u001b[1;33m\u001b[0m\u001b[0m\n\u001b[0;32m      4\u001b[0m     \u001b[1;32mfor\u001b[0m \u001b[0mj\u001b[0m \u001b[1;32min\u001b[0m \u001b[0mrange\u001b[0m\u001b[1;33m(\u001b[0m\u001b[1;36m0\u001b[0m\u001b[1;33m,\u001b[0m\u001b[0mlen\u001b[0m\u001b[1;33m(\u001b[0m\u001b[0mapplication_data\u001b[0m\u001b[1;33m[\u001b[0m\u001b[0mi\u001b[0m\u001b[1;33m]\u001b[0m\u001b[1;33m)\u001b[0m\u001b[1;33m)\u001b[0m\u001b[1;33m:\u001b[0m\u001b[1;33m\u001b[0m\u001b[1;33m\u001b[0m\u001b[0m\n\u001b[0;32m      5\u001b[0m         \u001b[1;32mif\u001b[0m \u001b[0mapplication_data\u001b[0m\u001b[1;33m[\u001b[0m\u001b[0mi\u001b[0m\u001b[1;33m]\u001b[0m\u001b[1;33m[\u001b[0m\u001b[0mj\u001b[0m\u001b[1;33m]\u001b[0m \u001b[1;32mis\u001b[0m \u001b[0mi\u001b[0m \u001b[1;33m:\u001b[0m\u001b[1;33m\u001b[0m\u001b[1;33m\u001b[0m\u001b[0m\n",
      "\u001b[1;31mNameError\u001b[0m: name 'pd' is not defined"
     ]
    }
   ],
   "source": [
    "colnames = ['Acronym','Category']\n",
    "application_categories = pd.DataFrame(columns = colnames)\n",
    "for i in application_data.columns[4:20]:\n",
    "    for j in range(0,len(application_data[i])):\n",
    "        if application_data[i][j] is i :\n",
    "            application_categories=application_categories.append(pd.DataFrame({'Acronym': [application_data['Acronym'][j]],'Category':[application_data[i][j]]}))\n",
    "## Redefinition des indices\n",
    "            ind=[i for i in range(len(application_categories))]\n",
    "application_categories=application_categories.set_index([ind])\n",
    "\n",
    "\n",
    "## Creer une colomn couleur pour les Sankey... Pour l'instant que des valeurs aléatoires\n",
    "application_categories[\"Color\"] = np.nan\n",
    "for i in application_categories['Category']:\n",
    "    r = lambda: random.randint(0,255)\n",
    "    b = lambda: random.randint(0,255)\n",
    "    g= lambda: random.randint(0,255)\n",
    "    color='#%02X%02X%02X' % (r(),b(),g())\n",
    "    for j in range(0,len(application_categories)):\n",
    "        if application_categories['Category'][j]==i:\n",
    "            application_categories['Color'][j]=color"
   ]
  },
  {
   "cell_type": "markdown",
   "id": "chief-beach",
   "metadata": {},
   "source": [
    "## Rassemblement Catagory KPI _ Category_Parallel_Cordianate"
   ]
  },
  {
   "cell_type": "code",
   "execution_count": 38,
   "id": "shaped-mechanics",
   "metadata": {},
   "outputs": [
    {
     "name": "stderr",
     "output_type": "stream",
     "text": [
      "C:\\Users\\hugue\\anaconda\\lib\\site-packages\\ipykernel_launcher.py:9: SettingWithCopyWarning: \n",
      "A value is trying to be set on a copy of a slice from a DataFrame\n",
      "\n",
      "See the caveats in the documentation: https://pandas.pydata.org/pandas-docs/stable/user_guide/indexing.html#returning-a-view-versus-a-copy\n",
      "  if __name__ == '__main__':\n",
      "C:\\Users\\hugue\\anaconda\\lib\\site-packages\\ipykernel_launcher.py:14: SettingWithCopyWarning: \n",
      "A value is trying to be set on a copy of a slice from a DataFrame\n",
      "\n",
      "See the caveats in the documentation: https://pandas.pydata.org/pandas-docs/stable/user_guide/indexing.html#returning-a-view-versus-a-copy\n",
      "  \n"
     ]
    }
   ],
   "source": [
    "Category_KPI=pd.merge(application_categories,application_data.iloc[:, np.r_[1,39:49]],on='Acronym')\n",
    "del(Category_KPI['Acronym'])\n",
    "Category_KPI.set_index(Category_KPI['Category'],inplace = True)\n",
    "Category_KPI[\"Count\"]  = np.nan\n",
    "Category_KPI[\"MeCount\"]  = np.nan\n",
    "for i in Category_KPI.index:\n",
    "    for j in range(0,len(Category_KPI)):\n",
    "        if Category_KPI.index[j]==i:\n",
    "            Category_KPI['Count'][j]=j+1\n",
    "\n",
    "for i in Category_KPI['Priority']:\n",
    "    for j in range(0,len(Category_KPI)):\n",
    "        if Category_KPI['Priority'][j]==i:\n",
    "            Category_KPI['MeCount'][j]=j+1"
   ]
  },
  {
   "cell_type": "markdown",
   "id": "ongoing-nebraska",
   "metadata": {},
   "source": [
    "## Rassemblement Application et user type"
   ]
  },
  {
   "cell_type": "code",
   "execution_count": 40,
   "id": "civil-recycling",
   "metadata": {},
   "outputs": [],
   "source": [
    "colnames = ['Name','User']\n",
    "application_user = pd.DataFrame(columns = colnames)\n",
    "for i in application_data.columns[23:31]:\n",
    "    for j in range(0,len(application_data[i])):\n",
    "        if application_data[i][j] is i :\n",
    "            application_user=application_user.append(pd.DataFrame({'Name': [application_data['Acronym'][j]],'User':[application_data[i][j]]}))\n",
    "            \n",
    "ind=[i for i in range(len(application_user))]\n",
    "application_user=application_user.set_index([ind])   \n",
    "\n",
    "    ## Creer une colomn couleur pour les Sankey... Pour l'instant que des valeurs aléatoires\n",
    "application_user[\"Color\"] = np.nan\n",
    "for i in application_user['User']:\n",
    "    r = lambda: random.randint(0,255)\n",
    "    b = lambda: random.randint(0,255)\n",
    "    g= lambda: random.randint(0,255)\n",
    "    color='#%02X%02X%02X' % (r(),b(),g())\n",
    "    for j in range(0,len(application_user)):\n",
    "        if application_user['User'][j]==i:\n",
    "            application_user['Color'][j]=color     "
   ]
  },
  {
   "cell_type": "markdown",
   "id": "decreased-delight",
   "metadata": {},
   "source": [
    "## Rassemblement Application et Mode de communication"
   ]
  },
  {
   "cell_type": "code",
   "execution_count": null,
   "id": "indie-terrace",
   "metadata": {},
   "outputs": [],
   "source": [
    "colnames = ['Name','Comm']\n",
    "application_communication_mode = pd.DataFrame(columns = colnames)\n",
    "for i in application_data.columns[50:53]:\n",
    "    for j in range(0,len(application_data[i])):\n",
    "        if application_data[i][j] is i :\n",
    "            application_communication_mode=application_communication_mode.append(pd.DataFrame({'Name': [application_data['Acronym'][j]],'Comm':[application_data[i][j]]}))\n",
    "## Redefinition des indices\n",
    "ind=[i for i in range(len(application_communication_mode))]\n",
    "application_communication_mode=application_communication_mode.set_index([ind])   \n",
    "\n",
    "    ## Creer une colomn couleur pour les Sankey... Pour l'instant que des valeurs aléatoires\n",
    "application_communication_mode[\"Color\"] = np.nan\n",
    "for i in application_communication_mode['Comm']:\n",
    "    r = lambda: random.randint(0,255)\n",
    "    b = lambda: random.randint(0,255)\n",
    "    g= lambda: random.randint(0,255)\n",
    "    color='#%02X%02X%02X' % (r(),b(),g())\n",
    "    for j in range(0,len(application_communication_mode)):\n",
    "        if application_communication_mode['Comm'][j]==i:\n",
    "            application_communication_mode['Color'][j]=color"
   ]
  },
  {
   "cell_type": "markdown",
   "id": "anonymous-designation",
   "metadata": {},
   "source": [
    "## Rassemblement Application et KPI"
   ]
  },
  {
   "cell_type": "code",
   "execution_count": 1,
   "id": "innocent-argentina",
   "metadata": {},
   "outputs": [
    {
     "ename": "NameError",
     "evalue": "name 'application_data' is not defined",
     "output_type": "error",
     "traceback": [
      "\u001b[1;31m---------------------------------------------------------------------------\u001b[0m",
      "\u001b[1;31mNameError\u001b[0m                                 Traceback (most recent call last)",
      "\u001b[1;32m<ipython-input-1-f547e14a44e4>\u001b[0m in \u001b[0;36m<module>\u001b[1;34m\u001b[0m\n\u001b[1;32m----> 1\u001b[1;33m \u001b[0mApplication_KPI\u001b[0m\u001b[1;33m=\u001b[0m\u001b[0mapplication_data\u001b[0m\u001b[1;33m.\u001b[0m\u001b[0miloc\u001b[0m\u001b[1;33m[\u001b[0m\u001b[1;33m:\u001b[0m\u001b[1;33m,\u001b[0m \u001b[0mnp\u001b[0m\u001b[1;33m.\u001b[0m\u001b[0mr_\u001b[0m\u001b[1;33m[\u001b[0m\u001b[1;36m0\u001b[0m\u001b[1;33m,\u001b[0m\u001b[1;36m39\u001b[0m\u001b[1;33m:\u001b[0m\u001b[1;36m49\u001b[0m\u001b[1;33m]\u001b[0m\u001b[1;33m]\u001b[0m\u001b[1;33m\u001b[0m\u001b[1;33m\u001b[0m\u001b[0m\n\u001b[0m\u001b[0;32m      2\u001b[0m \u001b[1;33m\u001b[0m\u001b[0m\n",
      "\u001b[1;31mNameError\u001b[0m: name 'application_data' is not defined"
     ]
    }
   ],
   "source": [
    "Application_KPI=application_data.iloc[:, np.r_[0,39:49]]\n",
    "\n"
   ]
  },
  {
   "cell_type": "markdown",
   "id": "automotive-knowing",
   "metadata": {},
   "source": [
    "Type de Route\n"
   ]
  },
  {
   "cell_type": "code",
   "execution_count": null,
   "id": "entertaining-thinking",
   "metadata": {},
   "outputs": [],
   "source": [
    "colnames = ['Name','Road']\n",
    "application_road = pd.DataFrame(columns = colnames)\n",
    "for i in application_data.columns[31:34]:\n",
    "    for j in range(0,len(application_data[i])):\n",
    "        if application_data[i][j] is i :\n",
    "            application_road=application_road.append(pd.DataFrame({'Name': [application_data['Acronym'][j]],'Road':[application_data[i][j]]}))\n",
    "## Redefinition des indices\n",
    "ind=[i for i in range(len(application_road))]\n",
    "application_road=application_road.set_index([ind])   \n",
    "\n",
    "    ## Creer une colomn couleur pour les Sankey... Pour l'instant que des valeurs aléatoires\n",
    "application_road[\"Color\"] = np.nan\n",
    "for i in application_road['Road']:\n",
    "    r = lambda: random.randint(0,255)\n",
    "    b = lambda: random.randint(0,255)\n",
    "    g= lambda: random.randint(0,255)\n",
    "    color='#%02X%02X%02X' % (r(),b(),g())\n",
    "    for j in range(0,len(application_road)):\n",
    "        if application_road['Road'][j]==i:\n",
    "            application_road['Color'][j]=color"
   ]
  }
 ],
 "metadata": {
  "kernelspec": {
   "display_name": "Python 3",
   "language": "python",
   "name": "python3"
  },
  "language_info": {
   "codemirror_mode": {
    "name": "ipython",
    "version": 3
   },
   "file_extension": ".py",
   "mimetype": "text/x-python",
   "name": "python",
   "nbconvert_exporter": "python",
   "pygments_lexer": "ipython3",
   "version": "3.7.6"
  }
 },
 "nbformat": 4,
 "nbformat_minor": 5
}
