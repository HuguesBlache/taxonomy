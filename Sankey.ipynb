{
 "cells": [
  {
   "cell_type": "code",
   "execution_count": 10,
   "metadata": {},
   "outputs": [],
   "source": [
    "import plotly.graph_objects as go\n",
    "from plotly.subplots import make_subplots\n",
    "import pandas as pd\n",
    "import plotly.express as px\n",
    "df = pd.read_csv('classeur1.csv',header=0,sep=\";\")"
   ]
  },
  {
   "cell_type": "code",
   "execution_count": 11,
   "metadata": {},
   "outputs": [],
   "source": [
    "Specifique=df['Name']\n",
    "Application=df['Application_Class']\n",
    "Functions=df['Functions']\n",
    "Color=df['Color']\n",
    "Source=[]\n",
    "Target=[]\n",
    "Col=[]\n",
    "index=[]\n",
    "Specifique=list(set(Specifique))\n",
    "Application=list(set(Application))\n",
    "Functions=list(set(Functions))\n",
    "for i in range(0,len(Functions)-1):\n",
    "    if Functions[i]==\"Nan\":\n",
    "        del(Functions[i])\n",
    "for h in range(0,len(df[\"Name\"])):\n",
    "    for i in range(0,len(Application)):\n",
    "        for j in range(0,len(Specifique)):\n",
    "            if df[\"Application_Class\"][h]==Application[i] and df[\"Name\"][h]==Specifique[j]:\n",
    "                Source.append(j)\n",
    "                Target.append(len(Specifique)+i)\n",
    "                Col.append(Color[j])\n",
    "                index.append(j)\n",
    "for i in range(0,len(Source)):\n",
    "    for j in range(0,len(Source)):\n",
    "        if Source[i]==Source[j] and Target[i]==Target[j]  and i!=j:\n",
    "            Source[j]=\"Nan\"\n",
    "            Target[j]=\"Nan\"\n",
    "label1=Specifique\n",
    "for i in range(0,len(Application)):\n",
    "    label1.append(Application[i])\n",
    "Value=[1 for i in range(len(Source))]"
   ]
  },
  {
   "cell_type": "code",
   "execution_count": 12,
   "metadata": {},
   "outputs": [
    {
     "data": {
      "application/vnd.plotly.v1+json": {
       "config": {
        "plotlyServerURL": "https://plot.ly"
       },
       "data": [
        {
         "hoverlabel": {
          "align": "left",
          "bordercolor": "black"
         },
         "link": {
          "color": [
           "seagreen",
           "seagreen",
           "seagreen",
           "seagreen",
           "seagreen",
           "seagreen",
           "hotpink",
           "hotpink",
           "hotpink",
           "hotpink",
           "hotpink",
           "hotpink",
           "hotpink",
           "hotpink",
           "hotpink",
           "hotpink",
           "hotpink",
           "hotpink",
           "rgba(31, 119, 180, 0.8)",
           "rgba(31, 119, 180, 0.8)",
           "rgba(31, 119, 180, 0.8)",
           "rgba(31, 119, 180, 0.8)",
           "rgba(31, 119, 180, 0.8)",
           "rgba(31, 119, 180, 0.8)",
           "rgba(31, 119, 180, 0.8)",
           "rgba(31, 119, 180, 0.8)",
           "rgba(31, 119, 180, 0.8)",
           "rgba(31, 119, 180, 0.8)",
           "rgba(31, 119, 180, 0.8)",
           "rgba(31, 119, 180, 0.8)",
           "rgba(31, 119, 180, 0.8)",
           "rgba(31, 119, 180, 0.8)",
           "rgba(31, 119, 180, 0.8)",
           "rgba(31, 119, 180, 0.8)",
           "rgba(31, 119, 180, 0.8)",
           "rgba(31, 119, 180, 0.8)",
           "rgba(31, 119, 180, 0.8)",
           "rgba(31, 119, 180, 0.8)",
           "rgba(31, 119, 180, 0.8)",
           "rgba(31, 119, 180, 0.8)",
           "rgba(31, 119, 180, 0.8)",
           "gold",
           "gold",
           "gold",
           "gold",
           "gold",
           "gold",
           "gold",
           "gold",
           "gold",
           "gold",
           "gold",
           "gold",
           "lightgreen",
           "lightgreen",
           "lightgreen",
           "brown",
           "brown",
           "brown",
           "brown",
           "brown",
           "brown",
           "grey",
           "grey",
           "grey",
           "darkmagenta",
           "lightcoral",
           "lightcoral",
           "lightcoral",
           "lightcoral",
           "lightcoral",
           "lightcoral",
           "lightcoral",
           "lightcoral",
           "lightcoral",
           "lightcoral",
           "lightcoral",
           "lightcoral",
           "lightcoral",
           "lightcoral",
           "lightcoral",
           "lightcoral",
           "lightcoral",
           "lightcoral",
           "lightcoral",
           "lightcoral",
           "lightcoral",
           "lightcoral",
           "lightcoral",
           "lightcoral",
           "lightcoral",
           "lightcoral",
           "lightcoral",
           "lightcoral",
           "lightcoral",
           "lightcoral",
           "lightcoral",
           "lightcoral",
           "lightcoral",
           "lightcoral",
           "lightcoral",
           "lightcoral",
           "lightcoral",
           "lightcoral",
           "lightcoral",
           "lightcoral",
           "lightcoral",
           "lightcoral",
           "lightcoral",
           "lightcoral",
           "lightcoral",
           "lightcoral",
           "lightcoral",
           "lightcoral",
           "lightcoral",
           "lightcoral",
           "orangered",
           "orangered",
           "lightcyan",
           "lightcyan",
           "lightcyan",
           "lightcyan",
           "gainsboro",
           "gainsboro",
           "grey"
          ],
          "source": [
           21,
           42,
           43,
           48,
           29,
           62,
           53,
           12,
           11,
           55,
           39,
           32,
           7,
           21,
           43,
           68,
           41,
           24,
           17,
           13,
           "Nan",
           37,
           5,
           63,
           "Nan",
           44,
           68,
           45,
           40,
           30,
           67,
           51,
           70,
           16,
           28,
           3,
           2,
           59,
           14,
           65,
           60,
           21,
           42,
           35,
           43,
           48,
           38,
           49,
           29,
           62,
           24,
           25,
           0,
           61,
           67,
           17,
           13,
           49,
           29,
           14,
           61,
           0,
           14,
           0,
           34,
           0,
           1,
           "Nan",
           18,
           19,
           33,
           54,
           64,
           56,
           66,
           20,
           22,
           "Nan",
           "Nan",
           5,
           "Nan",
           59,
           "Nan",
           26,
           44,
           "Nan",
           "Nan",
           23,
           27,
           4,
           "Nan",
           46,
           "Nan",
           31,
           52,
           36,
           67,
           47,
           15,
           70,
           "Nan",
           8,
           "Nan",
           57,
           "Nan",
           42,
           16,
           10,
           9,
           69,
           50,
           6,
           "Nan",
           "Nan",
           "Nan",
           "Nan",
           58,
           42,
           21,
           35,
           38,
           49,
           32,
           61,
           "Nan"
          ],
          "target": [
           80,
           80,
           80,
           80,
           80,
           80,
           78,
           78,
           78,
           78,
           78,
           78,
           78,
           78,
           78,
           78,
           78,
           78,
           76,
           76,
           "Nan",
           76,
           76,
           76,
           "Nan",
           76,
           76,
           76,
           76,
           76,
           76,
           76,
           76,
           76,
           76,
           76,
           76,
           76,
           76,
           76,
           76,
           82,
           82,
           82,
           82,
           82,
           82,
           82,
           82,
           82,
           82,
           82,
           82,
           75,
           75,
           75,
           81,
           81,
           81,
           81,
           81,
           81,
           71,
           71,
           71,
           74,
           79,
           "Nan",
           79,
           79,
           79,
           79,
           79,
           79,
           79,
           79,
           79,
           "Nan",
           "Nan",
           79,
           "Nan",
           79,
           "Nan",
           79,
           79,
           "Nan",
           "Nan",
           79,
           79,
           79,
           "Nan",
           79,
           "Nan",
           79,
           79,
           79,
           79,
           79,
           79,
           79,
           "Nan",
           79,
           "Nan",
           79,
           "Nan",
           79,
           79,
           79,
           79,
           79,
           79,
           79,
           "Nan",
           "Nan",
           "Nan",
           "Nan",
           72,
           72,
           73,
           73,
           73,
           73,
           77,
           77,
           "Nan"
          ],
          "value": [
           1,
           1,
           1,
           1,
           1,
           1,
           1,
           1,
           1,
           1,
           1,
           1,
           1,
           1,
           1,
           1,
           1,
           1,
           1,
           1,
           1,
           1,
           1,
           1,
           1,
           1,
           1,
           1,
           1,
           1,
           1,
           1,
           1,
           1,
           1,
           1,
           1,
           1,
           1,
           1,
           1,
           1,
           1,
           1,
           1,
           1,
           1,
           1,
           1,
           1,
           1,
           1,
           1,
           1,
           1,
           1,
           1,
           1,
           1,
           1,
           1,
           1,
           1,
           1,
           1,
           1,
           1,
           1,
           1,
           1,
           1,
           1,
           1,
           1,
           1,
           1,
           1,
           1,
           1,
           1,
           1,
           1,
           1,
           1,
           1,
           1,
           1,
           1,
           1,
           1,
           1,
           1,
           1,
           1,
           1,
           1,
           1,
           1,
           1,
           1,
           1,
           1,
           1,
           1,
           1,
           1,
           1,
           1,
           1,
           1,
           1,
           1,
           1,
           1,
           1,
           1,
           1,
           1,
           1,
           1,
           1,
           1,
           1,
           1,
           1
          ]
         },
         "node": {
          "color": "white",
          "label": [
           "Car rental/sharing assignment/reporting",
           "Across traffic turn collision risk warning",
           "Enhanced route guidance guidance and navigation",
           "In-vehicle signage",
           "Safety function out of normal condition warning",
           "Co-operative glare reduction",
           "Blind Spot Warning",
           "Vehicle software/date provisoning and update",
           "Post-crash warning",
           "Intersection Movement Assist",
           "Left Turn Assist",
           "Video see-through systems",
           "Vehicle and RSU data collection",
           "Platoon",
           "Electronic toll collect",
           "Signal violation warning",
           "Regulatory/contextual speed limits",
           "Co-operative adaptative cruise control",
           "Collision risk warning from RSU",
           "Control Loss Warning",
           "Merging traffic turn collision risk warning",
           "Vehice relation management",
           "Rear end collision warning",
           "Overtaking vehicle warning",
           "Global Internet Services",
           "Co-operative local services",
           "Lane change assistance",
           "Pre-crash sensing warning",
           "Limited access warning detour notification",
           "Insurance and financial services",
           "Traffic information and recommended itinerary",
           "Motorcycle warning",
           "Remote diagnosis and just in time repair notification",
           "Co-operative forward collision warning",
           "Automatic access control/parking access",
           "Point of interest notification",
           "Wrong way driving warning",
           "Co-operative flexible lane change",
           "Map download and update",
           "Vehicle data collection for product life cycle management",
           "Traffic light optimal speed advisory",
           "Connected Automated Parking",
           "SOS service",
           "Personal data synchronization",
           "Slow vehicle warning",
           "Intersection management",
           "Vulnerable road user warning",
           "Stationary vehicle warning",
           "Media downloading",
           "Local electronic commerce/ Co-operative local services",
           "Cooperative Safety Zone",
           "Speed Management",
           "Emergency vehicle warning",
           "Sensor Sharing",
           "Co-operative merging assistance",
           "Loading zone management",
           "Head on collision warning",
           "Decentralized floating car data",
           "Stolen vehicle alert",
           "Emergency electronic brake lights",
           "Emergency vehicle signal preemption",
           "Ecological/economical drive",
           "Instant messaging",
           "Co-operative vehicle-highway automation system (Platoon)",
           "Hazardous location notification",
           "Cooperative intersection control",
           "Intersection collision warning",
           "Traffic condition warning / floating car data",
           "Fleet management",
           "Curve Speed Warning",
           "Roadwork warning",
           "Parking",
           "Security",
           "Traveler Information",
           "Ridessharing",
           "Environnemental Impact",
           "Efficiency",
           "Vehicle Maintenance",
           "Data Collection (as an end in itself)",
           "Safety",
           "Confort",
           "Freight",
           "Entertainment"
          ],
          "line": {
           "color": "black",
           "width": 1
          },
          "pad": 300,
          "thickness": 30
         },
         "orientation": "h",
         "type": "sankey",
         "valueformat": ".0f",
         "valuesuffix": "TWh"
        }
       ],
       "layout": {
        "font": {
         "size": 10
        },
        "height": 1000,
        "template": {
         "data": {
          "bar": [
           {
            "error_x": {
             "color": "#2a3f5f"
            },
            "error_y": {
             "color": "#2a3f5f"
            },
            "marker": {
             "line": {
              "color": "#E5ECF6",
              "width": 0.5
             }
            },
            "type": "bar"
           }
          ],
          "barpolar": [
           {
            "marker": {
             "line": {
              "color": "#E5ECF6",
              "width": 0.5
             }
            },
            "type": "barpolar"
           }
          ],
          "carpet": [
           {
            "aaxis": {
             "endlinecolor": "#2a3f5f",
             "gridcolor": "white",
             "linecolor": "white",
             "minorgridcolor": "white",
             "startlinecolor": "#2a3f5f"
            },
            "baxis": {
             "endlinecolor": "#2a3f5f",
             "gridcolor": "white",
             "linecolor": "white",
             "minorgridcolor": "white",
             "startlinecolor": "#2a3f5f"
            },
            "type": "carpet"
           }
          ],
          "choropleth": [
           {
            "colorbar": {
             "outlinewidth": 0,
             "ticks": ""
            },
            "type": "choropleth"
           }
          ],
          "contour": [
           {
            "colorbar": {
             "outlinewidth": 0,
             "ticks": ""
            },
            "colorscale": [
             [
              0,
              "#0d0887"
             ],
             [
              0.1111111111111111,
              "#46039f"
             ],
             [
              0.2222222222222222,
              "#7201a8"
             ],
             [
              0.3333333333333333,
              "#9c179e"
             ],
             [
              0.4444444444444444,
              "#bd3786"
             ],
             [
              0.5555555555555556,
              "#d8576b"
             ],
             [
              0.6666666666666666,
              "#ed7953"
             ],
             [
              0.7777777777777778,
              "#fb9f3a"
             ],
             [
              0.8888888888888888,
              "#fdca26"
             ],
             [
              1,
              "#f0f921"
             ]
            ],
            "type": "contour"
           }
          ],
          "contourcarpet": [
           {
            "colorbar": {
             "outlinewidth": 0,
             "ticks": ""
            },
            "type": "contourcarpet"
           }
          ],
          "heatmap": [
           {
            "colorbar": {
             "outlinewidth": 0,
             "ticks": ""
            },
            "colorscale": [
             [
              0,
              "#0d0887"
             ],
             [
              0.1111111111111111,
              "#46039f"
             ],
             [
              0.2222222222222222,
              "#7201a8"
             ],
             [
              0.3333333333333333,
              "#9c179e"
             ],
             [
              0.4444444444444444,
              "#bd3786"
             ],
             [
              0.5555555555555556,
              "#d8576b"
             ],
             [
              0.6666666666666666,
              "#ed7953"
             ],
             [
              0.7777777777777778,
              "#fb9f3a"
             ],
             [
              0.8888888888888888,
              "#fdca26"
             ],
             [
              1,
              "#f0f921"
             ]
            ],
            "type": "heatmap"
           }
          ],
          "heatmapgl": [
           {
            "colorbar": {
             "outlinewidth": 0,
             "ticks": ""
            },
            "colorscale": [
             [
              0,
              "#0d0887"
             ],
             [
              0.1111111111111111,
              "#46039f"
             ],
             [
              0.2222222222222222,
              "#7201a8"
             ],
             [
              0.3333333333333333,
              "#9c179e"
             ],
             [
              0.4444444444444444,
              "#bd3786"
             ],
             [
              0.5555555555555556,
              "#d8576b"
             ],
             [
              0.6666666666666666,
              "#ed7953"
             ],
             [
              0.7777777777777778,
              "#fb9f3a"
             ],
             [
              0.8888888888888888,
              "#fdca26"
             ],
             [
              1,
              "#f0f921"
             ]
            ],
            "type": "heatmapgl"
           }
          ],
          "histogram": [
           {
            "marker": {
             "colorbar": {
              "outlinewidth": 0,
              "ticks": ""
             }
            },
            "type": "histogram"
           }
          ],
          "histogram2d": [
           {
            "colorbar": {
             "outlinewidth": 0,
             "ticks": ""
            },
            "colorscale": [
             [
              0,
              "#0d0887"
             ],
             [
              0.1111111111111111,
              "#46039f"
             ],
             [
              0.2222222222222222,
              "#7201a8"
             ],
             [
              0.3333333333333333,
              "#9c179e"
             ],
             [
              0.4444444444444444,
              "#bd3786"
             ],
             [
              0.5555555555555556,
              "#d8576b"
             ],
             [
              0.6666666666666666,
              "#ed7953"
             ],
             [
              0.7777777777777778,
              "#fb9f3a"
             ],
             [
              0.8888888888888888,
              "#fdca26"
             ],
             [
              1,
              "#f0f921"
             ]
            ],
            "type": "histogram2d"
           }
          ],
          "histogram2dcontour": [
           {
            "colorbar": {
             "outlinewidth": 0,
             "ticks": ""
            },
            "colorscale": [
             [
              0,
              "#0d0887"
             ],
             [
              0.1111111111111111,
              "#46039f"
             ],
             [
              0.2222222222222222,
              "#7201a8"
             ],
             [
              0.3333333333333333,
              "#9c179e"
             ],
             [
              0.4444444444444444,
              "#bd3786"
             ],
             [
              0.5555555555555556,
              "#d8576b"
             ],
             [
              0.6666666666666666,
              "#ed7953"
             ],
             [
              0.7777777777777778,
              "#fb9f3a"
             ],
             [
              0.8888888888888888,
              "#fdca26"
             ],
             [
              1,
              "#f0f921"
             ]
            ],
            "type": "histogram2dcontour"
           }
          ],
          "mesh3d": [
           {
            "colorbar": {
             "outlinewidth": 0,
             "ticks": ""
            },
            "type": "mesh3d"
           }
          ],
          "parcoords": [
           {
            "line": {
             "colorbar": {
              "outlinewidth": 0,
              "ticks": ""
             }
            },
            "type": "parcoords"
           }
          ],
          "pie": [
           {
            "automargin": true,
            "type": "pie"
           }
          ],
          "scatter": [
           {
            "marker": {
             "colorbar": {
              "outlinewidth": 0,
              "ticks": ""
             }
            },
            "type": "scatter"
           }
          ],
          "scatter3d": [
           {
            "line": {
             "colorbar": {
              "outlinewidth": 0,
              "ticks": ""
             }
            },
            "marker": {
             "colorbar": {
              "outlinewidth": 0,
              "ticks": ""
             }
            },
            "type": "scatter3d"
           }
          ],
          "scattercarpet": [
           {
            "marker": {
             "colorbar": {
              "outlinewidth": 0,
              "ticks": ""
             }
            },
            "type": "scattercarpet"
           }
          ],
          "scattergeo": [
           {
            "marker": {
             "colorbar": {
              "outlinewidth": 0,
              "ticks": ""
             }
            },
            "type": "scattergeo"
           }
          ],
          "scattergl": [
           {
            "marker": {
             "colorbar": {
              "outlinewidth": 0,
              "ticks": ""
             }
            },
            "type": "scattergl"
           }
          ],
          "scattermapbox": [
           {
            "marker": {
             "colorbar": {
              "outlinewidth": 0,
              "ticks": ""
             }
            },
            "type": "scattermapbox"
           }
          ],
          "scatterpolar": [
           {
            "marker": {
             "colorbar": {
              "outlinewidth": 0,
              "ticks": ""
             }
            },
            "type": "scatterpolar"
           }
          ],
          "scatterpolargl": [
           {
            "marker": {
             "colorbar": {
              "outlinewidth": 0,
              "ticks": ""
             }
            },
            "type": "scatterpolargl"
           }
          ],
          "scatterternary": [
           {
            "marker": {
             "colorbar": {
              "outlinewidth": 0,
              "ticks": ""
             }
            },
            "type": "scatterternary"
           }
          ],
          "surface": [
           {
            "colorbar": {
             "outlinewidth": 0,
             "ticks": ""
            },
            "colorscale": [
             [
              0,
              "#0d0887"
             ],
             [
              0.1111111111111111,
              "#46039f"
             ],
             [
              0.2222222222222222,
              "#7201a8"
             ],
             [
              0.3333333333333333,
              "#9c179e"
             ],
             [
              0.4444444444444444,
              "#bd3786"
             ],
             [
              0.5555555555555556,
              "#d8576b"
             ],
             [
              0.6666666666666666,
              "#ed7953"
             ],
             [
              0.7777777777777778,
              "#fb9f3a"
             ],
             [
              0.8888888888888888,
              "#fdca26"
             ],
             [
              1,
              "#f0f921"
             ]
            ],
            "type": "surface"
           }
          ],
          "table": [
           {
            "cells": {
             "fill": {
              "color": "#EBF0F8"
             },
             "line": {
              "color": "white"
             }
            },
            "header": {
             "fill": {
              "color": "#C8D4E3"
             },
             "line": {
              "color": "white"
             }
            },
            "type": "table"
           }
          ]
         },
         "layout": {
          "annotationdefaults": {
           "arrowcolor": "#2a3f5f",
           "arrowhead": 0,
           "arrowwidth": 1
          },
          "autotypenumbers": "strict",
          "coloraxis": {
           "colorbar": {
            "outlinewidth": 0,
            "ticks": ""
           }
          },
          "colorscale": {
           "diverging": [
            [
             0,
             "#8e0152"
            ],
            [
             0.1,
             "#c51b7d"
            ],
            [
             0.2,
             "#de77ae"
            ],
            [
             0.3,
             "#f1b6da"
            ],
            [
             0.4,
             "#fde0ef"
            ],
            [
             0.5,
             "#f7f7f7"
            ],
            [
             0.6,
             "#e6f5d0"
            ],
            [
             0.7,
             "#b8e186"
            ],
            [
             0.8,
             "#7fbc41"
            ],
            [
             0.9,
             "#4d9221"
            ],
            [
             1,
             "#276419"
            ]
           ],
           "sequential": [
            [
             0,
             "#0d0887"
            ],
            [
             0.1111111111111111,
             "#46039f"
            ],
            [
             0.2222222222222222,
             "#7201a8"
            ],
            [
             0.3333333333333333,
             "#9c179e"
            ],
            [
             0.4444444444444444,
             "#bd3786"
            ],
            [
             0.5555555555555556,
             "#d8576b"
            ],
            [
             0.6666666666666666,
             "#ed7953"
            ],
            [
             0.7777777777777778,
             "#fb9f3a"
            ],
            [
             0.8888888888888888,
             "#fdca26"
            ],
            [
             1,
             "#f0f921"
            ]
           ],
           "sequentialminus": [
            [
             0,
             "#0d0887"
            ],
            [
             0.1111111111111111,
             "#46039f"
            ],
            [
             0.2222222222222222,
             "#7201a8"
            ],
            [
             0.3333333333333333,
             "#9c179e"
            ],
            [
             0.4444444444444444,
             "#bd3786"
            ],
            [
             0.5555555555555556,
             "#d8576b"
            ],
            [
             0.6666666666666666,
             "#ed7953"
            ],
            [
             0.7777777777777778,
             "#fb9f3a"
            ],
            [
             0.8888888888888888,
             "#fdca26"
            ],
            [
             1,
             "#f0f921"
            ]
           ]
          },
          "colorway": [
           "#636efa",
           "#EF553B",
           "#00cc96",
           "#ab63fa",
           "#FFA15A",
           "#19d3f3",
           "#FF6692",
           "#B6E880",
           "#FF97FF",
           "#FECB52"
          ],
          "font": {
           "color": "#2a3f5f"
          },
          "geo": {
           "bgcolor": "white",
           "lakecolor": "white",
           "landcolor": "#E5ECF6",
           "showlakes": true,
           "showland": true,
           "subunitcolor": "white"
          },
          "hoverlabel": {
           "align": "left"
          },
          "hovermode": "closest",
          "mapbox": {
           "style": "light"
          },
          "paper_bgcolor": "white",
          "plot_bgcolor": "#E5ECF6",
          "polar": {
           "angularaxis": {
            "gridcolor": "white",
            "linecolor": "white",
            "ticks": ""
           },
           "bgcolor": "#E5ECF6",
           "radialaxis": {
            "gridcolor": "white",
            "linecolor": "white",
            "ticks": ""
           }
          },
          "scene": {
           "xaxis": {
            "backgroundcolor": "#E5ECF6",
            "gridcolor": "white",
            "gridwidth": 2,
            "linecolor": "white",
            "showbackground": true,
            "ticks": "",
            "zerolinecolor": "white"
           },
           "yaxis": {
            "backgroundcolor": "#E5ECF6",
            "gridcolor": "white",
            "gridwidth": 2,
            "linecolor": "white",
            "showbackground": true,
            "ticks": "",
            "zerolinecolor": "white"
           },
           "zaxis": {
            "backgroundcolor": "#E5ECF6",
            "gridcolor": "white",
            "gridwidth": 2,
            "linecolor": "white",
            "showbackground": true,
            "ticks": "",
            "zerolinecolor": "white"
           }
          },
          "shapedefaults": {
           "line": {
            "color": "#2a3f5f"
           }
          },
          "ternary": {
           "aaxis": {
            "gridcolor": "white",
            "linecolor": "white",
            "ticks": ""
           },
           "baxis": {
            "gridcolor": "white",
            "linecolor": "white",
            "ticks": ""
           },
           "bgcolor": "#E5ECF6",
           "caxis": {
            "gridcolor": "white",
            "linecolor": "white",
            "ticks": ""
           }
          },
          "title": {
           "x": 0.05
          },
          "xaxis": {
           "automargin": true,
           "gridcolor": "white",
           "linecolor": "white",
           "ticks": "",
           "title": {
            "standoff": 15
           },
           "zerolinecolor": "white",
           "zerolinewidth": 2
          },
          "yaxis": {
           "automargin": true,
           "gridcolor": "white",
           "linecolor": "white",
           "ticks": "",
           "title": {
            "standoff": 15
           },
           "zerolinecolor": "white",
           "zerolinewidth": 2
          }
         }
        },
        "width": 1500
       }
      },
      "text/html": [
       "<div>                            <div id=\"ed4294b1-64eb-4abf-b946-e8bb15a65722\" class=\"plotly-graph-div\" style=\"height:1000px; width:1500px;\"></div>            <script type=\"text/javascript\">                require([\"plotly\"], function(Plotly) {                    window.PLOTLYENV=window.PLOTLYENV || {};                                    if (document.getElementById(\"ed4294b1-64eb-4abf-b946-e8bb15a65722\")) {                    Plotly.newPlot(                        \"ed4294b1-64eb-4abf-b946-e8bb15a65722\",                        [{\"hoverlabel\": {\"align\": \"left\", \"bordercolor\": \"black\"}, \"link\": {\"color\": [\"seagreen\", \"seagreen\", \"seagreen\", \"seagreen\", \"seagreen\", \"seagreen\", \"hotpink\", \"hotpink\", \"hotpink\", \"hotpink\", \"hotpink\", \"hotpink\", \"hotpink\", \"hotpink\", \"hotpink\", \"hotpink\", \"hotpink\", \"hotpink\", \"rgba(31, 119, 180, 0.8)\", \"rgba(31, 119, 180, 0.8)\", \"rgba(31, 119, 180, 0.8)\", \"rgba(31, 119, 180, 0.8)\", \"rgba(31, 119, 180, 0.8)\", \"rgba(31, 119, 180, 0.8)\", \"rgba(31, 119, 180, 0.8)\", \"rgba(31, 119, 180, 0.8)\", \"rgba(31, 119, 180, 0.8)\", \"rgba(31, 119, 180, 0.8)\", \"rgba(31, 119, 180, 0.8)\", \"rgba(31, 119, 180, 0.8)\", \"rgba(31, 119, 180, 0.8)\", \"rgba(31, 119, 180, 0.8)\", \"rgba(31, 119, 180, 0.8)\", \"rgba(31, 119, 180, 0.8)\", \"rgba(31, 119, 180, 0.8)\", \"rgba(31, 119, 180, 0.8)\", \"rgba(31, 119, 180, 0.8)\", \"rgba(31, 119, 180, 0.8)\", \"rgba(31, 119, 180, 0.8)\", \"rgba(31, 119, 180, 0.8)\", \"rgba(31, 119, 180, 0.8)\", \"gold\", \"gold\", \"gold\", \"gold\", \"gold\", \"gold\", \"gold\", \"gold\", \"gold\", \"gold\", \"gold\", \"gold\", \"lightgreen\", \"lightgreen\", \"lightgreen\", \"brown\", \"brown\", \"brown\", \"brown\", \"brown\", \"brown\", \"grey\", \"grey\", \"grey\", \"darkmagenta\", \"lightcoral\", \"lightcoral\", \"lightcoral\", \"lightcoral\", \"lightcoral\", \"lightcoral\", \"lightcoral\", \"lightcoral\", \"lightcoral\", \"lightcoral\", \"lightcoral\", \"lightcoral\", \"lightcoral\", \"lightcoral\", \"lightcoral\", \"lightcoral\", \"lightcoral\", \"lightcoral\", \"lightcoral\", \"lightcoral\", \"lightcoral\", \"lightcoral\", \"lightcoral\", \"lightcoral\", \"lightcoral\", \"lightcoral\", \"lightcoral\", \"lightcoral\", \"lightcoral\", \"lightcoral\", \"lightcoral\", \"lightcoral\", \"lightcoral\", \"lightcoral\", \"lightcoral\", \"lightcoral\", \"lightcoral\", \"lightcoral\", \"lightcoral\", \"lightcoral\", \"lightcoral\", \"lightcoral\", \"lightcoral\", \"lightcoral\", \"lightcoral\", \"lightcoral\", \"lightcoral\", \"lightcoral\", \"lightcoral\", \"lightcoral\", \"orangered\", \"orangered\", \"lightcyan\", \"lightcyan\", \"lightcyan\", \"lightcyan\", \"gainsboro\", \"gainsboro\", \"grey\"], \"source\": [21, 42, 43, 48, 29, 62, 53, 12, 11, 55, 39, 32, 7, 21, 43, 68, 41, 24, 17, 13, \"Nan\", 37, 5, 63, \"Nan\", 44, 68, 45, 40, 30, 67, 51, 70, 16, 28, 3, 2, 59, 14, 65, 60, 21, 42, 35, 43, 48, 38, 49, 29, 62, 24, 25, 0, 61, 67, 17, 13, 49, 29, 14, 61, 0, 14, 0, 34, 0, 1, \"Nan\", 18, 19, 33, 54, 64, 56, 66, 20, 22, \"Nan\", \"Nan\", 5, \"Nan\", 59, \"Nan\", 26, 44, \"Nan\", \"Nan\", 23, 27, 4, \"Nan\", 46, \"Nan\", 31, 52, 36, 67, 47, 15, 70, \"Nan\", 8, \"Nan\", 57, \"Nan\", 42, 16, 10, 9, 69, 50, 6, \"Nan\", \"Nan\", \"Nan\", \"Nan\", 58, 42, 21, 35, 38, 49, 32, 61, \"Nan\"], \"target\": [80, 80, 80, 80, 80, 80, 78, 78, 78, 78, 78, 78, 78, 78, 78, 78, 78, 78, 76, 76, \"Nan\", 76, 76, 76, \"Nan\", 76, 76, 76, 76, 76, 76, 76, 76, 76, 76, 76, 76, 76, 76, 76, 76, 82, 82, 82, 82, 82, 82, 82, 82, 82, 82, 82, 82, 75, 75, 75, 81, 81, 81, 81, 81, 81, 71, 71, 71, 74, 79, \"Nan\", 79, 79, 79, 79, 79, 79, 79, 79, 79, \"Nan\", \"Nan\", 79, \"Nan\", 79, \"Nan\", 79, 79, \"Nan\", \"Nan\", 79, 79, 79, \"Nan\", 79, \"Nan\", 79, 79, 79, 79, 79, 79, 79, \"Nan\", 79, \"Nan\", 79, \"Nan\", 79, 79, 79, 79, 79, 79, 79, \"Nan\", \"Nan\", \"Nan\", \"Nan\", 72, 72, 73, 73, 73, 73, 77, 77, \"Nan\"], \"value\": [1, 1, 1, 1, 1, 1, 1, 1, 1, 1, 1, 1, 1, 1, 1, 1, 1, 1, 1, 1, 1, 1, 1, 1, 1, 1, 1, 1, 1, 1, 1, 1, 1, 1, 1, 1, 1, 1, 1, 1, 1, 1, 1, 1, 1, 1, 1, 1, 1, 1, 1, 1, 1, 1, 1, 1, 1, 1, 1, 1, 1, 1, 1, 1, 1, 1, 1, 1, 1, 1, 1, 1, 1, 1, 1, 1, 1, 1, 1, 1, 1, 1, 1, 1, 1, 1, 1, 1, 1, 1, 1, 1, 1, 1, 1, 1, 1, 1, 1, 1, 1, 1, 1, 1, 1, 1, 1, 1, 1, 1, 1, 1, 1, 1, 1, 1, 1, 1, 1, 1, 1, 1, 1, 1, 1]}, \"node\": {\"color\": \"white\", \"label\": [\"Car rental/sharing assignment/reporting\", \"Across traffic turn collision risk warning\", \"Enhanced route guidance guidance and navigation\", \"In-vehicle signage\", \"Safety function out of normal condition warning\", \"Co-operative glare reduction\", \"Blind Spot Warning\", \"Vehicle software/date provisoning and update\", \"Post-crash warning\", \"Intersection Movement Assist\", \"Left Turn Assist\", \"Video see-through systems\", \"Vehicle and RSU data collection\", \"Platoon\", \"Electronic toll collect\", \"Signal violation warning\", \"Regulatory/contextual speed limits\", \"Co-operative adaptative cruise control\", \"Collision risk warning from RSU\", \"Control Loss Warning\", \"Merging traffic turn collision risk warning\", \"Vehice relation management\", \"Rear end collision warning\", \"Overtaking vehicle warning\", \"Global Internet Services\", \"Co-operative local services\", \"Lane change assistance\", \"Pre-crash sensing warning\", \"Limited access warning detour notification\", \"Insurance and financial services\", \"Traffic information and recommended itinerary\", \"Motorcycle warning\", \"Remote diagnosis and just in time repair notification\", \"Co-operative forward collision warning\", \"Automatic access control/parking access\", \"Point of interest notification\", \"Wrong way driving warning\", \"Co-operative flexible lane change\", \"Map download and update\", \"Vehicle data collection for product life cycle management\", \"Traffic light optimal speed advisory\", \"Connected Automated Parking\", \"SOS service\", \"Personal data synchronization\", \"Slow vehicle warning\", \"Intersection management\", \"Vulnerable road user warning\", \"Stationary vehicle warning\", \"Media downloading\", \"Local electronic commerce/ Co-operative local services\", \"Cooperative Safety Zone\", \"Speed Management\", \"Emergency vehicle warning\", \"Sensor Sharing\", \"Co-operative merging assistance\", \"Loading zone management\", \"Head on collision warning\", \"Decentralized floating car data\", \"Stolen vehicle alert\", \"Emergency electronic brake lights\", \"Emergency vehicle signal preemption\", \"Ecological/economical drive\", \"Instant messaging\", \"Co-operative vehicle-highway automation system (Platoon)\", \"Hazardous location notification\", \"Cooperative intersection control\", \"Intersection collision warning\", \"Traffic condition warning / floating car data\", \"Fleet management\", \"Curve Speed Warning\", \"Roadwork warning\", \"Parking\", \"Security\", \"Traveler Information\", \"Ridessharing\", \"Environnemental Impact\", \"Efficiency\", \"Vehicle Maintenance\", \"Data Collection (as an end in itself)\", \"Safety\", \"Confort\", \"Freight\", \"Entertainment\"], \"line\": {\"color\": \"black\", \"width\": 1}, \"pad\": 300, \"thickness\": 30}, \"orientation\": \"h\", \"type\": \"sankey\", \"valueformat\": \".0f\", \"valuesuffix\": \"TWh\"}],                        {\"font\": {\"size\": 10}, \"height\": 1000, \"template\": {\"data\": {\"bar\": [{\"error_x\": {\"color\": \"#2a3f5f\"}, \"error_y\": {\"color\": \"#2a3f5f\"}, \"marker\": {\"line\": {\"color\": \"#E5ECF6\", \"width\": 0.5}}, \"type\": \"bar\"}], \"barpolar\": [{\"marker\": {\"line\": {\"color\": \"#E5ECF6\", \"width\": 0.5}}, \"type\": \"barpolar\"}], \"carpet\": [{\"aaxis\": {\"endlinecolor\": \"#2a3f5f\", \"gridcolor\": \"white\", \"linecolor\": \"white\", \"minorgridcolor\": \"white\", \"startlinecolor\": \"#2a3f5f\"}, \"baxis\": {\"endlinecolor\": \"#2a3f5f\", \"gridcolor\": \"white\", \"linecolor\": \"white\", \"minorgridcolor\": \"white\", \"startlinecolor\": \"#2a3f5f\"}, \"type\": \"carpet\"}], \"choropleth\": [{\"colorbar\": {\"outlinewidth\": 0, \"ticks\": \"\"}, \"type\": \"choropleth\"}], \"contour\": [{\"colorbar\": {\"outlinewidth\": 0, \"ticks\": \"\"}, \"colorscale\": [[0.0, \"#0d0887\"], [0.1111111111111111, \"#46039f\"], [0.2222222222222222, \"#7201a8\"], [0.3333333333333333, \"#9c179e\"], [0.4444444444444444, \"#bd3786\"], [0.5555555555555556, \"#d8576b\"], [0.6666666666666666, \"#ed7953\"], [0.7777777777777778, \"#fb9f3a\"], [0.8888888888888888, \"#fdca26\"], [1.0, \"#f0f921\"]], \"type\": \"contour\"}], \"contourcarpet\": [{\"colorbar\": {\"outlinewidth\": 0, \"ticks\": \"\"}, \"type\": \"contourcarpet\"}], \"heatmap\": [{\"colorbar\": {\"outlinewidth\": 0, \"ticks\": \"\"}, \"colorscale\": [[0.0, \"#0d0887\"], [0.1111111111111111, \"#46039f\"], [0.2222222222222222, \"#7201a8\"], [0.3333333333333333, \"#9c179e\"], [0.4444444444444444, \"#bd3786\"], [0.5555555555555556, \"#d8576b\"], [0.6666666666666666, \"#ed7953\"], [0.7777777777777778, \"#fb9f3a\"], [0.8888888888888888, \"#fdca26\"], [1.0, \"#f0f921\"]], \"type\": \"heatmap\"}], \"heatmapgl\": [{\"colorbar\": {\"outlinewidth\": 0, \"ticks\": \"\"}, \"colorscale\": [[0.0, \"#0d0887\"], [0.1111111111111111, \"#46039f\"], [0.2222222222222222, \"#7201a8\"], [0.3333333333333333, \"#9c179e\"], [0.4444444444444444, \"#bd3786\"], [0.5555555555555556, \"#d8576b\"], [0.6666666666666666, \"#ed7953\"], [0.7777777777777778, \"#fb9f3a\"], [0.8888888888888888, \"#fdca26\"], [1.0, \"#f0f921\"]], \"type\": \"heatmapgl\"}], \"histogram\": [{\"marker\": {\"colorbar\": {\"outlinewidth\": 0, \"ticks\": \"\"}}, \"type\": \"histogram\"}], \"histogram2d\": [{\"colorbar\": {\"outlinewidth\": 0, \"ticks\": \"\"}, \"colorscale\": [[0.0, \"#0d0887\"], [0.1111111111111111, \"#46039f\"], [0.2222222222222222, \"#7201a8\"], [0.3333333333333333, \"#9c179e\"], [0.4444444444444444, \"#bd3786\"], [0.5555555555555556, \"#d8576b\"], [0.6666666666666666, \"#ed7953\"], [0.7777777777777778, \"#fb9f3a\"], [0.8888888888888888, \"#fdca26\"], [1.0, \"#f0f921\"]], \"type\": \"histogram2d\"}], \"histogram2dcontour\": [{\"colorbar\": {\"outlinewidth\": 0, \"ticks\": \"\"}, \"colorscale\": [[0.0, \"#0d0887\"], [0.1111111111111111, \"#46039f\"], [0.2222222222222222, \"#7201a8\"], [0.3333333333333333, \"#9c179e\"], [0.4444444444444444, \"#bd3786\"], [0.5555555555555556, \"#d8576b\"], [0.6666666666666666, \"#ed7953\"], [0.7777777777777778, \"#fb9f3a\"], [0.8888888888888888, \"#fdca26\"], [1.0, \"#f0f921\"]], \"type\": \"histogram2dcontour\"}], \"mesh3d\": [{\"colorbar\": {\"outlinewidth\": 0, \"ticks\": \"\"}, \"type\": \"mesh3d\"}], \"parcoords\": [{\"line\": {\"colorbar\": {\"outlinewidth\": 0, \"ticks\": \"\"}}, \"type\": \"parcoords\"}], \"pie\": [{\"automargin\": true, \"type\": \"pie\"}], \"scatter\": [{\"marker\": {\"colorbar\": {\"outlinewidth\": 0, \"ticks\": \"\"}}, \"type\": \"scatter\"}], \"scatter3d\": [{\"line\": {\"colorbar\": {\"outlinewidth\": 0, \"ticks\": \"\"}}, \"marker\": {\"colorbar\": {\"outlinewidth\": 0, \"ticks\": \"\"}}, \"type\": \"scatter3d\"}], \"scattercarpet\": [{\"marker\": {\"colorbar\": {\"outlinewidth\": 0, \"ticks\": \"\"}}, \"type\": \"scattercarpet\"}], \"scattergeo\": [{\"marker\": {\"colorbar\": {\"outlinewidth\": 0, \"ticks\": \"\"}}, \"type\": \"scattergeo\"}], \"scattergl\": [{\"marker\": {\"colorbar\": {\"outlinewidth\": 0, \"ticks\": \"\"}}, \"type\": \"scattergl\"}], \"scattermapbox\": [{\"marker\": {\"colorbar\": {\"outlinewidth\": 0, \"ticks\": \"\"}}, \"type\": \"scattermapbox\"}], \"scatterpolar\": [{\"marker\": {\"colorbar\": {\"outlinewidth\": 0, \"ticks\": \"\"}}, \"type\": \"scatterpolar\"}], \"scatterpolargl\": [{\"marker\": {\"colorbar\": {\"outlinewidth\": 0, \"ticks\": \"\"}}, \"type\": \"scatterpolargl\"}], \"scatterternary\": [{\"marker\": {\"colorbar\": {\"outlinewidth\": 0, \"ticks\": \"\"}}, \"type\": \"scatterternary\"}], \"surface\": [{\"colorbar\": {\"outlinewidth\": 0, \"ticks\": \"\"}, \"colorscale\": [[0.0, \"#0d0887\"], [0.1111111111111111, \"#46039f\"], [0.2222222222222222, \"#7201a8\"], [0.3333333333333333, \"#9c179e\"], [0.4444444444444444, \"#bd3786\"], [0.5555555555555556, \"#d8576b\"], [0.6666666666666666, \"#ed7953\"], [0.7777777777777778, \"#fb9f3a\"], [0.8888888888888888, \"#fdca26\"], [1.0, \"#f0f921\"]], \"type\": \"surface\"}], \"table\": [{\"cells\": {\"fill\": {\"color\": \"#EBF0F8\"}, \"line\": {\"color\": \"white\"}}, \"header\": {\"fill\": {\"color\": \"#C8D4E3\"}, \"line\": {\"color\": \"white\"}}, \"type\": \"table\"}]}, \"layout\": {\"annotationdefaults\": {\"arrowcolor\": \"#2a3f5f\", \"arrowhead\": 0, \"arrowwidth\": 1}, \"autotypenumbers\": \"strict\", \"coloraxis\": {\"colorbar\": {\"outlinewidth\": 0, \"ticks\": \"\"}}, \"colorscale\": {\"diverging\": [[0, \"#8e0152\"], [0.1, \"#c51b7d\"], [0.2, \"#de77ae\"], [0.3, \"#f1b6da\"], [0.4, \"#fde0ef\"], [0.5, \"#f7f7f7\"], [0.6, \"#e6f5d0\"], [0.7, \"#b8e186\"], [0.8, \"#7fbc41\"], [0.9, \"#4d9221\"], [1, \"#276419\"]], \"sequential\": [[0.0, \"#0d0887\"], [0.1111111111111111, \"#46039f\"], [0.2222222222222222, \"#7201a8\"], [0.3333333333333333, \"#9c179e\"], [0.4444444444444444, \"#bd3786\"], [0.5555555555555556, \"#d8576b\"], [0.6666666666666666, \"#ed7953\"], [0.7777777777777778, \"#fb9f3a\"], [0.8888888888888888, \"#fdca26\"], [1.0, \"#f0f921\"]], \"sequentialminus\": [[0.0, \"#0d0887\"], [0.1111111111111111, \"#46039f\"], [0.2222222222222222, \"#7201a8\"], [0.3333333333333333, \"#9c179e\"], [0.4444444444444444, \"#bd3786\"], [0.5555555555555556, \"#d8576b\"], [0.6666666666666666, \"#ed7953\"], [0.7777777777777778, \"#fb9f3a\"], [0.8888888888888888, \"#fdca26\"], [1.0, \"#f0f921\"]]}, \"colorway\": [\"#636efa\", \"#EF553B\", \"#00cc96\", \"#ab63fa\", \"#FFA15A\", \"#19d3f3\", \"#FF6692\", \"#B6E880\", \"#FF97FF\", \"#FECB52\"], \"font\": {\"color\": \"#2a3f5f\"}, \"geo\": {\"bgcolor\": \"white\", \"lakecolor\": \"white\", \"landcolor\": \"#E5ECF6\", \"showlakes\": true, \"showland\": true, \"subunitcolor\": \"white\"}, \"hoverlabel\": {\"align\": \"left\"}, \"hovermode\": \"closest\", \"mapbox\": {\"style\": \"light\"}, \"paper_bgcolor\": \"white\", \"plot_bgcolor\": \"#E5ECF6\", \"polar\": {\"angularaxis\": {\"gridcolor\": \"white\", \"linecolor\": \"white\", \"ticks\": \"\"}, \"bgcolor\": \"#E5ECF6\", \"radialaxis\": {\"gridcolor\": \"white\", \"linecolor\": \"white\", \"ticks\": \"\"}}, \"scene\": {\"xaxis\": {\"backgroundcolor\": \"#E5ECF6\", \"gridcolor\": \"white\", \"gridwidth\": 2, \"linecolor\": \"white\", \"showbackground\": true, \"ticks\": \"\", \"zerolinecolor\": \"white\"}, \"yaxis\": {\"backgroundcolor\": \"#E5ECF6\", \"gridcolor\": \"white\", \"gridwidth\": 2, \"linecolor\": \"white\", \"showbackground\": true, \"ticks\": \"\", \"zerolinecolor\": \"white\"}, \"zaxis\": {\"backgroundcolor\": \"#E5ECF6\", \"gridcolor\": \"white\", \"gridwidth\": 2, \"linecolor\": \"white\", \"showbackground\": true, \"ticks\": \"\", \"zerolinecolor\": \"white\"}}, \"shapedefaults\": {\"line\": {\"color\": \"#2a3f5f\"}}, \"ternary\": {\"aaxis\": {\"gridcolor\": \"white\", \"linecolor\": \"white\", \"ticks\": \"\"}, \"baxis\": {\"gridcolor\": \"white\", \"linecolor\": \"white\", \"ticks\": \"\"}, \"bgcolor\": \"#E5ECF6\", \"caxis\": {\"gridcolor\": \"white\", \"linecolor\": \"white\", \"ticks\": \"\"}}, \"title\": {\"x\": 0.05}, \"xaxis\": {\"automargin\": true, \"gridcolor\": \"white\", \"linecolor\": \"white\", \"ticks\": \"\", \"title\": {\"standoff\": 15}, \"zerolinecolor\": \"white\", \"zerolinewidth\": 2}, \"yaxis\": {\"automargin\": true, \"gridcolor\": \"white\", \"linecolor\": \"white\", \"ticks\": \"\", \"title\": {\"standoff\": 15}, \"zerolinecolor\": \"white\", \"zerolinewidth\": 2}}}, \"width\": 1500},                        {\"responsive\": true}                    ).then(function(){\n",
       "                            \n",
       "var gd = document.getElementById('ed4294b1-64eb-4abf-b946-e8bb15a65722');\n",
       "var x = new MutationObserver(function (mutations, observer) {{\n",
       "        var display = window.getComputedStyle(gd).display;\n",
       "        if (!display || display === 'none') {{\n",
       "            console.log([gd, 'removed!']);\n",
       "            Plotly.purge(gd);\n",
       "            observer.disconnect();\n",
       "        }}\n",
       "}});\n",
       "\n",
       "// Listen for the removal of the full notebook cells\n",
       "var notebookContainer = gd.closest('#notebook-container');\n",
       "if (notebookContainer) {{\n",
       "    x.observe(notebookContainer, {childList: true});\n",
       "}}\n",
       "\n",
       "// Listen for the clearing of the current output cell\n",
       "var outputEl = gd.closest('.output');\n",
       "if (outputEl) {{\n",
       "    x.observe(outputEl, {childList: true});\n",
       "}}\n",
       "\n",
       "                        })                };                });            </script>        </div>"
      ]
     },
     "metadata": {},
     "output_type": "display_data"
    }
   ],
   "source": [
    "import plotly.graph_objects as go\n",
    "fig = go.Figure(data=[go.Sankey(\n",
    "    orientation=\"h\",\n",
    "    valueformat = \".0f\",\n",
    "    valuesuffix = \"TWh\",\n",
    "    \n",
    "    hoverlabel = dict (\n",
    "        align=\"left\",\n",
    "        bordercolor='black'\n",
    "    ),\n",
    "    node = dict(\n",
    "      pad = 300,\n",
    "        \n",
    "        \n",
    "      thickness = 30,\n",
    "    \n",
    "      line = dict(color = \"black\", width = 1),\n",
    "        \n",
    "      label = label1,\n",
    "       \n",
    "      color = \"white\",\n",
    "        \n",
    "  \n",
    "    ),\n",
    "    link = dict(\n",
    "      source = Source, # indices correspond to labels, eg A1, A2, A1, B1, ...\n",
    "      target = Target,\n",
    "      value = Value,\n",
    "      color=df['Color'],\n",
    "  )\n",
    ")])\n",
    "\n",
    "fig.update_layout( font_size=10, width=1500,\n",
    "    height=1000)\n",
    "fig.show()"
   ]
  },
  {
   "cell_type": "code",
   "execution_count": 40,
   "metadata": {},
   "outputs": [],
   "source": []
  },
  {
   "cell_type": "code",
   "execution_count": null,
   "metadata": {},
   "outputs": [],
   "source": []
  }
 ],
 "metadata": {
  "kernelspec": {
   "display_name": "Python 3",
   "language": "python",
   "name": "python3"
  },
  "language_info": {
   "codemirror_mode": {
    "name": "ipython",
    "version": 3
   },
   "file_extension": ".py",
   "mimetype": "text/x-python",
   "name": "python",
   "nbconvert_exporter": "python",
   "pygments_lexer": "ipython3",
   "version": "3.7.6"
  }
 },
 "nbformat": 4,
 "nbformat_minor": 4
}
