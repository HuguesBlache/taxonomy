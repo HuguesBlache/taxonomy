{
 "cells": [
  {
   "cell_type": "code",
   "execution_count": 2,
   "id": "theoretical-corpus",
   "metadata": {},
   "outputs": [],
   "source": [
    "%run ./Code/data/Data.ipynb"
   ]
  },
  {
   "cell_type": "code",
   "execution_count": 1,
   "id": "geographic-reader",
   "metadata": {},
   "outputs": [],
   "source": [
    "import plotly.graph_objects as go\n",
    "import pandas as pd\n",
    "import plotly.express as px\n",
    "import pandas as pd\n",
    "import ipywidgets as widgets\n",
    "from ipywidgets import interactive\n",
    "from IPython.display import display\n",
    "from ipywidgets import interact, Dropdown\n",
    "import plotly.graph_objects as go\n",
    "from plotly.subplots import make_subplots\n",
    "import random\n",
    "import numpy as np"
   ]
  },
  {
   "cell_type": "code",
   "execution_count": 141,
   "id": "certified-carolina",
   "metadata": {},
   "outputs": [
    {
     "data": {
      "text/html": [
       "<div>\n",
       "<style scoped>\n",
       "    .dataframe tbody tr th:only-of-type {\n",
       "        vertical-align: middle;\n",
       "    }\n",
       "\n",
       "    .dataframe tbody tr th {\n",
       "        vertical-align: top;\n",
       "    }\n",
       "\n",
       "    .dataframe thead th {\n",
       "        text-align: right;\n",
       "    }\n",
       "</style>\n",
       "<table border=\"1\" class=\"dataframe\">\n",
       "  <thead>\n",
       "    <tr style=\"text-align: right;\">\n",
       "      <th></th>\n",
       "      <th>Name</th>\n",
       "      <th>Max latency (ms)</th>\n",
       "      <th>Radio Coverage (m)</th>\n",
       "      <th>Accuracy</th>\n",
       "      <th>Message Frequency (msg/sec)</th>\n",
       "      <th>Throughput</th>\n",
       "      <th>Message Period (ms)</th>\n",
       "      <th>Message size up (bits)</th>\n",
       "      <th>Priority</th>\n",
       "      <th>Messaging Type</th>\n",
       "      <th>VANET messages</th>\n",
       "    </tr>\n",
       "  </thead>\n",
       "  <tbody>\n",
       "    <tr>\n",
       "      <th>0</th>\n",
       "      <td>EEBL</td>\n",
       "      <td>100</td>\n",
       "      <td>300</td>\n",
       "      <td>NaN</td>\n",
       "      <td>10.0</td>\n",
       "      <td>5-96 kb/s</td>\n",
       "      <td>100.0</td>\n",
       "      <td>254.0</td>\n",
       "      <td>High</td>\n",
       "      <td>Event-triggered, time-limited broadcast</td>\n",
       "      <td>BSM</td>\n",
       "    </tr>\n",
       "    <tr>\n",
       "      <th>1</th>\n",
       "      <td>SFONCW</td>\n",
       "      <td>100</td>\n",
       "      <td>300</td>\n",
       "      <td>NaN</td>\n",
       "      <td>10.0</td>\n",
       "      <td>2540</td>\n",
       "      <td>100.0</td>\n",
       "      <td>254.0</td>\n",
       "      <td>High</td>\n",
       "      <td>NaN</td>\n",
       "      <td>BSM</td>\n",
       "    </tr>\n",
       "    <tr>\n",
       "      <th>2</th>\n",
       "      <td>EVW</td>\n",
       "      <td>100</td>\n",
       "      <td>300</td>\n",
       "      <td>NaN</td>\n",
       "      <td>10.0</td>\n",
       "      <td>2540</td>\n",
       "      <td>100.0</td>\n",
       "      <td>254.0</td>\n",
       "      <td>High</td>\n",
       "      <td>NaN</td>\n",
       "      <td>BSM</td>\n",
       "    </tr>\n",
       "    <tr>\n",
       "      <th>3</th>\n",
       "      <td>SlVW</td>\n",
       "      <td>100</td>\n",
       "      <td>50</td>\n",
       "      <td>NaN</td>\n",
       "      <td>2.0</td>\n",
       "      <td>508</td>\n",
       "      <td>500.0</td>\n",
       "      <td>254.0</td>\n",
       "      <td>High</td>\n",
       "      <td>Periodic permanent broadcast</td>\n",
       "      <td>BSM</td>\n",
       "    </tr>\n",
       "    <tr>\n",
       "      <th>4</th>\n",
       "      <td>MW</td>\n",
       "      <td>100</td>\n",
       "      <td>50</td>\n",
       "      <td>NaN</td>\n",
       "      <td>2.0</td>\n",
       "      <td>508</td>\n",
       "      <td>500.0</td>\n",
       "      <td>254.0</td>\n",
       "      <td>High</td>\n",
       "      <td>NaN</td>\n",
       "      <td>BSM</td>\n",
       "    </tr>\n",
       "    <tr>\n",
       "      <th>...</th>\n",
       "      <td>...</td>\n",
       "      <td>...</td>\n",
       "      <td>...</td>\n",
       "      <td>...</td>\n",
       "      <td>...</td>\n",
       "      <td>...</td>\n",
       "      <td>...</td>\n",
       "      <td>...</td>\n",
       "      <td>...</td>\n",
       "      <td>...</td>\n",
       "      <td>...</td>\n",
       "    </tr>\n",
       "    <tr>\n",
       "      <th>56</th>\n",
       "      <td>VS</td>\n",
       "      <td>500</td>\n",
       "      <td>200</td>\n",
       "      <td>NaN</td>\n",
       "      <td>1.0</td>\n",
       "      <td>0</td>\n",
       "      <td>1000.0</td>\n",
       "      <td>NaN</td>\n",
       "      <td>Low</td>\n",
       "      <td>NaN</td>\n",
       "      <td>NaN</td>\n",
       "    </tr>\n",
       "    <tr>\n",
       "      <th>57</th>\n",
       "      <td>LZM</td>\n",
       "      <td>500</td>\n",
       "      <td>200</td>\n",
       "      <td>NaN</td>\n",
       "      <td>1.0</td>\n",
       "      <td>0</td>\n",
       "      <td>1000.0</td>\n",
       "      <td>NaN</td>\n",
       "      <td>Low</td>\n",
       "      <td>NaN</td>\n",
       "      <td>NaN</td>\n",
       "    </tr>\n",
       "    <tr>\n",
       "      <th>58</th>\n",
       "      <td>VRSUDC</td>\n",
       "      <td>500</td>\n",
       "      <td>200</td>\n",
       "      <td>NaN</td>\n",
       "      <td>1.0</td>\n",
       "      <td>0</td>\n",
       "      <td>1000.0</td>\n",
       "      <td>NaN</td>\n",
       "      <td>Low</td>\n",
       "      <td>NaN</td>\n",
       "      <td>NaN</td>\n",
       "    </tr>\n",
       "    <tr>\n",
       "      <th>59</th>\n",
       "      <td>PA</td>\n",
       "      <td>500</td>\n",
       "      <td>200</td>\n",
       "      <td>NaN</td>\n",
       "      <td>1.0</td>\n",
       "      <td>16 kb/s</td>\n",
       "      <td>1000.0</td>\n",
       "      <td>NaN</td>\n",
       "      <td>Low</td>\n",
       "      <td>NaN</td>\n",
       "      <td>NaN</td>\n",
       "    </tr>\n",
       "    <tr>\n",
       "      <th>60</th>\n",
       "      <td>LWZM</td>\n",
       "      <td>500</td>\n",
       "      <td>200</td>\n",
       "      <td>NaN</td>\n",
       "      <td>1.0</td>\n",
       "      <td>#REF!</td>\n",
       "      <td>1000.0</td>\n",
       "      <td>NaN</td>\n",
       "      <td>Low</td>\n",
       "      <td>NaN</td>\n",
       "      <td>NaN</td>\n",
       "    </tr>\n",
       "  </tbody>\n",
       "</table>\n",
       "<p>61 rows × 11 columns</p>\n",
       "</div>"
      ],
      "text/plain": [
       "      Name  Max latency (ms)  Radio Coverage (m) Accuracy  \\\n",
       "0     EEBL               100                 300      NaN   \n",
       "1   SFONCW               100                 300      NaN   \n",
       "2      EVW               100                 300      NaN   \n",
       "3     SlVW               100                  50      NaN   \n",
       "4       MW               100                  50      NaN   \n",
       "..     ...               ...                 ...      ...   \n",
       "56      VS               500                 200      NaN   \n",
       "57     LZM               500                 200      NaN   \n",
       "58  VRSUDC               500                 200      NaN   \n",
       "59      PA               500                 200      NaN   \n",
       "60    LWZM               500                 200      NaN   \n",
       "\n",
       "    Message Frequency (msg/sec) Throughput   Message Period (ms)  \\\n",
       "0                          10.0   5-96 kb/s                100.0   \n",
       "1                          10.0        2540                100.0   \n",
       "2                          10.0        2540                100.0   \n",
       "3                           2.0         508                500.0   \n",
       "4                           2.0         508                500.0   \n",
       "..                          ...         ...                  ...   \n",
       "56                          1.0           0               1000.0   \n",
       "57                          1.0           0               1000.0   \n",
       "58                          1.0           0               1000.0   \n",
       "59                          1.0     16 kb/s               1000.0   \n",
       "60                          1.0       #REF!               1000.0   \n",
       "\n",
       "    Message size up (bits) Priority                           Messaging Type  \\\n",
       "0                    254.0     High  Event-triggered, time-limited broadcast   \n",
       "1                    254.0     High                                      NaN   \n",
       "2                    254.0     High                                      NaN   \n",
       "3                    254.0     High             Periodic permanent broadcast   \n",
       "4                    254.0     High                                      NaN   \n",
       "..                     ...      ...                                      ...   \n",
       "56                     NaN      Low                                      NaN   \n",
       "57                     NaN      Low                                      NaN   \n",
       "58                     NaN      Low                                      NaN   \n",
       "59                     NaN      Low                                      NaN   \n",
       "60                     NaN      Low                                      NaN   \n",
       "\n",
       "   VANET messages  \n",
       "0             BSM  \n",
       "1             BSM  \n",
       "2             BSM  \n",
       "3             BSM  \n",
       "4             BSM  \n",
       "..            ...  \n",
       "56            NaN  \n",
       "57            NaN  \n",
       "58            NaN  \n",
       "59            NaN  \n",
       "60            NaN  \n",
       "\n",
       "[61 rows x 11 columns]"
      ]
     },
     "execution_count": 141,
     "metadata": {},
     "output_type": "execute_result"
    }
   ],
   "source": [
    "application_KPI"
   ]
  },
  {
   "cell_type": "code",
   "execution_count": 144,
   "id": "verbal-thompson",
   "metadata": {},
   "outputs": [],
   "source": [
    "application_KPI=application_data.iloc[:, np.r_[0,38:48]]"
   ]
  },
  {
   "cell_type": "code",
   "execution_count": 147,
   "id": "hungarian-dividend",
   "metadata": {},
   "outputs": [
    {
     "name": "stderr",
     "output_type": "stream",
     "text": [
      "C:\\Users\\hugue\\anaconda\\lib\\site-packages\\ipykernel_launcher.py:1: SettingWithCopyWarning:\n",
      "\n",
      "\n",
      "A value is trying to be set on a copy of a slice from a DataFrame.\n",
      "Try using .loc[row_indexer,col_indexer] = value instead\n",
      "\n",
      "See the caveats in the documentation: https://pandas.pydata.org/pandas-docs/stable/user_guide/indexing.html#returning-a-view-versus-a-copy\n",
      "\n",
      "C:\\Users\\hugue\\anaconda\\lib\\site-packages\\ipykernel_launcher.py:9: SettingWithCopyWarning:\n",
      "\n",
      "\n",
      "A value is trying to be set on a copy of a slice from a DataFrame\n",
      "\n",
      "See the caveats in the documentation: https://pandas.pydata.org/pandas-docs/stable/user_guide/indexing.html#returning-a-view-versus-a-copy\n",
      "\n",
      "C:\\Users\\hugue\\anaconda\\lib\\site-packages\\pandas\\core\\indexing.py:1637: SettingWithCopyWarning:\n",
      "\n",
      "\n",
      "A value is trying to be set on a copy of a slice from a DataFrame\n",
      "\n",
      "See the caveats in the documentation: https://pandas.pydata.org/pandas-docs/stable/user_guide/indexing.html#returning-a-view-versus-a-copy\n",
      "\n",
      "C:\\Users\\hugue\\anaconda\\lib\\site-packages\\pandas\\core\\indexing.py:692: SettingWithCopyWarning:\n",
      "\n",
      "\n",
      "A value is trying to be set on a copy of a slice from a DataFrame\n",
      "\n",
      "See the caveats in the documentation: https://pandas.pydata.org/pandas-docs/stable/user_guide/indexing.html#returning-a-view-versus-a-copy\n",
      "\n",
      "C:\\Users\\hugue\\anaconda\\lib\\site-packages\\IPython\\core\\interactiveshell.py:3437: SettingWithCopyWarning:\n",
      "\n",
      "\n",
      "A value is trying to be set on a copy of a slice from a DataFrame\n",
      "\n",
      "See the caveats in the documentation: https://pandas.pydata.org/pandas-docs/stable/user_guide/indexing.html#returning-a-view-versus-a-copy\n",
      "\n"
     ]
    }
   ],
   "source": [
    "application_KPI[\"Color\"] = np.nan\n",
    "for i in application_KPI['Priority']:\n",
    "    r = lambda: random.randint(0,255)\n",
    "    b = lambda: random.randint(0,255)\n",
    "    g= lambda: random.randint(0,255)\n",
    "    color='#%02X%02X%02X' % (r(),b(),g())\n",
    "    for j in range(0,len(application_KPI)):\n",
    "        if application_KPI['Priority'][j]==i:\n",
    "            application_KPI['Color'][j]=color"
   ]
  },
  {
   "cell_type": "code",
   "execution_count": 148,
   "id": "married-animal",
   "metadata": {},
   "outputs": [
    {
     "data": {
      "text/html": [
       "<div>\n",
       "<style scoped>\n",
       "    .dataframe tbody tr th:only-of-type {\n",
       "        vertical-align: middle;\n",
       "    }\n",
       "\n",
       "    .dataframe tbody tr th {\n",
       "        vertical-align: top;\n",
       "    }\n",
       "\n",
       "    .dataframe thead th {\n",
       "        text-align: right;\n",
       "    }\n",
       "</style>\n",
       "<table border=\"1\" class=\"dataframe\">\n",
       "  <thead>\n",
       "    <tr style=\"text-align: right;\">\n",
       "      <th></th>\n",
       "      <th>Name</th>\n",
       "      <th>Max latency (ms)</th>\n",
       "      <th>Radio Coverage (m)</th>\n",
       "      <th>Accuracy</th>\n",
       "      <th>Message Frequency (msg/sec)</th>\n",
       "      <th>Throughput</th>\n",
       "      <th>Message Period (ms)</th>\n",
       "      <th>Message size up (bits)</th>\n",
       "      <th>Priority</th>\n",
       "      <th>Messaging Type</th>\n",
       "      <th>VANET messages</th>\n",
       "      <th>Color</th>\n",
       "    </tr>\n",
       "  </thead>\n",
       "  <tbody>\n",
       "    <tr>\n",
       "      <th>0</th>\n",
       "      <td>EEBL</td>\n",
       "      <td>100</td>\n",
       "      <td>300</td>\n",
       "      <td>NaN</td>\n",
       "      <td>10.0</td>\n",
       "      <td>5-96 kb/s</td>\n",
       "      <td>100.0</td>\n",
       "      <td>254.0</td>\n",
       "      <td>High</td>\n",
       "      <td>Event-triggered, time-limited broadcast</td>\n",
       "      <td>BSM</td>\n",
       "      <td>#4CC76E</td>\n",
       "    </tr>\n",
       "    <tr>\n",
       "      <th>1</th>\n",
       "      <td>SFONCW</td>\n",
       "      <td>100</td>\n",
       "      <td>300</td>\n",
       "      <td>NaN</td>\n",
       "      <td>10.0</td>\n",
       "      <td>2540</td>\n",
       "      <td>100.0</td>\n",
       "      <td>254.0</td>\n",
       "      <td>High</td>\n",
       "      <td>NaN</td>\n",
       "      <td>BSM</td>\n",
       "      <td>#4CC76E</td>\n",
       "    </tr>\n",
       "    <tr>\n",
       "      <th>2</th>\n",
       "      <td>EVW</td>\n",
       "      <td>100</td>\n",
       "      <td>300</td>\n",
       "      <td>NaN</td>\n",
       "      <td>10.0</td>\n",
       "      <td>2540</td>\n",
       "      <td>100.0</td>\n",
       "      <td>254.0</td>\n",
       "      <td>High</td>\n",
       "      <td>NaN</td>\n",
       "      <td>BSM</td>\n",
       "      <td>#4CC76E</td>\n",
       "    </tr>\n",
       "    <tr>\n",
       "      <th>3</th>\n",
       "      <td>SlVW</td>\n",
       "      <td>100</td>\n",
       "      <td>50</td>\n",
       "      <td>NaN</td>\n",
       "      <td>2.0</td>\n",
       "      <td>508</td>\n",
       "      <td>500.0</td>\n",
       "      <td>254.0</td>\n",
       "      <td>High</td>\n",
       "      <td>Periodic permanent broadcast</td>\n",
       "      <td>BSM</td>\n",
       "      <td>#4CC76E</td>\n",
       "    </tr>\n",
       "    <tr>\n",
       "      <th>4</th>\n",
       "      <td>MW</td>\n",
       "      <td>100</td>\n",
       "      <td>50</td>\n",
       "      <td>NaN</td>\n",
       "      <td>2.0</td>\n",
       "      <td>508</td>\n",
       "      <td>500.0</td>\n",
       "      <td>254.0</td>\n",
       "      <td>High</td>\n",
       "      <td>NaN</td>\n",
       "      <td>BSM</td>\n",
       "      <td>#4CC76E</td>\n",
       "    </tr>\n",
       "    <tr>\n",
       "      <th>...</th>\n",
       "      <td>...</td>\n",
       "      <td>...</td>\n",
       "      <td>...</td>\n",
       "      <td>...</td>\n",
       "      <td>...</td>\n",
       "      <td>...</td>\n",
       "      <td>...</td>\n",
       "      <td>...</td>\n",
       "      <td>...</td>\n",
       "      <td>...</td>\n",
       "      <td>...</td>\n",
       "      <td>...</td>\n",
       "    </tr>\n",
       "    <tr>\n",
       "      <th>56</th>\n",
       "      <td>VS</td>\n",
       "      <td>500</td>\n",
       "      <td>200</td>\n",
       "      <td>NaN</td>\n",
       "      <td>1.0</td>\n",
       "      <td>0</td>\n",
       "      <td>1000.0</td>\n",
       "      <td>NaN</td>\n",
       "      <td>Low</td>\n",
       "      <td>NaN</td>\n",
       "      <td>NaN</td>\n",
       "      <td>#2DE8F7</td>\n",
       "    </tr>\n",
       "    <tr>\n",
       "      <th>57</th>\n",
       "      <td>LZM</td>\n",
       "      <td>500</td>\n",
       "      <td>200</td>\n",
       "      <td>NaN</td>\n",
       "      <td>1.0</td>\n",
       "      <td>0</td>\n",
       "      <td>1000.0</td>\n",
       "      <td>NaN</td>\n",
       "      <td>Low</td>\n",
       "      <td>NaN</td>\n",
       "      <td>NaN</td>\n",
       "      <td>#2DE8F7</td>\n",
       "    </tr>\n",
       "    <tr>\n",
       "      <th>58</th>\n",
       "      <td>VRSUDC</td>\n",
       "      <td>500</td>\n",
       "      <td>200</td>\n",
       "      <td>NaN</td>\n",
       "      <td>1.0</td>\n",
       "      <td>0</td>\n",
       "      <td>1000.0</td>\n",
       "      <td>NaN</td>\n",
       "      <td>Low</td>\n",
       "      <td>NaN</td>\n",
       "      <td>NaN</td>\n",
       "      <td>#2DE8F7</td>\n",
       "    </tr>\n",
       "    <tr>\n",
       "      <th>59</th>\n",
       "      <td>PA</td>\n",
       "      <td>500</td>\n",
       "      <td>200</td>\n",
       "      <td>NaN</td>\n",
       "      <td>1.0</td>\n",
       "      <td>16 kb/s</td>\n",
       "      <td>1000.0</td>\n",
       "      <td>NaN</td>\n",
       "      <td>Low</td>\n",
       "      <td>NaN</td>\n",
       "      <td>NaN</td>\n",
       "      <td>#2DE8F7</td>\n",
       "    </tr>\n",
       "    <tr>\n",
       "      <th>60</th>\n",
       "      <td>LWZM</td>\n",
       "      <td>500</td>\n",
       "      <td>200</td>\n",
       "      <td>NaN</td>\n",
       "      <td>1.0</td>\n",
       "      <td>#REF!</td>\n",
       "      <td>1000.0</td>\n",
       "      <td>NaN</td>\n",
       "      <td>Low</td>\n",
       "      <td>NaN</td>\n",
       "      <td>NaN</td>\n",
       "      <td>#2DE8F7</td>\n",
       "    </tr>\n",
       "  </tbody>\n",
       "</table>\n",
       "<p>61 rows × 12 columns</p>\n",
       "</div>"
      ],
      "text/plain": [
       "      Name  Max latency (ms)  Radio Coverage (m) Accuracy  \\\n",
       "0     EEBL               100                 300      NaN   \n",
       "1   SFONCW               100                 300      NaN   \n",
       "2      EVW               100                 300      NaN   \n",
       "3     SlVW               100                  50      NaN   \n",
       "4       MW               100                  50      NaN   \n",
       "..     ...               ...                 ...      ...   \n",
       "56      VS               500                 200      NaN   \n",
       "57     LZM               500                 200      NaN   \n",
       "58  VRSUDC               500                 200      NaN   \n",
       "59      PA               500                 200      NaN   \n",
       "60    LWZM               500                 200      NaN   \n",
       "\n",
       "    Message Frequency (msg/sec) Throughput   Message Period (ms)  \\\n",
       "0                          10.0   5-96 kb/s                100.0   \n",
       "1                          10.0        2540                100.0   \n",
       "2                          10.0        2540                100.0   \n",
       "3                           2.0         508                500.0   \n",
       "4                           2.0         508                500.0   \n",
       "..                          ...         ...                  ...   \n",
       "56                          1.0           0               1000.0   \n",
       "57                          1.0           0               1000.0   \n",
       "58                          1.0           0               1000.0   \n",
       "59                          1.0     16 kb/s               1000.0   \n",
       "60                          1.0       #REF!               1000.0   \n",
       "\n",
       "    Message size up (bits) Priority                           Messaging Type  \\\n",
       "0                    254.0     High  Event-triggered, time-limited broadcast   \n",
       "1                    254.0     High                                      NaN   \n",
       "2                    254.0     High                                      NaN   \n",
       "3                    254.0     High             Periodic permanent broadcast   \n",
       "4                    254.0     High                                      NaN   \n",
       "..                     ...      ...                                      ...   \n",
       "56                     NaN      Low                                      NaN   \n",
       "57                     NaN      Low                                      NaN   \n",
       "58                     NaN      Low                                      NaN   \n",
       "59                     NaN      Low                                      NaN   \n",
       "60                     NaN      Low                                      NaN   \n",
       "\n",
       "   VANET messages    Color  \n",
       "0             BSM  #4CC76E  \n",
       "1             BSM  #4CC76E  \n",
       "2             BSM  #4CC76E  \n",
       "3             BSM  #4CC76E  \n",
       "4             BSM  #4CC76E  \n",
       "..            ...      ...  \n",
       "56            NaN  #2DE8F7  \n",
       "57            NaN  #2DE8F7  \n",
       "58            NaN  #2DE8F7  \n",
       "59            NaN  #2DE8F7  \n",
       "60            NaN  #2DE8F7  \n",
       "\n",
       "[61 rows x 12 columns]"
      ]
     },
     "execution_count": 148,
     "metadata": {},
     "output_type": "execute_result"
    }
   ],
   "source": [
    "application_KPI"
   ]
  },
  {
   "cell_type": "code",
   "execution_count": 172,
   "id": "weighted-priority",
   "metadata": {
    "scrolled": false
   },
   "outputs": [
    {
     "name": "stderr",
     "output_type": "stream",
     "text": [
      "C:\\Users\\hugue\\anaconda\\lib\\site-packages\\ipykernel_launcher.py:1: SettingWithCopyWarning:\n",
      "\n",
      "\n",
      "A value is trying to be set on a copy of a slice from a DataFrame.\n",
      "Try using .loc[row_indexer,col_indexer] = value instead\n",
      "\n",
      "See the caveats in the documentation: https://pandas.pydata.org/pandas-docs/stable/user_guide/indexing.html#returning-a-view-versus-a-copy\n",
      "\n",
      "C:\\Users\\hugue\\anaconda\\lib\\site-packages\\ipykernel_launcher.py:9: SettingWithCopyWarning:\n",
      "\n",
      "\n",
      "A value is trying to be set on a copy of a slice from a DataFrame\n",
      "\n",
      "See the caveats in the documentation: https://pandas.pydata.org/pandas-docs/stable/user_guide/indexing.html#returning-a-view-versus-a-copy\n",
      "\n"
     ]
    },
    {
     "data": {
      "application/vnd.plotly.v1+json": {
       "config": {
        "plotlyServerURL": "https://plot.ly"
       },
       "data": [
        {
         "link": {
          "color": [
           "#95A575",
           "#95A575",
           "#95A575",
           "#95A575",
           "#95A575",
           "#95A575",
           "#95A575",
           "#95A575",
           "#95A575",
           "#95A575",
           "#95A575",
           "#95A575",
           "#95A575",
           "#95A575",
           "#F8B69C",
           "#885757",
           "#95A575",
           "#95A575",
           "#95A575",
           "#95A575",
           "#95A575",
           "#95A575",
           "#95A575",
           "#95A575",
           "#95A575",
           "#95A575",
           "#95A575",
           "#95A575",
           "#D891AE",
           "#D891AE",
           "#D891AE",
           "#D891AE",
           "#D891AE",
           "#D891AE",
           "#D891AE",
           "#D891AE",
           "#D891AE",
           "#D891AE",
           "#D891AE",
           "#95A575",
           "#95A575",
           "#D891AE",
           "#D891AE",
           "#4BF6FC",
           "#D891AE",
           "#D891AE",
           "#D891AE",
           "#D891AE",
           "#D891AE",
           "#F8B69C",
           "#D891AE",
           "#D891AE",
           "#D891AE",
           "#D891AE",
           "#D891AE",
           "#95A575",
           "#D891AE",
           "#D891AE",
           "#D891AE",
           "#D891AE",
           "#D891AE",
           "lightcoral",
           "lightcoral",
           "lightcoral",
           "lightsalmon",
           "lightsalmon",
           "lightgreen",
           "green",
           "green",
           "green",
           "green"
          ],
          "source": [
           59,
           34,
           52,
           37,
           29,
           51,
           32,
           8,
           57,
           48,
           13,
           3,
           23,
           22,
           0,
           39,
           54,
           41,
           35,
           27,
           25,
           33,
           1,
           47,
           40,
           15,
           36,
           16,
           10,
           42,
           44,
           12,
           45,
           4,
           21,
           14,
           58,
           17,
           56,
           53,
           19,
           5,
           6,
           30,
           18,
           55,
           11,
           20,
           49,
           46,
           60,
           43,
           7,
           38,
           31,
           50,
           9,
           2,
           24,
           28,
           26,
           61,
           62,
           64,
           61,
           65,
           65,
           61,
           65,
           63,
           62
          ],
          "target": [
           61,
           61,
           61,
           61,
           61,
           61,
           61,
           61,
           61,
           61,
           61,
           61,
           61,
           61,
           62,
           64,
           61,
           61,
           61,
           61,
           61,
           61,
           61,
           61,
           61,
           61,
           61,
           61,
           65,
           65,
           65,
           65,
           65,
           65,
           65,
           65,
           65,
           65,
           65,
           61,
           61,
           65,
           65,
           63,
           65,
           65,
           65,
           65,
           65,
           62,
           65,
           65,
           65,
           65,
           65,
           61,
           65,
           65,
           65,
           65,
           65,
           66,
           66,
           66,
           68,
           68,
           69,
           67,
           67,
           67,
           67
          ],
          "value": [
           1,
           1,
           1,
           1,
           1,
           1,
           1,
           1,
           1,
           1,
           1,
           1,
           1,
           1,
           1,
           1,
           1,
           1,
           1,
           1,
           1,
           1,
           1,
           1,
           1,
           1,
           1,
           1,
           1,
           1,
           1,
           1,
           1,
           1,
           1,
           1,
           1,
           1,
           1,
           1,
           1,
           1,
           1,
           1,
           1,
           1,
           1,
           1,
           1,
           1,
           1,
           1,
           1,
           1,
           1,
           1,
           1,
           1,
           1,
           1,
           1,
           25,
           1,
           1,
           2,
           2,
           9,
           2,
           17,
           1,
           1
          ]
         },
         "node": {
          "color": "grey",
          "label": [
           "DS",
           "ICW",
           "LZM",
           "RW",
           "LM",
           "PIN",
           "AAC",
           "RD",
           "StVW",
           "VS",
           "SM",
           "MD",
           "ERGN",
           "SiVW",
           "TVSP",
           "CFCW",
           "TLOSP",
           "FADL",
           "LEC",
           "CVHAS",
           "MDU",
           "EVSP",
           "LCA",
           "OVW",
           "VRSUDC",
           "HLN",
           "LWZM",
           "CMA",
           "PA",
           "MW",
           "ETC",
           "FM",
           "WWDW",
           "CRWRSU",
           "SFONCW",
           "MTTCRW",
           "CSL",
           "SlVW",
           "IFS",
           "PCSW",
           "CLW",
           "ATTCRW",
           "EDCV",
           "SVA",
           "TIRI",
           "LAW",
           "GIS",
           "HCW",
           "TCW",
           "IM",
           "TOD",
           "VRUW",
           "EVW",
           "CACC",
           "CGR",
           "CTR",
           "IS",
           "PCW",
           "InM",
           "EEBL",
           "SOSS",
           100,
           1000,
           200,
           50,
           500,
           "High",
           "Low",
           "Mid",
           "Mid/Low"
          ],
          "line": {
           "color": "red",
           "width": 1
          },
          "pad": 300,
          "thickness": 15
         },
         "orientation": "h",
         "type": "sankey",
         "valueformat": ".0f",
         "valuesuffix": "TWh"
        }
       ],
       "layout": {
        "font": {
         "size": 15
        },
        "height": 1000,
        "template": {
         "data": {
          "bar": [
           {
            "error_x": {
             "color": "#2a3f5f"
            },
            "error_y": {
             "color": "#2a3f5f"
            },
            "marker": {
             "line": {
              "color": "#E5ECF6",
              "width": 0.5
             }
            },
            "type": "bar"
           }
          ],
          "barpolar": [
           {
            "marker": {
             "line": {
              "color": "#E5ECF6",
              "width": 0.5
             }
            },
            "type": "barpolar"
           }
          ],
          "carpet": [
           {
            "aaxis": {
             "endlinecolor": "#2a3f5f",
             "gridcolor": "white",
             "linecolor": "white",
             "minorgridcolor": "white",
             "startlinecolor": "#2a3f5f"
            },
            "baxis": {
             "endlinecolor": "#2a3f5f",
             "gridcolor": "white",
             "linecolor": "white",
             "minorgridcolor": "white",
             "startlinecolor": "#2a3f5f"
            },
            "type": "carpet"
           }
          ],
          "choropleth": [
           {
            "colorbar": {
             "outlinewidth": 0,
             "ticks": ""
            },
            "type": "choropleth"
           }
          ],
          "contour": [
           {
            "colorbar": {
             "outlinewidth": 0,
             "ticks": ""
            },
            "colorscale": [
             [
              0,
              "#0d0887"
             ],
             [
              0.1111111111111111,
              "#46039f"
             ],
             [
              0.2222222222222222,
              "#7201a8"
             ],
             [
              0.3333333333333333,
              "#9c179e"
             ],
             [
              0.4444444444444444,
              "#bd3786"
             ],
             [
              0.5555555555555556,
              "#d8576b"
             ],
             [
              0.6666666666666666,
              "#ed7953"
             ],
             [
              0.7777777777777778,
              "#fb9f3a"
             ],
             [
              0.8888888888888888,
              "#fdca26"
             ],
             [
              1,
              "#f0f921"
             ]
            ],
            "type": "contour"
           }
          ],
          "contourcarpet": [
           {
            "colorbar": {
             "outlinewidth": 0,
             "ticks": ""
            },
            "type": "contourcarpet"
           }
          ],
          "heatmap": [
           {
            "colorbar": {
             "outlinewidth": 0,
             "ticks": ""
            },
            "colorscale": [
             [
              0,
              "#0d0887"
             ],
             [
              0.1111111111111111,
              "#46039f"
             ],
             [
              0.2222222222222222,
              "#7201a8"
             ],
             [
              0.3333333333333333,
              "#9c179e"
             ],
             [
              0.4444444444444444,
              "#bd3786"
             ],
             [
              0.5555555555555556,
              "#d8576b"
             ],
             [
              0.6666666666666666,
              "#ed7953"
             ],
             [
              0.7777777777777778,
              "#fb9f3a"
             ],
             [
              0.8888888888888888,
              "#fdca26"
             ],
             [
              1,
              "#f0f921"
             ]
            ],
            "type": "heatmap"
           }
          ],
          "heatmapgl": [
           {
            "colorbar": {
             "outlinewidth": 0,
             "ticks": ""
            },
            "colorscale": [
             [
              0,
              "#0d0887"
             ],
             [
              0.1111111111111111,
              "#46039f"
             ],
             [
              0.2222222222222222,
              "#7201a8"
             ],
             [
              0.3333333333333333,
              "#9c179e"
             ],
             [
              0.4444444444444444,
              "#bd3786"
             ],
             [
              0.5555555555555556,
              "#d8576b"
             ],
             [
              0.6666666666666666,
              "#ed7953"
             ],
             [
              0.7777777777777778,
              "#fb9f3a"
             ],
             [
              0.8888888888888888,
              "#fdca26"
             ],
             [
              1,
              "#f0f921"
             ]
            ],
            "type": "heatmapgl"
           }
          ],
          "histogram": [
           {
            "marker": {
             "colorbar": {
              "outlinewidth": 0,
              "ticks": ""
             }
            },
            "type": "histogram"
           }
          ],
          "histogram2d": [
           {
            "colorbar": {
             "outlinewidth": 0,
             "ticks": ""
            },
            "colorscale": [
             [
              0,
              "#0d0887"
             ],
             [
              0.1111111111111111,
              "#46039f"
             ],
             [
              0.2222222222222222,
              "#7201a8"
             ],
             [
              0.3333333333333333,
              "#9c179e"
             ],
             [
              0.4444444444444444,
              "#bd3786"
             ],
             [
              0.5555555555555556,
              "#d8576b"
             ],
             [
              0.6666666666666666,
              "#ed7953"
             ],
             [
              0.7777777777777778,
              "#fb9f3a"
             ],
             [
              0.8888888888888888,
              "#fdca26"
             ],
             [
              1,
              "#f0f921"
             ]
            ],
            "type": "histogram2d"
           }
          ],
          "histogram2dcontour": [
           {
            "colorbar": {
             "outlinewidth": 0,
             "ticks": ""
            },
            "colorscale": [
             [
              0,
              "#0d0887"
             ],
             [
              0.1111111111111111,
              "#46039f"
             ],
             [
              0.2222222222222222,
              "#7201a8"
             ],
             [
              0.3333333333333333,
              "#9c179e"
             ],
             [
              0.4444444444444444,
              "#bd3786"
             ],
             [
              0.5555555555555556,
              "#d8576b"
             ],
             [
              0.6666666666666666,
              "#ed7953"
             ],
             [
              0.7777777777777778,
              "#fb9f3a"
             ],
             [
              0.8888888888888888,
              "#fdca26"
             ],
             [
              1,
              "#f0f921"
             ]
            ],
            "type": "histogram2dcontour"
           }
          ],
          "mesh3d": [
           {
            "colorbar": {
             "outlinewidth": 0,
             "ticks": ""
            },
            "type": "mesh3d"
           }
          ],
          "parcoords": [
           {
            "line": {
             "colorbar": {
              "outlinewidth": 0,
              "ticks": ""
             }
            },
            "type": "parcoords"
           }
          ],
          "pie": [
           {
            "automargin": true,
            "type": "pie"
           }
          ],
          "scatter": [
           {
            "marker": {
             "colorbar": {
              "outlinewidth": 0,
              "ticks": ""
             }
            },
            "type": "scatter"
           }
          ],
          "scatter3d": [
           {
            "line": {
             "colorbar": {
              "outlinewidth": 0,
              "ticks": ""
             }
            },
            "marker": {
             "colorbar": {
              "outlinewidth": 0,
              "ticks": ""
             }
            },
            "type": "scatter3d"
           }
          ],
          "scattercarpet": [
           {
            "marker": {
             "colorbar": {
              "outlinewidth": 0,
              "ticks": ""
             }
            },
            "type": "scattercarpet"
           }
          ],
          "scattergeo": [
           {
            "marker": {
             "colorbar": {
              "outlinewidth": 0,
              "ticks": ""
             }
            },
            "type": "scattergeo"
           }
          ],
          "scattergl": [
           {
            "marker": {
             "colorbar": {
              "outlinewidth": 0,
              "ticks": ""
             }
            },
            "type": "scattergl"
           }
          ],
          "scattermapbox": [
           {
            "marker": {
             "colorbar": {
              "outlinewidth": 0,
              "ticks": ""
             }
            },
            "type": "scattermapbox"
           }
          ],
          "scatterpolar": [
           {
            "marker": {
             "colorbar": {
              "outlinewidth": 0,
              "ticks": ""
             }
            },
            "type": "scatterpolar"
           }
          ],
          "scatterpolargl": [
           {
            "marker": {
             "colorbar": {
              "outlinewidth": 0,
              "ticks": ""
             }
            },
            "type": "scatterpolargl"
           }
          ],
          "scatterternary": [
           {
            "marker": {
             "colorbar": {
              "outlinewidth": 0,
              "ticks": ""
             }
            },
            "type": "scatterternary"
           }
          ],
          "surface": [
           {
            "colorbar": {
             "outlinewidth": 0,
             "ticks": ""
            },
            "colorscale": [
             [
              0,
              "#0d0887"
             ],
             [
              0.1111111111111111,
              "#46039f"
             ],
             [
              0.2222222222222222,
              "#7201a8"
             ],
             [
              0.3333333333333333,
              "#9c179e"
             ],
             [
              0.4444444444444444,
              "#bd3786"
             ],
             [
              0.5555555555555556,
              "#d8576b"
             ],
             [
              0.6666666666666666,
              "#ed7953"
             ],
             [
              0.7777777777777778,
              "#fb9f3a"
             ],
             [
              0.8888888888888888,
              "#fdca26"
             ],
             [
              1,
              "#f0f921"
             ]
            ],
            "type": "surface"
           }
          ],
          "table": [
           {
            "cells": {
             "fill": {
              "color": "#EBF0F8"
             },
             "line": {
              "color": "white"
             }
            },
            "header": {
             "fill": {
              "color": "#C8D4E3"
             },
             "line": {
              "color": "white"
             }
            },
            "type": "table"
           }
          ]
         },
         "layout": {
          "annotationdefaults": {
           "arrowcolor": "#2a3f5f",
           "arrowhead": 0,
           "arrowwidth": 1
          },
          "autotypenumbers": "strict",
          "coloraxis": {
           "colorbar": {
            "outlinewidth": 0,
            "ticks": ""
           }
          },
          "colorscale": {
           "diverging": [
            [
             0,
             "#8e0152"
            ],
            [
             0.1,
             "#c51b7d"
            ],
            [
             0.2,
             "#de77ae"
            ],
            [
             0.3,
             "#f1b6da"
            ],
            [
             0.4,
             "#fde0ef"
            ],
            [
             0.5,
             "#f7f7f7"
            ],
            [
             0.6,
             "#e6f5d0"
            ],
            [
             0.7,
             "#b8e186"
            ],
            [
             0.8,
             "#7fbc41"
            ],
            [
             0.9,
             "#4d9221"
            ],
            [
             1,
             "#276419"
            ]
           ],
           "sequential": [
            [
             0,
             "#0d0887"
            ],
            [
             0.1111111111111111,
             "#46039f"
            ],
            [
             0.2222222222222222,
             "#7201a8"
            ],
            [
             0.3333333333333333,
             "#9c179e"
            ],
            [
             0.4444444444444444,
             "#bd3786"
            ],
            [
             0.5555555555555556,
             "#d8576b"
            ],
            [
             0.6666666666666666,
             "#ed7953"
            ],
            [
             0.7777777777777778,
             "#fb9f3a"
            ],
            [
             0.8888888888888888,
             "#fdca26"
            ],
            [
             1,
             "#f0f921"
            ]
           ],
           "sequentialminus": [
            [
             0,
             "#0d0887"
            ],
            [
             0.1111111111111111,
             "#46039f"
            ],
            [
             0.2222222222222222,
             "#7201a8"
            ],
            [
             0.3333333333333333,
             "#9c179e"
            ],
            [
             0.4444444444444444,
             "#bd3786"
            ],
            [
             0.5555555555555556,
             "#d8576b"
            ],
            [
             0.6666666666666666,
             "#ed7953"
            ],
            [
             0.7777777777777778,
             "#fb9f3a"
            ],
            [
             0.8888888888888888,
             "#fdca26"
            ],
            [
             1,
             "#f0f921"
            ]
           ]
          },
          "colorway": [
           "#636efa",
           "#EF553B",
           "#00cc96",
           "#ab63fa",
           "#FFA15A",
           "#19d3f3",
           "#FF6692",
           "#B6E880",
           "#FF97FF",
           "#FECB52"
          ],
          "font": {
           "color": "#2a3f5f"
          },
          "geo": {
           "bgcolor": "white",
           "lakecolor": "white",
           "landcolor": "#E5ECF6",
           "showlakes": true,
           "showland": true,
           "subunitcolor": "white"
          },
          "hoverlabel": {
           "align": "left"
          },
          "hovermode": "closest",
          "mapbox": {
           "style": "light"
          },
          "paper_bgcolor": "white",
          "plot_bgcolor": "#E5ECF6",
          "polar": {
           "angularaxis": {
            "gridcolor": "white",
            "linecolor": "white",
            "ticks": ""
           },
           "bgcolor": "#E5ECF6",
           "radialaxis": {
            "gridcolor": "white",
            "linecolor": "white",
            "ticks": ""
           }
          },
          "scene": {
           "xaxis": {
            "backgroundcolor": "#E5ECF6",
            "gridcolor": "white",
            "gridwidth": 2,
            "linecolor": "white",
            "showbackground": true,
            "ticks": "",
            "zerolinecolor": "white"
           },
           "yaxis": {
            "backgroundcolor": "#E5ECF6",
            "gridcolor": "white",
            "gridwidth": 2,
            "linecolor": "white",
            "showbackground": true,
            "ticks": "",
            "zerolinecolor": "white"
           },
           "zaxis": {
            "backgroundcolor": "#E5ECF6",
            "gridcolor": "white",
            "gridwidth": 2,
            "linecolor": "white",
            "showbackground": true,
            "ticks": "",
            "zerolinecolor": "white"
           }
          },
          "shapedefaults": {
           "line": {
            "color": "#2a3f5f"
           }
          },
          "ternary": {
           "aaxis": {
            "gridcolor": "white",
            "linecolor": "white",
            "ticks": ""
           },
           "baxis": {
            "gridcolor": "white",
            "linecolor": "white",
            "ticks": ""
           },
           "bgcolor": "#E5ECF6",
           "caxis": {
            "gridcolor": "white",
            "linecolor": "white",
            "ticks": ""
           }
          },
          "title": {
           "x": 0.05
          },
          "xaxis": {
           "automargin": true,
           "gridcolor": "white",
           "linecolor": "white",
           "ticks": "",
           "title": {
            "standoff": 15
           },
           "zerolinecolor": "white",
           "zerolinewidth": 2
          },
          "yaxis": {
           "automargin": true,
           "gridcolor": "white",
           "linecolor": "white",
           "ticks": "",
           "title": {
            "standoff": 15
           },
           "zerolinecolor": "white",
           "zerolinewidth": 2
          }
         }
        },
        "width": 1000
       }
      },
      "text/html": [
       "<div>                            <div id=\"52fe0e1c-541b-4f78-a719-0dcb114511c4\" class=\"plotly-graph-div\" style=\"height:1000px; width:1000px;\"></div>            <script type=\"text/javascript\">                require([\"plotly\"], function(Plotly) {                    window.PLOTLYENV=window.PLOTLYENV || {};                                    if (document.getElementById(\"52fe0e1c-541b-4f78-a719-0dcb114511c4\")) {                    Plotly.newPlot(                        \"52fe0e1c-541b-4f78-a719-0dcb114511c4\",                        [{\"link\": {\"color\": [\"#95A575\", \"#95A575\", \"#95A575\", \"#95A575\", \"#95A575\", \"#95A575\", \"#95A575\", \"#95A575\", \"#95A575\", \"#95A575\", \"#95A575\", \"#95A575\", \"#95A575\", \"#95A575\", \"#F8B69C\", \"#885757\", \"#95A575\", \"#95A575\", \"#95A575\", \"#95A575\", \"#95A575\", \"#95A575\", \"#95A575\", \"#95A575\", \"#95A575\", \"#95A575\", \"#95A575\", \"#95A575\", \"#D891AE\", \"#D891AE\", \"#D891AE\", \"#D891AE\", \"#D891AE\", \"#D891AE\", \"#D891AE\", \"#D891AE\", \"#D891AE\", \"#D891AE\", \"#D891AE\", \"#95A575\", \"#95A575\", \"#D891AE\", \"#D891AE\", \"#4BF6FC\", \"#D891AE\", \"#D891AE\", \"#D891AE\", \"#D891AE\", \"#D891AE\", \"#F8B69C\", \"#D891AE\", \"#D891AE\", \"#D891AE\", \"#D891AE\", \"#D891AE\", \"#95A575\", \"#D891AE\", \"#D891AE\", \"#D891AE\", \"#D891AE\", \"#D891AE\", \"lightcoral\", \"lightcoral\", \"lightcoral\", \"lightsalmon\", \"lightsalmon\", \"lightgreen\", \"green\", \"green\", \"green\", \"green\"], \"source\": [59, 34, 52, 37, 29, 51, 32, 8, 57, 48, 13, 3, 23, 22, 0, 39, 54, 41, 35, 27, 25, 33, 1, 47, 40, 15, 36, 16, 10, 42, 44, 12, 45, 4, 21, 14, 58, 17, 56, 53, 19, 5, 6, 30, 18, 55, 11, 20, 49, 46, 60, 43, 7, 38, 31, 50, 9, 2, 24, 28, 26, 61, 62, 64, 61, 65, 65, 61, 65, 63, 62], \"target\": [61, 61, 61, 61, 61, 61, 61, 61, 61, 61, 61, 61, 61, 61, 62, 64, 61, 61, 61, 61, 61, 61, 61, 61, 61, 61, 61, 61, 65, 65, 65, 65, 65, 65, 65, 65, 65, 65, 65, 61, 61, 65, 65, 63, 65, 65, 65, 65, 65, 62, 65, 65, 65, 65, 65, 61, 65, 65, 65, 65, 65, 66, 66, 66, 68, 68, 69, 67, 67, 67, 67], \"value\": [1, 1, 1, 1, 1, 1, 1, 1, 1, 1, 1, 1, 1, 1, 1, 1, 1, 1, 1, 1, 1, 1, 1, 1, 1, 1, 1, 1, 1, 1, 1, 1, 1, 1, 1, 1, 1, 1, 1, 1, 1, 1, 1, 1, 1, 1, 1, 1, 1, 1, 1, 1, 1, 1, 1, 1, 1, 1, 1, 1, 1, 25, 1, 1, 2, 2, 9, 2, 17, 1, 1]}, \"node\": {\"color\": \"grey\", \"label\": [\"DS\", \"ICW\", \"LZM\", \"RW\", \"LM\", \"PIN\", \"AAC\", \"RD\", \"StVW\", \"VS\", \"SM\", \"MD\", \"ERGN\", \"SiVW\", \"TVSP\", \"CFCW\", \"TLOSP\", \"FADL\", \"LEC\", \"CVHAS\", \"MDU\", \"EVSP\", \"LCA\", \"OVW\", \"VRSUDC\", \"HLN\", \"LWZM\", \"CMA\", \"PA\", \"MW\", \"ETC\", \"FM\", \"WWDW\", \"CRWRSU\", \"SFONCW\", \"MTTCRW\", \"CSL\", \"SlVW\", \"IFS\", \"PCSW\", \"CLW\", \"ATTCRW\", \"EDCV\", \"SVA\", \"TIRI\", \"LAW\", \"GIS\", \"HCW\", \"TCW\", \"IM\", \"TOD\", \"VRUW\", \"EVW\", \"CACC\", \"CGR\", \"CTR\", \"IS\", \"PCW\", \"InM\", \"EEBL\", \"SOSS\", 100, 1000, 200, 50, 500, \"High\", \"Low\", \"Mid\", \"Mid/Low\"], \"line\": {\"color\": \"red\", \"width\": 1}, \"pad\": 300, \"thickness\": 15}, \"orientation\": \"h\", \"type\": \"sankey\", \"valueformat\": \".0f\", \"valuesuffix\": \"TWh\"}],                        {\"font\": {\"size\": 15}, \"height\": 1000, \"template\": {\"data\": {\"bar\": [{\"error_x\": {\"color\": \"#2a3f5f\"}, \"error_y\": {\"color\": \"#2a3f5f\"}, \"marker\": {\"line\": {\"color\": \"#E5ECF6\", \"width\": 0.5}}, \"type\": \"bar\"}], \"barpolar\": [{\"marker\": {\"line\": {\"color\": \"#E5ECF6\", \"width\": 0.5}}, \"type\": \"barpolar\"}], \"carpet\": [{\"aaxis\": {\"endlinecolor\": \"#2a3f5f\", \"gridcolor\": \"white\", \"linecolor\": \"white\", \"minorgridcolor\": \"white\", \"startlinecolor\": \"#2a3f5f\"}, \"baxis\": {\"endlinecolor\": \"#2a3f5f\", \"gridcolor\": \"white\", \"linecolor\": \"white\", \"minorgridcolor\": \"white\", \"startlinecolor\": \"#2a3f5f\"}, \"type\": \"carpet\"}], \"choropleth\": [{\"colorbar\": {\"outlinewidth\": 0, \"ticks\": \"\"}, \"type\": \"choropleth\"}], \"contour\": [{\"colorbar\": {\"outlinewidth\": 0, \"ticks\": \"\"}, \"colorscale\": [[0.0, \"#0d0887\"], [0.1111111111111111, \"#46039f\"], [0.2222222222222222, \"#7201a8\"], [0.3333333333333333, \"#9c179e\"], [0.4444444444444444, \"#bd3786\"], [0.5555555555555556, \"#d8576b\"], [0.6666666666666666, \"#ed7953\"], [0.7777777777777778, \"#fb9f3a\"], [0.8888888888888888, \"#fdca26\"], [1.0, \"#f0f921\"]], \"type\": \"contour\"}], \"contourcarpet\": [{\"colorbar\": {\"outlinewidth\": 0, \"ticks\": \"\"}, \"type\": \"contourcarpet\"}], \"heatmap\": [{\"colorbar\": {\"outlinewidth\": 0, \"ticks\": \"\"}, \"colorscale\": [[0.0, \"#0d0887\"], [0.1111111111111111, \"#46039f\"], [0.2222222222222222, \"#7201a8\"], [0.3333333333333333, \"#9c179e\"], [0.4444444444444444, \"#bd3786\"], [0.5555555555555556, \"#d8576b\"], [0.6666666666666666, \"#ed7953\"], [0.7777777777777778, \"#fb9f3a\"], [0.8888888888888888, \"#fdca26\"], [1.0, \"#f0f921\"]], \"type\": \"heatmap\"}], \"heatmapgl\": [{\"colorbar\": {\"outlinewidth\": 0, \"ticks\": \"\"}, \"colorscale\": [[0.0, \"#0d0887\"], [0.1111111111111111, \"#46039f\"], [0.2222222222222222, \"#7201a8\"], [0.3333333333333333, \"#9c179e\"], [0.4444444444444444, \"#bd3786\"], [0.5555555555555556, \"#d8576b\"], [0.6666666666666666, \"#ed7953\"], [0.7777777777777778, \"#fb9f3a\"], [0.8888888888888888, \"#fdca26\"], [1.0, \"#f0f921\"]], \"type\": \"heatmapgl\"}], \"histogram\": [{\"marker\": {\"colorbar\": {\"outlinewidth\": 0, \"ticks\": \"\"}}, \"type\": \"histogram\"}], \"histogram2d\": [{\"colorbar\": {\"outlinewidth\": 0, \"ticks\": \"\"}, \"colorscale\": [[0.0, \"#0d0887\"], [0.1111111111111111, \"#46039f\"], [0.2222222222222222, \"#7201a8\"], [0.3333333333333333, \"#9c179e\"], [0.4444444444444444, \"#bd3786\"], [0.5555555555555556, \"#d8576b\"], [0.6666666666666666, \"#ed7953\"], [0.7777777777777778, \"#fb9f3a\"], [0.8888888888888888, \"#fdca26\"], [1.0, \"#f0f921\"]], \"type\": \"histogram2d\"}], \"histogram2dcontour\": [{\"colorbar\": {\"outlinewidth\": 0, \"ticks\": \"\"}, \"colorscale\": [[0.0, \"#0d0887\"], [0.1111111111111111, \"#46039f\"], [0.2222222222222222, \"#7201a8\"], [0.3333333333333333, \"#9c179e\"], [0.4444444444444444, \"#bd3786\"], [0.5555555555555556, \"#d8576b\"], [0.6666666666666666, \"#ed7953\"], [0.7777777777777778, \"#fb9f3a\"], [0.8888888888888888, \"#fdca26\"], [1.0, \"#f0f921\"]], \"type\": \"histogram2dcontour\"}], \"mesh3d\": [{\"colorbar\": {\"outlinewidth\": 0, \"ticks\": \"\"}, \"type\": \"mesh3d\"}], \"parcoords\": [{\"line\": {\"colorbar\": {\"outlinewidth\": 0, \"ticks\": \"\"}}, \"type\": \"parcoords\"}], \"pie\": [{\"automargin\": true, \"type\": \"pie\"}], \"scatter\": [{\"marker\": {\"colorbar\": {\"outlinewidth\": 0, \"ticks\": \"\"}}, \"type\": \"scatter\"}], \"scatter3d\": [{\"line\": {\"colorbar\": {\"outlinewidth\": 0, \"ticks\": \"\"}}, \"marker\": {\"colorbar\": {\"outlinewidth\": 0, \"ticks\": \"\"}}, \"type\": \"scatter3d\"}], \"scattercarpet\": [{\"marker\": {\"colorbar\": {\"outlinewidth\": 0, \"ticks\": \"\"}}, \"type\": \"scattercarpet\"}], \"scattergeo\": [{\"marker\": {\"colorbar\": {\"outlinewidth\": 0, \"ticks\": \"\"}}, \"type\": \"scattergeo\"}], \"scattergl\": [{\"marker\": {\"colorbar\": {\"outlinewidth\": 0, \"ticks\": \"\"}}, \"type\": \"scattergl\"}], \"scattermapbox\": [{\"marker\": {\"colorbar\": {\"outlinewidth\": 0, \"ticks\": \"\"}}, \"type\": \"scattermapbox\"}], \"scatterpolar\": [{\"marker\": {\"colorbar\": {\"outlinewidth\": 0, \"ticks\": \"\"}}, \"type\": \"scatterpolar\"}], \"scatterpolargl\": [{\"marker\": {\"colorbar\": {\"outlinewidth\": 0, \"ticks\": \"\"}}, \"type\": \"scatterpolargl\"}], \"scatterternary\": [{\"marker\": {\"colorbar\": {\"outlinewidth\": 0, \"ticks\": \"\"}}, \"type\": \"scatterternary\"}], \"surface\": [{\"colorbar\": {\"outlinewidth\": 0, \"ticks\": \"\"}, \"colorscale\": [[0.0, \"#0d0887\"], [0.1111111111111111, \"#46039f\"], [0.2222222222222222, \"#7201a8\"], [0.3333333333333333, \"#9c179e\"], [0.4444444444444444, \"#bd3786\"], [0.5555555555555556, \"#d8576b\"], [0.6666666666666666, \"#ed7953\"], [0.7777777777777778, \"#fb9f3a\"], [0.8888888888888888, \"#fdca26\"], [1.0, \"#f0f921\"]], \"type\": \"surface\"}], \"table\": [{\"cells\": {\"fill\": {\"color\": \"#EBF0F8\"}, \"line\": {\"color\": \"white\"}}, \"header\": {\"fill\": {\"color\": \"#C8D4E3\"}, \"line\": {\"color\": \"white\"}}, \"type\": \"table\"}]}, \"layout\": {\"annotationdefaults\": {\"arrowcolor\": \"#2a3f5f\", \"arrowhead\": 0, \"arrowwidth\": 1}, \"autotypenumbers\": \"strict\", \"coloraxis\": {\"colorbar\": {\"outlinewidth\": 0, \"ticks\": \"\"}}, \"colorscale\": {\"diverging\": [[0, \"#8e0152\"], [0.1, \"#c51b7d\"], [0.2, \"#de77ae\"], [0.3, \"#f1b6da\"], [0.4, \"#fde0ef\"], [0.5, \"#f7f7f7\"], [0.6, \"#e6f5d0\"], [0.7, \"#b8e186\"], [0.8, \"#7fbc41\"], [0.9, \"#4d9221\"], [1, \"#276419\"]], \"sequential\": [[0.0, \"#0d0887\"], [0.1111111111111111, \"#46039f\"], [0.2222222222222222, \"#7201a8\"], [0.3333333333333333, \"#9c179e\"], [0.4444444444444444, \"#bd3786\"], [0.5555555555555556, \"#d8576b\"], [0.6666666666666666, \"#ed7953\"], [0.7777777777777778, \"#fb9f3a\"], [0.8888888888888888, \"#fdca26\"], [1.0, \"#f0f921\"]], \"sequentialminus\": [[0.0, \"#0d0887\"], [0.1111111111111111, \"#46039f\"], [0.2222222222222222, \"#7201a8\"], [0.3333333333333333, \"#9c179e\"], [0.4444444444444444, \"#bd3786\"], [0.5555555555555556, \"#d8576b\"], [0.6666666666666666, \"#ed7953\"], [0.7777777777777778, \"#fb9f3a\"], [0.8888888888888888, \"#fdca26\"], [1.0, \"#f0f921\"]]}, \"colorway\": [\"#636efa\", \"#EF553B\", \"#00cc96\", \"#ab63fa\", \"#FFA15A\", \"#19d3f3\", \"#FF6692\", \"#B6E880\", \"#FF97FF\", \"#FECB52\"], \"font\": {\"color\": \"#2a3f5f\"}, \"geo\": {\"bgcolor\": \"white\", \"lakecolor\": \"white\", \"landcolor\": \"#E5ECF6\", \"showlakes\": true, \"showland\": true, \"subunitcolor\": \"white\"}, \"hoverlabel\": {\"align\": \"left\"}, \"hovermode\": \"closest\", \"mapbox\": {\"style\": \"light\"}, \"paper_bgcolor\": \"white\", \"plot_bgcolor\": \"#E5ECF6\", \"polar\": {\"angularaxis\": {\"gridcolor\": \"white\", \"linecolor\": \"white\", \"ticks\": \"\"}, \"bgcolor\": \"#E5ECF6\", \"radialaxis\": {\"gridcolor\": \"white\", \"linecolor\": \"white\", \"ticks\": \"\"}}, \"scene\": {\"xaxis\": {\"backgroundcolor\": \"#E5ECF6\", \"gridcolor\": \"white\", \"gridwidth\": 2, \"linecolor\": \"white\", \"showbackground\": true, \"ticks\": \"\", \"zerolinecolor\": \"white\"}, \"yaxis\": {\"backgroundcolor\": \"#E5ECF6\", \"gridcolor\": \"white\", \"gridwidth\": 2, \"linecolor\": \"white\", \"showbackground\": true, \"ticks\": \"\", \"zerolinecolor\": \"white\"}, \"zaxis\": {\"backgroundcolor\": \"#E5ECF6\", \"gridcolor\": \"white\", \"gridwidth\": 2, \"linecolor\": \"white\", \"showbackground\": true, \"ticks\": \"\", \"zerolinecolor\": \"white\"}}, \"shapedefaults\": {\"line\": {\"color\": \"#2a3f5f\"}}, \"ternary\": {\"aaxis\": {\"gridcolor\": \"white\", \"linecolor\": \"white\", \"ticks\": \"\"}, \"baxis\": {\"gridcolor\": \"white\", \"linecolor\": \"white\", \"ticks\": \"\"}, \"bgcolor\": \"#E5ECF6\", \"caxis\": {\"gridcolor\": \"white\", \"linecolor\": \"white\", \"ticks\": \"\"}}, \"title\": {\"x\": 0.05}, \"xaxis\": {\"automargin\": true, \"gridcolor\": \"white\", \"linecolor\": \"white\", \"ticks\": \"\", \"title\": {\"standoff\": 15}, \"zerolinecolor\": \"white\", \"zerolinewidth\": 2}, \"yaxis\": {\"automargin\": true, \"gridcolor\": \"white\", \"linecolor\": \"white\", \"ticks\": \"\", \"title\": {\"standoff\": 15}, \"zerolinecolor\": \"white\", \"zerolinewidth\": 2}}}, \"width\": 1000},                        {\"responsive\": true}                    ).then(function(){\n",
       "                            \n",
       "var gd = document.getElementById('52fe0e1c-541b-4f78-a719-0dcb114511c4');\n",
       "var x = new MutationObserver(function (mutations, observer) {{\n",
       "        var display = window.getComputedStyle(gd).display;\n",
       "        if (!display || display === 'none') {{\n",
       "            console.log([gd, 'removed!']);\n",
       "            Plotly.purge(gd);\n",
       "            observer.disconnect();\n",
       "        }}\n",
       "}});\n",
       "\n",
       "// Listen for the removal of the full notebook cells\n",
       "var notebookContainer = gd.closest('#notebook-container');\n",
       "if (notebookContainer) {{\n",
       "    x.observe(notebookContainer, {childList: true});\n",
       "}}\n",
       "\n",
       "// Listen for the clearing of the current output cell\n",
       "var outputEl = gd.closest('.output');\n",
       "if (outputEl) {{\n",
       "    x.observe(outputEl, {childList: true});\n",
       "}}\n",
       "\n",
       "                        })                };                });            </script>        </div>"
      ]
     },
     "metadata": {},
     "output_type": "display_data"
    }
   ],
   "source": [
    "application_KPI[\"Color\"] = np.nan\n",
    "for i in application_KPI['Max latency (ms)']:\n",
    "    r = lambda: random.randint(50,255)\n",
    "    b = lambda: random.randint(50,255)\n",
    "    g= lambda: random.randint(50,255)\n",
    "    color='#%02X%02X%02X' % (r(),b(),g())\n",
    "    for j in range(0,len(application_KPI)):\n",
    "        if application_KPI['Max latency (ms)'][j]==i:\n",
    "            application_KPI['Color'][j]=color\n",
    "\n",
    "\n",
    "\n",
    "Specifique=application_KPI['Name']\n",
    "Application=application_KPI['Priority']\n",
    "Functions=application_KPI['Max latency (ms)']\n",
    "Specifique=list(set(Specifique))\n",
    "Application=list(set(Application))\n",
    "Functions=list(set(Functions))\n",
    "for i in range(0,len(Functions)-1):\n",
    "    if Functions[i]==\"nan\":\n",
    "        del(Functions[i])\n",
    "Source=[]\n",
    "Target=[]\n",
    "for h in range(0,len(application_KPI[\"Name\"])):\n",
    "     for i in range(0,len(Specifique)):\n",
    "        for j in range(0,len(Functions)):\n",
    "            if application_KPI[\"Name\"][h]==Specifique[i] and application_KPI['Max latency (ms)'][h]==Functions[j]:\n",
    "                 Source.append(i)\n",
    "                 Target.append(len(Specifique)+j)\n",
    "                \n",
    "for h in range(0,len(application_KPI[\"Name\"])):\n",
    "    for i in range(0,len(Application)):\n",
    "         for j in range(0,len(Functions)):\n",
    "            if application_KPI[\"Priority\"][h]==Application[i] and application_KPI['Max latency (ms)'][h]==Functions[j]:\n",
    "                Source.append(len(Specifique)+j)\n",
    "                Target.append(len(Specifique)+len(Functions)+i)\n",
    "                \n",
    "                \n",
    "for i in range(0,len(Source)):\n",
    "    for j in range(0,len(Source)):\n",
    "        if Source[i]==Source[j] and Target[i]==Target[j] and i!=j:\n",
    "            Source[j]=\"Nan\"\n",
    "            Target[j]=\"Nan\"\n",
    "            \n",
    "Target2=[]\n",
    "Source2=[]\n",
    "for i in range(0,len(Target)-1):\n",
    "    if Target[i]!=\"Nan\":\n",
    "        Target2.append(Target[i])\n",
    "        Source2.append(Source[i]) \n",
    "        \n",
    "label1=Specifique\n",
    "for i in range(0,len(Functions)):\n",
    "    label1.append(Functions[i])\n",
    "for i in range(0,len(Application)):\n",
    "    label1.append(Application[i])\n",
    "Value=[1 for i in range(len(application_KPI))]\n",
    "Val2=[25,1,1,2,2,9,2,17,1,1]\n",
    "for i in range(0,len(Val2)):\n",
    "    Value.append(Val2[i])\n",
    "    \n",
    "    \n",
    "col=[]\n",
    "for i in range(0,len(application_KPI['Color'])):\n",
    "    col.append(application_KPI['Color'][i])\n",
    " \n",
    "col2=[\"lightcoral\",\"lightcoral\",\"lightcoral\",'lightsalmon','lightsalmon',\"lightgreen\",'green','green','green','green',\"lightgreen\"]\n",
    "for i in range(0,len(Val2)):\n",
    "    col.append(col2[i])    \n",
    "\n",
    "fig = go.Figure(data=[go.Sankey(\n",
    "    orientation=\"h\",\n",
    "    valueformat = \".0f\",\n",
    "    valuesuffix = \"TWh\",\n",
    "    node = dict(\n",
    "      pad = 300,\n",
    "\n",
    "\n",
    "      thickness = 15,\n",
    "      line = dict(color = \"red\", width = 1),\n",
    "      label = label1,\n",
    "      color = 'grey'\n",
    "    ),\n",
    "    link = dict(\n",
    "      source = Source2, # indices correspond to labels, eg A1, A2, A1, B1, ...\n",
    "      target = Target2,\n",
    "      value = Value,\n",
    "    color=col\n",
    "     \n",
    "  )\n",
    ")])\n",
    "\n",
    "fig.update_layout( font_size=15, width=1000,\n",
    "    height=1000)\n",
    "fig.show()\n"
   ]
  },
  {
   "cell_type": "code",
   "execution_count": null,
   "id": "interstate-bleeding",
   "metadata": {},
   "outputs": [],
   "source": []
  },
  {
   "cell_type": "code",
   "execution_count": null,
   "id": "piano-flexibility",
   "metadata": {},
   "outputs": [],
   "source": []
  }
 ],
 "metadata": {
  "kernelspec": {
   "display_name": "Python 3",
   "language": "python",
   "name": "python3"
  },
  "language_info": {
   "codemirror_mode": {
    "name": "ipython",
    "version": 3
   },
   "file_extension": ".py",
   "mimetype": "text/x-python",
   "name": "python",
   "nbconvert_exporter": "python",
   "pygments_lexer": "ipython3",
   "version": "3.7.6"
  }
 },
 "nbformat": 4,
 "nbformat_minor": 5
}
