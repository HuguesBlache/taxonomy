{
 "cells": [
  {
   "cell_type": "code",
   "execution_count": 1,
   "id": "junior-sauce",
   "metadata": {},
   "outputs": [],
   "source": [
    "%run ./Code/data/Data.ipynb"
   ]
  },
  {
   "cell_type": "code",
   "execution_count": 3,
   "id": "incoming-palmer",
   "metadata": {},
   "outputs": [],
   "source": [
    "import plotly.graph_objects as go\n",
    "import pandas as pd\n",
    "import plotly.express as px\n",
    "import pandas as pd\n",
    "import ipywidgets as widgets\n",
    "from ipywidgets import interactive\n",
    "from IPython.display import display\n",
    "from ipywidgets import interact, Dropdown\n",
    "import plotly.graph_objects as go\n",
    "from plotly.subplots import make_subplots\n",
    "import random\n",
    "import numpy as np"
   ]
  },
  {
   "cell_type": "code",
   "execution_count": 4,
   "id": "appreciated-bouquet",
   "metadata": {
    "collapsed": true
   },
   "outputs": [
    {
     "name": "stderr",
     "output_type": "stream",
     "text": [
      "./Code/data_treatment/data_treatment_application.ipynb:21: SettingWithCopyWarning: \n",
      "A value is trying to be set on a copy of a slice from a DataFrame\n",
      "\n",
      "See the caveats in the documentation: https://pandas.pydata.org/pandas-docs/stable/user_guide/indexing.html#returning-a-view-versus-a-copy\n",
      "  \"        if application_data[j][i]==\\\"Yes\\\":\\n\",\n",
      "C:\\Users\\hugue\\anaconda\\lib\\site-packages\\pandas\\core\\indexing.py:1637: SettingWithCopyWarning: \n",
      "A value is trying to be set on a copy of a slice from a DataFrame\n",
      "\n",
      "See the caveats in the documentation: https://pandas.pydata.org/pandas-docs/stable/user_guide/indexing.html#returning-a-view-versus-a-copy\n",
      "  self._setitem_single_block(indexer, value, name)\n",
      "./Code/data_treatment/data_treatment_application.ipynb:9: SettingWithCopyWarning: \n",
      "A value is trying to be set on a copy of a slice from a DataFrame\n",
      "\n",
      "See the caveats in the documentation: https://pandas.pydata.org/pandas-docs/stable/user_guide/indexing.html#returning-a-view-versus-a-copy\n",
      "  ]\n",
      "./Code/data_treatment/data_treatment_application.ipynb:14: SettingWithCopyWarning: \n",
      "A value is trying to be set on a copy of a slice from a DataFrame\n",
      "\n",
      "See the caveats in the documentation: https://pandas.pydata.org/pandas-docs/stable/user_guide/indexing.html#returning-a-view-versus-a-copy\n",
      "  \"id\": \"optical-antibody\",\n",
      "./Code/data_treatment/data_treatment_application.ipynb:20: SettingWithCopyWarning: \n",
      "A value is trying to be set on a copy of a slice from a DataFrame\n",
      "\n",
      "See the caveats in the documentation: https://pandas.pydata.org/pandas-docs/stable/user_guide/indexing.html#returning-a-view-versus-a-copy\n",
      "  \"    for i in range(0,len(application_data[j])):\\n\",\n",
      "./Code/data_treatment/data_treatment_application.ipynb:20: SettingWithCopyWarning: \n",
      "A value is trying to be set on a copy of a slice from a DataFrame\n",
      "\n",
      "See the caveats in the documentation: https://pandas.pydata.org/pandas-docs/stable/user_guide/indexing.html#returning-a-view-versus-a-copy\n",
      "  \"    for i in range(0,len(application_data[j])):\\n\",\n"
     ]
    }
   ],
   "source": [
    "%run ./Code/data_treatment/data_treatment_application.ipynb"
   ]
  },
  {
   "cell_type": "code",
   "execution_count": 7,
   "id": "artistic-strap",
   "metadata": {},
   "outputs": [],
   "source": [
    "application_KPI=application_data.iloc[:, np.r_[0,38:48]]"
   ]
  },
  {
   "cell_type": "code",
   "execution_count": 8,
   "id": "horizontal-ownership",
   "metadata": {},
   "outputs": [
    {
     "ename": "IndentationError",
     "evalue": "expected an indented block (<ipython-input-8-c235cbc51607>, line 20)",
     "output_type": "error",
     "traceback": [
      "\u001b[1;36m  File \u001b[1;32m\"<ipython-input-8-c235cbc51607>\"\u001b[1;36m, line \u001b[1;32m20\u001b[0m\n\u001b[1;33m    for i in range(0,len(Application)):\u001b[0m\n\u001b[1;37m      ^\u001b[0m\n\u001b[1;31mIndentationError\u001b[0m\u001b[1;31m:\u001b[0m expected an indented block\n"
     ]
    }
   ],
   "source": [
    "def Parrallel_Coordinate(Categorie):   \n",
    "    Specifique=df['Name']\n",
    "    Application=df['Priority']\n",
    "    Functions=df['Latency']\n",
    "    Specifique=list(set(Specifique))\n",
    "    Application=list(set(Application))\n",
    "    Functions=list(set(Functions))\n",
    "    for i in range(0,len(Functions)-1):\n",
    "        if Functions[i]==\"nan\":\n",
    "            del(Functions[i])\n",
    "    Source=[]\n",
    "    Target=[]\n",
    "    for h in range(0,len(df[\"Name\"])):\n",
    "         for i in range(0,len(Specifique)):\n",
    "            for j in range(0,len(Functions)):\n",
    "                if df[\"Name\"][h]==Specifique[i] and df['Latency'][h]==Functions[j]:\n",
    "                     Source.append(i)\n",
    "                     Target.append(len(Specifique)+j)\n",
    "    for h in range(0,len(df[\"Name\"])):\n",
    "        for i in range(0,len(Application)):\n",
    "             for j in range(0,len(Functions)):\n",
    "                if df[\"Priority\"][h]==Application[i] and df['Latency'][h]==Functions[j]:\n",
    "                    Source.append(len(Specifique)+j)\n",
    "                    Target.append(len(Specifique)+len(Functions)+i)\n",
    "    for i in range(0,len(Source)):\n",
    "    for j in range(0,len(Source)):\n",
    "        if Source[i]==Source[j] and Target[i]==Target[j] and i!=j:\n",
    "            Source[j]=\"Nan\"\n",
    "            Target[j]=\"Nan\"\n",
    "    for i in range(0,len(Target)-1):\n",
    "    if Target[i]==\"Nan\":\n",
    "        del(Target[i]) \n",
    "        del(Source[i]) \n",
    "    label1=Specifique\n",
    "    for i in range(0,len(Functions)):\n",
    "        label1.append(Functions[i])\n",
    "    for i in range(0,len(Application)):\n",
    "        label1.append(Application[i])\n",
    "    Value=[1 for i in range(76)]\n",
    "    Val2=[30,3,1,1,1,1,31,4,1,2,1,1]\n",
    "    for i in range(0,len(Val2)):\n",
    "    Value.append(Val2[i])\n",
    "    \n",
    "\n",
    "    fig = go.Figure(data=[go.Sankey(\n",
    "        orientation=\"h\",\n",
    "        valueformat = \".0f\",\n",
    "        valuesuffix = \"TWh\",\n",
    "        node = dict(\n",
    "          pad = 300,\n",
    "\n",
    "\n",
    "          thickness = 12,\n",
    "          line = dict(color = \"red\", width = 1),\n",
    "          label = label1,\n",
    "          color = 'grey'\n",
    "        ),\n",
    "        link = dict(\n",
    "          source = Source, # indices correspond to labels, eg A1, A2, A1, B1, ...\n",
    "          target = Target,\n",
    "          value = Value,\n",
    "          color=col\n",
    "      )\n",
    "    )])\n",
    "\n",
    "    fig.update_layout( font_size=10, width=1000,\n",
    "        height=1000)\n",
    "    fig.show()\n",
    "    return fig.show()"
   ]
  },
  {
   "cell_type": "code",
   "execution_count": null,
   "id": "impressed-belly",
   "metadata": {},
   "outputs": [],
   "source": []
  }
 ],
 "metadata": {
  "kernelspec": {
   "display_name": "Python 3",
   "language": "python",
   "name": "python3"
  },
  "language_info": {
   "codemirror_mode": {
    "name": "ipython",
    "version": 3
   },
   "file_extension": ".py",
   "mimetype": "text/x-python",
   "name": "python",
   "nbconvert_exporter": "python",
   "pygments_lexer": "ipython3",
   "version": "3.7.6"
  }
 },
 "nbformat": 4,
 "nbformat_minor": 5
}
