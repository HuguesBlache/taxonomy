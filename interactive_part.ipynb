{
 "cells": [
  {
   "cell_type": "code",
   "execution_count": 3,
   "id": "unable-kernel",
   "metadata": {
    "scrolled": false
   },
   "outputs": [
    {
     "data": {
      "application/vnd.jupyter.widget-view+json": {
       "model_id": "3f2c6a821b0a491c954a86ae93ff367f",
       "version_major": 2,
       "version_minor": 0
      },
      "text/plain": [
       "interactive(children=(Dropdown(description='Partie', options=('Application', 'Technologie', 'Fusion'), value='…"
      ]
     },
     "metadata": {},
     "output_type": "display_data"
    }
   ],
   "source": [
    "import pandas as pd\n",
    "pd.options.mode.chained_assignment = None\n",
    "%run ./Code/main.ipynb"
   ]
  },
  {
   "cell_type": "code",
   "execution_count": null,
   "id": "heated-pencil",
   "metadata": {},
   "outputs": [],
   "source": []
  },
  {
   "cell_type": "code",
   "execution_count": 2,
   "id": "instructional-renaissance",
   "metadata": {},
   "outputs": [
    {
     "data": {
      "application/vnd.plotly.v1+json": {
       "config": {
        "plotlyServerURL": "https://plot.ly"
       },
       "data": [
        {
         "branchvalues": "total",
         "customdata": [
          [
           "SigFox (Rural)"
          ],
          [
           "MBWA"
          ],
          [
           "MicroWave"
          ],
          [
           "NBIot"
          ],
          [
           "LTE-4G"
          ],
          [
           "MBWA"
          ],
          [
           "LoRa (Urban)"
          ],
          [
           "LoRa (Rural)"
          ],
          [
           "LTE-4G"
          ],
          [
           "Ingenu-RPMA"
          ],
          [
           "DSRC/Wave"
          ],
          [
           "LoRa (Urban)"
          ],
          [
           "CALM"
          ],
          [
           "5G Mid"
          ],
          [
           "5G Low"
          ],
          [
           "WiMax"
          ],
          [
           "WIFI"
          ],
          [
           "NBIot"
          ],
          [
           "MicroWave"
          ],
          [
           "MBWA"
          ],
          [
           "LTE-4G"
          ],
          [
           "5G Mid"
          ],
          [
           "5G Low"
          ],
          [
           "WiMax"
          ],
          [
           "NBIot"
          ],
          [
           "MicroWave"
          ],
          [
           "MBWA"
          ],
          [
           "LTE-4G"
          ],
          [
           "LoRa (Urban)"
          ],
          [
           "LoRa (Rural)"
          ],
          [
           "LTE-4G"
          ],
          [
           "Ingenu-RPMA"
          ],
          [
           "MBWA"
          ],
          [
           "MicroWave"
          ],
          [
           "NBIot"
          ],
          [
           "SigFox (Rural)"
          ],
          [
           "SigFox (Urban)"
          ],
          [
           "WIFI"
          ],
          [
           "WiMax"
          ],
          [
           "5G Low"
          ],
          [
           "5G Mid"
          ],
          [
           "CALM"
          ],
          [
           "DASH7"
          ],
          [
           "DSRC/Wave"
          ],
          [
           "Ingenu-RPMA"
          ],
          [
           "5G Mid"
          ],
          [
           "LTE-4G"
          ],
          [
           "LoRa (Urban)"
          ],
          [
           "MBWA"
          ],
          [
           "MicroWave"
          ],
          [
           "NBIot"
          ],
          [
           "SigFox (Rural)"
          ],
          [
           "SigFox (Urban)"
          ],
          [
           "WIFI"
          ],
          [
           "WiMax"
          ],
          [
           "5G Low"
          ],
          [
           "5G Mid"
          ],
          [
           "CALM"
          ],
          [
           "DASH7"
          ],
          [
           "DSRC/Wave"
          ],
          [
           "LoRa (Rural)"
          ],
          [
           "5G Low"
          ],
          [
           "DASH7"
          ],
          [
           "NBIot"
          ],
          [
           "5G Mid"
          ],
          [
           "CALM"
          ],
          [
           "DASH7"
          ],
          [
           "DSRC/Wave"
          ],
          [
           "Ingenu-RPMA"
          ],
          [
           "WiMax"
          ],
          [
           "LoRa (Rural)"
          ],
          [
           "MicroWave"
          ],
          [
           "MBWA"
          ],
          [
           "LTE-4G"
          ],
          [
           "NBIot"
          ],
          [
           "CALM"
          ],
          [
           "5G Mid"
          ],
          [
           "5G Low"
          ],
          [
           "SigFox (Urban)"
          ],
          [
           "WIFI"
          ],
          [
           "WiMax"
          ],
          [
           "MicroWave"
          ],
          [
           "DASH7"
          ],
          [
           "WiMax"
          ],
          [
           "SigFox (Urban)"
          ],
          [
           "SigFox (Rural)"
          ],
          [
           "MBWA"
          ],
          [
           "MicroWave"
          ],
          [
           "5G Low"
          ],
          [
           "DSRC/Wave"
          ],
          [
           "LTE-4G"
          ],
          [
           "MBWA"
          ],
          [
           "5G Mid"
          ],
          [
           "LTE-4G"
          ],
          [
           "5G mmWavve"
          ],
          [
           "5G Mid"
          ],
          [
           "5G Low"
          ],
          [
           "WiMax"
          ],
          [
           "Ingenu-RPMA"
          ],
          [
           "WIFI"
          ],
          [
           "SigFox (Rural)"
          ],
          [
           "NBIot"
          ],
          [
           "MicroWave"
          ],
          [
           "MBWA"
          ],
          [
           "LoRa (Urban)"
          ],
          [
           "LoRa (Rural)"
          ],
          [
           "SigFox (Urban)"
          ],
          [
           "LoRa (Urban)"
          ],
          [
           "NBIot"
          ],
          [
           "LTE-4G"
          ],
          [
           "NBIot"
          ],
          [
           "MicroWave"
          ],
          [
           "WiMax"
          ],
          [
           "NBIot"
          ],
          [
           "LoRa (Rural)"
          ],
          [
           "5G Mid"
          ],
          [
           "5G Low"
          ],
          [
           "ZigBee"
          ],
          [
           "WiMax"
          ],
          [
           "WIFI"
          ],
          [
           "UWB"
          ],
          [
           "NBIot"
          ],
          [
           "LTE-4G"
          ],
          [
           "5G mmWavve"
          ],
          [
           "5G Mid"
          ],
          [
           "5G Low"
          ],
          [
           "WiMax"
          ],
          [
           "SigFox (Rural)"
          ],
          [
           "SigFox (Urban)"
          ],
          [
           "LTE-4G"
          ],
          [
           "WiMax"
          ],
          [
           "Ingenu-RPMA"
          ],
          [
           "DSRC/Wave"
          ],
          [
           "DASH7"
          ],
          [
           "WIFI"
          ],
          [
           "5G Mid"
          ],
          [
           "5G Low"
          ],
          [
           "WiMax"
          ],
          [
           "CALM"
          ],
          [
           "WIFI"
          ],
          [
           "NBIot"
          ],
          [
           "5G Low"
          ],
          [
           "MicroWave"
          ],
          [
           "MBWA"
          ],
          [
           "LTE-4G"
          ],
          [
           "5G Mid"
          ],
          [
           "CALM"
          ],
          [
           "DASH7"
          ],
          [
           "5G Low"
          ],
          [
           "5G Mid"
          ],
          [
           "LTE-4G"
          ],
          [
           "WiMax"
          ],
          [
           "LTE-4G"
          ],
          [
           "MBWA"
          ],
          [
           "MicroWave"
          ],
          [
           "NBIot"
          ],
          [
           "WiMax"
          ],
          [
           "5G Low"
          ],
          [
           "5G Mid"
          ],
          [
           "LTE-4G"
          ],
          [
           "MBWA"
          ],
          [
           "WiMax"
          ],
          [
           "ZigBee"
          ],
          [
           "MBWA"
          ],
          [
           "MicroWave"
          ],
          [
           "NBIot"
          ],
          [
           "SigFox (Rural)"
          ],
          [
           "WIFI"
          ],
          [
           "UWB"
          ],
          [
           "SigFox (Urban)"
          ],
          [
           "5G Low"
          ],
          [
           "5G Mid"
          ],
          [
           "CALM"
          ],
          [
           "DSRC/Wave"
          ],
          [
           "LTE-4G"
          ],
          [
           "WiMax"
          ],
          [
           "LoRa (Rural)"
          ],
          [
           "LoRa (Urban)"
          ],
          [
           "MBWA"
          ],
          [
           "DASH7"
          ],
          [
           "DSRC/Wave"
          ],
          [
           "Ingenu-RPMA"
          ],
          [
           "WIFI"
          ],
          [
           "MBWA"
          ],
          [
           "Ingenu-RPMA"
          ],
          [
           "NBIot"
          ],
          [
           "MicroWave"
          ],
          [
           "MBWA"
          ],
          [
           "LoRa (Urban)"
          ],
          [
           "LoRa (Rural)"
          ],
          [
           "LTE-4G"
          ],
          [
           "Ingenu-RPMA"
          ],
          [
           "DSRC/Wave"
          ],
          [
           "DASH7"
          ],
          [
           "CALM"
          ],
          [
           "5G Mid"
          ],
          [
           "5G Low"
          ],
          [
           "WiMax"
          ],
          [
           "NBIot"
          ],
          [
           "MicroWave"
          ],
          [
           "LTE-4G"
          ],
          [
           "SigFox (Rural)"
          ],
          [
           "SigFox (Urban)"
          ],
          [
           "SigFox (Rural)"
          ],
          [
           "NBIot"
          ],
          [
           "MicroWave"
          ],
          [
           "WIFI"
          ],
          [
           "WiMax"
          ],
          [
           "5G Low"
          ],
          [
           "5G Mid"
          ],
          [
           "CALM"
          ],
          [
           "DASH7"
          ],
          [
           "DSRC/Wave"
          ],
          [
           "Ingenu-RPMA"
          ],
          [
           "LTE-4G"
          ],
          [
           "LoRa (Rural)"
          ],
          [
           "LoRa (Urban)"
          ],
          [
           "MBWA"
          ],
          [
           "MicroWave"
          ],
          [
           "NBIot"
          ],
          [
           "SigFox (Rural)"
          ],
          [
           "WIFI"
          ],
          [
           "WiMax"
          ],
          [
           "5G Low"
          ],
          [
           "WIFI"
          ],
          [
           "SigFox (Urban)"
          ],
          [
           "SigFox (Rural)"
          ],
          [
           "NBIot"
          ],
          [
           "SigFox (Urban)"
          ],
          [
           "5G Low"
          ],
          [
           "NBIot"
          ],
          [
           "MicroWave"
          ],
          [
           "MBWA"
          ],
          [
           "LoRa (Urban)"
          ],
          [
           "LoRa (Rural)"
          ],
          [
           "LTE-4G"
          ],
          [
           "Ingenu-RPMA"
          ],
          [
           "5G Mid"
          ],
          [
           "CALM"
          ],
          [
           "DASH7"
          ],
          [
           "DSRC/Wave"
          ],
          [
           "Ingenu-RPMA"
          ],
          [
           "LTE-4G"
          ],
          [
           "LoRa (Rural)"
          ],
          [
           "LoRa (Urban)"
          ],
          [
           "MBWA"
          ],
          [
           "MicroWave"
          ],
          [
           "WiMax"
          ],
          [
           "SigFox (Rural)"
          ],
          [
           "SigFox (Urban)"
          ],
          [
           "LTE-4G"
          ],
          [
           "NBIot"
          ],
          [
           "WIFI"
          ],
          [
           "WiMax"
          ],
          [
           "5G Low"
          ],
          [
           "5G Mid"
          ],
          [
           "BLE"
          ],
          [
           "LTE-4G"
          ],
          [
           "NBIot"
          ],
          [
           "UWB"
          ],
          [
           "WIFI"
          ],
          [
           "WiMax"
          ],
          [
           "ZigBee"
          ],
          [
           "5G Low"
          ],
          [
           "5G Mid"
          ],
          [
           "NBIot"
          ],
          [
           "WiMax"
          ],
          [
           "5G Low"
          ],
          [
           "5G Mid"
          ],
          [
           "LTE-4G"
          ],
          [
           "NBIot"
          ],
          [
           "WiMax"
          ],
          [
           "5G Low"
          ],
          [
           "5G Mid"
          ],
          [
           "LTE-4G"
          ],
          [
           "5G Mid"
          ],
          [
           "5G mmWavve"
          ],
          [
           "WiMax"
          ],
          [
           "5G Low"
          ],
          [
           "WIFI"
          ],
          [
           "Ingenu-RPMA"
          ],
          [
           "SigFox (Rural)"
          ],
          [
           "WIFI"
          ],
          [
           "SigFox (Urban)"
          ],
          [
           "SigFox (Rural)"
          ],
          [
           "IR"
          ],
          [
           "NBIot"
          ],
          [
           "LoRa (Rural)"
          ],
          [
           "LTE-4G"
          ],
          [
           "DSRC/Wave"
          ],
          [
           "CALM"
          ],
          [
           "LTE-4G"
          ],
          [
           "LoRa (Rural)"
          ],
          [
           "LoRa (Urban)"
          ],
          [
           "LoRa (Urban)"
          ],
          [
           "DSRC/Wave"
          ],
          [
           "NBIot"
          ],
          [
           "CALM"
          ],
          [
           "MicroWave"
          ],
          [
           "MBWA"
          ],
          [
           "SigFox (Urban)"
          ],
          [
           "DASH7"
          ],
          [
           "WiMax"
          ],
          [
           "5G Low"
          ],
          [
           "5G Mid"
          ],
          [
           "LTE-4G"
          ],
          [
           "WIFI"
          ],
          [
           "MicroWave"
          ],
          [
           "NBIot"
          ],
          [
           "WiMax"
          ],
          [
           "5G Low"
          ],
          [
           "5G Mid"
          ],
          [
           "5G mmWavve"
          ],
          [
           "BLE"
          ],
          [
           "MBWA"
          ],
          [
           "MBWA"
          ],
          [
           "LTE-4G"
          ],
          [
           "IR"
          ],
          [
           "5G mmWavve"
          ],
          [
           "5G Mid"
          ],
          [
           "SigFox (Rural)"
          ],
          [
           "WIFI"
          ],
          [
           "SigFox (Urban)"
          ],
          [
           "NBIot"
          ],
          [
           "WiMax"
          ],
          [
           "MicroWave"
          ],
          [
           "5G Low"
          ],
          [
           "UWB"
          ],
          [
           "NBIot"
          ],
          [
           "WiMax"
          ],
          [
           "5G Low"
          ],
          [
           "5G Mid"
          ],
          [
           "5G Mid"
          ],
          [
           "CALM"
          ],
          [
           "DSRC/Wave"
          ],
          [
           "Ingenu-RPMA"
          ],
          [
           "LTE-4G"
          ],
          [
           "LoRa (Rural)"
          ],
          [
           "LoRa (Urban)"
          ],
          [
           "DASH7"
          ],
          [
           "WiMax"
          ],
          [
           "NBIot"
          ],
          [
           "MicroWave"
          ],
          [
           "MBWA"
          ],
          [
           "LTE-4G"
          ],
          [
           "5G Mid"
          ],
          [
           "5G Low"
          ],
          [
           "WIFI"
          ],
          [
           "5G Low"
          ],
          [
           "ZigBee"
          ],
          [
           "MicroWave"
          ],
          [
           "MBWA"
          ],
          [
           "LoRa (Rural)"
          ],
          [
           "LTE-4G"
          ],
          [
           "Ingenu-RPMA"
          ],
          [
           "DSRC/Wave"
          ],
          [
           "NBIot"
          ],
          [
           "CALM"
          ],
          [
           "5G Mid"
          ],
          [
           "5G Low"
          ],
          [
           "MicroWave"
          ],
          [
           "WiMax"
          ],
          [
           "MBWA"
          ],
          [
           "NBIot"
          ],
          [
           "DASH7"
          ],
          [
           "SigFox (Rural)"
          ],
          [
           "LoRa (Urban)"
          ],
          [
           "WIFI"
          ],
          [
           "5G Mid"
          ],
          [
           "CALM"
          ],
          [
           "DASH7"
          ],
          [
           "DSRC/Wave"
          ],
          [
           "Ingenu-RPMA"
          ],
          [
           "LTE-4G"
          ],
          [
           "SigFox (Urban)"
          ],
          [
           "WIFI"
          ],
          [
           "LoRa (Rural)"
          ],
          [
           "WiMax"
          ],
          [
           "SigFox (Urban)"
          ],
          [
           "SigFox (Rural)"
          ],
          [
           "5G Low"
          ],
          [
           "MicroWave"
          ],
          [
           "MBWA"
          ],
          [
           "LoRa (Urban)"
          ],
          [
           "WiMax"
          ],
          [
           "5G Low"
          ],
          [
           "5G Mid"
          ],
          [
           "LoRa (Rural)"
          ],
          [
           "CALM"
          ],
          [
           "LTE-4G"
          ],
          [
           "NBIot"
          ],
          [
           "Ingenu-RPMA"
          ],
          [
           "DASH7"
          ],
          [
           "DSRC/Wave"
          ],
          [
           "5G mmWavve"
          ],
          [
           "LTE-4G"
          ],
          [
           "LoRa (Urban)"
          ],
          [
           "ZigBee"
          ],
          [
           "WIFI"
          ],
          [
           "5G Mid"
          ],
          [
           "WiMax"
          ],
          [
           "5G Low"
          ],
          [
           "WiMax"
          ],
          [
           "NBIot"
          ],
          [
           "MicroWave"
          ],
          [
           "MBWA"
          ],
          [
           "LTE-4G"
          ],
          [
           "5G Mid"
          ],
          [
           "WiMax"
          ],
          [
           "WIFI"
          ],
          [
           "SigFox (Urban)"
          ],
          [
           "SigFox (Rural)"
          ],
          [
           "NBIot"
          ],
          [
           "MicroWave"
          ],
          [
           "MBWA"
          ],
          [
           "5G Low"
          ],
          [
           "5G Low"
          ],
          [
           "UWB"
          ],
          [
           "LTE-4G"
          ],
          [
           "CALM"
          ],
          [
           "NBIot"
          ],
          [
           "5G Mid"
          ],
          [
           "WiMax"
          ],
          [
           "5G Low"
          ],
          [
           "DASH7"
          ],
          [
           "DSRC/Wave"
          ],
          [
           "Ingenu-RPMA"
          ],
          [
           "LTE-4G"
          ],
          [
           "5G Mid"
          ],
          [
           "LoRa (Urban)"
          ],
          [
           "MBWA"
          ],
          [
           "MicroWave"
          ],
          [
           "NBIot"
          ],
          [
           "WIFI"
          ],
          [
           "SigFox (Rural)"
          ],
          [
           "LoRa (Rural)"
          ],
          [
           "SigFox (Urban)"
          ],
          [
           "NBIot"
          ],
          [
           "WIFI"
          ],
          [
           "SigFox (Urban)"
          ],
          [
           "SigFox (Rural)"
          ],
          [
           "NBIot"
          ],
          [
           "LoRa (Urban)"
          ],
          [
           "LoRa (Rural)"
          ],
          [
           "LTE-4G"
          ],
          [
           "Ingenu-RPMA"
          ],
          [
           "DSRC/Wave"
          ],
          [
           "MicroWave"
          ],
          [
           "WiMax"
          ],
          [
           "5G Mid"
          ],
          [
           "LTE-4G"
          ],
          [
           "NBIot"
          ],
          [
           "WiMax"
          ],
          [
           "5G Low"
          ],
          [
           "5G Mid"
          ],
          [
           "DASH7"
          ],
          [
           "DSRC/Wave"
          ],
          [
           "Ingenu-RPMA"
          ],
          [
           "LTE-4G"
          ],
          [
           "LoRa (Rural)"
          ],
          [
           "LoRa (Urban)"
          ],
          [
           "MBWA"
          ],
          [
           "MicroWave"
          ],
          [
           "NBIot"
          ],
          [
           "5G Low"
          ],
          [
           "CALM"
          ],
          [
           "MBWA"
          ],
          [
           "5G Mid"
          ],
          [
           "LoRa (Urban)"
          ],
          [
           "LoRa (Rural)"
          ],
          [
           "LTE-4G"
          ],
          [
           "Ingenu-RPMA"
          ],
          [
           "DSRC/Wave"
          ],
          [
           "DASH7"
          ],
          [
           "LTE-4G"
          ],
          [
           "5G Mid"
          ],
          [
           "MBWA"
          ],
          [
           "5G Low"
          ],
          [
           "NBIot"
          ],
          [
           "MicroWave"
          ],
          [
           "MBWA"
          ],
          [
           "LTE-4G"
          ],
          [
           "5G Low"
          ],
          [
           "ZigBee"
          ],
          [
           "WiMax"
          ],
          [
           "UWB"
          ],
          [
           "WiMax"
          ],
          [
           "MicroWave"
          ],
          [
           "CALM"
          ],
          [
           "SigFox (Rural)"
          ],
          [
           "NBIot"
          ],
          [
           "WiMax"
          ],
          [
           "WIFI"
          ],
          [
           "SigFox (Urban)"
          ],
          [
           "SigFox (Rural)"
          ],
          [
           "NBIot"
          ],
          [
           "MicroWave"
          ],
          [
           "MBWA"
          ],
          [
           "LoRa (Rural)"
          ],
          [
           "5G Low"
          ],
          [
           "Ingenu-RPMA"
          ],
          [
           "LTE-4G"
          ],
          [
           "SigFox (Urban)"
          ],
          [
           "WIFI"
          ],
          [
           "WiMax"
          ],
          [
           "LoRa (Urban)"
          ],
          [
           "5G Mid"
          ],
          [
           "CALM"
          ],
          [
           "DASH7"
          ],
          [
           "5G Low"
          ],
          [
           "DSRC/Wave"
          ],
          [
           "LoRa (Rural)"
          ],
          [
           "LTE-4G"
          ],
          [
           "LoRa (Urban)"
          ],
          [
           "DASH7"
          ],
          [
           "CALM"
          ],
          [
           "5G Mid"
          ],
          [
           "5G Low"
          ],
          [
           "DSRC/Wave"
          ],
          [
           "Ingenu-RPMA"
          ],
          [
           "MBWA"
          ],
          [
           "MicroWave"
          ],
          [
           "NBIot"
          ],
          [
           "SigFox (Rural)"
          ],
          [
           "SigFox (Urban)"
          ],
          [
           "WIFI"
          ],
          [
           "WiMax"
          ],
          [
           "5G Low"
          ],
          [
           "5G Mid"
          ],
          [
           "5G Low"
          ],
          [
           "MicroWave"
          ],
          [
           "NBIot"
          ],
          [
           "WiMax"
          ],
          [
           "5G Mid"
          ],
          [
           "5G Mid"
          ],
          [
           "CALM"
          ],
          [
           "DASH7"
          ],
          [
           "DSRC/Wave"
          ],
          [
           "LTE-4G"
          ],
          [
           "LoRa (Rural)"
          ],
          [
           "LoRa (Urban)"
          ],
          [
           "5G Low"
          ],
          [
           "MBWA"
          ],
          [
           "NBIot"
          ],
          [
           "SigFox (Rural)"
          ],
          [
           "SigFox (Urban)"
          ],
          [
           "WIFI"
          ],
          [
           "WiMax"
          ],
          [
           "5G Low"
          ],
          [
           "5G Mid"
          ],
          [
           "CALM"
          ],
          [
           "DASH7"
          ],
          [
           "DSRC/Wave"
          ],
          [
           "MicroWave"
          ],
          [
           "WiMax"
          ],
          [
           "Ingenu-RPMA"
          ],
          [
           "SigFox (Urban)"
          ],
          [
           "LTE-4G"
          ],
          [
           "MBWA"
          ],
          [
           "WIFI"
          ],
          [
           "NBIot"
          ],
          [
           "WiMax"
          ],
          [
           "5G Low"
          ],
          [
           "5G Mid"
          ],
          [
           "LTE-4G"
          ],
          [
           "NBIot"
          ],
          [
           "SigFox (Urban)"
          ],
          [
           "MicroWave"
          ],
          [
           "WiMax"
          ],
          [
           "WIFI"
          ],
          [
           "SigFox (Rural)"
          ],
          [
           "MicroWave"
          ],
          [
           "MBWA"
          ],
          [
           "NBIot"
          ],
          [
           "LoRa (Rural)"
          ],
          [
           "LTE-4G"
          ],
          [
           "5G Low"
          ],
          [
           "LoRa (Urban)"
          ],
          [
           "5G Low"
          ],
          [
           "LTE-4G"
          ],
          [
           "5G Mid"
          ],
          [
           "CALM"
          ],
          [
           "DASH7"
          ],
          [
           "DSRC/Wave"
          ],
          [
           "Ingenu-RPMA"
          ],
          [
           "LoRa (Rural)"
          ],
          [
           "SigFox (Rural)"
          ],
          [
           "MBWA"
          ],
          [
           "MicroWave"
          ],
          [
           "NBIot"
          ],
          [
           "SigFox (Urban)"
          ],
          [
           "WIFI"
          ],
          [
           "WiMax"
          ],
          [
           "WiMax"
          ],
          [
           "LoRa (Urban)"
          ],
          [
           "WIFI"
          ],
          [
           "LoRa (Urban)"
          ],
          [
           "MBWA"
          ],
          [
           "MBWA"
          ],
          [
           "LTE-4G"
          ],
          [
           "5G Mid"
          ],
          [
           "5G Low"
          ],
          [
           "WiMax"
          ],
          [
           "WIFI"
          ],
          [
           "NBIot"
          ],
          [
           "MicroWave"
          ],
          [
           "MBWA"
          ],
          [
           "LTE-4G"
          ],
          [
           "5G Mid"
          ],
          [
           "5G Low"
          ],
          [
           "WiMax"
          ],
          [
           "NBIot"
          ],
          [
           "MicroWave"
          ],
          [
           "MBWA"
          ],
          [
           "LTE-4G"
          ],
          [
           "DSRC/Wave"
          ],
          [
           "CALM"
          ],
          [
           "5G Mid"
          ],
          [
           "5G Low"
          ],
          [
           "WiMax"
          ],
          [
           "WIFI"
          ],
          [
           "SigFox (Urban)"
          ],
          [
           "SigFox (Rural)"
          ],
          [
           "MicroWave"
          ],
          [
           "NBIot"
          ],
          [
           "MicroWave"
          ],
          [
           "WiMax"
          ],
          [
           "LoRa (Rural)"
          ],
          [
           "LTE-4G"
          ],
          [
           "Ingenu-RPMA"
          ],
          [
           "DSRC/Wave"
          ],
          [
           "DASH7"
          ],
          [
           "CALM"
          ],
          [
           "5G Mid"
          ],
          [
           "5G Low"
          ],
          [
           "WiMax"
          ],
          [
           "WIFI"
          ],
          [
           "SigFox (Urban)"
          ],
          [
           "SigFox (Rural)"
          ],
          [
           "WIFI"
          ],
          [
           "MicroWave"
          ],
          [
           "5G Low"
          ],
          [
           "5G Mid"
          ],
          [
           "NBIot"
          ],
          [
           "DASH7"
          ],
          [
           "DSRC/Wave"
          ],
          [
           "CALM"
          ],
          [
           "LTE-4G"
          ],
          [
           "LoRa (Rural)"
          ],
          [
           "LoRa (Urban)"
          ],
          [
           "MBWA"
          ],
          [
           "Ingenu-RPMA"
          ],
          [
           "5G Mid"
          ],
          [
           "DASH7"
          ],
          [
           "CALM"
          ],
          [
           "5G Mid"
          ],
          [
           "5G Low"
          ]
         ],
         "domain": {
          "x": [
           0,
           1
          ],
          "y": [
           0,
           1
          ]
         },
         "hovertemplate": "labels=%{label}<br>count=%{value}<br>parent=%{parent}<br>id=%{id}<br>Technology=%{customdata[0]}<extra></extra>",
         "ids": [
          "SigFox (Rural)/MDU",
          "MBWA/MDU",
          "MicroWave/MDU",
          "NBIot/MDU",
          "LTE-4G/LZM",
          "MBWA/CTR",
          "LoRa (Urban)/CTR",
          "LoRa (Rural)/CTR",
          "LTE-4G/CTR",
          "Ingenu-RPMA/CTR",
          "DSRC/Wave/CTR",
          "LoRa (Urban)/LZM",
          "CALM/CTR",
          "5G Mid/CTR",
          "5G Low/CTR",
          "WiMax/CSL",
          "WIFI/CSL",
          "NBIot/CSL",
          "MicroWave/CSL",
          "MBWA/CSL",
          "LTE-4G/CSL",
          "5G Mid/CSL",
          "5G Low/CSL",
          "WiMax/CRWRSU",
          "NBIot/CRWRSU",
          "MicroWave/CRWRSU",
          "MBWA/CRWRSU",
          "LTE-4G/CRWRSU",
          "LoRa (Urban)/MDU",
          "LoRa (Rural)/MDU",
          "LTE-4G/MDU",
          "Ingenu-RPMA/MDU",
          "MBWA/LZM",
          "MicroWave/LZM",
          "NBIot/LZM",
          "SigFox (Rural)/LZM",
          "SigFox (Urban)/LZM",
          "WIFI/LZM",
          "WiMax/LZM",
          "5G Low/MD",
          "5G Mid/MD",
          "CALM/MD",
          "DASH7/MD",
          "DSRC/Wave/MD",
          "Ingenu-RPMA/MD",
          "5G Mid/CRWRSU",
          "LTE-4G/MD",
          "LoRa (Urban)/MD",
          "MBWA/MD",
          "MicroWave/MD",
          "NBIot/MD",
          "SigFox (Rural)/MD",
          "SigFox (Urban)/MD",
          "WIFI/MD",
          "WiMax/MD",
          "5G Low/MDU",
          "5G Mid/MDU",
          "CALM/MDU",
          "DASH7/MDU",
          "DSRC/Wave/MDU",
          "LoRa (Rural)/MD",
          "5G Low/CRWRSU",
          "DASH7/CTR",
          "NBIot/CMA",
          "5G Mid/LZM",
          "CALM/LZM",
          "DASH7/LZM",
          "DSRC/Wave/LZM",
          "Ingenu-RPMA/LZM",
          "WiMax/CMA",
          "LoRa (Rural)/LZM",
          "MicroWave/CMA",
          "MBWA/CMA",
          "LTE-4G/CMA",
          "NBIot/MTTCRW",
          "CALM/PA",
          "5G Mid/PA",
          "5G Low/PA",
          "SigFox (Urban)/MDU",
          "WIFI/MDU",
          "WiMax/MDU",
          "MicroWave/MTTCRW",
          "DASH7/PA",
          "WiMax/DS",
          "SigFox (Urban)/DS",
          "SigFox (Rural)/DS",
          "MBWA/MTTCRW",
          "MicroWave/DS",
          "5G Low/MTTCRW",
          "DSRC/Wave/PA",
          "LTE-4G/PA",
          "MBWA/DS",
          "5G Mid/MTTCRW",
          "LTE-4G/MTTCRW",
          "5G mmWavve/PCSW",
          "5G Mid/PCSW",
          "5G Low/PCSW",
          "WiMax/PA",
          "Ingenu-RPMA/PA",
          "WIFI/PA",
          "SigFox (Rural)/PA",
          "NBIot/PA",
          "MicroWave/PA",
          "MBWA/PA",
          "LoRa (Urban)/PA",
          "LoRa (Rural)/PA",
          "SigFox (Urban)/PA",
          "LoRa (Urban)/DS",
          "NBIot/DS",
          "LTE-4G/DS",
          "NBIot/CTR",
          "MicroWave/CTR",
          "WiMax/OVW",
          "NBIot/OVW",
          "LoRa (Rural)/DS",
          "5G Mid/OVW",
          "5G Low/OVW",
          "ZigBee/MW",
          "WiMax/MW",
          "WIFI/MW",
          "UWB/MW",
          "NBIot/MW",
          "LTE-4G/MW",
          "5G mmWavve/MW",
          "5G Mid/MW",
          "5G Low/MW",
          "WiMax/MTTCRW",
          "SigFox (Rural)/CTR",
          "SigFox (Urban)/CTR",
          "LTE-4G/OVW",
          "WiMax/CTR",
          "Ingenu-RPMA/DS",
          "DSRC/Wave/DS",
          "DASH7/DS",
          "WIFI/CTR",
          "5G Mid/DS",
          "5G Low/DS",
          "WiMax/CVHAS",
          "CALM/DS",
          "WIFI/CVHAS",
          "NBIot/CVHAS",
          "5G Low/CVHAS",
          "MicroWave/CVHAS",
          "MBWA/CVHAS",
          "LTE-4G/CVHAS",
          "5G Mid/CVHAS",
          "CALM/EDCV",
          "DASH7/EDCV",
          "5G Low/EDCV",
          "5G Mid/EDCV",
          "LTE-4G/PCSW",
          "WiMax/FADL",
          "LTE-4G/HCW",
          "MBWA/HCW",
          "MicroWave/HCW",
          "NBIot/HCW",
          "WiMax/HCW",
          "5G Low/HLN",
          "5G Mid/HLN",
          "LTE-4G/HLN",
          "MBWA/HLN",
          "WiMax",
          "ZigBee",
          "MBWA",
          "MicroWave",
          "NBIot",
          "SigFox (Rural)",
          "WIFI",
          "UWB",
          "SigFox (Urban)",
          "5G Low/IM",
          "5G Mid/IM",
          "CALM/IM",
          "DSRC/Wave/AAC",
          "LTE-4G/AAC",
          "WiMax/IFS",
          "LoRa (Rural)/AAC",
          "LoRa (Urban)/AAC",
          "MBWA/AAC",
          "DASH7/IM",
          "DSRC/Wave/IM",
          "Ingenu-RPMA/AAC",
          "WIFI/IFS",
          "MBWA/ICW",
          "Ingenu-RPMA/IM",
          "NBIot/IFS",
          "MicroWave/IFS",
          "MBWA/IFS",
          "LoRa (Urban)/IFS",
          "LoRa (Rural)/IFS",
          "LTE-4G/IFS",
          "Ingenu-RPMA/IFS",
          "DSRC/Wave/IFS",
          "DASH7/IFS",
          "CALM/IFS",
          "5G Mid/IFS",
          "5G Low/IFS",
          "WiMax/ICW",
          "NBIot/ICW",
          "MicroWave/ICW",
          "LTE-4G/ICW",
          "SigFox (Rural)/IFS",
          "SigFox (Urban)/IFS",
          "SigFox (Rural)/AAC",
          "NBIot/AAC",
          "MicroWave/AAC",
          "WIFI/InM",
          "WiMax/LAW",
          "5G Low/LEC",
          "5G Mid/LEC",
          "CALM/LEC",
          "DASH7/LEC",
          "DSRC/Wave/LEC",
          "Ingenu-RPMA/LEC",
          "LTE-4G/LEC",
          "LoRa (Rural)/LEC",
          "LoRa (Urban)/LEC",
          "MBWA/LEC",
          "MicroWave/LEC",
          "NBIot/LEC",
          "SigFox (Rural)/LEC",
          "WIFI/LEC",
          "WiMax/LEC",
          "5G Low/LZM",
          "WIFI/LAW",
          "SigFox (Urban)/LAW",
          "SigFox (Rural)/LAW",
          "NBIot/LAW",
          "SigFox (Urban)/InM",
          "5G Low/LAW",
          "NBIot/InM",
          "MicroWave/InM",
          "MBWA/InM",
          "LoRa (Urban)/InM",
          "LoRa (Rural)/InM",
          "LTE-4G/InM",
          "Ingenu-RPMA/InM",
          "5G Mid/LAW",
          "CALM/LAW",
          "DASH7/LAW",
          "DSRC/Wave/LAW",
          "Ingenu-RPMA/LAW",
          "LTE-4G/LAW",
          "LoRa (Rural)/LAW",
          "LoRa (Urban)/LAW",
          "MBWA/LAW",
          "MicroWave/LAW",
          "WiMax/InM",
          "SigFox (Rural)/InM",
          "SigFox (Urban)/LEC",
          "LTE-4G/CLCA",
          "NBIot/CFCW",
          "WIFI/CFCW",
          "WiMax/CFCW",
          "5G Low/CGR",
          "5G Mid/CGR",
          "BLE/CGR",
          "LTE-4G/CGR",
          "NBIot/CGR",
          "UWB/CGR",
          "WIFI/CGR",
          "WiMax/CGR",
          "ZigBee/CGR",
          "5G Low/CLCA",
          "5G Mid/CLCA",
          "NBIot/CLCA",
          "WiMax/CLCA",
          "5G Low/CLW",
          "5G Mid/CLW",
          "LTE-4G/CLW",
          "NBIot/CLW",
          "WiMax/CLW",
          "5G Low/CMA",
          "5G Mid/CMA",
          "LTE-4G/CFCW",
          "5G Mid/CFCW",
          "5G mmWavve/CGR",
          "WiMax/CACC",
          "5G Low/CFCW",
          "WIFI/CACC",
          "Ingenu-RPMA",
          "SigFox (Rural)/VS",
          "WIFI/FADL",
          "SigFox (Urban)/FADL",
          "SigFox (Rural)/FADL",
          "IR",
          "NBIot/FADL",
          "LoRa (Rural)/FADL",
          "LTE-4G/FADL",
          "DSRC/Wave/FADL",
          "CALM/FADL",
          "LTE-4G",
          "LoRa (Rural)",
          "LoRa (Urban)",
          "LoRa (Urban)/FADL",
          "DSRC/Wave",
          "NBIot/VS",
          "CALM",
          "MicroWave/VS",
          "MBWA/VS",
          "SigFox (Urban)/VS",
          "DASH7",
          "WiMax/VS",
          "5G Low/WWDW",
          "5G Mid/WWDW",
          "LTE-4G/WWDW",
          "WIFI/VS",
          "MicroWave/WWDW",
          "NBIot/WWDW",
          "WiMax/WWDW",
          "5G Low",
          "5G Mid",
          "5G mmWavve",
          "BLE",
          "MBWA/WWDW",
          "MBWA/VRUW",
          "LTE-4G/VRUW",
          "IR/VRUW",
          "5G mmWavve/VRUW",
          "5G Mid/VRUW",
          "SigFox (Rural)/VRSUDC",
          "WIFI/VRSUDC",
          "SigFox (Urban)/VRSUDC",
          "NBIot/VRSUDC",
          "WiMax/VRSUDC",
          "MicroWave/VRUW",
          "5G Low/VRUW",
          "UWB/VRUW",
          "NBIot/VRUW",
          "WiMax/EVW",
          "5G Low/FADL",
          "5G Mid/FADL",
          "5G Mid/VS",
          "CALM/VS",
          "DSRC/Wave/VS",
          "Ingenu-RPMA/VS",
          "LTE-4G/VS",
          "LoRa (Rural)/VS",
          "LoRa (Urban)/VS",
          "DASH7/VS",
          "WiMax/VRUW",
          "NBIot/EVW",
          "MicroWave/EVW",
          "MBWA/EVW",
          "LTE-4G/EVW",
          "5G Mid/EVW",
          "5G Low/EVW",
          "WIFI/VRUW",
          "5G Low/VS",
          "ZigBee/VRUW",
          "MicroWave/SM",
          "MBWA/SM",
          "LoRa (Rural)/SM",
          "LTE-4G/SM",
          "Ingenu-RPMA/SM",
          "DSRC/Wave/SM",
          "NBIot/RW",
          "CALM/SM",
          "5G Mid/SM",
          "5G Low/SM",
          "MicroWave/RW",
          "WiMax/RW",
          "MBWA/RW",
          "NBIot/SM",
          "DASH7/SM",
          "SigFox (Rural)/SM",
          "LoRa (Urban)/SM",
          "WIFI/SM",
          "5G Mid/SVA",
          "CALM/SVA",
          "DASH7/SVA",
          "DSRC/Wave/SVA",
          "Ingenu-RPMA/SVA",
          "LTE-4G/SVA",
          "SigFox (Urban)/SM",
          "WIFI/SOSS",
          "LoRa (Rural)/SVA",
          "WiMax/SOSS",
          "SigFox (Urban)/SOSS",
          "SigFox (Rural)/SOSS",
          "5G Low/SVA",
          "MicroWave/SOSS",
          "MBWA/SOSS",
          "LoRa (Urban)/SOSS",
          "WiMax/SM",
          "5G Low/SOSS",
          "5G Mid/SOSS",
          "LoRa (Rural)/SOSS",
          "CALM/SOSS",
          "LTE-4G/SOSS",
          "NBIot/SOSS",
          "Ingenu-RPMA/SOSS",
          "DASH7/SOSS",
          "DSRC/Wave/SOSS",
          "5G mmWavve/SlVW",
          "LTE-4G/SlVW",
          "LoRa (Urban)/SVA",
          "ZigBee/SlVW",
          "WIFI/SlVW",
          "5G Mid/SlVW",
          "WiMax/SlVW",
          "5G Low/SiVW",
          "WiMax/SiVW",
          "NBIot/SiVW",
          "MicroWave/SiVW",
          "MBWA/SiVW",
          "LTE-4G/SiVW",
          "5G Mid/SiVW",
          "WiMax/SVA",
          "WIFI/SVA",
          "SigFox (Urban)/SVA",
          "SigFox (Rural)/SVA",
          "NBIot/SVA",
          "MicroWave/SVA",
          "MBWA/SVA",
          "5G Low/SlVW",
          "5G Low/StVW",
          "UWB/SlVW",
          "LTE-4G/StVW",
          "CALM/TIRI",
          "NBIot/SlVW",
          "5G Mid/StVW",
          "WiMax/StVW",
          "5G Low/TIRI",
          "DASH7/TIRI",
          "DSRC/Wave/TIRI",
          "Ingenu-RPMA/TIRI",
          "LTE-4G/TIRI",
          "5G Mid/TIRI",
          "LoRa (Urban)/TIRI",
          "MBWA/TIRI",
          "MicroWave/TIRI",
          "NBIot/StVW",
          "WIFI/TIRI",
          "SigFox (Rural)/TIRI",
          "LoRa (Rural)/TIRI",
          "SigFox (Urban)/TIRI",
          "NBIot/TIRI",
          "WIFI/EDCV",
          "SigFox (Urban)/EDCV",
          "SigFox (Rural)/EDCV",
          "NBIot/EDCV",
          "LoRa (Urban)/EDCV",
          "LoRa (Rural)/EDCV",
          "LTE-4G/EDCV",
          "Ingenu-RPMA/EDCV",
          "DSRC/Wave/EDCV",
          "MicroWave/EDCV",
          "WiMax/EDCV",
          "5G Mid/EEBL",
          "LTE-4G/EEBL",
          "NBIot/EEBL",
          "WiMax/EEBL",
          "5G Low/ERGN",
          "5G Mid/ERGN",
          "DASH7/ERGN",
          "DSRC/Wave/ERGN",
          "Ingenu-RPMA/ERGN",
          "LTE-4G/ERGN",
          "LoRa (Rural)/ERGN",
          "LoRa (Urban)/ERGN",
          "MBWA/ERGN",
          "MicroWave/ERGN",
          "NBIot/ERGN",
          "5G Low/EEBL",
          "CALM/ERGN",
          "MBWA/EDCV",
          "5G Mid/RW",
          "LoRa (Urban)/PIN",
          "LoRa (Rural)/PIN",
          "LTE-4G/PIN",
          "Ingenu-RPMA/PIN",
          "DSRC/Wave/PIN",
          "DASH7/PIN",
          "LTE-4G/RW",
          "5G Mid/PIN",
          "MBWA/PIN",
          "5G Low/PIN",
          "NBIot/PCW",
          "MicroWave/PCW",
          "MBWA/PCW",
          "LTE-4G/PCW",
          "5G Low/PCW",
          "ZigBee/PCSW",
          "WiMax/PCSW",
          "UWB/PCSW",
          "WiMax/PCW",
          "MicroWave/PIN",
          "CALM/PIN",
          "SigFox (Rural)/PIN",
          "NBIot/PIN",
          "WiMax/RD",
          "WIFI/RD",
          "SigFox (Urban)/RD",
          "SigFox (Rural)/RD",
          "NBIot/RD",
          "MicroWave/RD",
          "MBWA/RD",
          "LoRa (Rural)/RD",
          "5G Low/RW",
          "Ingenu-RPMA/RD",
          "LTE-4G/RD",
          "SigFox (Urban)/PIN",
          "WIFI/PIN",
          "WiMax/PIN",
          "LoRa (Urban)/RD",
          "5G Mid/RD",
          "CALM/RD",
          "DASH7/RD",
          "5G Low/RD",
          "DSRC/Wave/RD",
          "LoRa (Rural)/FM",
          "LTE-4G/FM",
          "LoRa (Urban)/FM",
          "DASH7/FM",
          "CALM/FM",
          "5G Mid/FM",
          "5G Low/FM",
          "DSRC/Wave/FM",
          "Ingenu-RPMA/FM",
          "MBWA/FM",
          "MicroWave/FM",
          "NBIot/FM",
          "SigFox (Rural)/FM",
          "SigFox (Urban)/FM",
          "WIFI/FM",
          "WiMax/FM",
          "5G Low/HCW",
          "5G Mid/HCW",
          "5G Low/ICW",
          "MicroWave/HLN",
          "NBIot/HLN",
          "WiMax/HLN",
          "5G Mid/ATTCRW",
          "5G Mid/IS",
          "CALM/IS",
          "DASH7/IS",
          "DSRC/Wave/IS",
          "LTE-4G/IS",
          "LoRa (Rural)/IS",
          "LoRa (Urban)/IS",
          "5G Low/IS",
          "MBWA/IS",
          "NBIot/IS",
          "SigFox (Rural)/IS",
          "SigFox (Urban)/IS",
          "WIFI/IS",
          "WiMax/IS",
          "5G Low/InM",
          "5G Mid/InM",
          "CALM/InM",
          "DASH7/InM",
          "DSRC/Wave/InM",
          "MicroWave/IS",
          "WiMax/IM",
          "Ingenu-RPMA/IS",
          "SigFox (Urban)/IM",
          "LTE-4G/ATTCRW",
          "MBWA/ATTCRW",
          "WIFI/IM",
          "NBIot/ATTCRW",
          "WiMax/ATTCRW",
          "5G Low/CACC",
          "5G Mid/CACC",
          "LTE-4G/CACC",
          "NBIot/CACC",
          "SigFox (Urban)/AAC",
          "MicroWave/ATTCRW",
          "WiMax/AAC",
          "WIFI/AAC",
          "SigFox (Rural)/IM",
          "MicroWave/IM",
          "MBWA/IM",
          "NBIot/IM",
          "LoRa (Rural)/IM",
          "LTE-4G/IM",
          "5G Low/ATTCRW",
          "LoRa (Urban)/IM",
          "5G Low/EVSP",
          "LTE-4G/EVSP",
          "5G Mid/EVSP",
          "CALM/EVSP",
          "DASH7/EVSP",
          "DSRC/Wave/EVSP",
          "Ingenu-RPMA/EVSP",
          "LoRa (Rural)/EVSP",
          "SigFox (Rural)/EVSP",
          "MBWA/EVSP",
          "MicroWave/EVSP",
          "NBIot/EVSP",
          "SigFox (Urban)/EVSP",
          "WIFI/EVSP",
          "WiMax/EVSP",
          "WiMax/ETC",
          "LoRa (Urban)/EVSP",
          "WIFI/ETC",
          "LoRa (Urban)/VRSUDC",
          "MBWA/VRSUDC",
          "MBWA/TOD",
          "LTE-4G/TOD",
          "5G Mid/TOD",
          "5G Low/TOD",
          "WiMax/TLOSP",
          "WIFI/TLOSP",
          "NBIot/TLOSP",
          "MicroWave/TLOSP",
          "MBWA/TLOSP",
          "LTE-4G/TLOSP",
          "5G Mid/TLOSP",
          "5G Low/TLOSP",
          "WiMax/TIRI",
          "NBIot/ETC",
          "MicroWave/ETC",
          "MBWA/ETC",
          "LTE-4G/ETC",
          "DSRC/Wave/ETC",
          "CALM/ETC",
          "5G Mid/ETC",
          "5G Low/ETC",
          "WiMax/ERGN",
          "WIFI/ERGN",
          "SigFox (Urban)/ERGN",
          "SigFox (Rural)/ERGN",
          "MicroWave/VRSUDC",
          "NBIot/TOD",
          "MicroWave/TOD",
          "WiMax/TOD",
          "LoRa (Rural)/VRSUDC",
          "LTE-4G/VRSUDC",
          "Ingenu-RPMA/VRSUDC",
          "DSRC/Wave/VRSUDC",
          "DASH7/VRSUDC",
          "CALM/VRSUDC",
          "5G Mid/VRSUDC",
          "5G Low/VRSUDC",
          "WiMax/TVSP",
          "WIFI/TOD",
          "SigFox (Urban)/TVSP",
          "SigFox (Rural)/TVSP",
          "WIFI/TVSP",
          "MicroWave/TVSP",
          "5G Low/TVSP",
          "5G Mid/TVSP",
          "NBIot/TVSP",
          "DASH7/TVSP",
          "DSRC/Wave/TVSP",
          "CALM/TVSP",
          "LTE-4G/TVSP",
          "LoRa (Rural)/TVSP",
          "LoRa (Urban)/TVSP",
          "MBWA/TVSP",
          "Ingenu-RPMA/TVSP",
          "5G Mid/ICW",
          "DASH7/AAC",
          "CALM/AAC",
          "5G Mid/AAC",
          "5G Low/AAC"
         ],
         "labels": [
          "MDU",
          "MDU",
          "MDU",
          "MDU",
          "LZM",
          "CTR",
          "CTR",
          "CTR",
          "CTR",
          "CTR",
          "CTR",
          "LZM",
          "CTR",
          "CTR",
          "CTR",
          "CSL",
          "CSL",
          "CSL",
          "CSL",
          "CSL",
          "CSL",
          "CSL",
          "CSL",
          "CRWRSU",
          "CRWRSU",
          "CRWRSU",
          "CRWRSU",
          "CRWRSU",
          "MDU",
          "MDU",
          "MDU",
          "MDU",
          "LZM",
          "LZM",
          "LZM",
          "LZM",
          "LZM",
          "LZM",
          "LZM",
          "MD",
          "MD",
          "MD",
          "MD",
          "MD",
          "MD",
          "CRWRSU",
          "MD",
          "MD",
          "MD",
          "MD",
          "MD",
          "MD",
          "MD",
          "MD",
          "MD",
          "MDU",
          "MDU",
          "MDU",
          "MDU",
          "MDU",
          "MD",
          "CRWRSU",
          "CTR",
          "CMA",
          "LZM",
          "LZM",
          "LZM",
          "LZM",
          "LZM",
          "CMA",
          "LZM",
          "CMA",
          "CMA",
          "CMA",
          "MTTCRW",
          "PA",
          "PA",
          "PA",
          "MDU",
          "MDU",
          "MDU",
          "MTTCRW",
          "PA",
          "DS",
          "DS",
          "DS",
          "MTTCRW",
          "DS",
          "MTTCRW",
          "PA",
          "PA",
          "DS",
          "MTTCRW",
          "MTTCRW",
          "PCSW",
          "PCSW",
          "PCSW",
          "PA",
          "PA",
          "PA",
          "PA",
          "PA",
          "PA",
          "PA",
          "PA",
          "PA",
          "PA",
          "DS",
          "DS",
          "DS",
          "CTR",
          "CTR",
          "OVW",
          "OVW",
          "DS",
          "OVW",
          "OVW",
          "MW",
          "MW",
          "MW",
          "MW",
          "MW",
          "MW",
          "MW",
          "MW",
          "MW",
          "MTTCRW",
          "CTR",
          "CTR",
          "OVW",
          "CTR",
          "DS",
          "DS",
          "DS",
          "CTR",
          "DS",
          "DS",
          "CVHAS",
          "DS",
          "CVHAS",
          "CVHAS",
          "CVHAS",
          "CVHAS",
          "CVHAS",
          "CVHAS",
          "CVHAS",
          "EDCV",
          "EDCV",
          "EDCV",
          "EDCV",
          "PCSW",
          "FADL",
          "HCW",
          "HCW",
          "HCW",
          "HCW",
          "HCW",
          "HLN",
          "HLN",
          "HLN",
          "HLN",
          "WiMax",
          "ZigBee",
          "MBWA",
          "MicroWave",
          "NBIot",
          "SigFox (Rural)",
          "WIFI",
          "UWB",
          "SigFox (Urban)",
          "IM",
          "IM",
          "IM",
          "AAC",
          "AAC",
          "IFS",
          "AAC",
          "AAC",
          "AAC",
          "IM",
          "IM",
          "AAC",
          "IFS",
          "ICW",
          "IM",
          "IFS",
          "IFS",
          "IFS",
          "IFS",
          "IFS",
          "IFS",
          "IFS",
          "IFS",
          "IFS",
          "IFS",
          "IFS",
          "IFS",
          "ICW",
          "ICW",
          "ICW",
          "ICW",
          "IFS",
          "IFS",
          "AAC",
          "AAC",
          "AAC",
          "InM",
          "LAW",
          "LEC",
          "LEC",
          "LEC",
          "LEC",
          "LEC",
          "LEC",
          "LEC",
          "LEC",
          "LEC",
          "LEC",
          "LEC",
          "LEC",
          "LEC",
          "LEC",
          "LEC",
          "LZM",
          "LAW",
          "LAW",
          "LAW",
          "LAW",
          "InM",
          "LAW",
          "InM",
          "InM",
          "InM",
          "InM",
          "InM",
          "InM",
          "InM",
          "LAW",
          "LAW",
          "LAW",
          "LAW",
          "LAW",
          "LAW",
          "LAW",
          "LAW",
          "LAW",
          "LAW",
          "InM",
          "InM",
          "LEC",
          "CLCA",
          "CFCW",
          "CFCW",
          "CFCW",
          "CGR",
          "CGR",
          "CGR",
          "CGR",
          "CGR",
          "CGR",
          "CGR",
          "CGR",
          "CGR",
          "CLCA",
          "CLCA",
          "CLCA",
          "CLCA",
          "CLW",
          "CLW",
          "CLW",
          "CLW",
          "CLW",
          "CMA",
          "CMA",
          "CFCW",
          "CFCW",
          "CGR",
          "CACC",
          "CFCW",
          "CACC",
          "Ingenu-RPMA",
          "VS",
          "FADL",
          "FADL",
          "FADL",
          "IR",
          "FADL",
          "FADL",
          "FADL",
          "FADL",
          "FADL",
          "LTE-4G",
          "LoRa (Rural)",
          "LoRa (Urban)",
          "FADL",
          "DSRC/Wave",
          "VS",
          "CALM",
          "VS",
          "VS",
          "VS",
          "DASH7",
          "VS",
          "WWDW",
          "WWDW",
          "WWDW",
          "VS",
          "WWDW",
          "WWDW",
          "WWDW",
          "5G Low",
          "5G Mid",
          "5G mmWavve",
          "BLE",
          "WWDW",
          "VRUW",
          "VRUW",
          "VRUW",
          "VRUW",
          "VRUW",
          "VRSUDC",
          "VRSUDC",
          "VRSUDC",
          "VRSUDC",
          "VRSUDC",
          "VRUW",
          "VRUW",
          "VRUW",
          "VRUW",
          "EVW",
          "FADL",
          "FADL",
          "VS",
          "VS",
          "VS",
          "VS",
          "VS",
          "VS",
          "VS",
          "VS",
          "VRUW",
          "EVW",
          "EVW",
          "EVW",
          "EVW",
          "EVW",
          "EVW",
          "VRUW",
          "VS",
          "VRUW",
          "SM",
          "SM",
          "SM",
          "SM",
          "SM",
          "SM",
          "RW",
          "SM",
          "SM",
          "SM",
          "RW",
          "RW",
          "RW",
          "SM",
          "SM",
          "SM",
          "SM",
          "SM",
          "SVA",
          "SVA",
          "SVA",
          "SVA",
          "SVA",
          "SVA",
          "SM",
          "SOSS",
          "SVA",
          "SOSS",
          "SOSS",
          "SOSS",
          "SVA",
          "SOSS",
          "SOSS",
          "SOSS",
          "SM",
          "SOSS",
          "SOSS",
          "SOSS",
          "SOSS",
          "SOSS",
          "SOSS",
          "SOSS",
          "SOSS",
          "SOSS",
          "SlVW",
          "SlVW",
          "SVA",
          "SlVW",
          "SlVW",
          "SlVW",
          "SlVW",
          "SiVW",
          "SiVW",
          "SiVW",
          "SiVW",
          "SiVW",
          "SiVW",
          "SiVW",
          "SVA",
          "SVA",
          "SVA",
          "SVA",
          "SVA",
          "SVA",
          "SVA",
          "SlVW",
          "StVW",
          "SlVW",
          "StVW",
          "TIRI",
          "SlVW",
          "StVW",
          "StVW",
          "TIRI",
          "TIRI",
          "TIRI",
          "TIRI",
          "TIRI",
          "TIRI",
          "TIRI",
          "TIRI",
          "TIRI",
          "StVW",
          "TIRI",
          "TIRI",
          "TIRI",
          "TIRI",
          "TIRI",
          "EDCV",
          "EDCV",
          "EDCV",
          "EDCV",
          "EDCV",
          "EDCV",
          "EDCV",
          "EDCV",
          "EDCV",
          "EDCV",
          "EDCV",
          "EEBL",
          "EEBL",
          "EEBL",
          "EEBL",
          "ERGN",
          "ERGN",
          "ERGN",
          "ERGN",
          "ERGN",
          "ERGN",
          "ERGN",
          "ERGN",
          "ERGN",
          "ERGN",
          "ERGN",
          "EEBL",
          "ERGN",
          "EDCV",
          "RW",
          "PIN",
          "PIN",
          "PIN",
          "PIN",
          "PIN",
          "PIN",
          "RW",
          "PIN",
          "PIN",
          "PIN",
          "PCW",
          "PCW",
          "PCW",
          "PCW",
          "PCW",
          "PCSW",
          "PCSW",
          "PCSW",
          "PCW",
          "PIN",
          "PIN",
          "PIN",
          "PIN",
          "RD",
          "RD",
          "RD",
          "RD",
          "RD",
          "RD",
          "RD",
          "RD",
          "RW",
          "RD",
          "RD",
          "PIN",
          "PIN",
          "PIN",
          "RD",
          "RD",
          "RD",
          "RD",
          "RD",
          "RD",
          "FM",
          "FM",
          "FM",
          "FM",
          "FM",
          "FM",
          "FM",
          "FM",
          "FM",
          "FM",
          "FM",
          "FM",
          "FM",
          "FM",
          "FM",
          "FM",
          "HCW",
          "HCW",
          "ICW",
          "HLN",
          "HLN",
          "HLN",
          "ATTCRW",
          "IS",
          "IS",
          "IS",
          "IS",
          "IS",
          "IS",
          "IS",
          "IS",
          "IS",
          "IS",
          "IS",
          "IS",
          "IS",
          "IS",
          "InM",
          "InM",
          "InM",
          "InM",
          "InM",
          "IS",
          "IM",
          "IS",
          "IM",
          "ATTCRW",
          "ATTCRW",
          "IM",
          "ATTCRW",
          "ATTCRW",
          "CACC",
          "CACC",
          "CACC",
          "CACC",
          "AAC",
          "ATTCRW",
          "AAC",
          "AAC",
          "IM",
          "IM",
          "IM",
          "IM",
          "IM",
          "IM",
          "ATTCRW",
          "IM",
          "EVSP",
          "EVSP",
          "EVSP",
          "EVSP",
          "EVSP",
          "EVSP",
          "EVSP",
          "EVSP",
          "EVSP",
          "EVSP",
          "EVSP",
          "EVSP",
          "EVSP",
          "EVSP",
          "EVSP",
          "ETC",
          "EVSP",
          "ETC",
          "VRSUDC",
          "VRSUDC",
          "TOD",
          "TOD",
          "TOD",
          "TOD",
          "TLOSP",
          "TLOSP",
          "TLOSP",
          "TLOSP",
          "TLOSP",
          "TLOSP",
          "TLOSP",
          "TLOSP",
          "TIRI",
          "ETC",
          "ETC",
          "ETC",
          "ETC",
          "ETC",
          "ETC",
          "ETC",
          "ETC",
          "ERGN",
          "ERGN",
          "ERGN",
          "ERGN",
          "VRSUDC",
          "TOD",
          "TOD",
          "TOD",
          "VRSUDC",
          "VRSUDC",
          "VRSUDC",
          "VRSUDC",
          "VRSUDC",
          "VRSUDC",
          "VRSUDC",
          "VRSUDC",
          "TVSP",
          "TOD",
          "TVSP",
          "TVSP",
          "TVSP",
          "TVSP",
          "TVSP",
          "TVSP",
          "TVSP",
          "TVSP",
          "TVSP",
          "TVSP",
          "TVSP",
          "TVSP",
          "TVSP",
          "TVSP",
          "TVSP",
          "ICW",
          "AAC",
          "AAC",
          "AAC",
          "AAC"
         ],
         "marker": {
          "colors": [
           "#636efa",
           "#EF553B",
           "#00cc96",
           "#ab63fa",
           "#FFA15A",
           "#EF553B",
           "#19d3f3",
           "#FF6692",
           "#FFA15A",
           "#B6E880",
           "#FF97FF",
           "#19d3f3",
           "#FECB52",
           "#636efa",
           "#EF553B",
           "#00cc96",
           "#ab63fa",
           "#ab63fa",
           "#00cc96",
           "#EF553B",
           "#FFA15A",
           "#636efa",
           "#EF553B",
           "#00cc96",
           "#ab63fa",
           "#00cc96",
           "#EF553B",
           "#FFA15A",
           "#19d3f3",
           "#FF6692",
           "#FFA15A",
           "#B6E880",
           "#EF553B",
           "#00cc96",
           "#ab63fa",
           "#636efa",
           "#FFA15A",
           "#ab63fa",
           "#00cc96",
           "#EF553B",
           "#636efa",
           "#FECB52",
           "#19d3f3",
           "#FF97FF",
           "#B6E880",
           "#636efa",
           "#FFA15A",
           "#19d3f3",
           "#EF553B",
           "#00cc96",
           "#ab63fa",
           "#636efa",
           "#FFA15A",
           "#ab63fa",
           "#00cc96",
           "#EF553B",
           "#636efa",
           "#FECB52",
           "#19d3f3",
           "#FF97FF",
           "#FF6692",
           "#EF553B",
           "#19d3f3",
           "#ab63fa",
           "#636efa",
           "#FECB52",
           "#19d3f3",
           "#FF97FF",
           "#B6E880",
           "#00cc96",
           "#FF6692",
           "#00cc96",
           "#EF553B",
           "#FFA15A",
           "#ab63fa",
           "#FECB52",
           "#636efa",
           "#EF553B",
           "#FFA15A",
           "#ab63fa",
           "#00cc96",
           "#00cc96",
           "#19d3f3",
           "#00cc96",
           "#FFA15A",
           "#636efa",
           "#EF553B",
           "#00cc96",
           "#EF553B",
           "#FF97FF",
           "#FFA15A",
           "#EF553B",
           "#636efa",
           "#FFA15A",
           "#FF6692",
           "#636efa",
           "#EF553B",
           "#00cc96",
           "#B6E880",
           "#ab63fa",
           "#636efa",
           "#ab63fa",
           "#00cc96",
           "#EF553B",
           "#19d3f3",
           "#FF6692",
           "#FFA15A",
           "#19d3f3",
           "#ab63fa",
           "#FFA15A",
           "#ab63fa",
           "#00cc96",
           "#00cc96",
           "#ab63fa",
           "#FF6692",
           "#636efa",
           "#EF553B",
           "#B6E880",
           "#00cc96",
           "#ab63fa",
           "#FF97FF",
           "#ab63fa",
           "#FFA15A",
           "#FF6692",
           "#636efa",
           "#EF553B",
           "#00cc96",
           "#636efa",
           "#FFA15A",
           "#FFA15A",
           "#00cc96",
           "#B6E880",
           "#FF97FF",
           "#19d3f3",
           "#ab63fa",
           "#636efa",
           "#EF553B",
           "#00cc96",
           "#FECB52",
           "#ab63fa",
           "#ab63fa",
           "#EF553B",
           "#00cc96",
           "#EF553B",
           "#FFA15A",
           "#636efa",
           "#FECB52",
           "#19d3f3",
           "#EF553B",
           "#636efa",
           "#FFA15A",
           "#00cc96",
           "#FFA15A",
           "#EF553B",
           "#00cc96",
           "#ab63fa",
           "#00cc96",
           "#EF553B",
           "#636efa",
           "#FFA15A",
           "#EF553B",
           "#00cc96",
           "#B6E880",
           "#EF553B",
           "#00cc96",
           "#ab63fa",
           "#636efa",
           "#ab63fa",
           "#FF97FF",
           "#FFA15A",
           "#EF553B",
           "#636efa",
           "#FECB52",
           "#FF97FF",
           "#FFA15A",
           "#00cc96",
           "#FF6692",
           "#19d3f3",
           "#EF553B",
           "#19d3f3",
           "#FF97FF",
           "#B6E880",
           "#ab63fa",
           "#EF553B",
           "#B6E880",
           "#ab63fa",
           "#00cc96",
           "#EF553B",
           "#19d3f3",
           "#FF6692",
           "#FFA15A",
           "#B6E880",
           "#FF97FF",
           "#19d3f3",
           "#FECB52",
           "#636efa",
           "#EF553B",
           "#00cc96",
           "#ab63fa",
           "#00cc96",
           "#FFA15A",
           "#636efa",
           "#FFA15A",
           "#636efa",
           "#ab63fa",
           "#00cc96",
           "#ab63fa",
           "#00cc96",
           "#EF553B",
           "#636efa",
           "#FECB52",
           "#19d3f3",
           "#FF97FF",
           "#B6E880",
           "#FFA15A",
           "#FF6692",
           "#19d3f3",
           "#EF553B",
           "#00cc96",
           "#ab63fa",
           "#636efa",
           "#ab63fa",
           "#00cc96",
           "#EF553B",
           "#ab63fa",
           "#FFA15A",
           "#636efa",
           "#ab63fa",
           "#FFA15A",
           "#EF553B",
           "#ab63fa",
           "#00cc96",
           "#EF553B",
           "#19d3f3",
           "#FF6692",
           "#FFA15A",
           "#B6E880",
           "#636efa",
           "#FECB52",
           "#19d3f3",
           "#FF97FF",
           "#B6E880",
           "#FFA15A",
           "#FF6692",
           "#19d3f3",
           "#EF553B",
           "#00cc96",
           "#00cc96",
           "#636efa",
           "#FFA15A",
           "#FFA15A",
           "#ab63fa",
           "#ab63fa",
           "#00cc96",
           "#EF553B",
           "#636efa",
           "#FECB52",
           "#FFA15A",
           "#ab63fa",
           "#FF97FF",
           "#ab63fa",
           "#00cc96",
           "#B6E880",
           "#EF553B",
           "#636efa",
           "#ab63fa",
           "#00cc96",
           "#EF553B",
           "#636efa",
           "#FFA15A",
           "#ab63fa",
           "#00cc96",
           "#EF553B",
           "#636efa",
           "#FFA15A",
           "#636efa",
           "#FF6692",
           "#00cc96",
           "#EF553B",
           "#ab63fa",
           "#B6E880",
           "#636efa",
           "#ab63fa",
           "#FFA15A",
           "#636efa",
           "#636efa",
           "#ab63fa",
           "#FF6692",
           "#FFA15A",
           "#FF97FF",
           "#FECB52",
           "#FFA15A",
           "#FF6692",
           "#19d3f3",
           "#19d3f3",
           "#FF97FF",
           "#ab63fa",
           "#FECB52",
           "#00cc96",
           "#EF553B",
           "#FFA15A",
           "#19d3f3",
           "#00cc96",
           "#EF553B",
           "#636efa",
           "#FFA15A",
           "#ab63fa",
           "#00cc96",
           "#ab63fa",
           "#00cc96",
           "#EF553B",
           "#636efa",
           "#FF6692",
           "#FECB52",
           "#EF553B",
           "#EF553B",
           "#FFA15A",
           "#636efa",
           "#FF6692",
           "#636efa",
           "#636efa",
           "#ab63fa",
           "#FFA15A",
           "#ab63fa",
           "#00cc96",
           "#00cc96",
           "#EF553B",
           "#FF97FF",
           "#ab63fa",
           "#00cc96",
           "#EF553B",
           "#636efa",
           "#636efa",
           "#FECB52",
           "#FF97FF",
           "#B6E880",
           "#FFA15A",
           "#FF6692",
           "#19d3f3",
           "#19d3f3",
           "#00cc96",
           "#ab63fa",
           "#00cc96",
           "#EF553B",
           "#FFA15A",
           "#636efa",
           "#EF553B",
           "#ab63fa",
           "#EF553B",
           "#B6E880",
           "#00cc96",
           "#EF553B",
           "#FF6692",
           "#FFA15A",
           "#B6E880",
           "#FF97FF",
           "#ab63fa",
           "#FECB52",
           "#636efa",
           "#EF553B",
           "#00cc96",
           "#00cc96",
           "#EF553B",
           "#ab63fa",
           "#19d3f3",
           "#636efa",
           "#19d3f3",
           "#ab63fa",
           "#636efa",
           "#FECB52",
           "#19d3f3",
           "#FF97FF",
           "#B6E880",
           "#FFA15A",
           "#FFA15A",
           "#ab63fa",
           "#FF6692",
           "#00cc96",
           "#FFA15A",
           "#636efa",
           "#EF553B",
           "#00cc96",
           "#EF553B",
           "#19d3f3",
           "#00cc96",
           "#EF553B",
           "#636efa",
           "#FF6692",
           "#FECB52",
           "#FFA15A",
           "#ab63fa",
           "#B6E880",
           "#19d3f3",
           "#FF97FF",
           "#FF6692",
           "#FFA15A",
           "#19d3f3",
           "#B6E880",
           "#ab63fa",
           "#636efa",
           "#00cc96",
           "#EF553B",
           "#00cc96",
           "#ab63fa",
           "#00cc96",
           "#EF553B",
           "#FFA15A",
           "#636efa",
           "#00cc96",
           "#ab63fa",
           "#FFA15A",
           "#636efa",
           "#ab63fa",
           "#00cc96",
           "#EF553B",
           "#EF553B",
           "#EF553B",
           "#FF97FF",
           "#FFA15A",
           "#FECB52",
           "#ab63fa",
           "#636efa",
           "#00cc96",
           "#EF553B",
           "#19d3f3",
           "#FF97FF",
           "#B6E880",
           "#FFA15A",
           "#636efa",
           "#19d3f3",
           "#EF553B",
           "#00cc96",
           "#ab63fa",
           "#ab63fa",
           "#636efa",
           "#FF6692",
           "#FFA15A",
           "#ab63fa",
           "#ab63fa",
           "#FFA15A",
           "#636efa",
           "#ab63fa",
           "#19d3f3",
           "#FF6692",
           "#FFA15A",
           "#B6E880",
           "#FF97FF",
           "#00cc96",
           "#00cc96",
           "#636efa",
           "#FFA15A",
           "#ab63fa",
           "#00cc96",
           "#EF553B",
           "#636efa",
           "#19d3f3",
           "#FF97FF",
           "#B6E880",
           "#FFA15A",
           "#FF6692",
           "#19d3f3",
           "#EF553B",
           "#00cc96",
           "#ab63fa",
           "#EF553B",
           "#FECB52",
           "#EF553B",
           "#636efa",
           "#19d3f3",
           "#FF6692",
           "#FFA15A",
           "#B6E880",
           "#FF97FF",
           "#19d3f3",
           "#FFA15A",
           "#636efa",
           "#EF553B",
           "#EF553B",
           "#ab63fa",
           "#00cc96",
           "#EF553B",
           "#FFA15A",
           "#EF553B",
           "#B6E880",
           "#00cc96",
           "#FF97FF",
           "#00cc96",
           "#00cc96",
           "#FECB52",
           "#636efa",
           "#ab63fa",
           "#00cc96",
           "#ab63fa",
           "#FFA15A",
           "#636efa",
           "#ab63fa",
           "#00cc96",
           "#EF553B",
           "#FF6692",
           "#EF553B",
           "#B6E880",
           "#FFA15A",
           "#FFA15A",
           "#ab63fa",
           "#00cc96",
           "#19d3f3",
           "#636efa",
           "#FECB52",
           "#19d3f3",
           "#EF553B",
           "#FF97FF",
           "#FF6692",
           "#FFA15A",
           "#19d3f3",
           "#19d3f3",
           "#FECB52",
           "#636efa",
           "#EF553B",
           "#FF97FF",
           "#B6E880",
           "#EF553B",
           "#00cc96",
           "#ab63fa",
           "#636efa",
           "#FFA15A",
           "#ab63fa",
           "#00cc96",
           "#EF553B",
           "#636efa",
           "#EF553B",
           "#00cc96",
           "#ab63fa",
           "#00cc96",
           "#636efa",
           "#636efa",
           "#FECB52",
           "#19d3f3",
           "#FF97FF",
           "#FFA15A",
           "#FF6692",
           "#19d3f3",
           "#EF553B",
           "#EF553B",
           "#ab63fa",
           "#636efa",
           "#FFA15A",
           "#ab63fa",
           "#00cc96",
           "#EF553B",
           "#636efa",
           "#FECB52",
           "#19d3f3",
           "#FF97FF",
           "#00cc96",
           "#00cc96",
           "#B6E880",
           "#FFA15A",
           "#FFA15A",
           "#EF553B",
           "#ab63fa",
           "#ab63fa",
           "#00cc96",
           "#EF553B",
           "#636efa",
           "#FFA15A",
           "#ab63fa",
           "#FFA15A",
           "#00cc96",
           "#00cc96",
           "#ab63fa",
           "#636efa",
           "#00cc96",
           "#EF553B",
           "#ab63fa",
           "#FF6692",
           "#FFA15A",
           "#EF553B",
           "#19d3f3",
           "#EF553B",
           "#FFA15A",
           "#636efa",
           "#FECB52",
           "#19d3f3",
           "#FF97FF",
           "#B6E880",
           "#FF6692",
           "#636efa",
           "#EF553B",
           "#00cc96",
           "#ab63fa",
           "#FFA15A",
           "#ab63fa",
           "#00cc96",
           "#00cc96",
           "#19d3f3",
           "#ab63fa",
           "#19d3f3",
           "#EF553B",
           "#EF553B",
           "#FFA15A",
           "#636efa",
           "#EF553B",
           "#00cc96",
           "#ab63fa",
           "#ab63fa",
           "#00cc96",
           "#EF553B",
           "#FFA15A",
           "#636efa",
           "#EF553B",
           "#00cc96",
           "#ab63fa",
           "#00cc96",
           "#EF553B",
           "#FFA15A",
           "#FF97FF",
           "#FECB52",
           "#636efa",
           "#EF553B",
           "#00cc96",
           "#ab63fa",
           "#FFA15A",
           "#636efa",
           "#00cc96",
           "#ab63fa",
           "#00cc96",
           "#00cc96",
           "#FF6692",
           "#FFA15A",
           "#B6E880",
           "#FF97FF",
           "#19d3f3",
           "#FECB52",
           "#636efa",
           "#EF553B",
           "#00cc96",
           "#ab63fa",
           "#FFA15A",
           "#636efa",
           "#ab63fa",
           "#00cc96",
           "#EF553B",
           "#636efa",
           "#ab63fa",
           "#19d3f3",
           "#FF97FF",
           "#FECB52",
           "#FFA15A",
           "#FF6692",
           "#19d3f3",
           "#EF553B",
           "#B6E880",
           "#636efa",
           "#19d3f3",
           "#FECB52",
           "#636efa",
           "#EF553B"
          ]
         },
         "name": "",
         "parents": [
          "SigFox (Rural)",
          "MBWA",
          "MicroWave",
          "NBIot",
          "LTE-4G",
          "MBWA",
          "LoRa (Urban)",
          "LoRa (Rural)",
          "LTE-4G",
          "Ingenu-RPMA",
          "DSRC/Wave",
          "LoRa (Urban)",
          "CALM",
          "5G Mid",
          "5G Low",
          "WiMax",
          "WIFI",
          "NBIot",
          "MicroWave",
          "MBWA",
          "LTE-4G",
          "5G Mid",
          "5G Low",
          "WiMax",
          "NBIot",
          "MicroWave",
          "MBWA",
          "LTE-4G",
          "LoRa (Urban)",
          "LoRa (Rural)",
          "LTE-4G",
          "Ingenu-RPMA",
          "MBWA",
          "MicroWave",
          "NBIot",
          "SigFox (Rural)",
          "SigFox (Urban)",
          "WIFI",
          "WiMax",
          "5G Low",
          "5G Mid",
          "CALM",
          "DASH7",
          "DSRC/Wave",
          "Ingenu-RPMA",
          "5G Mid",
          "LTE-4G",
          "LoRa (Urban)",
          "MBWA",
          "MicroWave",
          "NBIot",
          "SigFox (Rural)",
          "SigFox (Urban)",
          "WIFI",
          "WiMax",
          "5G Low",
          "5G Mid",
          "CALM",
          "DASH7",
          "DSRC/Wave",
          "LoRa (Rural)",
          "5G Low",
          "DASH7",
          "NBIot",
          "5G Mid",
          "CALM",
          "DASH7",
          "DSRC/Wave",
          "Ingenu-RPMA",
          "WiMax",
          "LoRa (Rural)",
          "MicroWave",
          "MBWA",
          "LTE-4G",
          "NBIot",
          "CALM",
          "5G Mid",
          "5G Low",
          "SigFox (Urban)",
          "WIFI",
          "WiMax",
          "MicroWave",
          "DASH7",
          "WiMax",
          "SigFox (Urban)",
          "SigFox (Rural)",
          "MBWA",
          "MicroWave",
          "5G Low",
          "DSRC/Wave",
          "LTE-4G",
          "MBWA",
          "5G Mid",
          "LTE-4G",
          "5G mmWavve",
          "5G Mid",
          "5G Low",
          "WiMax",
          "Ingenu-RPMA",
          "WIFI",
          "SigFox (Rural)",
          "NBIot",
          "MicroWave",
          "MBWA",
          "LoRa (Urban)",
          "LoRa (Rural)",
          "SigFox (Urban)",
          "LoRa (Urban)",
          "NBIot",
          "LTE-4G",
          "NBIot",
          "MicroWave",
          "WiMax",
          "NBIot",
          "LoRa (Rural)",
          "5G Mid",
          "5G Low",
          "ZigBee",
          "WiMax",
          "WIFI",
          "UWB",
          "NBIot",
          "LTE-4G",
          "5G mmWavve",
          "5G Mid",
          "5G Low",
          "WiMax",
          "SigFox (Rural)",
          "SigFox (Urban)",
          "LTE-4G",
          "WiMax",
          "Ingenu-RPMA",
          "DSRC/Wave",
          "DASH7",
          "WIFI",
          "5G Mid",
          "5G Low",
          "WiMax",
          "CALM",
          "WIFI",
          "NBIot",
          "5G Low",
          "MicroWave",
          "MBWA",
          "LTE-4G",
          "5G Mid",
          "CALM",
          "DASH7",
          "5G Low",
          "5G Mid",
          "LTE-4G",
          "WiMax",
          "LTE-4G",
          "MBWA",
          "MicroWave",
          "NBIot",
          "WiMax",
          "5G Low",
          "5G Mid",
          "LTE-4G",
          "MBWA",
          "",
          "",
          "",
          "",
          "",
          "",
          "",
          "",
          "",
          "5G Low",
          "5G Mid",
          "CALM",
          "DSRC/Wave",
          "LTE-4G",
          "WiMax",
          "LoRa (Rural)",
          "LoRa (Urban)",
          "MBWA",
          "DASH7",
          "DSRC/Wave",
          "Ingenu-RPMA",
          "WIFI",
          "MBWA",
          "Ingenu-RPMA",
          "NBIot",
          "MicroWave",
          "MBWA",
          "LoRa (Urban)",
          "LoRa (Rural)",
          "LTE-4G",
          "Ingenu-RPMA",
          "DSRC/Wave",
          "DASH7",
          "CALM",
          "5G Mid",
          "5G Low",
          "WiMax",
          "NBIot",
          "MicroWave",
          "LTE-4G",
          "SigFox (Rural)",
          "SigFox (Urban)",
          "SigFox (Rural)",
          "NBIot",
          "MicroWave",
          "WIFI",
          "WiMax",
          "5G Low",
          "5G Mid",
          "CALM",
          "DASH7",
          "DSRC/Wave",
          "Ingenu-RPMA",
          "LTE-4G",
          "LoRa (Rural)",
          "LoRa (Urban)",
          "MBWA",
          "MicroWave",
          "NBIot",
          "SigFox (Rural)",
          "WIFI",
          "WiMax",
          "5G Low",
          "WIFI",
          "SigFox (Urban)",
          "SigFox (Rural)",
          "NBIot",
          "SigFox (Urban)",
          "5G Low",
          "NBIot",
          "MicroWave",
          "MBWA",
          "LoRa (Urban)",
          "LoRa (Rural)",
          "LTE-4G",
          "Ingenu-RPMA",
          "5G Mid",
          "CALM",
          "DASH7",
          "DSRC/Wave",
          "Ingenu-RPMA",
          "LTE-4G",
          "LoRa (Rural)",
          "LoRa (Urban)",
          "MBWA",
          "MicroWave",
          "WiMax",
          "SigFox (Rural)",
          "SigFox (Urban)",
          "LTE-4G",
          "NBIot",
          "WIFI",
          "WiMax",
          "5G Low",
          "5G Mid",
          "BLE",
          "LTE-4G",
          "NBIot",
          "UWB",
          "WIFI",
          "WiMax",
          "ZigBee",
          "5G Low",
          "5G Mid",
          "NBIot",
          "WiMax",
          "5G Low",
          "5G Mid",
          "LTE-4G",
          "NBIot",
          "WiMax",
          "5G Low",
          "5G Mid",
          "LTE-4G",
          "5G Mid",
          "5G mmWavve",
          "WiMax",
          "5G Low",
          "WIFI",
          "",
          "SigFox (Rural)",
          "WIFI",
          "SigFox (Urban)",
          "SigFox (Rural)",
          "",
          "NBIot",
          "LoRa (Rural)",
          "LTE-4G",
          "DSRC/Wave",
          "CALM",
          "",
          "",
          "",
          "LoRa (Urban)",
          "",
          "NBIot",
          "",
          "MicroWave",
          "MBWA",
          "SigFox (Urban)",
          "",
          "WiMax",
          "5G Low",
          "5G Mid",
          "LTE-4G",
          "WIFI",
          "MicroWave",
          "NBIot",
          "WiMax",
          "",
          "",
          "",
          "",
          "MBWA",
          "MBWA",
          "LTE-4G",
          "IR",
          "5G mmWavve",
          "5G Mid",
          "SigFox (Rural)",
          "WIFI",
          "SigFox (Urban)",
          "NBIot",
          "WiMax",
          "MicroWave",
          "5G Low",
          "UWB",
          "NBIot",
          "WiMax",
          "5G Low",
          "5G Mid",
          "5G Mid",
          "CALM",
          "DSRC/Wave",
          "Ingenu-RPMA",
          "LTE-4G",
          "LoRa (Rural)",
          "LoRa (Urban)",
          "DASH7",
          "WiMax",
          "NBIot",
          "MicroWave",
          "MBWA",
          "LTE-4G",
          "5G Mid",
          "5G Low",
          "WIFI",
          "5G Low",
          "ZigBee",
          "MicroWave",
          "MBWA",
          "LoRa (Rural)",
          "LTE-4G",
          "Ingenu-RPMA",
          "DSRC/Wave",
          "NBIot",
          "CALM",
          "5G Mid",
          "5G Low",
          "MicroWave",
          "WiMax",
          "MBWA",
          "NBIot",
          "DASH7",
          "SigFox (Rural)",
          "LoRa (Urban)",
          "WIFI",
          "5G Mid",
          "CALM",
          "DASH7",
          "DSRC/Wave",
          "Ingenu-RPMA",
          "LTE-4G",
          "SigFox (Urban)",
          "WIFI",
          "LoRa (Rural)",
          "WiMax",
          "SigFox (Urban)",
          "SigFox (Rural)",
          "5G Low",
          "MicroWave",
          "MBWA",
          "LoRa (Urban)",
          "WiMax",
          "5G Low",
          "5G Mid",
          "LoRa (Rural)",
          "CALM",
          "LTE-4G",
          "NBIot",
          "Ingenu-RPMA",
          "DASH7",
          "DSRC/Wave",
          "5G mmWavve",
          "LTE-4G",
          "LoRa (Urban)",
          "ZigBee",
          "WIFI",
          "5G Mid",
          "WiMax",
          "5G Low",
          "WiMax",
          "NBIot",
          "MicroWave",
          "MBWA",
          "LTE-4G",
          "5G Mid",
          "WiMax",
          "WIFI",
          "SigFox (Urban)",
          "SigFox (Rural)",
          "NBIot",
          "MicroWave",
          "MBWA",
          "5G Low",
          "5G Low",
          "UWB",
          "LTE-4G",
          "CALM",
          "NBIot",
          "5G Mid",
          "WiMax",
          "5G Low",
          "DASH7",
          "DSRC/Wave",
          "Ingenu-RPMA",
          "LTE-4G",
          "5G Mid",
          "LoRa (Urban)",
          "MBWA",
          "MicroWave",
          "NBIot",
          "WIFI",
          "SigFox (Rural)",
          "LoRa (Rural)",
          "SigFox (Urban)",
          "NBIot",
          "WIFI",
          "SigFox (Urban)",
          "SigFox (Rural)",
          "NBIot",
          "LoRa (Urban)",
          "LoRa (Rural)",
          "LTE-4G",
          "Ingenu-RPMA",
          "DSRC/Wave",
          "MicroWave",
          "WiMax",
          "5G Mid",
          "LTE-4G",
          "NBIot",
          "WiMax",
          "5G Low",
          "5G Mid",
          "DASH7",
          "DSRC/Wave",
          "Ingenu-RPMA",
          "LTE-4G",
          "LoRa (Rural)",
          "LoRa (Urban)",
          "MBWA",
          "MicroWave",
          "NBIot",
          "5G Low",
          "CALM",
          "MBWA",
          "5G Mid",
          "LoRa (Urban)",
          "LoRa (Rural)",
          "LTE-4G",
          "Ingenu-RPMA",
          "DSRC/Wave",
          "DASH7",
          "LTE-4G",
          "5G Mid",
          "MBWA",
          "5G Low",
          "NBIot",
          "MicroWave",
          "MBWA",
          "LTE-4G",
          "5G Low",
          "ZigBee",
          "WiMax",
          "UWB",
          "WiMax",
          "MicroWave",
          "CALM",
          "SigFox (Rural)",
          "NBIot",
          "WiMax",
          "WIFI",
          "SigFox (Urban)",
          "SigFox (Rural)",
          "NBIot",
          "MicroWave",
          "MBWA",
          "LoRa (Rural)",
          "5G Low",
          "Ingenu-RPMA",
          "LTE-4G",
          "SigFox (Urban)",
          "WIFI",
          "WiMax",
          "LoRa (Urban)",
          "5G Mid",
          "CALM",
          "DASH7",
          "5G Low",
          "DSRC/Wave",
          "LoRa (Rural)",
          "LTE-4G",
          "LoRa (Urban)",
          "DASH7",
          "CALM",
          "5G Mid",
          "5G Low",
          "DSRC/Wave",
          "Ingenu-RPMA",
          "MBWA",
          "MicroWave",
          "NBIot",
          "SigFox (Rural)",
          "SigFox (Urban)",
          "WIFI",
          "WiMax",
          "5G Low",
          "5G Mid",
          "5G Low",
          "MicroWave",
          "NBIot",
          "WiMax",
          "5G Mid",
          "5G Mid",
          "CALM",
          "DASH7",
          "DSRC/Wave",
          "LTE-4G",
          "LoRa (Rural)",
          "LoRa (Urban)",
          "5G Low",
          "MBWA",
          "NBIot",
          "SigFox (Rural)",
          "SigFox (Urban)",
          "WIFI",
          "WiMax",
          "5G Low",
          "5G Mid",
          "CALM",
          "DASH7",
          "DSRC/Wave",
          "MicroWave",
          "WiMax",
          "Ingenu-RPMA",
          "SigFox (Urban)",
          "LTE-4G",
          "MBWA",
          "WIFI",
          "NBIot",
          "WiMax",
          "5G Low",
          "5G Mid",
          "LTE-4G",
          "NBIot",
          "SigFox (Urban)",
          "MicroWave",
          "WiMax",
          "WIFI",
          "SigFox (Rural)",
          "MicroWave",
          "MBWA",
          "NBIot",
          "LoRa (Rural)",
          "LTE-4G",
          "5G Low",
          "LoRa (Urban)",
          "5G Low",
          "LTE-4G",
          "5G Mid",
          "CALM",
          "DASH7",
          "DSRC/Wave",
          "Ingenu-RPMA",
          "LoRa (Rural)",
          "SigFox (Rural)",
          "MBWA",
          "MicroWave",
          "NBIot",
          "SigFox (Urban)",
          "WIFI",
          "WiMax",
          "WiMax",
          "LoRa (Urban)",
          "WIFI",
          "LoRa (Urban)",
          "MBWA",
          "MBWA",
          "LTE-4G",
          "5G Mid",
          "5G Low",
          "WiMax",
          "WIFI",
          "NBIot",
          "MicroWave",
          "MBWA",
          "LTE-4G",
          "5G Mid",
          "5G Low",
          "WiMax",
          "NBIot",
          "MicroWave",
          "MBWA",
          "LTE-4G",
          "DSRC/Wave",
          "CALM",
          "5G Mid",
          "5G Low",
          "WiMax",
          "WIFI",
          "SigFox (Urban)",
          "SigFox (Rural)",
          "MicroWave",
          "NBIot",
          "MicroWave",
          "WiMax",
          "LoRa (Rural)",
          "LTE-4G",
          "Ingenu-RPMA",
          "DSRC/Wave",
          "DASH7",
          "CALM",
          "5G Mid",
          "5G Low",
          "WiMax",
          "WIFI",
          "SigFox (Urban)",
          "SigFox (Rural)",
          "WIFI",
          "MicroWave",
          "5G Low",
          "5G Mid",
          "NBIot",
          "DASH7",
          "DSRC/Wave",
          "CALM",
          "LTE-4G",
          "LoRa (Rural)",
          "LoRa (Urban)",
          "MBWA",
          "Ingenu-RPMA",
          "5G Mid",
          "DASH7",
          "CALM",
          "5G Mid",
          "5G Low"
         ],
         "type": "treemap",
         "values": [
          2,
          1,
          1,
          2,
          1,
          1,
          1,
          1,
          1,
          1,
          1,
          1,
          1,
          1,
          1,
          1,
          1,
          1,
          1,
          1,
          1,
          1,
          1,
          2,
          2,
          1,
          1,
          2,
          2,
          2,
          2,
          1,
          1,
          1,
          1,
          1,
          1,
          1,
          1,
          1,
          1,
          1,
          1,
          1,
          1,
          2,
          1,
          1,
          1,
          1,
          1,
          1,
          1,
          1,
          1,
          2,
          2,
          2,
          1,
          2,
          1,
          2,
          1,
          2,
          1,
          1,
          1,
          1,
          1,
          2,
          1,
          1,
          1,
          2,
          2,
          1,
          1,
          1,
          2,
          2,
          2,
          1,
          1,
          2,
          2,
          2,
          1,
          1,
          2,
          1,
          1,
          1,
          2,
          2,
          2,
          2,
          2,
          1,
          1,
          1,
          1,
          1,
          1,
          1,
          1,
          1,
          1,
          2,
          2,
          2,
          1,
          1,
          1,
          1,
          2,
          1,
          1,
          1,
          1,
          1,
          1,
          1,
          1,
          1,
          1,
          1,
          2,
          1,
          1,
          1,
          1,
          1,
          2,
          1,
          1,
          2,
          2,
          1,
          2,
          1,
          1,
          1,
          1,
          1,
          1,
          1,
          2,
          1,
          2,
          2,
          2,
          1,
          2,
          1,
          1,
          2,
          2,
          2,
          2,
          2,
          1,
          74,
          7,
          44,
          44,
          75,
          35,
          46,
          5,
          35,
          2,
          2,
          2,
          1,
          1,
          1,
          1,
          1,
          1,
          1,
          2,
          1,
          1,
          1,
          1,
          1,
          1,
          1,
          1,
          1,
          1,
          1,
          1,
          1,
          1,
          1,
          1,
          2,
          3,
          1,
          3,
          1,
          1,
          1,
          1,
          1,
          2,
          1,
          1,
          1,
          1,
          1,
          1,
          1,
          1,
          1,
          1,
          1,
          1,
          1,
          1,
          1,
          1,
          1,
          1,
          1,
          1,
          1,
          2,
          1,
          2,
          1,
          1,
          2,
          2,
          2,
          1,
          1,
          1,
          1,
          1,
          1,
          1,
          1,
          1,
          1,
          1,
          2,
          2,
          1,
          1,
          1,
          1,
          1,
          1,
          1,
          1,
          1,
          1,
          1,
          1,
          1,
          1,
          1,
          1,
          1,
          1,
          1,
          1,
          1,
          1,
          1,
          2,
          2,
          1,
          1,
          1,
          1,
          1,
          1,
          26,
          1,
          1,
          1,
          1,
          1,
          1,
          1,
          1,
          1,
          1,
          77,
          35,
          35,
          1,
          36,
          1,
          36,
          1,
          1,
          1,
          26,
          1,
          1,
          1,
          1,
          1,
          1,
          1,
          1,
          77,
          75,
          7,
          1,
          1,
          1,
          2,
          1,
          2,
          2,
          1,
          1,
          1,
          1,
          1,
          1,
          2,
          1,
          2,
          2,
          1,
          1,
          1,
          1,
          1,
          1,
          1,
          1,
          1,
          1,
          1,
          2,
          1,
          1,
          2,
          2,
          2,
          2,
          1,
          2,
          1,
          1,
          1,
          1,
          1,
          1,
          1,
          1,
          1,
          1,
          1,
          1,
          1,
          1,
          1,
          1,
          1,
          1,
          2,
          2,
          1,
          2,
          1,
          2,
          1,
          2,
          2,
          2,
          2,
          2,
          2,
          1,
          1,
          2,
          1,
          2,
          2,
          2,
          2,
          2,
          2,
          1,
          1,
          2,
          1,
          1,
          2,
          1,
          1,
          1,
          1,
          1,
          1,
          1,
          1,
          1,
          1,
          1,
          2,
          2,
          2,
          2,
          2,
          1,
          1,
          1,
          1,
          1,
          1,
          1,
          1,
          1,
          1,
          1,
          1,
          1,
          1,
          1,
          1,
          1,
          1,
          1,
          1,
          1,
          1,
          1,
          1,
          1,
          2,
          2,
          2,
          2,
          2,
          2,
          2,
          1,
          2,
          1,
          2,
          1,
          1,
          1,
          1,
          1,
          1,
          1,
          1,
          1,
          1,
          1,
          1,
          1,
          1,
          1,
          1,
          1,
          1,
          1,
          1,
          1,
          1,
          1,
          1,
          1,
          1,
          1,
          1,
          1,
          2,
          1,
          1,
          2,
          2,
          2,
          1,
          1,
          2,
          1,
          1,
          1,
          1,
          2,
          2,
          2,
          2,
          2,
          1,
          1,
          2,
          1,
          1,
          2,
          1,
          1,
          1,
          2,
          2,
          2,
          1,
          2,
          2,
          1,
          1,
          1,
          1,
          1,
          1,
          1,
          1,
          1,
          1,
          1,
          1,
          1,
          1,
          1,
          1,
          2,
          2,
          3,
          1,
          2,
          2,
          2,
          1,
          1,
          1,
          1,
          1,
          1,
          1,
          1,
          1,
          1,
          1,
          1,
          1,
          1,
          2,
          2,
          2,
          1,
          2,
          1,
          2,
          1,
          2,
          2,
          1,
          2,
          2,
          2,
          1,
          1,
          1,
          1,
          1,
          1,
          1,
          1,
          2,
          1,
          1,
          2,
          2,
          2,
          2,
          2,
          1,
          1,
          1,
          1,
          1,
          1,
          1,
          1,
          1,
          1,
          1,
          1,
          1,
          1,
          1,
          1,
          1,
          1,
          1,
          1,
          1,
          1,
          1,
          1,
          2,
          2,
          2,
          1,
          1,
          2,
          2,
          2,
          1,
          1,
          1,
          1,
          1,
          1,
          1,
          1,
          1,
          1,
          1,
          1,
          1,
          1,
          1,
          1,
          1,
          1,
          1,
          1,
          1,
          1,
          1,
          1,
          1,
          1,
          1,
          1,
          1,
          1,
          1,
          1,
          1,
          1,
          1,
          1,
          1,
          1,
          1,
          1,
          1,
          1,
          3,
          1,
          1,
          1,
          1
         ]
        }
       ],
       "layout": {
        "legend": {
         "tracegroupgap": 0
        },
        "margin": {
         "t": 60
        },
        "template": {
         "data": {
          "bar": [
           {
            "error_x": {
             "color": "#2a3f5f"
            },
            "error_y": {
             "color": "#2a3f5f"
            },
            "marker": {
             "line": {
              "color": "#E5ECF6",
              "width": 0.5
             }
            },
            "type": "bar"
           }
          ],
          "barpolar": [
           {
            "marker": {
             "line": {
              "color": "#E5ECF6",
              "width": 0.5
             }
            },
            "type": "barpolar"
           }
          ],
          "carpet": [
           {
            "aaxis": {
             "endlinecolor": "#2a3f5f",
             "gridcolor": "white",
             "linecolor": "white",
             "minorgridcolor": "white",
             "startlinecolor": "#2a3f5f"
            },
            "baxis": {
             "endlinecolor": "#2a3f5f",
             "gridcolor": "white",
             "linecolor": "white",
             "minorgridcolor": "white",
             "startlinecolor": "#2a3f5f"
            },
            "type": "carpet"
           }
          ],
          "choropleth": [
           {
            "colorbar": {
             "outlinewidth": 0,
             "ticks": ""
            },
            "type": "choropleth"
           }
          ],
          "contour": [
           {
            "colorbar": {
             "outlinewidth": 0,
             "ticks": ""
            },
            "colorscale": [
             [
              0,
              "#0d0887"
             ],
             [
              0.1111111111111111,
              "#46039f"
             ],
             [
              0.2222222222222222,
              "#7201a8"
             ],
             [
              0.3333333333333333,
              "#9c179e"
             ],
             [
              0.4444444444444444,
              "#bd3786"
             ],
             [
              0.5555555555555556,
              "#d8576b"
             ],
             [
              0.6666666666666666,
              "#ed7953"
             ],
             [
              0.7777777777777778,
              "#fb9f3a"
             ],
             [
              0.8888888888888888,
              "#fdca26"
             ],
             [
              1,
              "#f0f921"
             ]
            ],
            "type": "contour"
           }
          ],
          "contourcarpet": [
           {
            "colorbar": {
             "outlinewidth": 0,
             "ticks": ""
            },
            "type": "contourcarpet"
           }
          ],
          "heatmap": [
           {
            "colorbar": {
             "outlinewidth": 0,
             "ticks": ""
            },
            "colorscale": [
             [
              0,
              "#0d0887"
             ],
             [
              0.1111111111111111,
              "#46039f"
             ],
             [
              0.2222222222222222,
              "#7201a8"
             ],
             [
              0.3333333333333333,
              "#9c179e"
             ],
             [
              0.4444444444444444,
              "#bd3786"
             ],
             [
              0.5555555555555556,
              "#d8576b"
             ],
             [
              0.6666666666666666,
              "#ed7953"
             ],
             [
              0.7777777777777778,
              "#fb9f3a"
             ],
             [
              0.8888888888888888,
              "#fdca26"
             ],
             [
              1,
              "#f0f921"
             ]
            ],
            "type": "heatmap"
           }
          ],
          "heatmapgl": [
           {
            "colorbar": {
             "outlinewidth": 0,
             "ticks": ""
            },
            "colorscale": [
             [
              0,
              "#0d0887"
             ],
             [
              0.1111111111111111,
              "#46039f"
             ],
             [
              0.2222222222222222,
              "#7201a8"
             ],
             [
              0.3333333333333333,
              "#9c179e"
             ],
             [
              0.4444444444444444,
              "#bd3786"
             ],
             [
              0.5555555555555556,
              "#d8576b"
             ],
             [
              0.6666666666666666,
              "#ed7953"
             ],
             [
              0.7777777777777778,
              "#fb9f3a"
             ],
             [
              0.8888888888888888,
              "#fdca26"
             ],
             [
              1,
              "#f0f921"
             ]
            ],
            "type": "heatmapgl"
           }
          ],
          "histogram": [
           {
            "marker": {
             "colorbar": {
              "outlinewidth": 0,
              "ticks": ""
             }
            },
            "type": "histogram"
           }
          ],
          "histogram2d": [
           {
            "colorbar": {
             "outlinewidth": 0,
             "ticks": ""
            },
            "colorscale": [
             [
              0,
              "#0d0887"
             ],
             [
              0.1111111111111111,
              "#46039f"
             ],
             [
              0.2222222222222222,
              "#7201a8"
             ],
             [
              0.3333333333333333,
              "#9c179e"
             ],
             [
              0.4444444444444444,
              "#bd3786"
             ],
             [
              0.5555555555555556,
              "#d8576b"
             ],
             [
              0.6666666666666666,
              "#ed7953"
             ],
             [
              0.7777777777777778,
              "#fb9f3a"
             ],
             [
              0.8888888888888888,
              "#fdca26"
             ],
             [
              1,
              "#f0f921"
             ]
            ],
            "type": "histogram2d"
           }
          ],
          "histogram2dcontour": [
           {
            "colorbar": {
             "outlinewidth": 0,
             "ticks": ""
            },
            "colorscale": [
             [
              0,
              "#0d0887"
             ],
             [
              0.1111111111111111,
              "#46039f"
             ],
             [
              0.2222222222222222,
              "#7201a8"
             ],
             [
              0.3333333333333333,
              "#9c179e"
             ],
             [
              0.4444444444444444,
              "#bd3786"
             ],
             [
              0.5555555555555556,
              "#d8576b"
             ],
             [
              0.6666666666666666,
              "#ed7953"
             ],
             [
              0.7777777777777778,
              "#fb9f3a"
             ],
             [
              0.8888888888888888,
              "#fdca26"
             ],
             [
              1,
              "#f0f921"
             ]
            ],
            "type": "histogram2dcontour"
           }
          ],
          "mesh3d": [
           {
            "colorbar": {
             "outlinewidth": 0,
             "ticks": ""
            },
            "type": "mesh3d"
           }
          ],
          "parcoords": [
           {
            "line": {
             "colorbar": {
              "outlinewidth": 0,
              "ticks": ""
             }
            },
            "type": "parcoords"
           }
          ],
          "pie": [
           {
            "automargin": true,
            "type": "pie"
           }
          ],
          "scatter": [
           {
            "marker": {
             "colorbar": {
              "outlinewidth": 0,
              "ticks": ""
             }
            },
            "type": "scatter"
           }
          ],
          "scatter3d": [
           {
            "line": {
             "colorbar": {
              "outlinewidth": 0,
              "ticks": ""
             }
            },
            "marker": {
             "colorbar": {
              "outlinewidth": 0,
              "ticks": ""
             }
            },
            "type": "scatter3d"
           }
          ],
          "scattercarpet": [
           {
            "marker": {
             "colorbar": {
              "outlinewidth": 0,
              "ticks": ""
             }
            },
            "type": "scattercarpet"
           }
          ],
          "scattergeo": [
           {
            "marker": {
             "colorbar": {
              "outlinewidth": 0,
              "ticks": ""
             }
            },
            "type": "scattergeo"
           }
          ],
          "scattergl": [
           {
            "marker": {
             "colorbar": {
              "outlinewidth": 0,
              "ticks": ""
             }
            },
            "type": "scattergl"
           }
          ],
          "scattermapbox": [
           {
            "marker": {
             "colorbar": {
              "outlinewidth": 0,
              "ticks": ""
             }
            },
            "type": "scattermapbox"
           }
          ],
          "scatterpolar": [
           {
            "marker": {
             "colorbar": {
              "outlinewidth": 0,
              "ticks": ""
             }
            },
            "type": "scatterpolar"
           }
          ],
          "scatterpolargl": [
           {
            "marker": {
             "colorbar": {
              "outlinewidth": 0,
              "ticks": ""
             }
            },
            "type": "scatterpolargl"
           }
          ],
          "scatterternary": [
           {
            "marker": {
             "colorbar": {
              "outlinewidth": 0,
              "ticks": ""
             }
            },
            "type": "scatterternary"
           }
          ],
          "surface": [
           {
            "colorbar": {
             "outlinewidth": 0,
             "ticks": ""
            },
            "colorscale": [
             [
              0,
              "#0d0887"
             ],
             [
              0.1111111111111111,
              "#46039f"
             ],
             [
              0.2222222222222222,
              "#7201a8"
             ],
             [
              0.3333333333333333,
              "#9c179e"
             ],
             [
              0.4444444444444444,
              "#bd3786"
             ],
             [
              0.5555555555555556,
              "#d8576b"
             ],
             [
              0.6666666666666666,
              "#ed7953"
             ],
             [
              0.7777777777777778,
              "#fb9f3a"
             ],
             [
              0.8888888888888888,
              "#fdca26"
             ],
             [
              1,
              "#f0f921"
             ]
            ],
            "type": "surface"
           }
          ],
          "table": [
           {
            "cells": {
             "fill": {
              "color": "#EBF0F8"
             },
             "line": {
              "color": "white"
             }
            },
            "header": {
             "fill": {
              "color": "#C8D4E3"
             },
             "line": {
              "color": "white"
             }
            },
            "type": "table"
           }
          ]
         },
         "layout": {
          "annotationdefaults": {
           "arrowcolor": "#2a3f5f",
           "arrowhead": 0,
           "arrowwidth": 1
          },
          "autotypenumbers": "strict",
          "coloraxis": {
           "colorbar": {
            "outlinewidth": 0,
            "ticks": ""
           }
          },
          "colorscale": {
           "diverging": [
            [
             0,
             "#8e0152"
            ],
            [
             0.1,
             "#c51b7d"
            ],
            [
             0.2,
             "#de77ae"
            ],
            [
             0.3,
             "#f1b6da"
            ],
            [
             0.4,
             "#fde0ef"
            ],
            [
             0.5,
             "#f7f7f7"
            ],
            [
             0.6,
             "#e6f5d0"
            ],
            [
             0.7,
             "#b8e186"
            ],
            [
             0.8,
             "#7fbc41"
            ],
            [
             0.9,
             "#4d9221"
            ],
            [
             1,
             "#276419"
            ]
           ],
           "sequential": [
            [
             0,
             "#0d0887"
            ],
            [
             0.1111111111111111,
             "#46039f"
            ],
            [
             0.2222222222222222,
             "#7201a8"
            ],
            [
             0.3333333333333333,
             "#9c179e"
            ],
            [
             0.4444444444444444,
             "#bd3786"
            ],
            [
             0.5555555555555556,
             "#d8576b"
            ],
            [
             0.6666666666666666,
             "#ed7953"
            ],
            [
             0.7777777777777778,
             "#fb9f3a"
            ],
            [
             0.8888888888888888,
             "#fdca26"
            ],
            [
             1,
             "#f0f921"
            ]
           ],
           "sequentialminus": [
            [
             0,
             "#0d0887"
            ],
            [
             0.1111111111111111,
             "#46039f"
            ],
            [
             0.2222222222222222,
             "#7201a8"
            ],
            [
             0.3333333333333333,
             "#9c179e"
            ],
            [
             0.4444444444444444,
             "#bd3786"
            ],
            [
             0.5555555555555556,
             "#d8576b"
            ],
            [
             0.6666666666666666,
             "#ed7953"
            ],
            [
             0.7777777777777778,
             "#fb9f3a"
            ],
            [
             0.8888888888888888,
             "#fdca26"
            ],
            [
             1,
             "#f0f921"
            ]
           ]
          },
          "colorway": [
           "#636efa",
           "#EF553B",
           "#00cc96",
           "#ab63fa",
           "#FFA15A",
           "#19d3f3",
           "#FF6692",
           "#B6E880",
           "#FF97FF",
           "#FECB52"
          ],
          "font": {
           "color": "#2a3f5f"
          },
          "geo": {
           "bgcolor": "white",
           "lakecolor": "white",
           "landcolor": "#E5ECF6",
           "showlakes": true,
           "showland": true,
           "subunitcolor": "white"
          },
          "hoverlabel": {
           "align": "left"
          },
          "hovermode": "closest",
          "mapbox": {
           "style": "light"
          },
          "paper_bgcolor": "white",
          "plot_bgcolor": "#E5ECF6",
          "polar": {
           "angularaxis": {
            "gridcolor": "white",
            "linecolor": "white",
            "ticks": ""
           },
           "bgcolor": "#E5ECF6",
           "radialaxis": {
            "gridcolor": "white",
            "linecolor": "white",
            "ticks": ""
           }
          },
          "scene": {
           "xaxis": {
            "backgroundcolor": "#E5ECF6",
            "gridcolor": "white",
            "gridwidth": 2,
            "linecolor": "white",
            "showbackground": true,
            "ticks": "",
            "zerolinecolor": "white"
           },
           "yaxis": {
            "backgroundcolor": "#E5ECF6",
            "gridcolor": "white",
            "gridwidth": 2,
            "linecolor": "white",
            "showbackground": true,
            "ticks": "",
            "zerolinecolor": "white"
           },
           "zaxis": {
            "backgroundcolor": "#E5ECF6",
            "gridcolor": "white",
            "gridwidth": 2,
            "linecolor": "white",
            "showbackground": true,
            "ticks": "",
            "zerolinecolor": "white"
           }
          },
          "shapedefaults": {
           "line": {
            "color": "#2a3f5f"
           }
          },
          "ternary": {
           "aaxis": {
            "gridcolor": "white",
            "linecolor": "white",
            "ticks": ""
           },
           "baxis": {
            "gridcolor": "white",
            "linecolor": "white",
            "ticks": ""
           },
           "bgcolor": "#E5ECF6",
           "caxis": {
            "gridcolor": "white",
            "linecolor": "white",
            "ticks": ""
           }
          },
          "title": {
           "x": 0.05
          },
          "xaxis": {
           "automargin": true,
           "gridcolor": "white",
           "linecolor": "white",
           "ticks": "",
           "title": {
            "standoff": 15
           },
           "zerolinecolor": "white",
           "zerolinewidth": 2
          },
          "yaxis": {
           "automargin": true,
           "gridcolor": "white",
           "linecolor": "white",
           "ticks": "",
           "title": {
            "standoff": 15
           },
           "zerolinecolor": "white",
           "zerolinewidth": 2
          }
         }
        }
       }
      },
      "text/html": [
       "<div>                            <div id=\"cf002bbe-47b2-46e3-86e9-4ded47b56041\" class=\"plotly-graph-div\" style=\"height:525px; width:100%;\"></div>            <script type=\"text/javascript\">                require([\"plotly\"], function(Plotly) {                    window.PLOTLYENV=window.PLOTLYENV || {};                                    if (document.getElementById(\"cf002bbe-47b2-46e3-86e9-4ded47b56041\")) {                    Plotly.newPlot(                        \"cf002bbe-47b2-46e3-86e9-4ded47b56041\",                        [{\"branchvalues\": \"total\", \"customdata\": [[\"SigFox (Rural)\"], [\"MBWA\"], [\"MicroWave\"], [\"NBIot\"], [\"LTE-4G\"], [\"MBWA\"], [\"LoRa (Urban)\"], [\"LoRa (Rural)\"], [\"LTE-4G\"], [\"Ingenu-RPMA\"], [\"DSRC/Wave\"], [\"LoRa (Urban)\"], [\"CALM\"], [\"5G Mid\"], [\"5G Low\"], [\"WiMax\"], [\"WIFI\"], [\"NBIot\"], [\"MicroWave\"], [\"MBWA\"], [\"LTE-4G\"], [\"5G Mid\"], [\"5G Low\"], [\"WiMax\"], [\"NBIot\"], [\"MicroWave\"], [\"MBWA\"], [\"LTE-4G\"], [\"LoRa (Urban)\"], [\"LoRa (Rural)\"], [\"LTE-4G\"], [\"Ingenu-RPMA\"], [\"MBWA\"], [\"MicroWave\"], [\"NBIot\"], [\"SigFox (Rural)\"], [\"SigFox (Urban)\"], [\"WIFI\"], [\"WiMax\"], [\"5G Low\"], [\"5G Mid\"], [\"CALM\"], [\"DASH7\"], [\"DSRC/Wave\"], [\"Ingenu-RPMA\"], [\"5G Mid\"], [\"LTE-4G\"], [\"LoRa (Urban)\"], [\"MBWA\"], [\"MicroWave\"], [\"NBIot\"], [\"SigFox (Rural)\"], [\"SigFox (Urban)\"], [\"WIFI\"], [\"WiMax\"], [\"5G Low\"], [\"5G Mid\"], [\"CALM\"], [\"DASH7\"], [\"DSRC/Wave\"], [\"LoRa (Rural)\"], [\"5G Low\"], [\"DASH7\"], [\"NBIot\"], [\"5G Mid\"], [\"CALM\"], [\"DASH7\"], [\"DSRC/Wave\"], [\"Ingenu-RPMA\"], [\"WiMax\"], [\"LoRa (Rural)\"], [\"MicroWave\"], [\"MBWA\"], [\"LTE-4G\"], [\"NBIot\"], [\"CALM\"], [\"5G Mid\"], [\"5G Low\"], [\"SigFox (Urban)\"], [\"WIFI\"], [\"WiMax\"], [\"MicroWave\"], [\"DASH7\"], [\"WiMax\"], [\"SigFox (Urban)\"], [\"SigFox (Rural)\"], [\"MBWA\"], [\"MicroWave\"], [\"5G Low\"], [\"DSRC/Wave\"], [\"LTE-4G\"], [\"MBWA\"], [\"5G Mid\"], [\"LTE-4G\"], [\"5G mmWavve\"], [\"5G Mid\"], [\"5G Low\"], [\"WiMax\"], [\"Ingenu-RPMA\"], [\"WIFI\"], [\"SigFox (Rural)\"], [\"NBIot\"], [\"MicroWave\"], [\"MBWA\"], [\"LoRa (Urban)\"], [\"LoRa (Rural)\"], [\"SigFox (Urban)\"], [\"LoRa (Urban)\"], [\"NBIot\"], [\"LTE-4G\"], [\"NBIot\"], [\"MicroWave\"], [\"WiMax\"], [\"NBIot\"], [\"LoRa (Rural)\"], [\"5G Mid\"], [\"5G Low\"], [\"ZigBee\"], [\"WiMax\"], [\"WIFI\"], [\"UWB\"], [\"NBIot\"], [\"LTE-4G\"], [\"5G mmWavve\"], [\"5G Mid\"], [\"5G Low\"], [\"WiMax\"], [\"SigFox (Rural)\"], [\"SigFox (Urban)\"], [\"LTE-4G\"], [\"WiMax\"], [\"Ingenu-RPMA\"], [\"DSRC/Wave\"], [\"DASH7\"], [\"WIFI\"], [\"5G Mid\"], [\"5G Low\"], [\"WiMax\"], [\"CALM\"], [\"WIFI\"], [\"NBIot\"], [\"5G Low\"], [\"MicroWave\"], [\"MBWA\"], [\"LTE-4G\"], [\"5G Mid\"], [\"CALM\"], [\"DASH7\"], [\"5G Low\"], [\"5G Mid\"], [\"LTE-4G\"], [\"WiMax\"], [\"LTE-4G\"], [\"MBWA\"], [\"MicroWave\"], [\"NBIot\"], [\"WiMax\"], [\"5G Low\"], [\"5G Mid\"], [\"LTE-4G\"], [\"MBWA\"], [\"WiMax\"], [\"ZigBee\"], [\"MBWA\"], [\"MicroWave\"], [\"NBIot\"], [\"SigFox (Rural)\"], [\"WIFI\"], [\"UWB\"], [\"SigFox (Urban)\"], [\"5G Low\"], [\"5G Mid\"], [\"CALM\"], [\"DSRC/Wave\"], [\"LTE-4G\"], [\"WiMax\"], [\"LoRa (Rural)\"], [\"LoRa (Urban)\"], [\"MBWA\"], [\"DASH7\"], [\"DSRC/Wave\"], [\"Ingenu-RPMA\"], [\"WIFI\"], [\"MBWA\"], [\"Ingenu-RPMA\"], [\"NBIot\"], [\"MicroWave\"], [\"MBWA\"], [\"LoRa (Urban)\"], [\"LoRa (Rural)\"], [\"LTE-4G\"], [\"Ingenu-RPMA\"], [\"DSRC/Wave\"], [\"DASH7\"], [\"CALM\"], [\"5G Mid\"], [\"5G Low\"], [\"WiMax\"], [\"NBIot\"], [\"MicroWave\"], [\"LTE-4G\"], [\"SigFox (Rural)\"], [\"SigFox (Urban)\"], [\"SigFox (Rural)\"], [\"NBIot\"], [\"MicroWave\"], [\"WIFI\"], [\"WiMax\"], [\"5G Low\"], [\"5G Mid\"], [\"CALM\"], [\"DASH7\"], [\"DSRC/Wave\"], [\"Ingenu-RPMA\"], [\"LTE-4G\"], [\"LoRa (Rural)\"], [\"LoRa (Urban)\"], [\"MBWA\"], [\"MicroWave\"], [\"NBIot\"], [\"SigFox (Rural)\"], [\"WIFI\"], [\"WiMax\"], [\"5G Low\"], [\"WIFI\"], [\"SigFox (Urban)\"], [\"SigFox (Rural)\"], [\"NBIot\"], [\"SigFox (Urban)\"], [\"5G Low\"], [\"NBIot\"], [\"MicroWave\"], [\"MBWA\"], [\"LoRa (Urban)\"], [\"LoRa (Rural)\"], [\"LTE-4G\"], [\"Ingenu-RPMA\"], [\"5G Mid\"], [\"CALM\"], [\"DASH7\"], [\"DSRC/Wave\"], [\"Ingenu-RPMA\"], [\"LTE-4G\"], [\"LoRa (Rural)\"], [\"LoRa (Urban)\"], [\"MBWA\"], [\"MicroWave\"], [\"WiMax\"], [\"SigFox (Rural)\"], [\"SigFox (Urban)\"], [\"LTE-4G\"], [\"NBIot\"], [\"WIFI\"], [\"WiMax\"], [\"5G Low\"], [\"5G Mid\"], [\"BLE\"], [\"LTE-4G\"], [\"NBIot\"], [\"UWB\"], [\"WIFI\"], [\"WiMax\"], [\"ZigBee\"], [\"5G Low\"], [\"5G Mid\"], [\"NBIot\"], [\"WiMax\"], [\"5G Low\"], [\"5G Mid\"], [\"LTE-4G\"], [\"NBIot\"], [\"WiMax\"], [\"5G Low\"], [\"5G Mid\"], [\"LTE-4G\"], [\"5G Mid\"], [\"5G mmWavve\"], [\"WiMax\"], [\"5G Low\"], [\"WIFI\"], [\"Ingenu-RPMA\"], [\"SigFox (Rural)\"], [\"WIFI\"], [\"SigFox (Urban)\"], [\"SigFox (Rural)\"], [\"IR\"], [\"NBIot\"], [\"LoRa (Rural)\"], [\"LTE-4G\"], [\"DSRC/Wave\"], [\"CALM\"], [\"LTE-4G\"], [\"LoRa (Rural)\"], [\"LoRa (Urban)\"], [\"LoRa (Urban)\"], [\"DSRC/Wave\"], [\"NBIot\"], [\"CALM\"], [\"MicroWave\"], [\"MBWA\"], [\"SigFox (Urban)\"], [\"DASH7\"], [\"WiMax\"], [\"5G Low\"], [\"5G Mid\"], [\"LTE-4G\"], [\"WIFI\"], [\"MicroWave\"], [\"NBIot\"], [\"WiMax\"], [\"5G Low\"], [\"5G Mid\"], [\"5G mmWavve\"], [\"BLE\"], [\"MBWA\"], [\"MBWA\"], [\"LTE-4G\"], [\"IR\"], [\"5G mmWavve\"], [\"5G Mid\"], [\"SigFox (Rural)\"], [\"WIFI\"], [\"SigFox (Urban)\"], [\"NBIot\"], [\"WiMax\"], [\"MicroWave\"], [\"5G Low\"], [\"UWB\"], [\"NBIot\"], [\"WiMax\"], [\"5G Low\"], [\"5G Mid\"], [\"5G Mid\"], [\"CALM\"], [\"DSRC/Wave\"], [\"Ingenu-RPMA\"], [\"LTE-4G\"], [\"LoRa (Rural)\"], [\"LoRa (Urban)\"], [\"DASH7\"], [\"WiMax\"], [\"NBIot\"], [\"MicroWave\"], [\"MBWA\"], [\"LTE-4G\"], [\"5G Mid\"], [\"5G Low\"], [\"WIFI\"], [\"5G Low\"], [\"ZigBee\"], [\"MicroWave\"], [\"MBWA\"], [\"LoRa (Rural)\"], [\"LTE-4G\"], [\"Ingenu-RPMA\"], [\"DSRC/Wave\"], [\"NBIot\"], [\"CALM\"], [\"5G Mid\"], [\"5G Low\"], [\"MicroWave\"], [\"WiMax\"], [\"MBWA\"], [\"NBIot\"], [\"DASH7\"], [\"SigFox (Rural)\"], [\"LoRa (Urban)\"], [\"WIFI\"], [\"5G Mid\"], [\"CALM\"], [\"DASH7\"], [\"DSRC/Wave\"], [\"Ingenu-RPMA\"], [\"LTE-4G\"], [\"SigFox (Urban)\"], [\"WIFI\"], [\"LoRa (Rural)\"], [\"WiMax\"], [\"SigFox (Urban)\"], [\"SigFox (Rural)\"], [\"5G Low\"], [\"MicroWave\"], [\"MBWA\"], [\"LoRa (Urban)\"], [\"WiMax\"], [\"5G Low\"], [\"5G Mid\"], [\"LoRa (Rural)\"], [\"CALM\"], [\"LTE-4G\"], [\"NBIot\"], [\"Ingenu-RPMA\"], [\"DASH7\"], [\"DSRC/Wave\"], [\"5G mmWavve\"], [\"LTE-4G\"], [\"LoRa (Urban)\"], [\"ZigBee\"], [\"WIFI\"], [\"5G Mid\"], [\"WiMax\"], [\"5G Low\"], [\"WiMax\"], [\"NBIot\"], [\"MicroWave\"], [\"MBWA\"], [\"LTE-4G\"], [\"5G Mid\"], [\"WiMax\"], [\"WIFI\"], [\"SigFox (Urban)\"], [\"SigFox (Rural)\"], [\"NBIot\"], [\"MicroWave\"], [\"MBWA\"], [\"5G Low\"], [\"5G Low\"], [\"UWB\"], [\"LTE-4G\"], [\"CALM\"], [\"NBIot\"], [\"5G Mid\"], [\"WiMax\"], [\"5G Low\"], [\"DASH7\"], [\"DSRC/Wave\"], [\"Ingenu-RPMA\"], [\"LTE-4G\"], [\"5G Mid\"], [\"LoRa (Urban)\"], [\"MBWA\"], [\"MicroWave\"], [\"NBIot\"], [\"WIFI\"], [\"SigFox (Rural)\"], [\"LoRa (Rural)\"], [\"SigFox (Urban)\"], [\"NBIot\"], [\"WIFI\"], [\"SigFox (Urban)\"], [\"SigFox (Rural)\"], [\"NBIot\"], [\"LoRa (Urban)\"], [\"LoRa (Rural)\"], [\"LTE-4G\"], [\"Ingenu-RPMA\"], [\"DSRC/Wave\"], [\"MicroWave\"], [\"WiMax\"], [\"5G Mid\"], [\"LTE-4G\"], [\"NBIot\"], [\"WiMax\"], [\"5G Low\"], [\"5G Mid\"], [\"DASH7\"], [\"DSRC/Wave\"], [\"Ingenu-RPMA\"], [\"LTE-4G\"], [\"LoRa (Rural)\"], [\"LoRa (Urban)\"], [\"MBWA\"], [\"MicroWave\"], [\"NBIot\"], [\"5G Low\"], [\"CALM\"], [\"MBWA\"], [\"5G Mid\"], [\"LoRa (Urban)\"], [\"LoRa (Rural)\"], [\"LTE-4G\"], [\"Ingenu-RPMA\"], [\"DSRC/Wave\"], [\"DASH7\"], [\"LTE-4G\"], [\"5G Mid\"], [\"MBWA\"], [\"5G Low\"], [\"NBIot\"], [\"MicroWave\"], [\"MBWA\"], [\"LTE-4G\"], [\"5G Low\"], [\"ZigBee\"], [\"WiMax\"], [\"UWB\"], [\"WiMax\"], [\"MicroWave\"], [\"CALM\"], [\"SigFox (Rural)\"], [\"NBIot\"], [\"WiMax\"], [\"WIFI\"], [\"SigFox (Urban)\"], [\"SigFox (Rural)\"], [\"NBIot\"], [\"MicroWave\"], [\"MBWA\"], [\"LoRa (Rural)\"], [\"5G Low\"], [\"Ingenu-RPMA\"], [\"LTE-4G\"], [\"SigFox (Urban)\"], [\"WIFI\"], [\"WiMax\"], [\"LoRa (Urban)\"], [\"5G Mid\"], [\"CALM\"], [\"DASH7\"], [\"5G Low\"], [\"DSRC/Wave\"], [\"LoRa (Rural)\"], [\"LTE-4G\"], [\"LoRa (Urban)\"], [\"DASH7\"], [\"CALM\"], [\"5G Mid\"], [\"5G Low\"], [\"DSRC/Wave\"], [\"Ingenu-RPMA\"], [\"MBWA\"], [\"MicroWave\"], [\"NBIot\"], [\"SigFox (Rural)\"], [\"SigFox (Urban)\"], [\"WIFI\"], [\"WiMax\"], [\"5G Low\"], [\"5G Mid\"], [\"5G Low\"], [\"MicroWave\"], [\"NBIot\"], [\"WiMax\"], [\"5G Mid\"], [\"5G Mid\"], [\"CALM\"], [\"DASH7\"], [\"DSRC/Wave\"], [\"LTE-4G\"], [\"LoRa (Rural)\"], [\"LoRa (Urban)\"], [\"5G Low\"], [\"MBWA\"], [\"NBIot\"], [\"SigFox (Rural)\"], [\"SigFox (Urban)\"], [\"WIFI\"], [\"WiMax\"], [\"5G Low\"], [\"5G Mid\"], [\"CALM\"], [\"DASH7\"], [\"DSRC/Wave\"], [\"MicroWave\"], [\"WiMax\"], [\"Ingenu-RPMA\"], [\"SigFox (Urban)\"], [\"LTE-4G\"], [\"MBWA\"], [\"WIFI\"], [\"NBIot\"], [\"WiMax\"], [\"5G Low\"], [\"5G Mid\"], [\"LTE-4G\"], [\"NBIot\"], [\"SigFox (Urban)\"], [\"MicroWave\"], [\"WiMax\"], [\"WIFI\"], [\"SigFox (Rural)\"], [\"MicroWave\"], [\"MBWA\"], [\"NBIot\"], [\"LoRa (Rural)\"], [\"LTE-4G\"], [\"5G Low\"], [\"LoRa (Urban)\"], [\"5G Low\"], [\"LTE-4G\"], [\"5G Mid\"], [\"CALM\"], [\"DASH7\"], [\"DSRC/Wave\"], [\"Ingenu-RPMA\"], [\"LoRa (Rural)\"], [\"SigFox (Rural)\"], [\"MBWA\"], [\"MicroWave\"], [\"NBIot\"], [\"SigFox (Urban)\"], [\"WIFI\"], [\"WiMax\"], [\"WiMax\"], [\"LoRa (Urban)\"], [\"WIFI\"], [\"LoRa (Urban)\"], [\"MBWA\"], [\"MBWA\"], [\"LTE-4G\"], [\"5G Mid\"], [\"5G Low\"], [\"WiMax\"], [\"WIFI\"], [\"NBIot\"], [\"MicroWave\"], [\"MBWA\"], [\"LTE-4G\"], [\"5G Mid\"], [\"5G Low\"], [\"WiMax\"], [\"NBIot\"], [\"MicroWave\"], [\"MBWA\"], [\"LTE-4G\"], [\"DSRC/Wave\"], [\"CALM\"], [\"5G Mid\"], [\"5G Low\"], [\"WiMax\"], [\"WIFI\"], [\"SigFox (Urban)\"], [\"SigFox (Rural)\"], [\"MicroWave\"], [\"NBIot\"], [\"MicroWave\"], [\"WiMax\"], [\"LoRa (Rural)\"], [\"LTE-4G\"], [\"Ingenu-RPMA\"], [\"DSRC/Wave\"], [\"DASH7\"], [\"CALM\"], [\"5G Mid\"], [\"5G Low\"], [\"WiMax\"], [\"WIFI\"], [\"SigFox (Urban)\"], [\"SigFox (Rural)\"], [\"WIFI\"], [\"MicroWave\"], [\"5G Low\"], [\"5G Mid\"], [\"NBIot\"], [\"DASH7\"], [\"DSRC/Wave\"], [\"CALM\"], [\"LTE-4G\"], [\"LoRa (Rural)\"], [\"LoRa (Urban)\"], [\"MBWA\"], [\"Ingenu-RPMA\"], [\"5G Mid\"], [\"DASH7\"], [\"CALM\"], [\"5G Mid\"], [\"5G Low\"]], \"domain\": {\"x\": [0.0, 1.0], \"y\": [0.0, 1.0]}, \"hovertemplate\": \"labels=%{label}<br>count=%{value}<br>parent=%{parent}<br>id=%{id}<br>Technology=%{customdata[0]}<extra></extra>\", \"ids\": [\"SigFox (Rural)/MDU\", \"MBWA/MDU\", \"MicroWave/MDU\", \"NBIot/MDU\", \"LTE-4G/LZM\", \"MBWA/CTR\", \"LoRa (Urban)/CTR\", \"LoRa (Rural)/CTR\", \"LTE-4G/CTR\", \"Ingenu-RPMA/CTR\", \"DSRC/Wave/CTR\", \"LoRa (Urban)/LZM\", \"CALM/CTR\", \"5G Mid/CTR\", \"5G Low/CTR\", \"WiMax/CSL\", \"WIFI/CSL\", \"NBIot/CSL\", \"MicroWave/CSL\", \"MBWA/CSL\", \"LTE-4G/CSL\", \"5G Mid/CSL\", \"5G Low/CSL\", \"WiMax/CRWRSU\", \"NBIot/CRWRSU\", \"MicroWave/CRWRSU\", \"MBWA/CRWRSU\", \"LTE-4G/CRWRSU\", \"LoRa (Urban)/MDU\", \"LoRa (Rural)/MDU\", \"LTE-4G/MDU\", \"Ingenu-RPMA/MDU\", \"MBWA/LZM\", \"MicroWave/LZM\", \"NBIot/LZM\", \"SigFox (Rural)/LZM\", \"SigFox (Urban)/LZM\", \"WIFI/LZM\", \"WiMax/LZM\", \"5G Low/MD\", \"5G Mid/MD\", \"CALM/MD\", \"DASH7/MD\", \"DSRC/Wave/MD\", \"Ingenu-RPMA/MD\", \"5G Mid/CRWRSU\", \"LTE-4G/MD\", \"LoRa (Urban)/MD\", \"MBWA/MD\", \"MicroWave/MD\", \"NBIot/MD\", \"SigFox (Rural)/MD\", \"SigFox (Urban)/MD\", \"WIFI/MD\", \"WiMax/MD\", \"5G Low/MDU\", \"5G Mid/MDU\", \"CALM/MDU\", \"DASH7/MDU\", \"DSRC/Wave/MDU\", \"LoRa (Rural)/MD\", \"5G Low/CRWRSU\", \"DASH7/CTR\", \"NBIot/CMA\", \"5G Mid/LZM\", \"CALM/LZM\", \"DASH7/LZM\", \"DSRC/Wave/LZM\", \"Ingenu-RPMA/LZM\", \"WiMax/CMA\", \"LoRa (Rural)/LZM\", \"MicroWave/CMA\", \"MBWA/CMA\", \"LTE-4G/CMA\", \"NBIot/MTTCRW\", \"CALM/PA\", \"5G Mid/PA\", \"5G Low/PA\", \"SigFox (Urban)/MDU\", \"WIFI/MDU\", \"WiMax/MDU\", \"MicroWave/MTTCRW\", \"DASH7/PA\", \"WiMax/DS\", \"SigFox (Urban)/DS\", \"SigFox (Rural)/DS\", \"MBWA/MTTCRW\", \"MicroWave/DS\", \"5G Low/MTTCRW\", \"DSRC/Wave/PA\", \"LTE-4G/PA\", \"MBWA/DS\", \"5G Mid/MTTCRW\", \"LTE-4G/MTTCRW\", \"5G mmWavve/PCSW\", \"5G Mid/PCSW\", \"5G Low/PCSW\", \"WiMax/PA\", \"Ingenu-RPMA/PA\", \"WIFI/PA\", \"SigFox (Rural)/PA\", \"NBIot/PA\", \"MicroWave/PA\", \"MBWA/PA\", \"LoRa (Urban)/PA\", \"LoRa (Rural)/PA\", \"SigFox (Urban)/PA\", \"LoRa (Urban)/DS\", \"NBIot/DS\", \"LTE-4G/DS\", \"NBIot/CTR\", \"MicroWave/CTR\", \"WiMax/OVW\", \"NBIot/OVW\", \"LoRa (Rural)/DS\", \"5G Mid/OVW\", \"5G Low/OVW\", \"ZigBee/MW\", \"WiMax/MW\", \"WIFI/MW\", \"UWB/MW\", \"NBIot/MW\", \"LTE-4G/MW\", \"5G mmWavve/MW\", \"5G Mid/MW\", \"5G Low/MW\", \"WiMax/MTTCRW\", \"SigFox (Rural)/CTR\", \"SigFox (Urban)/CTR\", \"LTE-4G/OVW\", \"WiMax/CTR\", \"Ingenu-RPMA/DS\", \"DSRC/Wave/DS\", \"DASH7/DS\", \"WIFI/CTR\", \"5G Mid/DS\", \"5G Low/DS\", \"WiMax/CVHAS\", \"CALM/DS\", \"WIFI/CVHAS\", \"NBIot/CVHAS\", \"5G Low/CVHAS\", \"MicroWave/CVHAS\", \"MBWA/CVHAS\", \"LTE-4G/CVHAS\", \"5G Mid/CVHAS\", \"CALM/EDCV\", \"DASH7/EDCV\", \"5G Low/EDCV\", \"5G Mid/EDCV\", \"LTE-4G/PCSW\", \"WiMax/FADL\", \"LTE-4G/HCW\", \"MBWA/HCW\", \"MicroWave/HCW\", \"NBIot/HCW\", \"WiMax/HCW\", \"5G Low/HLN\", \"5G Mid/HLN\", \"LTE-4G/HLN\", \"MBWA/HLN\", \"WiMax\", \"ZigBee\", \"MBWA\", \"MicroWave\", \"NBIot\", \"SigFox (Rural)\", \"WIFI\", \"UWB\", \"SigFox (Urban)\", \"5G Low/IM\", \"5G Mid/IM\", \"CALM/IM\", \"DSRC/Wave/AAC\", \"LTE-4G/AAC\", \"WiMax/IFS\", \"LoRa (Rural)/AAC\", \"LoRa (Urban)/AAC\", \"MBWA/AAC\", \"DASH7/IM\", \"DSRC/Wave/IM\", \"Ingenu-RPMA/AAC\", \"WIFI/IFS\", \"MBWA/ICW\", \"Ingenu-RPMA/IM\", \"NBIot/IFS\", \"MicroWave/IFS\", \"MBWA/IFS\", \"LoRa (Urban)/IFS\", \"LoRa (Rural)/IFS\", \"LTE-4G/IFS\", \"Ingenu-RPMA/IFS\", \"DSRC/Wave/IFS\", \"DASH7/IFS\", \"CALM/IFS\", \"5G Mid/IFS\", \"5G Low/IFS\", \"WiMax/ICW\", \"NBIot/ICW\", \"MicroWave/ICW\", \"LTE-4G/ICW\", \"SigFox (Rural)/IFS\", \"SigFox (Urban)/IFS\", \"SigFox (Rural)/AAC\", \"NBIot/AAC\", \"MicroWave/AAC\", \"WIFI/InM\", \"WiMax/LAW\", \"5G Low/LEC\", \"5G Mid/LEC\", \"CALM/LEC\", \"DASH7/LEC\", \"DSRC/Wave/LEC\", \"Ingenu-RPMA/LEC\", \"LTE-4G/LEC\", \"LoRa (Rural)/LEC\", \"LoRa (Urban)/LEC\", \"MBWA/LEC\", \"MicroWave/LEC\", \"NBIot/LEC\", \"SigFox (Rural)/LEC\", \"WIFI/LEC\", \"WiMax/LEC\", \"5G Low/LZM\", \"WIFI/LAW\", \"SigFox (Urban)/LAW\", \"SigFox (Rural)/LAW\", \"NBIot/LAW\", \"SigFox (Urban)/InM\", \"5G Low/LAW\", \"NBIot/InM\", \"MicroWave/InM\", \"MBWA/InM\", \"LoRa (Urban)/InM\", \"LoRa (Rural)/InM\", \"LTE-4G/InM\", \"Ingenu-RPMA/InM\", \"5G Mid/LAW\", \"CALM/LAW\", \"DASH7/LAW\", \"DSRC/Wave/LAW\", \"Ingenu-RPMA/LAW\", \"LTE-4G/LAW\", \"LoRa (Rural)/LAW\", \"LoRa (Urban)/LAW\", \"MBWA/LAW\", \"MicroWave/LAW\", \"WiMax/InM\", \"SigFox (Rural)/InM\", \"SigFox (Urban)/LEC\", \"LTE-4G/CLCA\", \"NBIot/CFCW\", \"WIFI/CFCW\", \"WiMax/CFCW\", \"5G Low/CGR\", \"5G Mid/CGR\", \"BLE/CGR\", \"LTE-4G/CGR\", \"NBIot/CGR\", \"UWB/CGR\", \"WIFI/CGR\", \"WiMax/CGR\", \"ZigBee/CGR\", \"5G Low/CLCA\", \"5G Mid/CLCA\", \"NBIot/CLCA\", \"WiMax/CLCA\", \"5G Low/CLW\", \"5G Mid/CLW\", \"LTE-4G/CLW\", \"NBIot/CLW\", \"WiMax/CLW\", \"5G Low/CMA\", \"5G Mid/CMA\", \"LTE-4G/CFCW\", \"5G Mid/CFCW\", \"5G mmWavve/CGR\", \"WiMax/CACC\", \"5G Low/CFCW\", \"WIFI/CACC\", \"Ingenu-RPMA\", \"SigFox (Rural)/VS\", \"WIFI/FADL\", \"SigFox (Urban)/FADL\", \"SigFox (Rural)/FADL\", \"IR\", \"NBIot/FADL\", \"LoRa (Rural)/FADL\", \"LTE-4G/FADL\", \"DSRC/Wave/FADL\", \"CALM/FADL\", \"LTE-4G\", \"LoRa (Rural)\", \"LoRa (Urban)\", \"LoRa (Urban)/FADL\", \"DSRC/Wave\", \"NBIot/VS\", \"CALM\", \"MicroWave/VS\", \"MBWA/VS\", \"SigFox (Urban)/VS\", \"DASH7\", \"WiMax/VS\", \"5G Low/WWDW\", \"5G Mid/WWDW\", \"LTE-4G/WWDW\", \"WIFI/VS\", \"MicroWave/WWDW\", \"NBIot/WWDW\", \"WiMax/WWDW\", \"5G Low\", \"5G Mid\", \"5G mmWavve\", \"BLE\", \"MBWA/WWDW\", \"MBWA/VRUW\", \"LTE-4G/VRUW\", \"IR/VRUW\", \"5G mmWavve/VRUW\", \"5G Mid/VRUW\", \"SigFox (Rural)/VRSUDC\", \"WIFI/VRSUDC\", \"SigFox (Urban)/VRSUDC\", \"NBIot/VRSUDC\", \"WiMax/VRSUDC\", \"MicroWave/VRUW\", \"5G Low/VRUW\", \"UWB/VRUW\", \"NBIot/VRUW\", \"WiMax/EVW\", \"5G Low/FADL\", \"5G Mid/FADL\", \"5G Mid/VS\", \"CALM/VS\", \"DSRC/Wave/VS\", \"Ingenu-RPMA/VS\", \"LTE-4G/VS\", \"LoRa (Rural)/VS\", \"LoRa (Urban)/VS\", \"DASH7/VS\", \"WiMax/VRUW\", \"NBIot/EVW\", \"MicroWave/EVW\", \"MBWA/EVW\", \"LTE-4G/EVW\", \"5G Mid/EVW\", \"5G Low/EVW\", \"WIFI/VRUW\", \"5G Low/VS\", \"ZigBee/VRUW\", \"MicroWave/SM\", \"MBWA/SM\", \"LoRa (Rural)/SM\", \"LTE-4G/SM\", \"Ingenu-RPMA/SM\", \"DSRC/Wave/SM\", \"NBIot/RW\", \"CALM/SM\", \"5G Mid/SM\", \"5G Low/SM\", \"MicroWave/RW\", \"WiMax/RW\", \"MBWA/RW\", \"NBIot/SM\", \"DASH7/SM\", \"SigFox (Rural)/SM\", \"LoRa (Urban)/SM\", \"WIFI/SM\", \"5G Mid/SVA\", \"CALM/SVA\", \"DASH7/SVA\", \"DSRC/Wave/SVA\", \"Ingenu-RPMA/SVA\", \"LTE-4G/SVA\", \"SigFox (Urban)/SM\", \"WIFI/SOSS\", \"LoRa (Rural)/SVA\", \"WiMax/SOSS\", \"SigFox (Urban)/SOSS\", \"SigFox (Rural)/SOSS\", \"5G Low/SVA\", \"MicroWave/SOSS\", \"MBWA/SOSS\", \"LoRa (Urban)/SOSS\", \"WiMax/SM\", \"5G Low/SOSS\", \"5G Mid/SOSS\", \"LoRa (Rural)/SOSS\", \"CALM/SOSS\", \"LTE-4G/SOSS\", \"NBIot/SOSS\", \"Ingenu-RPMA/SOSS\", \"DASH7/SOSS\", \"DSRC/Wave/SOSS\", \"5G mmWavve/SlVW\", \"LTE-4G/SlVW\", \"LoRa (Urban)/SVA\", \"ZigBee/SlVW\", \"WIFI/SlVW\", \"5G Mid/SlVW\", \"WiMax/SlVW\", \"5G Low/SiVW\", \"WiMax/SiVW\", \"NBIot/SiVW\", \"MicroWave/SiVW\", \"MBWA/SiVW\", \"LTE-4G/SiVW\", \"5G Mid/SiVW\", \"WiMax/SVA\", \"WIFI/SVA\", \"SigFox (Urban)/SVA\", \"SigFox (Rural)/SVA\", \"NBIot/SVA\", \"MicroWave/SVA\", \"MBWA/SVA\", \"5G Low/SlVW\", \"5G Low/StVW\", \"UWB/SlVW\", \"LTE-4G/StVW\", \"CALM/TIRI\", \"NBIot/SlVW\", \"5G Mid/StVW\", \"WiMax/StVW\", \"5G Low/TIRI\", \"DASH7/TIRI\", \"DSRC/Wave/TIRI\", \"Ingenu-RPMA/TIRI\", \"LTE-4G/TIRI\", \"5G Mid/TIRI\", \"LoRa (Urban)/TIRI\", \"MBWA/TIRI\", \"MicroWave/TIRI\", \"NBIot/StVW\", \"WIFI/TIRI\", \"SigFox (Rural)/TIRI\", \"LoRa (Rural)/TIRI\", \"SigFox (Urban)/TIRI\", \"NBIot/TIRI\", \"WIFI/EDCV\", \"SigFox (Urban)/EDCV\", \"SigFox (Rural)/EDCV\", \"NBIot/EDCV\", \"LoRa (Urban)/EDCV\", \"LoRa (Rural)/EDCV\", \"LTE-4G/EDCV\", \"Ingenu-RPMA/EDCV\", \"DSRC/Wave/EDCV\", \"MicroWave/EDCV\", \"WiMax/EDCV\", \"5G Mid/EEBL\", \"LTE-4G/EEBL\", \"NBIot/EEBL\", \"WiMax/EEBL\", \"5G Low/ERGN\", \"5G Mid/ERGN\", \"DASH7/ERGN\", \"DSRC/Wave/ERGN\", \"Ingenu-RPMA/ERGN\", \"LTE-4G/ERGN\", \"LoRa (Rural)/ERGN\", \"LoRa (Urban)/ERGN\", \"MBWA/ERGN\", \"MicroWave/ERGN\", \"NBIot/ERGN\", \"5G Low/EEBL\", \"CALM/ERGN\", \"MBWA/EDCV\", \"5G Mid/RW\", \"LoRa (Urban)/PIN\", \"LoRa (Rural)/PIN\", \"LTE-4G/PIN\", \"Ingenu-RPMA/PIN\", \"DSRC/Wave/PIN\", \"DASH7/PIN\", \"LTE-4G/RW\", \"5G Mid/PIN\", \"MBWA/PIN\", \"5G Low/PIN\", \"NBIot/PCW\", \"MicroWave/PCW\", \"MBWA/PCW\", \"LTE-4G/PCW\", \"5G Low/PCW\", \"ZigBee/PCSW\", \"WiMax/PCSW\", \"UWB/PCSW\", \"WiMax/PCW\", \"MicroWave/PIN\", \"CALM/PIN\", \"SigFox (Rural)/PIN\", \"NBIot/PIN\", \"WiMax/RD\", \"WIFI/RD\", \"SigFox (Urban)/RD\", \"SigFox (Rural)/RD\", \"NBIot/RD\", \"MicroWave/RD\", \"MBWA/RD\", \"LoRa (Rural)/RD\", \"5G Low/RW\", \"Ingenu-RPMA/RD\", \"LTE-4G/RD\", \"SigFox (Urban)/PIN\", \"WIFI/PIN\", \"WiMax/PIN\", \"LoRa (Urban)/RD\", \"5G Mid/RD\", \"CALM/RD\", \"DASH7/RD\", \"5G Low/RD\", \"DSRC/Wave/RD\", \"LoRa (Rural)/FM\", \"LTE-4G/FM\", \"LoRa (Urban)/FM\", \"DASH7/FM\", \"CALM/FM\", \"5G Mid/FM\", \"5G Low/FM\", \"DSRC/Wave/FM\", \"Ingenu-RPMA/FM\", \"MBWA/FM\", \"MicroWave/FM\", \"NBIot/FM\", \"SigFox (Rural)/FM\", \"SigFox (Urban)/FM\", \"WIFI/FM\", \"WiMax/FM\", \"5G Low/HCW\", \"5G Mid/HCW\", \"5G Low/ICW\", \"MicroWave/HLN\", \"NBIot/HLN\", \"WiMax/HLN\", \"5G Mid/ATTCRW\", \"5G Mid/IS\", \"CALM/IS\", \"DASH7/IS\", \"DSRC/Wave/IS\", \"LTE-4G/IS\", \"LoRa (Rural)/IS\", \"LoRa (Urban)/IS\", \"5G Low/IS\", \"MBWA/IS\", \"NBIot/IS\", \"SigFox (Rural)/IS\", \"SigFox (Urban)/IS\", \"WIFI/IS\", \"WiMax/IS\", \"5G Low/InM\", \"5G Mid/InM\", \"CALM/InM\", \"DASH7/InM\", \"DSRC/Wave/InM\", \"MicroWave/IS\", \"WiMax/IM\", \"Ingenu-RPMA/IS\", \"SigFox (Urban)/IM\", \"LTE-4G/ATTCRW\", \"MBWA/ATTCRW\", \"WIFI/IM\", \"NBIot/ATTCRW\", \"WiMax/ATTCRW\", \"5G Low/CACC\", \"5G Mid/CACC\", \"LTE-4G/CACC\", \"NBIot/CACC\", \"SigFox (Urban)/AAC\", \"MicroWave/ATTCRW\", \"WiMax/AAC\", \"WIFI/AAC\", \"SigFox (Rural)/IM\", \"MicroWave/IM\", \"MBWA/IM\", \"NBIot/IM\", \"LoRa (Rural)/IM\", \"LTE-4G/IM\", \"5G Low/ATTCRW\", \"LoRa (Urban)/IM\", \"5G Low/EVSP\", \"LTE-4G/EVSP\", \"5G Mid/EVSP\", \"CALM/EVSP\", \"DASH7/EVSP\", \"DSRC/Wave/EVSP\", \"Ingenu-RPMA/EVSP\", \"LoRa (Rural)/EVSP\", \"SigFox (Rural)/EVSP\", \"MBWA/EVSP\", \"MicroWave/EVSP\", \"NBIot/EVSP\", \"SigFox (Urban)/EVSP\", \"WIFI/EVSP\", \"WiMax/EVSP\", \"WiMax/ETC\", \"LoRa (Urban)/EVSP\", \"WIFI/ETC\", \"LoRa (Urban)/VRSUDC\", \"MBWA/VRSUDC\", \"MBWA/TOD\", \"LTE-4G/TOD\", \"5G Mid/TOD\", \"5G Low/TOD\", \"WiMax/TLOSP\", \"WIFI/TLOSP\", \"NBIot/TLOSP\", \"MicroWave/TLOSP\", \"MBWA/TLOSP\", \"LTE-4G/TLOSP\", \"5G Mid/TLOSP\", \"5G Low/TLOSP\", \"WiMax/TIRI\", \"NBIot/ETC\", \"MicroWave/ETC\", \"MBWA/ETC\", \"LTE-4G/ETC\", \"DSRC/Wave/ETC\", \"CALM/ETC\", \"5G Mid/ETC\", \"5G Low/ETC\", \"WiMax/ERGN\", \"WIFI/ERGN\", \"SigFox (Urban)/ERGN\", \"SigFox (Rural)/ERGN\", \"MicroWave/VRSUDC\", \"NBIot/TOD\", \"MicroWave/TOD\", \"WiMax/TOD\", \"LoRa (Rural)/VRSUDC\", \"LTE-4G/VRSUDC\", \"Ingenu-RPMA/VRSUDC\", \"DSRC/Wave/VRSUDC\", \"DASH7/VRSUDC\", \"CALM/VRSUDC\", \"5G Mid/VRSUDC\", \"5G Low/VRSUDC\", \"WiMax/TVSP\", \"WIFI/TOD\", \"SigFox (Urban)/TVSP\", \"SigFox (Rural)/TVSP\", \"WIFI/TVSP\", \"MicroWave/TVSP\", \"5G Low/TVSP\", \"5G Mid/TVSP\", \"NBIot/TVSP\", \"DASH7/TVSP\", \"DSRC/Wave/TVSP\", \"CALM/TVSP\", \"LTE-4G/TVSP\", \"LoRa (Rural)/TVSP\", \"LoRa (Urban)/TVSP\", \"MBWA/TVSP\", \"Ingenu-RPMA/TVSP\", \"5G Mid/ICW\", \"DASH7/AAC\", \"CALM/AAC\", \"5G Mid/AAC\", \"5G Low/AAC\"], \"labels\": [\"MDU\", \"MDU\", \"MDU\", \"MDU\", \"LZM\", \"CTR\", \"CTR\", \"CTR\", \"CTR\", \"CTR\", \"CTR\", \"LZM\", \"CTR\", \"CTR\", \"CTR\", \"CSL\", \"CSL\", \"CSL\", \"CSL\", \"CSL\", \"CSL\", \"CSL\", \"CSL\", \"CRWRSU\", \"CRWRSU\", \"CRWRSU\", \"CRWRSU\", \"CRWRSU\", \"MDU\", \"MDU\", \"MDU\", \"MDU\", \"LZM\", \"LZM\", \"LZM\", \"LZM\", \"LZM\", \"LZM\", \"LZM\", \"MD\", \"MD\", \"MD\", \"MD\", \"MD\", \"MD\", \"CRWRSU\", \"MD\", \"MD\", \"MD\", \"MD\", \"MD\", \"MD\", \"MD\", \"MD\", \"MD\", \"MDU\", \"MDU\", \"MDU\", \"MDU\", \"MDU\", \"MD\", \"CRWRSU\", \"CTR\", \"CMA\", \"LZM\", \"LZM\", \"LZM\", \"LZM\", \"LZM\", \"CMA\", \"LZM\", \"CMA\", \"CMA\", \"CMA\", \"MTTCRW\", \"PA\", \"PA\", \"PA\", \"MDU\", \"MDU\", \"MDU\", \"MTTCRW\", \"PA\", \"DS\", \"DS\", \"DS\", \"MTTCRW\", \"DS\", \"MTTCRW\", \"PA\", \"PA\", \"DS\", \"MTTCRW\", \"MTTCRW\", \"PCSW\", \"PCSW\", \"PCSW\", \"PA\", \"PA\", \"PA\", \"PA\", \"PA\", \"PA\", \"PA\", \"PA\", \"PA\", \"PA\", \"DS\", \"DS\", \"DS\", \"CTR\", \"CTR\", \"OVW\", \"OVW\", \"DS\", \"OVW\", \"OVW\", \"MW\", \"MW\", \"MW\", \"MW\", \"MW\", \"MW\", \"MW\", \"MW\", \"MW\", \"MTTCRW\", \"CTR\", \"CTR\", \"OVW\", \"CTR\", \"DS\", \"DS\", \"DS\", \"CTR\", \"DS\", \"DS\", \"CVHAS\", \"DS\", \"CVHAS\", \"CVHAS\", \"CVHAS\", \"CVHAS\", \"CVHAS\", \"CVHAS\", \"CVHAS\", \"EDCV\", \"EDCV\", \"EDCV\", \"EDCV\", \"PCSW\", \"FADL\", \"HCW\", \"HCW\", \"HCW\", \"HCW\", \"HCW\", \"HLN\", \"HLN\", \"HLN\", \"HLN\", \"WiMax\", \"ZigBee\", \"MBWA\", \"MicroWave\", \"NBIot\", \"SigFox (Rural)\", \"WIFI\", \"UWB\", \"SigFox (Urban)\", \"IM\", \"IM\", \"IM\", \"AAC\", \"AAC\", \"IFS\", \"AAC\", \"AAC\", \"AAC\", \"IM\", \"IM\", \"AAC\", \"IFS\", \"ICW\", \"IM\", \"IFS\", \"IFS\", \"IFS\", \"IFS\", \"IFS\", \"IFS\", \"IFS\", \"IFS\", \"IFS\", \"IFS\", \"IFS\", \"IFS\", \"ICW\", \"ICW\", \"ICW\", \"ICW\", \"IFS\", \"IFS\", \"AAC\", \"AAC\", \"AAC\", \"InM\", \"LAW\", \"LEC\", \"LEC\", \"LEC\", \"LEC\", \"LEC\", \"LEC\", \"LEC\", \"LEC\", \"LEC\", \"LEC\", \"LEC\", \"LEC\", \"LEC\", \"LEC\", \"LEC\", \"LZM\", \"LAW\", \"LAW\", \"LAW\", \"LAW\", \"InM\", \"LAW\", \"InM\", \"InM\", \"InM\", \"InM\", \"InM\", \"InM\", \"InM\", \"LAW\", \"LAW\", \"LAW\", \"LAW\", \"LAW\", \"LAW\", \"LAW\", \"LAW\", \"LAW\", \"LAW\", \"InM\", \"InM\", \"LEC\", \"CLCA\", \"CFCW\", \"CFCW\", \"CFCW\", \"CGR\", \"CGR\", \"CGR\", \"CGR\", \"CGR\", \"CGR\", \"CGR\", \"CGR\", \"CGR\", \"CLCA\", \"CLCA\", \"CLCA\", \"CLCA\", \"CLW\", \"CLW\", \"CLW\", \"CLW\", \"CLW\", \"CMA\", \"CMA\", \"CFCW\", \"CFCW\", \"CGR\", \"CACC\", \"CFCW\", \"CACC\", \"Ingenu-RPMA\", \"VS\", \"FADL\", \"FADL\", \"FADL\", \"IR\", \"FADL\", \"FADL\", \"FADL\", \"FADL\", \"FADL\", \"LTE-4G\", \"LoRa (Rural)\", \"LoRa (Urban)\", \"FADL\", \"DSRC/Wave\", \"VS\", \"CALM\", \"VS\", \"VS\", \"VS\", \"DASH7\", \"VS\", \"WWDW\", \"WWDW\", \"WWDW\", \"VS\", \"WWDW\", \"WWDW\", \"WWDW\", \"5G Low\", \"5G Mid\", \"5G mmWavve\", \"BLE\", \"WWDW\", \"VRUW\", \"VRUW\", \"VRUW\", \"VRUW\", \"VRUW\", \"VRSUDC\", \"VRSUDC\", \"VRSUDC\", \"VRSUDC\", \"VRSUDC\", \"VRUW\", \"VRUW\", \"VRUW\", \"VRUW\", \"EVW\", \"FADL\", \"FADL\", \"VS\", \"VS\", \"VS\", \"VS\", \"VS\", \"VS\", \"VS\", \"VS\", \"VRUW\", \"EVW\", \"EVW\", \"EVW\", \"EVW\", \"EVW\", \"EVW\", \"VRUW\", \"VS\", \"VRUW\", \"SM\", \"SM\", \"SM\", \"SM\", \"SM\", \"SM\", \"RW\", \"SM\", \"SM\", \"SM\", \"RW\", \"RW\", \"RW\", \"SM\", \"SM\", \"SM\", \"SM\", \"SM\", \"SVA\", \"SVA\", \"SVA\", \"SVA\", \"SVA\", \"SVA\", \"SM\", \"SOSS\", \"SVA\", \"SOSS\", \"SOSS\", \"SOSS\", \"SVA\", \"SOSS\", \"SOSS\", \"SOSS\", \"SM\", \"SOSS\", \"SOSS\", \"SOSS\", \"SOSS\", \"SOSS\", \"SOSS\", \"SOSS\", \"SOSS\", \"SOSS\", \"SlVW\", \"SlVW\", \"SVA\", \"SlVW\", \"SlVW\", \"SlVW\", \"SlVW\", \"SiVW\", \"SiVW\", \"SiVW\", \"SiVW\", \"SiVW\", \"SiVW\", \"SiVW\", \"SVA\", \"SVA\", \"SVA\", \"SVA\", \"SVA\", \"SVA\", \"SVA\", \"SlVW\", \"StVW\", \"SlVW\", \"StVW\", \"TIRI\", \"SlVW\", \"StVW\", \"StVW\", \"TIRI\", \"TIRI\", \"TIRI\", \"TIRI\", \"TIRI\", \"TIRI\", \"TIRI\", \"TIRI\", \"TIRI\", \"StVW\", \"TIRI\", \"TIRI\", \"TIRI\", \"TIRI\", \"TIRI\", \"EDCV\", \"EDCV\", \"EDCV\", \"EDCV\", \"EDCV\", \"EDCV\", \"EDCV\", \"EDCV\", \"EDCV\", \"EDCV\", \"EDCV\", \"EEBL\", \"EEBL\", \"EEBL\", \"EEBL\", \"ERGN\", \"ERGN\", \"ERGN\", \"ERGN\", \"ERGN\", \"ERGN\", \"ERGN\", \"ERGN\", \"ERGN\", \"ERGN\", \"ERGN\", \"EEBL\", \"ERGN\", \"EDCV\", \"RW\", \"PIN\", \"PIN\", \"PIN\", \"PIN\", \"PIN\", \"PIN\", \"RW\", \"PIN\", \"PIN\", \"PIN\", \"PCW\", \"PCW\", \"PCW\", \"PCW\", \"PCW\", \"PCSW\", \"PCSW\", \"PCSW\", \"PCW\", \"PIN\", \"PIN\", \"PIN\", \"PIN\", \"RD\", \"RD\", \"RD\", \"RD\", \"RD\", \"RD\", \"RD\", \"RD\", \"RW\", \"RD\", \"RD\", \"PIN\", \"PIN\", \"PIN\", \"RD\", \"RD\", \"RD\", \"RD\", \"RD\", \"RD\", \"FM\", \"FM\", \"FM\", \"FM\", \"FM\", \"FM\", \"FM\", \"FM\", \"FM\", \"FM\", \"FM\", \"FM\", \"FM\", \"FM\", \"FM\", \"FM\", \"HCW\", \"HCW\", \"ICW\", \"HLN\", \"HLN\", \"HLN\", \"ATTCRW\", \"IS\", \"IS\", \"IS\", \"IS\", \"IS\", \"IS\", \"IS\", \"IS\", \"IS\", \"IS\", \"IS\", \"IS\", \"IS\", \"IS\", \"InM\", \"InM\", \"InM\", \"InM\", \"InM\", \"IS\", \"IM\", \"IS\", \"IM\", \"ATTCRW\", \"ATTCRW\", \"IM\", \"ATTCRW\", \"ATTCRW\", \"CACC\", \"CACC\", \"CACC\", \"CACC\", \"AAC\", \"ATTCRW\", \"AAC\", \"AAC\", \"IM\", \"IM\", \"IM\", \"IM\", \"IM\", \"IM\", \"ATTCRW\", \"IM\", \"EVSP\", \"EVSP\", \"EVSP\", \"EVSP\", \"EVSP\", \"EVSP\", \"EVSP\", \"EVSP\", \"EVSP\", \"EVSP\", \"EVSP\", \"EVSP\", \"EVSP\", \"EVSP\", \"EVSP\", \"ETC\", \"EVSP\", \"ETC\", \"VRSUDC\", \"VRSUDC\", \"TOD\", \"TOD\", \"TOD\", \"TOD\", \"TLOSP\", \"TLOSP\", \"TLOSP\", \"TLOSP\", \"TLOSP\", \"TLOSP\", \"TLOSP\", \"TLOSP\", \"TIRI\", \"ETC\", \"ETC\", \"ETC\", \"ETC\", \"ETC\", \"ETC\", \"ETC\", \"ETC\", \"ERGN\", \"ERGN\", \"ERGN\", \"ERGN\", \"VRSUDC\", \"TOD\", \"TOD\", \"TOD\", \"VRSUDC\", \"VRSUDC\", \"VRSUDC\", \"VRSUDC\", \"VRSUDC\", \"VRSUDC\", \"VRSUDC\", \"VRSUDC\", \"TVSP\", \"TOD\", \"TVSP\", \"TVSP\", \"TVSP\", \"TVSP\", \"TVSP\", \"TVSP\", \"TVSP\", \"TVSP\", \"TVSP\", \"TVSP\", \"TVSP\", \"TVSP\", \"TVSP\", \"TVSP\", \"TVSP\", \"ICW\", \"AAC\", \"AAC\", \"AAC\", \"AAC\"], \"marker\": {\"colors\": [\"#636efa\", \"#EF553B\", \"#00cc96\", \"#ab63fa\", \"#FFA15A\", \"#EF553B\", \"#19d3f3\", \"#FF6692\", \"#FFA15A\", \"#B6E880\", \"#FF97FF\", \"#19d3f3\", \"#FECB52\", \"#636efa\", \"#EF553B\", \"#00cc96\", \"#ab63fa\", \"#ab63fa\", \"#00cc96\", \"#EF553B\", \"#FFA15A\", \"#636efa\", \"#EF553B\", \"#00cc96\", \"#ab63fa\", \"#00cc96\", \"#EF553B\", \"#FFA15A\", \"#19d3f3\", \"#FF6692\", \"#FFA15A\", \"#B6E880\", \"#EF553B\", \"#00cc96\", \"#ab63fa\", \"#636efa\", \"#FFA15A\", \"#ab63fa\", \"#00cc96\", \"#EF553B\", \"#636efa\", \"#FECB52\", \"#19d3f3\", \"#FF97FF\", \"#B6E880\", \"#636efa\", \"#FFA15A\", \"#19d3f3\", \"#EF553B\", \"#00cc96\", \"#ab63fa\", \"#636efa\", \"#FFA15A\", \"#ab63fa\", \"#00cc96\", \"#EF553B\", \"#636efa\", \"#FECB52\", \"#19d3f3\", \"#FF97FF\", \"#FF6692\", \"#EF553B\", \"#19d3f3\", \"#ab63fa\", \"#636efa\", \"#FECB52\", \"#19d3f3\", \"#FF97FF\", \"#B6E880\", \"#00cc96\", \"#FF6692\", \"#00cc96\", \"#EF553B\", \"#FFA15A\", \"#ab63fa\", \"#FECB52\", \"#636efa\", \"#EF553B\", \"#FFA15A\", \"#ab63fa\", \"#00cc96\", \"#00cc96\", \"#19d3f3\", \"#00cc96\", \"#FFA15A\", \"#636efa\", \"#EF553B\", \"#00cc96\", \"#EF553B\", \"#FF97FF\", \"#FFA15A\", \"#EF553B\", \"#636efa\", \"#FFA15A\", \"#FF6692\", \"#636efa\", \"#EF553B\", \"#00cc96\", \"#B6E880\", \"#ab63fa\", \"#636efa\", \"#ab63fa\", \"#00cc96\", \"#EF553B\", \"#19d3f3\", \"#FF6692\", \"#FFA15A\", \"#19d3f3\", \"#ab63fa\", \"#FFA15A\", \"#ab63fa\", \"#00cc96\", \"#00cc96\", \"#ab63fa\", \"#FF6692\", \"#636efa\", \"#EF553B\", \"#B6E880\", \"#00cc96\", \"#ab63fa\", \"#FF97FF\", \"#ab63fa\", \"#FFA15A\", \"#FF6692\", \"#636efa\", \"#EF553B\", \"#00cc96\", \"#636efa\", \"#FFA15A\", \"#FFA15A\", \"#00cc96\", \"#B6E880\", \"#FF97FF\", \"#19d3f3\", \"#ab63fa\", \"#636efa\", \"#EF553B\", \"#00cc96\", \"#FECB52\", \"#ab63fa\", \"#ab63fa\", \"#EF553B\", \"#00cc96\", \"#EF553B\", \"#FFA15A\", \"#636efa\", \"#FECB52\", \"#19d3f3\", \"#EF553B\", \"#636efa\", \"#FFA15A\", \"#00cc96\", \"#FFA15A\", \"#EF553B\", \"#00cc96\", \"#ab63fa\", \"#00cc96\", \"#EF553B\", \"#636efa\", \"#FFA15A\", \"#EF553B\", \"#00cc96\", \"#B6E880\", \"#EF553B\", \"#00cc96\", \"#ab63fa\", \"#636efa\", \"#ab63fa\", \"#FF97FF\", \"#FFA15A\", \"#EF553B\", \"#636efa\", \"#FECB52\", \"#FF97FF\", \"#FFA15A\", \"#00cc96\", \"#FF6692\", \"#19d3f3\", \"#EF553B\", \"#19d3f3\", \"#FF97FF\", \"#B6E880\", \"#ab63fa\", \"#EF553B\", \"#B6E880\", \"#ab63fa\", \"#00cc96\", \"#EF553B\", \"#19d3f3\", \"#FF6692\", \"#FFA15A\", \"#B6E880\", \"#FF97FF\", \"#19d3f3\", \"#FECB52\", \"#636efa\", \"#EF553B\", \"#00cc96\", \"#ab63fa\", \"#00cc96\", \"#FFA15A\", \"#636efa\", \"#FFA15A\", \"#636efa\", \"#ab63fa\", \"#00cc96\", \"#ab63fa\", \"#00cc96\", \"#EF553B\", \"#636efa\", \"#FECB52\", \"#19d3f3\", \"#FF97FF\", \"#B6E880\", \"#FFA15A\", \"#FF6692\", \"#19d3f3\", \"#EF553B\", \"#00cc96\", \"#ab63fa\", \"#636efa\", \"#ab63fa\", \"#00cc96\", \"#EF553B\", \"#ab63fa\", \"#FFA15A\", \"#636efa\", \"#ab63fa\", \"#FFA15A\", \"#EF553B\", \"#ab63fa\", \"#00cc96\", \"#EF553B\", \"#19d3f3\", \"#FF6692\", \"#FFA15A\", \"#B6E880\", \"#636efa\", \"#FECB52\", \"#19d3f3\", \"#FF97FF\", \"#B6E880\", \"#FFA15A\", \"#FF6692\", \"#19d3f3\", \"#EF553B\", \"#00cc96\", \"#00cc96\", \"#636efa\", \"#FFA15A\", \"#FFA15A\", \"#ab63fa\", \"#ab63fa\", \"#00cc96\", \"#EF553B\", \"#636efa\", \"#FECB52\", \"#FFA15A\", \"#ab63fa\", \"#FF97FF\", \"#ab63fa\", \"#00cc96\", \"#B6E880\", \"#EF553B\", \"#636efa\", \"#ab63fa\", \"#00cc96\", \"#EF553B\", \"#636efa\", \"#FFA15A\", \"#ab63fa\", \"#00cc96\", \"#EF553B\", \"#636efa\", \"#FFA15A\", \"#636efa\", \"#FF6692\", \"#00cc96\", \"#EF553B\", \"#ab63fa\", \"#B6E880\", \"#636efa\", \"#ab63fa\", \"#FFA15A\", \"#636efa\", \"#636efa\", \"#ab63fa\", \"#FF6692\", \"#FFA15A\", \"#FF97FF\", \"#FECB52\", \"#FFA15A\", \"#FF6692\", \"#19d3f3\", \"#19d3f3\", \"#FF97FF\", \"#ab63fa\", \"#FECB52\", \"#00cc96\", \"#EF553B\", \"#FFA15A\", \"#19d3f3\", \"#00cc96\", \"#EF553B\", \"#636efa\", \"#FFA15A\", \"#ab63fa\", \"#00cc96\", \"#ab63fa\", \"#00cc96\", \"#EF553B\", \"#636efa\", \"#FF6692\", \"#FECB52\", \"#EF553B\", \"#EF553B\", \"#FFA15A\", \"#636efa\", \"#FF6692\", \"#636efa\", \"#636efa\", \"#ab63fa\", \"#FFA15A\", \"#ab63fa\", \"#00cc96\", \"#00cc96\", \"#EF553B\", \"#FF97FF\", \"#ab63fa\", \"#00cc96\", \"#EF553B\", \"#636efa\", \"#636efa\", \"#FECB52\", \"#FF97FF\", \"#B6E880\", \"#FFA15A\", \"#FF6692\", \"#19d3f3\", \"#19d3f3\", \"#00cc96\", \"#ab63fa\", \"#00cc96\", \"#EF553B\", \"#FFA15A\", \"#636efa\", \"#EF553B\", \"#ab63fa\", \"#EF553B\", \"#B6E880\", \"#00cc96\", \"#EF553B\", \"#FF6692\", \"#FFA15A\", \"#B6E880\", \"#FF97FF\", \"#ab63fa\", \"#FECB52\", \"#636efa\", \"#EF553B\", \"#00cc96\", \"#00cc96\", \"#EF553B\", \"#ab63fa\", \"#19d3f3\", \"#636efa\", \"#19d3f3\", \"#ab63fa\", \"#636efa\", \"#FECB52\", \"#19d3f3\", \"#FF97FF\", \"#B6E880\", \"#FFA15A\", \"#FFA15A\", \"#ab63fa\", \"#FF6692\", \"#00cc96\", \"#FFA15A\", \"#636efa\", \"#EF553B\", \"#00cc96\", \"#EF553B\", \"#19d3f3\", \"#00cc96\", \"#EF553B\", \"#636efa\", \"#FF6692\", \"#FECB52\", \"#FFA15A\", \"#ab63fa\", \"#B6E880\", \"#19d3f3\", \"#FF97FF\", \"#FF6692\", \"#FFA15A\", \"#19d3f3\", \"#B6E880\", \"#ab63fa\", \"#636efa\", \"#00cc96\", \"#EF553B\", \"#00cc96\", \"#ab63fa\", \"#00cc96\", \"#EF553B\", \"#FFA15A\", \"#636efa\", \"#00cc96\", \"#ab63fa\", \"#FFA15A\", \"#636efa\", \"#ab63fa\", \"#00cc96\", \"#EF553B\", \"#EF553B\", \"#EF553B\", \"#FF97FF\", \"#FFA15A\", \"#FECB52\", \"#ab63fa\", \"#636efa\", \"#00cc96\", \"#EF553B\", \"#19d3f3\", \"#FF97FF\", \"#B6E880\", \"#FFA15A\", \"#636efa\", \"#19d3f3\", \"#EF553B\", \"#00cc96\", \"#ab63fa\", \"#ab63fa\", \"#636efa\", \"#FF6692\", \"#FFA15A\", \"#ab63fa\", \"#ab63fa\", \"#FFA15A\", \"#636efa\", \"#ab63fa\", \"#19d3f3\", \"#FF6692\", \"#FFA15A\", \"#B6E880\", \"#FF97FF\", \"#00cc96\", \"#00cc96\", \"#636efa\", \"#FFA15A\", \"#ab63fa\", \"#00cc96\", \"#EF553B\", \"#636efa\", \"#19d3f3\", \"#FF97FF\", \"#B6E880\", \"#FFA15A\", \"#FF6692\", \"#19d3f3\", \"#EF553B\", \"#00cc96\", \"#ab63fa\", \"#EF553B\", \"#FECB52\", \"#EF553B\", \"#636efa\", \"#19d3f3\", \"#FF6692\", \"#FFA15A\", \"#B6E880\", \"#FF97FF\", \"#19d3f3\", \"#FFA15A\", \"#636efa\", \"#EF553B\", \"#EF553B\", \"#ab63fa\", \"#00cc96\", \"#EF553B\", \"#FFA15A\", \"#EF553B\", \"#B6E880\", \"#00cc96\", \"#FF97FF\", \"#00cc96\", \"#00cc96\", \"#FECB52\", \"#636efa\", \"#ab63fa\", \"#00cc96\", \"#ab63fa\", \"#FFA15A\", \"#636efa\", \"#ab63fa\", \"#00cc96\", \"#EF553B\", \"#FF6692\", \"#EF553B\", \"#B6E880\", \"#FFA15A\", \"#FFA15A\", \"#ab63fa\", \"#00cc96\", \"#19d3f3\", \"#636efa\", \"#FECB52\", \"#19d3f3\", \"#EF553B\", \"#FF97FF\", \"#FF6692\", \"#FFA15A\", \"#19d3f3\", \"#19d3f3\", \"#FECB52\", \"#636efa\", \"#EF553B\", \"#FF97FF\", \"#B6E880\", \"#EF553B\", \"#00cc96\", \"#ab63fa\", \"#636efa\", \"#FFA15A\", \"#ab63fa\", \"#00cc96\", \"#EF553B\", \"#636efa\", \"#EF553B\", \"#00cc96\", \"#ab63fa\", \"#00cc96\", \"#636efa\", \"#636efa\", \"#FECB52\", \"#19d3f3\", \"#FF97FF\", \"#FFA15A\", \"#FF6692\", \"#19d3f3\", \"#EF553B\", \"#EF553B\", \"#ab63fa\", \"#636efa\", \"#FFA15A\", \"#ab63fa\", \"#00cc96\", \"#EF553B\", \"#636efa\", \"#FECB52\", \"#19d3f3\", \"#FF97FF\", \"#00cc96\", \"#00cc96\", \"#B6E880\", \"#FFA15A\", \"#FFA15A\", \"#EF553B\", \"#ab63fa\", \"#ab63fa\", \"#00cc96\", \"#EF553B\", \"#636efa\", \"#FFA15A\", \"#ab63fa\", \"#FFA15A\", \"#00cc96\", \"#00cc96\", \"#ab63fa\", \"#636efa\", \"#00cc96\", \"#EF553B\", \"#ab63fa\", \"#FF6692\", \"#FFA15A\", \"#EF553B\", \"#19d3f3\", \"#EF553B\", \"#FFA15A\", \"#636efa\", \"#FECB52\", \"#19d3f3\", \"#FF97FF\", \"#B6E880\", \"#FF6692\", \"#636efa\", \"#EF553B\", \"#00cc96\", \"#ab63fa\", \"#FFA15A\", \"#ab63fa\", \"#00cc96\", \"#00cc96\", \"#19d3f3\", \"#ab63fa\", \"#19d3f3\", \"#EF553B\", \"#EF553B\", \"#FFA15A\", \"#636efa\", \"#EF553B\", \"#00cc96\", \"#ab63fa\", \"#ab63fa\", \"#00cc96\", \"#EF553B\", \"#FFA15A\", \"#636efa\", \"#EF553B\", \"#00cc96\", \"#ab63fa\", \"#00cc96\", \"#EF553B\", \"#FFA15A\", \"#FF97FF\", \"#FECB52\", \"#636efa\", \"#EF553B\", \"#00cc96\", \"#ab63fa\", \"#FFA15A\", \"#636efa\", \"#00cc96\", \"#ab63fa\", \"#00cc96\", \"#00cc96\", \"#FF6692\", \"#FFA15A\", \"#B6E880\", \"#FF97FF\", \"#19d3f3\", \"#FECB52\", \"#636efa\", \"#EF553B\", \"#00cc96\", \"#ab63fa\", \"#FFA15A\", \"#636efa\", \"#ab63fa\", \"#00cc96\", \"#EF553B\", \"#636efa\", \"#ab63fa\", \"#19d3f3\", \"#FF97FF\", \"#FECB52\", \"#FFA15A\", \"#FF6692\", \"#19d3f3\", \"#EF553B\", \"#B6E880\", \"#636efa\", \"#19d3f3\", \"#FECB52\", \"#636efa\", \"#EF553B\"]}, \"name\": \"\", \"parents\": [\"SigFox (Rural)\", \"MBWA\", \"MicroWave\", \"NBIot\", \"LTE-4G\", \"MBWA\", \"LoRa (Urban)\", \"LoRa (Rural)\", \"LTE-4G\", \"Ingenu-RPMA\", \"DSRC/Wave\", \"LoRa (Urban)\", \"CALM\", \"5G Mid\", \"5G Low\", \"WiMax\", \"WIFI\", \"NBIot\", \"MicroWave\", \"MBWA\", \"LTE-4G\", \"5G Mid\", \"5G Low\", \"WiMax\", \"NBIot\", \"MicroWave\", \"MBWA\", \"LTE-4G\", \"LoRa (Urban)\", \"LoRa (Rural)\", \"LTE-4G\", \"Ingenu-RPMA\", \"MBWA\", \"MicroWave\", \"NBIot\", \"SigFox (Rural)\", \"SigFox (Urban)\", \"WIFI\", \"WiMax\", \"5G Low\", \"5G Mid\", \"CALM\", \"DASH7\", \"DSRC/Wave\", \"Ingenu-RPMA\", \"5G Mid\", \"LTE-4G\", \"LoRa (Urban)\", \"MBWA\", \"MicroWave\", \"NBIot\", \"SigFox (Rural)\", \"SigFox (Urban)\", \"WIFI\", \"WiMax\", \"5G Low\", \"5G Mid\", \"CALM\", \"DASH7\", \"DSRC/Wave\", \"LoRa (Rural)\", \"5G Low\", \"DASH7\", \"NBIot\", \"5G Mid\", \"CALM\", \"DASH7\", \"DSRC/Wave\", \"Ingenu-RPMA\", \"WiMax\", \"LoRa (Rural)\", \"MicroWave\", \"MBWA\", \"LTE-4G\", \"NBIot\", \"CALM\", \"5G Mid\", \"5G Low\", \"SigFox (Urban)\", \"WIFI\", \"WiMax\", \"MicroWave\", \"DASH7\", \"WiMax\", \"SigFox (Urban)\", \"SigFox (Rural)\", \"MBWA\", \"MicroWave\", \"5G Low\", \"DSRC/Wave\", \"LTE-4G\", \"MBWA\", \"5G Mid\", \"LTE-4G\", \"5G mmWavve\", \"5G Mid\", \"5G Low\", \"WiMax\", \"Ingenu-RPMA\", \"WIFI\", \"SigFox (Rural)\", \"NBIot\", \"MicroWave\", \"MBWA\", \"LoRa (Urban)\", \"LoRa (Rural)\", \"SigFox (Urban)\", \"LoRa (Urban)\", \"NBIot\", \"LTE-4G\", \"NBIot\", \"MicroWave\", \"WiMax\", \"NBIot\", \"LoRa (Rural)\", \"5G Mid\", \"5G Low\", \"ZigBee\", \"WiMax\", \"WIFI\", \"UWB\", \"NBIot\", \"LTE-4G\", \"5G mmWavve\", \"5G Mid\", \"5G Low\", \"WiMax\", \"SigFox (Rural)\", \"SigFox (Urban)\", \"LTE-4G\", \"WiMax\", \"Ingenu-RPMA\", \"DSRC/Wave\", \"DASH7\", \"WIFI\", \"5G Mid\", \"5G Low\", \"WiMax\", \"CALM\", \"WIFI\", \"NBIot\", \"5G Low\", \"MicroWave\", \"MBWA\", \"LTE-4G\", \"5G Mid\", \"CALM\", \"DASH7\", \"5G Low\", \"5G Mid\", \"LTE-4G\", \"WiMax\", \"LTE-4G\", \"MBWA\", \"MicroWave\", \"NBIot\", \"WiMax\", \"5G Low\", \"5G Mid\", \"LTE-4G\", \"MBWA\", \"\", \"\", \"\", \"\", \"\", \"\", \"\", \"\", \"\", \"5G Low\", \"5G Mid\", \"CALM\", \"DSRC/Wave\", \"LTE-4G\", \"WiMax\", \"LoRa (Rural)\", \"LoRa (Urban)\", \"MBWA\", \"DASH7\", \"DSRC/Wave\", \"Ingenu-RPMA\", \"WIFI\", \"MBWA\", \"Ingenu-RPMA\", \"NBIot\", \"MicroWave\", \"MBWA\", \"LoRa (Urban)\", \"LoRa (Rural)\", \"LTE-4G\", \"Ingenu-RPMA\", \"DSRC/Wave\", \"DASH7\", \"CALM\", \"5G Mid\", \"5G Low\", \"WiMax\", \"NBIot\", \"MicroWave\", \"LTE-4G\", \"SigFox (Rural)\", \"SigFox (Urban)\", \"SigFox (Rural)\", \"NBIot\", \"MicroWave\", \"WIFI\", \"WiMax\", \"5G Low\", \"5G Mid\", \"CALM\", \"DASH7\", \"DSRC/Wave\", \"Ingenu-RPMA\", \"LTE-4G\", \"LoRa (Rural)\", \"LoRa (Urban)\", \"MBWA\", \"MicroWave\", \"NBIot\", \"SigFox (Rural)\", \"WIFI\", \"WiMax\", \"5G Low\", \"WIFI\", \"SigFox (Urban)\", \"SigFox (Rural)\", \"NBIot\", \"SigFox (Urban)\", \"5G Low\", \"NBIot\", \"MicroWave\", \"MBWA\", \"LoRa (Urban)\", \"LoRa (Rural)\", \"LTE-4G\", \"Ingenu-RPMA\", \"5G Mid\", \"CALM\", \"DASH7\", \"DSRC/Wave\", \"Ingenu-RPMA\", \"LTE-4G\", \"LoRa (Rural)\", \"LoRa (Urban)\", \"MBWA\", \"MicroWave\", \"WiMax\", \"SigFox (Rural)\", \"SigFox (Urban)\", \"LTE-4G\", \"NBIot\", \"WIFI\", \"WiMax\", \"5G Low\", \"5G Mid\", \"BLE\", \"LTE-4G\", \"NBIot\", \"UWB\", \"WIFI\", \"WiMax\", \"ZigBee\", \"5G Low\", \"5G Mid\", \"NBIot\", \"WiMax\", \"5G Low\", \"5G Mid\", \"LTE-4G\", \"NBIot\", \"WiMax\", \"5G Low\", \"5G Mid\", \"LTE-4G\", \"5G Mid\", \"5G mmWavve\", \"WiMax\", \"5G Low\", \"WIFI\", \"\", \"SigFox (Rural)\", \"WIFI\", \"SigFox (Urban)\", \"SigFox (Rural)\", \"\", \"NBIot\", \"LoRa (Rural)\", \"LTE-4G\", \"DSRC/Wave\", \"CALM\", \"\", \"\", \"\", \"LoRa (Urban)\", \"\", \"NBIot\", \"\", \"MicroWave\", \"MBWA\", \"SigFox (Urban)\", \"\", \"WiMax\", \"5G Low\", \"5G Mid\", \"LTE-4G\", \"WIFI\", \"MicroWave\", \"NBIot\", \"WiMax\", \"\", \"\", \"\", \"\", \"MBWA\", \"MBWA\", \"LTE-4G\", \"IR\", \"5G mmWavve\", \"5G Mid\", \"SigFox (Rural)\", \"WIFI\", \"SigFox (Urban)\", \"NBIot\", \"WiMax\", \"MicroWave\", \"5G Low\", \"UWB\", \"NBIot\", \"WiMax\", \"5G Low\", \"5G Mid\", \"5G Mid\", \"CALM\", \"DSRC/Wave\", \"Ingenu-RPMA\", \"LTE-4G\", \"LoRa (Rural)\", \"LoRa (Urban)\", \"DASH7\", \"WiMax\", \"NBIot\", \"MicroWave\", \"MBWA\", \"LTE-4G\", \"5G Mid\", \"5G Low\", \"WIFI\", \"5G Low\", \"ZigBee\", \"MicroWave\", \"MBWA\", \"LoRa (Rural)\", \"LTE-4G\", \"Ingenu-RPMA\", \"DSRC/Wave\", \"NBIot\", \"CALM\", \"5G Mid\", \"5G Low\", \"MicroWave\", \"WiMax\", \"MBWA\", \"NBIot\", \"DASH7\", \"SigFox (Rural)\", \"LoRa (Urban)\", \"WIFI\", \"5G Mid\", \"CALM\", \"DASH7\", \"DSRC/Wave\", \"Ingenu-RPMA\", \"LTE-4G\", \"SigFox (Urban)\", \"WIFI\", \"LoRa (Rural)\", \"WiMax\", \"SigFox (Urban)\", \"SigFox (Rural)\", \"5G Low\", \"MicroWave\", \"MBWA\", \"LoRa (Urban)\", \"WiMax\", \"5G Low\", \"5G Mid\", \"LoRa (Rural)\", \"CALM\", \"LTE-4G\", \"NBIot\", \"Ingenu-RPMA\", \"DASH7\", \"DSRC/Wave\", \"5G mmWavve\", \"LTE-4G\", \"LoRa (Urban)\", \"ZigBee\", \"WIFI\", \"5G Mid\", \"WiMax\", \"5G Low\", \"WiMax\", \"NBIot\", \"MicroWave\", \"MBWA\", \"LTE-4G\", \"5G Mid\", \"WiMax\", \"WIFI\", \"SigFox (Urban)\", \"SigFox (Rural)\", \"NBIot\", \"MicroWave\", \"MBWA\", \"5G Low\", \"5G Low\", \"UWB\", \"LTE-4G\", \"CALM\", \"NBIot\", \"5G Mid\", \"WiMax\", \"5G Low\", \"DASH7\", \"DSRC/Wave\", \"Ingenu-RPMA\", \"LTE-4G\", \"5G Mid\", \"LoRa (Urban)\", \"MBWA\", \"MicroWave\", \"NBIot\", \"WIFI\", \"SigFox (Rural)\", \"LoRa (Rural)\", \"SigFox (Urban)\", \"NBIot\", \"WIFI\", \"SigFox (Urban)\", \"SigFox (Rural)\", \"NBIot\", \"LoRa (Urban)\", \"LoRa (Rural)\", \"LTE-4G\", \"Ingenu-RPMA\", \"DSRC/Wave\", \"MicroWave\", \"WiMax\", \"5G Mid\", \"LTE-4G\", \"NBIot\", \"WiMax\", \"5G Low\", \"5G Mid\", \"DASH7\", \"DSRC/Wave\", \"Ingenu-RPMA\", \"LTE-4G\", \"LoRa (Rural)\", \"LoRa (Urban)\", \"MBWA\", \"MicroWave\", \"NBIot\", \"5G Low\", \"CALM\", \"MBWA\", \"5G Mid\", \"LoRa (Urban)\", \"LoRa (Rural)\", \"LTE-4G\", \"Ingenu-RPMA\", \"DSRC/Wave\", \"DASH7\", \"LTE-4G\", \"5G Mid\", \"MBWA\", \"5G Low\", \"NBIot\", \"MicroWave\", \"MBWA\", \"LTE-4G\", \"5G Low\", \"ZigBee\", \"WiMax\", \"UWB\", \"WiMax\", \"MicroWave\", \"CALM\", \"SigFox (Rural)\", \"NBIot\", \"WiMax\", \"WIFI\", \"SigFox (Urban)\", \"SigFox (Rural)\", \"NBIot\", \"MicroWave\", \"MBWA\", \"LoRa (Rural)\", \"5G Low\", \"Ingenu-RPMA\", \"LTE-4G\", \"SigFox (Urban)\", \"WIFI\", \"WiMax\", \"LoRa (Urban)\", \"5G Mid\", \"CALM\", \"DASH7\", \"5G Low\", \"DSRC/Wave\", \"LoRa (Rural)\", \"LTE-4G\", \"LoRa (Urban)\", \"DASH7\", \"CALM\", \"5G Mid\", \"5G Low\", \"DSRC/Wave\", \"Ingenu-RPMA\", \"MBWA\", \"MicroWave\", \"NBIot\", \"SigFox (Rural)\", \"SigFox (Urban)\", \"WIFI\", \"WiMax\", \"5G Low\", \"5G Mid\", \"5G Low\", \"MicroWave\", \"NBIot\", \"WiMax\", \"5G Mid\", \"5G Mid\", \"CALM\", \"DASH7\", \"DSRC/Wave\", \"LTE-4G\", \"LoRa (Rural)\", \"LoRa (Urban)\", \"5G Low\", \"MBWA\", \"NBIot\", \"SigFox (Rural)\", \"SigFox (Urban)\", \"WIFI\", \"WiMax\", \"5G Low\", \"5G Mid\", \"CALM\", \"DASH7\", \"DSRC/Wave\", \"MicroWave\", \"WiMax\", \"Ingenu-RPMA\", \"SigFox (Urban)\", \"LTE-4G\", \"MBWA\", \"WIFI\", \"NBIot\", \"WiMax\", \"5G Low\", \"5G Mid\", \"LTE-4G\", \"NBIot\", \"SigFox (Urban)\", \"MicroWave\", \"WiMax\", \"WIFI\", \"SigFox (Rural)\", \"MicroWave\", \"MBWA\", \"NBIot\", \"LoRa (Rural)\", \"LTE-4G\", \"5G Low\", \"LoRa (Urban)\", \"5G Low\", \"LTE-4G\", \"5G Mid\", \"CALM\", \"DASH7\", \"DSRC/Wave\", \"Ingenu-RPMA\", \"LoRa (Rural)\", \"SigFox (Rural)\", \"MBWA\", \"MicroWave\", \"NBIot\", \"SigFox (Urban)\", \"WIFI\", \"WiMax\", \"WiMax\", \"LoRa (Urban)\", \"WIFI\", \"LoRa (Urban)\", \"MBWA\", \"MBWA\", \"LTE-4G\", \"5G Mid\", \"5G Low\", \"WiMax\", \"WIFI\", \"NBIot\", \"MicroWave\", \"MBWA\", \"LTE-4G\", \"5G Mid\", \"5G Low\", \"WiMax\", \"NBIot\", \"MicroWave\", \"MBWA\", \"LTE-4G\", \"DSRC/Wave\", \"CALM\", \"5G Mid\", \"5G Low\", \"WiMax\", \"WIFI\", \"SigFox (Urban)\", \"SigFox (Rural)\", \"MicroWave\", \"NBIot\", \"MicroWave\", \"WiMax\", \"LoRa (Rural)\", \"LTE-4G\", \"Ingenu-RPMA\", \"DSRC/Wave\", \"DASH7\", \"CALM\", \"5G Mid\", \"5G Low\", \"WiMax\", \"WIFI\", \"SigFox (Urban)\", \"SigFox (Rural)\", \"WIFI\", \"MicroWave\", \"5G Low\", \"5G Mid\", \"NBIot\", \"DASH7\", \"DSRC/Wave\", \"CALM\", \"LTE-4G\", \"LoRa (Rural)\", \"LoRa (Urban)\", \"MBWA\", \"Ingenu-RPMA\", \"5G Mid\", \"DASH7\", \"CALM\", \"5G Mid\", \"5G Low\"], \"type\": \"treemap\", \"values\": [2, 1, 1, 2, 1, 1, 1, 1, 1, 1, 1, 1, 1, 1, 1, 1, 1, 1, 1, 1, 1, 1, 1, 2, 2, 1, 1, 2, 2, 2, 2, 1, 1, 1, 1, 1, 1, 1, 1, 1, 1, 1, 1, 1, 1, 2, 1, 1, 1, 1, 1, 1, 1, 1, 1, 2, 2, 2, 1, 2, 1, 2, 1, 2, 1, 1, 1, 1, 1, 2, 1, 1, 1, 2, 2, 1, 1, 1, 2, 2, 2, 1, 1, 2, 2, 2, 1, 1, 2, 1, 1, 1, 2, 2, 2, 2, 2, 1, 1, 1, 1, 1, 1, 1, 1, 1, 1, 2, 2, 2, 1, 1, 1, 1, 2, 1, 1, 1, 1, 1, 1, 1, 1, 1, 1, 1, 2, 1, 1, 1, 1, 1, 2, 1, 1, 2, 2, 1, 2, 1, 1, 1, 1, 1, 1, 1, 2, 1, 2, 2, 2, 1, 2, 1, 1, 2, 2, 2, 2, 2, 1, 74, 7, 44, 44, 75, 35, 46, 5, 35, 2, 2, 2, 1, 1, 1, 1, 1, 1, 1, 2, 1, 1, 1, 1, 1, 1, 1, 1, 1, 1, 1, 1, 1, 1, 1, 1, 2, 3, 1, 3, 1, 1, 1, 1, 1, 2, 1, 1, 1, 1, 1, 1, 1, 1, 1, 1, 1, 1, 1, 1, 1, 1, 1, 1, 1, 1, 1, 2, 1, 2, 1, 1, 2, 2, 2, 1, 1, 1, 1, 1, 1, 1, 1, 1, 1, 1, 2, 2, 1, 1, 1, 1, 1, 1, 1, 1, 1, 1, 1, 1, 1, 1, 1, 1, 1, 1, 1, 1, 1, 1, 1, 2, 2, 1, 1, 1, 1, 1, 1, 26, 1, 1, 1, 1, 1, 1, 1, 1, 1, 1, 77, 35, 35, 1, 36, 1, 36, 1, 1, 1, 26, 1, 1, 1, 1, 1, 1, 1, 1, 77, 75, 7, 1, 1, 1, 2, 1, 2, 2, 1, 1, 1, 1, 1, 1, 2, 1, 2, 2, 1, 1, 1, 1, 1, 1, 1, 1, 1, 1, 1, 2, 1, 1, 2, 2, 2, 2, 1, 2, 1, 1, 1, 1, 1, 1, 1, 1, 1, 1, 1, 1, 1, 1, 1, 1, 1, 1, 2, 2, 1, 2, 1, 2, 1, 2, 2, 2, 2, 2, 2, 1, 1, 2, 1, 2, 2, 2, 2, 2, 2, 1, 1, 2, 1, 1, 2, 1, 1, 1, 1, 1, 1, 1, 1, 1, 1, 1, 2, 2, 2, 2, 2, 1, 1, 1, 1, 1, 1, 1, 1, 1, 1, 1, 1, 1, 1, 1, 1, 1, 1, 1, 1, 1, 1, 1, 1, 1, 2, 2, 2, 2, 2, 2, 2, 1, 2, 1, 2, 1, 1, 1, 1, 1, 1, 1, 1, 1, 1, 1, 1, 1, 1, 1, 1, 1, 1, 1, 1, 1, 1, 1, 1, 1, 1, 1, 1, 1, 2, 1, 1, 2, 2, 2, 1, 1, 2, 1, 1, 1, 1, 2, 2, 2, 2, 2, 1, 1, 2, 1, 1, 2, 1, 1, 1, 2, 2, 2, 1, 2, 2, 1, 1, 1, 1, 1, 1, 1, 1, 1, 1, 1, 1, 1, 1, 1, 1, 2, 2, 3, 1, 2, 2, 2, 1, 1, 1, 1, 1, 1, 1, 1, 1, 1, 1, 1, 1, 1, 2, 2, 2, 1, 2, 1, 2, 1, 2, 2, 1, 2, 2, 2, 1, 1, 1, 1, 1, 1, 1, 1, 2, 1, 1, 2, 2, 2, 2, 2, 1, 1, 1, 1, 1, 1, 1, 1, 1, 1, 1, 1, 1, 1, 1, 1, 1, 1, 1, 1, 1, 1, 1, 1, 2, 2, 2, 1, 1, 2, 2, 2, 1, 1, 1, 1, 1, 1, 1, 1, 1, 1, 1, 1, 1, 1, 1, 1, 1, 1, 1, 1, 1, 1, 1, 1, 1, 1, 1, 1, 1, 1, 1, 1, 1, 1, 1, 1, 1, 1, 1, 1, 1, 1, 3, 1, 1, 1, 1]}],                        {\"legend\": {\"tracegroupgap\": 0}, \"margin\": {\"t\": 60}, \"template\": {\"data\": {\"bar\": [{\"error_x\": {\"color\": \"#2a3f5f\"}, \"error_y\": {\"color\": \"#2a3f5f\"}, \"marker\": {\"line\": {\"color\": \"#E5ECF6\", \"width\": 0.5}}, \"type\": \"bar\"}], \"barpolar\": [{\"marker\": {\"line\": {\"color\": \"#E5ECF6\", \"width\": 0.5}}, \"type\": \"barpolar\"}], \"carpet\": [{\"aaxis\": {\"endlinecolor\": \"#2a3f5f\", \"gridcolor\": \"white\", \"linecolor\": \"white\", \"minorgridcolor\": \"white\", \"startlinecolor\": \"#2a3f5f\"}, \"baxis\": {\"endlinecolor\": \"#2a3f5f\", \"gridcolor\": \"white\", \"linecolor\": \"white\", \"minorgridcolor\": \"white\", \"startlinecolor\": \"#2a3f5f\"}, \"type\": \"carpet\"}], \"choropleth\": [{\"colorbar\": {\"outlinewidth\": 0, \"ticks\": \"\"}, \"type\": \"choropleth\"}], \"contour\": [{\"colorbar\": {\"outlinewidth\": 0, \"ticks\": \"\"}, \"colorscale\": [[0.0, \"#0d0887\"], [0.1111111111111111, \"#46039f\"], [0.2222222222222222, \"#7201a8\"], [0.3333333333333333, \"#9c179e\"], [0.4444444444444444, \"#bd3786\"], [0.5555555555555556, \"#d8576b\"], [0.6666666666666666, \"#ed7953\"], [0.7777777777777778, \"#fb9f3a\"], [0.8888888888888888, \"#fdca26\"], [1.0, \"#f0f921\"]], \"type\": \"contour\"}], \"contourcarpet\": [{\"colorbar\": {\"outlinewidth\": 0, \"ticks\": \"\"}, \"type\": \"contourcarpet\"}], \"heatmap\": [{\"colorbar\": {\"outlinewidth\": 0, \"ticks\": \"\"}, \"colorscale\": [[0.0, \"#0d0887\"], [0.1111111111111111, \"#46039f\"], [0.2222222222222222, \"#7201a8\"], [0.3333333333333333, \"#9c179e\"], [0.4444444444444444, \"#bd3786\"], [0.5555555555555556, \"#d8576b\"], [0.6666666666666666, \"#ed7953\"], [0.7777777777777778, \"#fb9f3a\"], [0.8888888888888888, \"#fdca26\"], [1.0, \"#f0f921\"]], \"type\": \"heatmap\"}], \"heatmapgl\": [{\"colorbar\": {\"outlinewidth\": 0, \"ticks\": \"\"}, \"colorscale\": [[0.0, \"#0d0887\"], [0.1111111111111111, \"#46039f\"], [0.2222222222222222, \"#7201a8\"], [0.3333333333333333, \"#9c179e\"], [0.4444444444444444, \"#bd3786\"], [0.5555555555555556, \"#d8576b\"], [0.6666666666666666, \"#ed7953\"], [0.7777777777777778, \"#fb9f3a\"], [0.8888888888888888, \"#fdca26\"], [1.0, \"#f0f921\"]], \"type\": \"heatmapgl\"}], \"histogram\": [{\"marker\": {\"colorbar\": {\"outlinewidth\": 0, \"ticks\": \"\"}}, \"type\": \"histogram\"}], \"histogram2d\": [{\"colorbar\": {\"outlinewidth\": 0, \"ticks\": \"\"}, \"colorscale\": [[0.0, \"#0d0887\"], [0.1111111111111111, \"#46039f\"], [0.2222222222222222, \"#7201a8\"], [0.3333333333333333, \"#9c179e\"], [0.4444444444444444, \"#bd3786\"], [0.5555555555555556, \"#d8576b\"], [0.6666666666666666, \"#ed7953\"], [0.7777777777777778, \"#fb9f3a\"], [0.8888888888888888, \"#fdca26\"], [1.0, \"#f0f921\"]], \"type\": \"histogram2d\"}], \"histogram2dcontour\": [{\"colorbar\": {\"outlinewidth\": 0, \"ticks\": \"\"}, \"colorscale\": [[0.0, \"#0d0887\"], [0.1111111111111111, \"#46039f\"], [0.2222222222222222, \"#7201a8\"], [0.3333333333333333, \"#9c179e\"], [0.4444444444444444, \"#bd3786\"], [0.5555555555555556, \"#d8576b\"], [0.6666666666666666, \"#ed7953\"], [0.7777777777777778, \"#fb9f3a\"], [0.8888888888888888, \"#fdca26\"], [1.0, \"#f0f921\"]], \"type\": \"histogram2dcontour\"}], \"mesh3d\": [{\"colorbar\": {\"outlinewidth\": 0, \"ticks\": \"\"}, \"type\": \"mesh3d\"}], \"parcoords\": [{\"line\": {\"colorbar\": {\"outlinewidth\": 0, \"ticks\": \"\"}}, \"type\": \"parcoords\"}], \"pie\": [{\"automargin\": true, \"type\": \"pie\"}], \"scatter\": [{\"marker\": {\"colorbar\": {\"outlinewidth\": 0, \"ticks\": \"\"}}, \"type\": \"scatter\"}], \"scatter3d\": [{\"line\": {\"colorbar\": {\"outlinewidth\": 0, \"ticks\": \"\"}}, \"marker\": {\"colorbar\": {\"outlinewidth\": 0, \"ticks\": \"\"}}, \"type\": \"scatter3d\"}], \"scattercarpet\": [{\"marker\": {\"colorbar\": {\"outlinewidth\": 0, \"ticks\": \"\"}}, \"type\": \"scattercarpet\"}], \"scattergeo\": [{\"marker\": {\"colorbar\": {\"outlinewidth\": 0, \"ticks\": \"\"}}, \"type\": \"scattergeo\"}], \"scattergl\": [{\"marker\": {\"colorbar\": {\"outlinewidth\": 0, \"ticks\": \"\"}}, \"type\": \"scattergl\"}], \"scattermapbox\": [{\"marker\": {\"colorbar\": {\"outlinewidth\": 0, \"ticks\": \"\"}}, \"type\": \"scattermapbox\"}], \"scatterpolar\": [{\"marker\": {\"colorbar\": {\"outlinewidth\": 0, \"ticks\": \"\"}}, \"type\": \"scatterpolar\"}], \"scatterpolargl\": [{\"marker\": {\"colorbar\": {\"outlinewidth\": 0, \"ticks\": \"\"}}, \"type\": \"scatterpolargl\"}], \"scatterternary\": [{\"marker\": {\"colorbar\": {\"outlinewidth\": 0, \"ticks\": \"\"}}, \"type\": \"scatterternary\"}], \"surface\": [{\"colorbar\": {\"outlinewidth\": 0, \"ticks\": \"\"}, \"colorscale\": [[0.0, \"#0d0887\"], [0.1111111111111111, \"#46039f\"], [0.2222222222222222, \"#7201a8\"], [0.3333333333333333, \"#9c179e\"], [0.4444444444444444, \"#bd3786\"], [0.5555555555555556, \"#d8576b\"], [0.6666666666666666, \"#ed7953\"], [0.7777777777777778, \"#fb9f3a\"], [0.8888888888888888, \"#fdca26\"], [1.0, \"#f0f921\"]], \"type\": \"surface\"}], \"table\": [{\"cells\": {\"fill\": {\"color\": \"#EBF0F8\"}, \"line\": {\"color\": \"white\"}}, \"header\": {\"fill\": {\"color\": \"#C8D4E3\"}, \"line\": {\"color\": \"white\"}}, \"type\": \"table\"}]}, \"layout\": {\"annotationdefaults\": {\"arrowcolor\": \"#2a3f5f\", \"arrowhead\": 0, \"arrowwidth\": 1}, \"autotypenumbers\": \"strict\", \"coloraxis\": {\"colorbar\": {\"outlinewidth\": 0, \"ticks\": \"\"}}, \"colorscale\": {\"diverging\": [[0, \"#8e0152\"], [0.1, \"#c51b7d\"], [0.2, \"#de77ae\"], [0.3, \"#f1b6da\"], [0.4, \"#fde0ef\"], [0.5, \"#f7f7f7\"], [0.6, \"#e6f5d0\"], [0.7, \"#b8e186\"], [0.8, \"#7fbc41\"], [0.9, \"#4d9221\"], [1, \"#276419\"]], \"sequential\": [[0.0, \"#0d0887\"], [0.1111111111111111, \"#46039f\"], [0.2222222222222222, \"#7201a8\"], [0.3333333333333333, \"#9c179e\"], [0.4444444444444444, \"#bd3786\"], [0.5555555555555556, \"#d8576b\"], [0.6666666666666666, \"#ed7953\"], [0.7777777777777778, \"#fb9f3a\"], [0.8888888888888888, \"#fdca26\"], [1.0, \"#f0f921\"]], \"sequentialminus\": [[0.0, \"#0d0887\"], [0.1111111111111111, \"#46039f\"], [0.2222222222222222, \"#7201a8\"], [0.3333333333333333, \"#9c179e\"], [0.4444444444444444, \"#bd3786\"], [0.5555555555555556, \"#d8576b\"], [0.6666666666666666, \"#ed7953\"], [0.7777777777777778, \"#fb9f3a\"], [0.8888888888888888, \"#fdca26\"], [1.0, \"#f0f921\"]]}, \"colorway\": [\"#636efa\", \"#EF553B\", \"#00cc96\", \"#ab63fa\", \"#FFA15A\", \"#19d3f3\", \"#FF6692\", \"#B6E880\", \"#FF97FF\", \"#FECB52\"], \"font\": {\"color\": \"#2a3f5f\"}, \"geo\": {\"bgcolor\": \"white\", \"lakecolor\": \"white\", \"landcolor\": \"#E5ECF6\", \"showlakes\": true, \"showland\": true, \"subunitcolor\": \"white\"}, \"hoverlabel\": {\"align\": \"left\"}, \"hovermode\": \"closest\", \"mapbox\": {\"style\": \"light\"}, \"paper_bgcolor\": \"white\", \"plot_bgcolor\": \"#E5ECF6\", \"polar\": {\"angularaxis\": {\"gridcolor\": \"white\", \"linecolor\": \"white\", \"ticks\": \"\"}, \"bgcolor\": \"#E5ECF6\", \"radialaxis\": {\"gridcolor\": \"white\", \"linecolor\": \"white\", \"ticks\": \"\"}}, \"scene\": {\"xaxis\": {\"backgroundcolor\": \"#E5ECF6\", \"gridcolor\": \"white\", \"gridwidth\": 2, \"linecolor\": \"white\", \"showbackground\": true, \"ticks\": \"\", \"zerolinecolor\": \"white\"}, \"yaxis\": {\"backgroundcolor\": \"#E5ECF6\", \"gridcolor\": \"white\", \"gridwidth\": 2, \"linecolor\": \"white\", \"showbackground\": true, \"ticks\": \"\", \"zerolinecolor\": \"white\"}, \"zaxis\": {\"backgroundcolor\": \"#E5ECF6\", \"gridcolor\": \"white\", \"gridwidth\": 2, \"linecolor\": \"white\", \"showbackground\": true, \"ticks\": \"\", \"zerolinecolor\": \"white\"}}, \"shapedefaults\": {\"line\": {\"color\": \"#2a3f5f\"}}, \"ternary\": {\"aaxis\": {\"gridcolor\": \"white\", \"linecolor\": \"white\", \"ticks\": \"\"}, \"baxis\": {\"gridcolor\": \"white\", \"linecolor\": \"white\", \"ticks\": \"\"}, \"bgcolor\": \"#E5ECF6\", \"caxis\": {\"gridcolor\": \"white\", \"linecolor\": \"white\", \"ticks\": \"\"}}, \"title\": {\"x\": 0.05}, \"xaxis\": {\"automargin\": true, \"gridcolor\": \"white\", \"linecolor\": \"white\", \"ticks\": \"\", \"title\": {\"standoff\": 15}, \"zerolinecolor\": \"white\", \"zerolinewidth\": 2}, \"yaxis\": {\"automargin\": true, \"gridcolor\": \"white\", \"linecolor\": \"white\", \"ticks\": \"\", \"title\": {\"standoff\": 15}, \"zerolinecolor\": \"white\", \"zerolinewidth\": 2}}}},                        {\"responsive\": true}                    ).then(function(){\n",
       "                            \n",
       "var gd = document.getElementById('cf002bbe-47b2-46e3-86e9-4ded47b56041');\n",
       "var x = new MutationObserver(function (mutations, observer) {{\n",
       "        var display = window.getComputedStyle(gd).display;\n",
       "        if (!display || display === 'none') {{\n",
       "            console.log([gd, 'removed!']);\n",
       "            Plotly.purge(gd);\n",
       "            observer.disconnect();\n",
       "        }}\n",
       "}});\n",
       "\n",
       "// Listen for the removal of the full notebook cells\n",
       "var notebookContainer = gd.closest('#notebook-container');\n",
       "if (notebookContainer) {{\n",
       "    x.observe(notebookContainer, {childList: true});\n",
       "}}\n",
       "\n",
       "// Listen for the clearing of the current output cell\n",
       "var outputEl = gd.closest('.output');\n",
       "if (outputEl) {{\n",
       "    x.observe(outputEl, {childList: true});\n",
       "}}\n",
       "\n",
       "                        })                };                });            </script>        </div>"
      ]
     },
     "metadata": {},
     "output_type": "display_data"
    }
   ],
   "source": [
    "px.treemap(test, path=['Technology','Application'], color='Technology')"
   ]
  },
  {
   "cell_type": "code",
   "execution_count": null,
   "id": "bbaebbeb",
   "metadata": {},
   "outputs": [],
   "source": []
  },
  {
   "cell_type": "code",
   "execution_count": null,
   "id": "e9b0a58c",
   "metadata": {},
   "outputs": [],
   "source": []
  }
 ],
 "metadata": {
  "kernelspec": {
   "display_name": "Python 3",
   "language": "python",
   "name": "python3"
  },
  "language_info": {
   "codemirror_mode": {
    "name": "ipython",
    "version": 3
   },
   "file_extension": ".py",
   "mimetype": "text/x-python",
   "name": "python",
   "nbconvert_exporter": "python",
   "pygments_lexer": "ipython3",
   "version": "3.7.6"
  }
 },
 "nbformat": 4,
 "nbformat_minor": 5
}
