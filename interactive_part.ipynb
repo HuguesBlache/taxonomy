{
 "cells": [
  {
   "cell_type": "code",
   "execution_count": 1,
   "id": "unable-kernel",
   "metadata": {
    "scrolled": false
   },
   "outputs": [
    {
     "data": {
      "application/vnd.jupyter.widget-view+json": {
       "model_id": "e91b76a4bce145be9549a38240386880",
       "version_major": 2,
       "version_minor": 0
      },
      "text/plain": [
       "interactive(children=(Dropdown(description='Partie', options=('Application', 'Technologie', 'Mapping'), value=…"
      ]
     },
     "metadata": {},
     "output_type": "display_data"
    }
   ],
   "source": [
    "import pandas as pd\n",
    "pd.options.mode.chained_assignment = None\n",
    "%run ./Code/main.ipynb"
   ]
  },
  {
   "cell_type": "code",
   "execution_count": 2,
   "id": "instructional-renaissance",
   "metadata": {},
   "outputs": [
    {
     "data": {
      "application/vnd.plotly.v1+json": {
       "config": {
        "plotlyServerURL": "https://plot.ly"
       },
       "data": [
        {
         "branchvalues": "total",
         "customdata": [
          [
           "NBIot"
          ],
          [
           "Ingenu-RPMA"
          ],
          [
           "LTE-4G"
          ],
          [
           "LoRa (Rural)"
          ],
          [
           "LoRa (Urban)"
          ],
          [
           "MBWA"
          ],
          [
           "MicroWave"
          ],
          [
           "NBIot"
          ],
          [
           "SigFox (Rural)"
          ],
          [
           "SigFox (Urban)"
          ],
          [
           "WIFI"
          ],
          [
           "LTE-4G"
          ],
          [
           "5G Mid"
          ],
          [
           "5G Low"
          ],
          [
           "ZigBee"
          ],
          [
           "WiMax"
          ],
          [
           "DSRC/Wave"
          ],
          [
           "WIFI"
          ],
          [
           "CALM"
          ],
          [
           "5G Low"
          ],
          [
           "NBIot"
          ],
          [
           "MicroWave"
          ],
          [
           "MBWA"
          ],
          [
           "LTE-4G"
          ],
          [
           "5G Mid"
          ],
          [
           "5G Low"
          ],
          [
           "WiMax"
          ],
          [
           "NBIot"
          ],
          [
           "MicroWave"
          ],
          [
           "MBWA"
          ],
          [
           "LTE-4G"
          ],
          [
           "5G Mid"
          ],
          [
           "5G Low"
          ],
          [
           "WiMax"
          ],
          [
           "NBIot"
          ],
          [
           "5G Mid"
          ],
          [
           "UWB"
          ],
          [
           "WiMax"
          ],
          [
           "LTE-4G"
          ],
          [
           "Ingenu-RPMA"
          ],
          [
           "DSRC/Wave"
          ],
          [
           "CALM"
          ],
          [
           "5G Mid"
          ],
          [
           "5G Low"
          ],
          [
           "WiMax"
          ],
          [
           "WIFI"
          ],
          [
           "SigFox (Urban)"
          ],
          [
           "SigFox (Rural)"
          ],
          [
           "NBIot"
          ],
          [
           "MicroWave"
          ],
          [
           "MBWA"
          ],
          [
           "LoRa (Urban)"
          ],
          [
           "LoRa (Rural)"
          ],
          [
           "LTE-4G"
          ],
          [
           "LTE-4G"
          ],
          [
           "LoRa (Rural)"
          ],
          [
           "LoRa (Urban)"
          ],
          [
           "MBWA"
          ],
          [
           "5G mmWavve"
          ],
          [
           "5G Mid"
          ],
          [
           "5G Low"
          ],
          [
           "WiMax"
          ],
          [
           "NBIot"
          ],
          [
           "MicroWave"
          ],
          [
           "MBWA"
          ],
          [
           "WIFI"
          ],
          [
           "LTE-4G"
          ],
          [
           "5G Low"
          ],
          [
           "WiMax"
          ],
          [
           "WIFI"
          ],
          [
           "SigFox (Urban)"
          ],
          [
           "SigFox (Rural)"
          ],
          [
           "NBIot"
          ],
          [
           "MicroWave"
          ],
          [
           "5G Mid"
          ],
          [
           "NBIot"
          ],
          [
           "5G Low"
          ],
          [
           "LTE-4G"
          ],
          [
           "UWB"
          ],
          [
           "WiMax"
          ],
          [
           "ZigBee"
          ],
          [
           "5G Low"
          ],
          [
           "LTE-4G"
          ],
          [
           "LoRa (Rural)"
          ],
          [
           "LTE-4G"
          ],
          [
           "Ingenu-RPMA"
          ],
          [
           "DSRC/Wave"
          ],
          [
           "CALM"
          ],
          [
           "5G Mid"
          ],
          [
           "5G Mid"
          ],
          [
           "5G mmWavve"
          ],
          [
           "5G Low"
          ],
          [
           "LoRa (Urban)"
          ],
          [
           "WIFI"
          ],
          [
           "NBIot"
          ],
          [
           "WiMax"
          ],
          [
           "5G Low"
          ],
          [
           "5G Mid"
          ],
          [
           "CALM"
          ],
          [
           "DSRC/Wave"
          ],
          [
           "WiMax"
          ],
          [
           "Ingenu-RPMA"
          ],
          [
           "LoRa (Rural)"
          ],
          [
           "WiMax"
          ],
          [
           "MBWA"
          ],
          [
           "MicroWave"
          ],
          [
           "SigFox (Rural)"
          ],
          [
           "SigFox (Urban)"
          ],
          [
           "LTE-4G"
          ],
          [
           "SigFox (Urban)"
          ],
          [
           "MicroWave"
          ],
          [
           "NBIot"
          ],
          [
           "WiMax"
          ],
          [
           "SigFox (Urban)"
          ],
          [
           "SigFox (Rural)"
          ],
          [
           "Ingenu-RPMA"
          ],
          [
           "NBIot"
          ],
          [
           "MicroWave"
          ],
          [
           "MBWA"
          ],
          [
           "LoRa (Urban)"
          ],
          [
           "5G Low"
          ],
          [
           "LoRa (Rural)"
          ],
          [
           "MBWA"
          ],
          [
           "MicroWave"
          ],
          [
           "NBIot"
          ],
          [
           "WiMax"
          ],
          [
           "5G Low"
          ],
          [
           "5G Mid"
          ],
          [
           "CALM"
          ],
          [
           "DSRC/Wave"
          ],
          [
           "SigFox (Rural)"
          ],
          [
           "5G Mid"
          ],
          [
           "LTE-4G"
          ],
          [
           "MBWA"
          ],
          [
           "LTE-4G"
          ],
          [
           "CALM"
          ],
          [
           "WiMax"
          ],
          [
           "DSRC/Wave"
          ],
          [
           "5G Mid"
          ],
          [
           "NBIot"
          ],
          [
           "WIFI"
          ],
          [
           "LTE-4G"
          ],
          [
           "LoRa (Rural)"
          ],
          [
           "LoRa (Urban)"
          ],
          [
           "MBWA"
          ],
          [
           "MicroWave"
          ],
          [
           "Ingenu-RPMA"
          ],
          [
           "5G Low"
          ],
          [
           "LoRa (Urban)"
          ],
          [
           "MBWA"
          ],
          [
           "NBIot"
          ],
          [
           "MicroWave"
          ],
          [
           "WIFI"
          ],
          [
           "SigFox (Rural)"
          ],
          [
           "5G Low"
          ],
          [
           "5G Mid"
          ],
          [
           "LTE-4G"
          ],
          [
           "MBWA"
          ],
          [
           "MicroWave"
          ],
          [
           "NBIot"
          ],
          [
           "WiMax"
          ],
          [
           "5G Mid"
          ],
          [
           "CALM"
          ],
          [
           "MBWA"
          ],
          [
           "MicroWave"
          ],
          [
           "NBIot"
          ],
          [
           "SigFox (Rural)"
          ],
          [
           "SigFox (Urban)"
          ],
          [
           "SigFox (Rural)"
          ],
          [
           "LoRa (Rural)"
          ],
          [
           "SigFox (Urban)"
          ],
          [
           "LoRa (Urban)"
          ],
          [
           "MBWA"
          ],
          [
           "MicroWave"
          ],
          [
           "NBIot"
          ],
          [
           "Ingenu-RPMA"
          ],
          [
           "LTE-4G"
          ],
          [
           "Ingenu-RPMA"
          ],
          [
           "CALM"
          ],
          [
           "WiMax"
          ],
          [
           "5G Low"
          ],
          [
           "WIFI"
          ],
          [
           "5G Mid"
          ],
          [
           "CALM"
          ],
          [
           "DSRC/Wave"
          ],
          [
           "Ingenu-RPMA"
          ],
          [
           "LTE-4G"
          ],
          [
           "DSRC/Wave"
          ],
          [
           "LoRa (Rural)"
          ],
          [
           "MBWA"
          ],
          [
           "MicroWave"
          ],
          [
           "NBIot"
          ],
          [
           "SigFox (Rural)"
          ],
          [
           "SigFox (Urban)"
          ],
          [
           "WIFI"
          ],
          [
           "WiMax"
          ],
          [
           "5G Low"
          ],
          [
           "5G Mid"
          ],
          [
           "LoRa (Urban)"
          ],
          [
           "MBWA"
          ],
          [
           "LoRa (Urban)"
          ],
          [
           "LoRa (Rural)"
          ],
          [
           "SigFox (Rural)"
          ],
          [
           "Ingenu-RPMA"
          ],
          [
           "DSRC/Wave"
          ],
          [
           "MBWA"
          ],
          [
           "MicroWave"
          ],
          [
           "NBIot"
          ],
          [
           "SigFox (Urban)"
          ],
          [
           "WIFI"
          ],
          [
           "WiMax"
          ],
          [
           "5G Low"
          ],
          [
           "5G Mid"
          ],
          [
           "CALM"
          ],
          [
           "MicroWave"
          ],
          [
           "LTE-4G"
          ],
          [
           "NBIot"
          ],
          [
           "SigFox (Rural)"
          ],
          [
           "5G Low"
          ],
          [
           "NBIot"
          ],
          [
           "LTE-4G"
          ],
          [
           "5G Mid"
          ],
          [
           "5G Low"
          ],
          [
           "WiMax"
          ],
          [
           "NBIot"
          ],
          [
           "LTE-4G"
          ],
          [
           "5G Mid"
          ],
          [
           "5G Low"
          ],
          [
           "ZigBee"
          ],
          [
           "WiMax"
          ],
          [
           "WIFI"
          ],
          [
           "UWB"
          ],
          [
           "NBIot"
          ],
          [
           "LTE-4G"
          ],
          [
           "BLE"
          ],
          [
           "5G mmWavve"
          ],
          [
           "5G Mid"
          ],
          [
           "5G Low"
          ],
          [
           "WiMax"
          ],
          [
           "WIFI"
          ],
          [
           "NBIot"
          ],
          [
           "LTE-4G"
          ],
          [
           "5G Mid"
          ],
          [
           "5G Low"
          ],
          [
           "WiMax"
          ],
          [
           "SigFox (Urban)"
          ],
          [
           "LoRa (Rural)"
          ],
          [
           "LTE-4G"
          ],
          [
           "WIFI"
          ],
          [
           "WiMax"
          ],
          [
           "5G Low"
          ],
          [
           "5G Mid"
          ],
          [
           "CALM"
          ],
          [
           "DSRC/Wave"
          ],
          [
           "Ingenu-RPMA"
          ],
          [
           "LTE-4G"
          ],
          [
           "LoRa (Rural)"
          ],
          [
           "LoRa (Urban)"
          ],
          [
           "MBWA"
          ],
          [
           "MicroWave"
          ],
          [
           "NBIot"
          ],
          [
           "SigFox (Rural)"
          ],
          [
           "SigFox (Urban)"
          ],
          [
           "WIFI"
          ],
          [
           "WiMax"
          ],
          [
           "5G Low"
          ],
          [
           "5G Mid"
          ],
          [
           "CALM"
          ],
          [
           "DSRC/Wave"
          ],
          [
           "Ingenu-RPMA"
          ],
          [
           "LoRa (Urban)"
          ],
          [
           "MicroWave"
          ],
          [
           "MBWA"
          ],
          [
           "5G Mid"
          ],
          [
           "WiMax"
          ],
          [
           "ZigBee"
          ],
          [
           "CALM"
          ],
          [
           "Ingenu-RPMA"
          ],
          [
           "LTE-4G"
          ],
          [
           "LoRa (Rural)"
          ],
          [
           "DSRC/Wave"
          ],
          [
           "LoRa (Urban)"
          ],
          [
           "MicroWave"
          ],
          [
           "NBIot"
          ],
          [
           "MBWA"
          ],
          [
           "5G Low"
          ],
          [
           "LTE-4G"
          ],
          [
           "WiMax"
          ],
          [
           "WIFI"
          ],
          [
           "SigFox (Urban)"
          ],
          [
           "SigFox (Rural)"
          ],
          [
           "NBIot"
          ],
          [
           "WiMax"
          ],
          [
           "5G Low"
          ],
          [
           "5G Mid"
          ],
          [
           "5G Mid"
          ],
          [
           "MBWA"
          ],
          [
           "MicroWave"
          ],
          [
           "NBIot"
          ],
          [
           "WIFI"
          ],
          [
           "UWB"
          ],
          [
           "SigFox (Urban)"
          ],
          [
           "SigFox (Rural)"
          ],
          [
           "NBIot"
          ],
          [
           "MicroWave"
          ],
          [
           "MBWA"
          ],
          [
           "LoRa (Urban)"
          ],
          [
           "LoRa (Rural)"
          ],
          [
           "LTE-4G"
          ],
          [
           "Ingenu-RPMA"
          ],
          [
           "IR"
          ],
          [
           "DSRC/Wave"
          ],
          [
           "CALM"
          ],
          [
           "BLE"
          ],
          [
           "5G mmWavve"
          ],
          [
           "5G Mid"
          ],
          [
           "5G Low"
          ],
          [
           "WiMax"
          ],
          [
           "LoRa (Urban)"
          ],
          [
           "LoRa (Rural)"
          ],
          [
           "5G mmWavve"
          ],
          [
           "5G Low"
          ],
          [
           "5G Low"
          ],
          [
           "WiMax"
          ],
          [
           "WIFI"
          ],
          [
           "SigFox (Rural)"
          ],
          [
           "NBIot"
          ],
          [
           "MicroWave"
          ],
          [
           "ZigBee"
          ],
          [
           "MBWA"
          ],
          [
           "LoRa (Rural)"
          ],
          [
           "5G Mid"
          ],
          [
           "LTE-4G"
          ],
          [
           "NBIot"
          ],
          [
           "LTE-4G"
          ],
          [
           "5G Mid"
          ],
          [
           "LoRa (Urban)"
          ],
          [
           "SigFox (Urban)"
          ],
          [
           "Ingenu-RPMA"
          ],
          [
           "CALM"
          ],
          [
           "5G Low"
          ],
          [
           "MBWA"
          ],
          [
           "MicroWave"
          ],
          [
           "NBIot"
          ],
          [
           "WiMax"
          ],
          [
           "5G Mid"
          ],
          [
           "5G Low"
          ],
          [
           "WiMax"
          ],
          [
           "WIFI"
          ],
          [
           "UWB"
          ],
          [
           "5G Mid"
          ],
          [
           "WiMax"
          ],
          [
           "SigFox (Urban)"
          ],
          [
           "SigFox (Rural)"
          ],
          [
           "NBIot"
          ],
          [
           "MicroWave"
          ],
          [
           "MBWA"
          ],
          [
           "LoRa (Urban)"
          ],
          [
           "LoRa (Rural)"
          ],
          [
           "LTE-4G"
          ],
          [
           "NBIot"
          ],
          [
           "DSRC/Wave"
          ],
          [
           "WIFI"
          ],
          [
           "LTE-4G"
          ],
          [
           "DSRC/Wave"
          ],
          [
           "LoRa (Rural)"
          ],
          [
           "LTE-4G"
          ],
          [
           "Ingenu-RPMA"
          ],
          [
           "CALM"
          ],
          [
           "5G Mid"
          ],
          [
           "5G Low"
          ],
          [
           "WiMax"
          ],
          [
           "MBWA"
          ],
          [
           "LoRa (Urban)"
          ],
          [
           "MicroWave"
          ],
          [
           "WIFI"
          ],
          [
           "SigFox (Rural)"
          ],
          [
           "MBWA"
          ],
          [
           "MicroWave"
          ],
          [
           "NBIot"
          ],
          [
           "WiMax"
          ],
          [
           "5G Low"
          ],
          [
           "5G Mid"
          ],
          [
           "CALM"
          ],
          [
           "LTE-4G"
          ],
          [
           "DSRC/Wave"
          ],
          [
           "LTE-4G"
          ],
          [
           "LoRa (Rural)"
          ],
          [
           "LoRa (Urban)"
          ],
          [
           "MBWA"
          ],
          [
           "MicroWave"
          ],
          [
           "NBIot"
          ],
          [
           "SigFox (Rural)"
          ],
          [
           "Ingenu-RPMA"
          ],
          [
           "NBIot"
          ],
          [
           "5G Mid"
          ],
          [
           "WIFI"
          ],
          [
           "WiMax"
          ],
          [
           "MBWA"
          ],
          [
           "5G Low"
          ],
          [
           "LTE-4G"
          ],
          [
           "5G Mid"
          ],
          [
           "5G Low"
          ],
          [
           "WiMax"
          ],
          [
           "WIFI"
          ],
          [
           "SigFox (Urban)"
          ],
          [
           "NBIot"
          ],
          [
           "MicroWave"
          ],
          [
           "5G Low"
          ],
          [
           "WiMax"
          ],
          [
           "NBIot"
          ],
          [
           "MicroWave"
          ],
          [
           "MBWA"
          ],
          [
           "LTE-4G"
          ],
          [
           "5G Mid"
          ],
          [
           "5G Low"
          ],
          [
           "WiMax"
          ],
          [
           "5G Mid"
          ],
          [
           "WIFI"
          ],
          [
           "LTE-4G"
          ],
          [
           "SigFox (Urban)"
          ],
          [
           "SigFox (Rural)"
          ],
          [
           "NBIot"
          ],
          [
           "MicroWave"
          ],
          [
           "MBWA"
          ],
          [
           "LoRa (Urban)"
          ],
          [
           "LoRa (Rural)"
          ],
          [
           "WiMax"
          ],
          [
           "LTE-4G"
          ],
          [
           "5G Low"
          ],
          [
           "CALM"
          ],
          [
           "5G Mid"
          ],
          [
           "CALM"
          ],
          [
           "DSRC/Wave"
          ],
          [
           "Ingenu-RPMA"
          ],
          [
           "WIFI"
          ],
          [
           "Ingenu-RPMA"
          ],
          [
           "SigFox (Urban)"
          ],
          [
           "DSRC/Wave"
          ],
          [
           "NBIot"
          ],
          [
           "CALM"
          ],
          [
           "DSRC/Wave"
          ],
          [
           "Ingenu-RPMA"
          ],
          [
           "LTE-4G"
          ],
          [
           "LoRa (Rural)"
          ],
          [
           "LoRa (Urban)"
          ],
          [
           "MBWA"
          ],
          [
           "NBIot"
          ],
          [
           "5G Mid"
          ],
          [
           "SigFox (Rural)"
          ],
          [
           "WIFI"
          ],
          [
           "WiMax"
          ],
          [
           "5G Low"
          ],
          [
           "5G Mid"
          ],
          [
           "CALM"
          ],
          [
           "DSRC/Wave"
          ],
          [
           "LTE-4G"
          ],
          [
           "MBWA"
          ],
          [
           "SigFox (Rural)"
          ],
          [
           "5G Low"
          ],
          [
           "SigFox (Urban)"
          ],
          [
           "NBIot"
          ],
          [
           "WiMax"
          ],
          [
           "MicroWave"
          ],
          [
           "MBWA"
          ],
          [
           "LoRa (Urban)"
          ],
          [
           "LoRa (Rural)"
          ],
          [
           "LTE-4G"
          ],
          [
           "Ingenu-RPMA"
          ],
          [
           "DSRC/Wave"
          ],
          [
           "CALM"
          ],
          [
           "MicroWave"
          ],
          [
           "5G Low"
          ],
          [
           "WiMax"
          ],
          [
           "SigFox (Rural)"
          ],
          [
           "SigFox (Urban)"
          ],
          [
           "WIFI"
          ],
          [
           "WiMax"
          ],
          [
           "5G Low"
          ],
          [
           "5G Mid"
          ],
          [
           "5G Mid"
          ],
          [
           "LTE-4G"
          ],
          [
           "NBIot"
          ],
          [
           "MBWA"
          ],
          [
           "LTE-4G"
          ],
          [
           "MicroWave"
          ],
          [
           "5G Low"
          ],
          [
           "5G Mid"
          ],
          [
           "WiMax"
          ],
          [
           "WIFI"
          ],
          [
           "SigFox (Urban)"
          ],
          [
           "WiMax"
          ],
          [
           "5G Low"
          ],
          [
           "5G Mid"
          ],
          [
           "LTE-4G"
          ],
          [
           "MBWA"
          ],
          [
           "NBIot"
          ],
          [
           "WiMax"
          ],
          [
           "5G Low"
          ],
          [
           "MicroWave"
          ],
          [
           "DSRC/Wave"
          ],
          [
           "Ingenu-RPMA"
          ],
          [
           "LTE-4G"
          ],
          [
           "LoRa (Rural)"
          ],
          [
           "DSRC/Wave"
          ],
          [
           "LoRa (Urban)"
          ],
          [
           "5G Mid"
          ],
          [
           "CALM"
          ],
          [
           "DSRC/Wave"
          ],
          [
           "Ingenu-RPMA"
          ],
          [
           "LTE-4G"
          ],
          [
           "5G Mid"
          ],
          [
           "5G Low"
          ],
          [
           "WiMax"
          ],
          [
           "WIFI"
          ],
          [
           "SigFox (Urban)"
          ],
          [
           "NBIot"
          ],
          [
           "MicroWave"
          ],
          [
           "MBWA"
          ],
          [
           "LoRa (Rural)"
          ],
          [
           "LTE-4G"
          ],
          [
           "LoRa (Rural)"
          ],
          [
           "LoRa (Urban)"
          ],
          [
           "MBWA"
          ],
          [
           "CALM"
          ],
          [
           "5G Low"
          ],
          [
           "WiMax"
          ],
          [
           "SigFox (Rural)"
          ],
          [
           "SigFox (Urban)"
          ],
          [
           "Ingenu-RPMA"
          ],
          [
           "LTE-4G"
          ],
          [
           "5G Mid"
          ],
          [
           "5G Low"
          ],
          [
           "WiMax"
          ],
          [
           "WIFI"
          ],
          [
           "LTE-4G"
          ],
          [
           "MBWA"
          ],
          [
           "MicroWave"
          ],
          [
           "NBIot"
          ],
          [
           "5G Low"
          ],
          [
           "5G Mid"
          ],
          [
           "LTE-4G"
          ],
          [
           "NBIot"
          ],
          [
           "WIFI"
          ],
          [
           "WiMax"
          ],
          [
           "MicroWave"
          ],
          [
           "NBIot"
          ],
          [
           "SigFox (Rural)"
          ],
          [
           "WiMax"
          ],
          [
           "WIFI"
          ],
          [
           "WIFI"
          ],
          [
           "WiMax"
          ],
          [
           "IR"
          ],
          [
           "NBIot"
          ],
          [
           "MicroWave"
          ],
          [
           "MBWA"
          ],
          [
           "LTE-4G"
          ],
          [
           "ZigBee"
          ],
          [
           "5G mmWavve"
          ],
          [
           "UWB"
          ],
          [
           "5G Low"
          ],
          [
           "LoRa (Rural)"
          ],
          [
           "CALM"
          ],
          [
           "DSRC/Wave"
          ],
          [
           "Ingenu-RPMA"
          ],
          [
           "LTE-4G"
          ],
          [
           "LoRa (Urban)"
          ],
          [
           "MBWA"
          ],
          [
           "MicroWave"
          ],
          [
           "NBIot"
          ],
          [
           "SigFox (Rural)"
          ],
          [
           "SigFox (Urban)"
          ],
          [
           "WIFI"
          ],
          [
           "5G Mid"
          ],
          [
           "5G Mid"
          ],
          [
           "5G Low"
          ],
          [
           "LoRa (Rural)"
          ],
          [
           "WIFI"
          ],
          [
           "5G Low"
          ],
          [
           "WiMax"
          ],
          [
           "WIFI"
          ],
          [
           "SigFox (Urban)"
          ],
          [
           "SigFox (Rural)"
          ],
          [
           "NBIot"
          ],
          [
           "MicroWave"
          ],
          [
           "MBWA"
          ],
          [
           "LoRa (Urban)"
          ],
          [
           "5G Mid"
          ],
          [
           "LoRa (Rural)"
          ],
          [
           "Ingenu-RPMA"
          ],
          [
           "DSRC/Wave"
          ],
          [
           "CALM"
          ],
          [
           "5G Mid"
          ],
          [
           "5G Low"
          ],
          [
           "WiMax"
          ],
          [
           "WIFI"
          ],
          [
           "NBIot"
          ],
          [
           "MicroWave"
          ],
          [
           "LTE-4G"
          ],
          [
           "LTE-4G"
          ],
          [
           "MBWA"
          ],
          [
           "MicroWave"
          ],
          [
           "SigFox (Urban)"
          ],
          [
           "SigFox (Rural)"
          ],
          [
           "NBIot"
          ],
          [
           "MicroWave"
          ],
          [
           "MBWA"
          ],
          [
           "LoRa (Urban)"
          ],
          [
           "LTE-4G"
          ],
          [
           "Ingenu-RPMA"
          ],
          [
           "CALM"
          ],
          [
           "5G Mid"
          ],
          [
           "5G Low"
          ],
          [
           "WiMax"
          ],
          [
           "WIFI"
          ],
          [
           "SigFox (Urban)"
          ],
          [
           "LTE-4G"
          ],
          [
           "DSRC/Wave"
          ],
          [
           "CALM"
          ],
          [
           "5G Mid"
          ],
          [
           "5G Low"
          ],
          [
           "WiMax"
          ],
          [
           "NBIot"
          ],
          [
           "WiMax"
          ],
          [
           "DSRC/Wave"
          ],
          [
           "5G Mid"
          ],
          [
           "DSRC/Wave"
          ],
          [
           "CALM"
          ],
          [
           "LoRa (Urban)"
          ],
          [
           "5G Low"
          ]
         ],
         "domain": {
          "x": [
           0,
           1
          ],
          "y": [
           0,
           1
          ]
         },
         "hovertemplate": "labels=%{label}<br>count=%{value}<br>parent=%{parent}<br>id=%{id}<br>Technology=%{customdata[0]}<extra></extra>",
         "ids": [
          "NBIot/MW",
          "Ingenu-RPMA/CTR",
          "LTE-4G/CTR",
          "LoRa (Rural)/CTR",
          "LoRa (Urban)/CTR",
          "MBWA/CTR",
          "MicroWave/CTR",
          "NBIot/CTR",
          "SigFox (Rural)/CTR",
          "SigFox (Urban)/CTR",
          "WIFI/CTR",
          "LTE-4G/OVW",
          "5G Mid/OVW",
          "5G Low/OVW",
          "ZigBee/MW",
          "WiMax/MW",
          "DSRC/Wave/CTR",
          "WIFI/MW",
          "CALM/CTR",
          "5G Low/CTR",
          "NBIot/CSL",
          "MicroWave/CSL",
          "MBWA/CSL",
          "LTE-4G/CSL",
          "5G Mid/CSL",
          "5G Low/CSL",
          "WiMax/CRWRSU",
          "NBIot/CRWRSU",
          "MicroWave/CRWRSU",
          "MBWA/CRWRSU",
          "LTE-4G/CRWRSU",
          "5G Mid/CRWRSU",
          "5G Low/CRWRSU",
          "WiMax/CMA",
          "NBIot/CMA",
          "5G Mid/CTR",
          "UWB/MW",
          "WiMax/CSL",
          "LTE-4G/MW",
          "Ingenu-RPMA/MDU",
          "DSRC/Wave/MDU",
          "CALM/MDU",
          "5G Mid/MDU",
          "5G Low/MDU",
          "WiMax/MD",
          "WIFI/MD",
          "SigFox (Urban)/MD",
          "SigFox (Rural)/MD",
          "NBIot/MD",
          "MicroWave/MD",
          "MBWA/MD",
          "LoRa (Urban)/MD",
          "LoRa (Rural)/MD",
          "LTE-4G/MD",
          "LTE-4G/MDU",
          "LoRa (Rural)/MDU",
          "LoRa (Urban)/MDU",
          "MBWA/MDU",
          "5G mmWavve/MW",
          "5G Mid/MW",
          "5G Low/MW",
          "WiMax/MTTCRW",
          "NBIot/MTTCRW",
          "MicroWave/MTTCRW",
          "MBWA/MTTCRW",
          "WIFI/CSL",
          "LTE-4G/MTTCRW",
          "5G Low/MTTCRW",
          "WiMax/MDU",
          "WIFI/MDU",
          "SigFox (Urban)/MDU",
          "SigFox (Rural)/MDU",
          "NBIot/MDU",
          "MicroWave/MDU",
          "5G Mid/MTTCRW",
          "NBIot/PA",
          "5G Low/EDCV",
          "LTE-4G/PCSW",
          "UWB/PCSW",
          "WiMax/PCSW",
          "ZigBee/PCSW",
          "5G Low/PCW",
          "LTE-4G/PCW",
          "LoRa (Rural)/EDCV",
          "LTE-4G/EDCV",
          "Ingenu-RPMA/EDCV",
          "DSRC/Wave/EDCV",
          "CALM/EDCV",
          "5G Mid/EDCV",
          "5G Mid/PCSW",
          "5G mmWavve/PCSW",
          "5G Low/PCSW",
          "LoRa (Urban)/PA",
          "WIFI/PA",
          "NBIot/OVW",
          "WiMax/OVW",
          "5G Low/PA",
          "5G Mid/PA",
          "CALM/PA",
          "DSRC/Wave/PA",
          "WiMax/PA",
          "Ingenu-RPMA/PA",
          "LoRa (Rural)/PA",
          "WiMax/DS",
          "MBWA/PA",
          "MicroWave/PA",
          "SigFox (Rural)/PA",
          "SigFox (Urban)/PA",
          "LTE-4G/PA",
          "SigFox (Urban)/DS",
          "MicroWave/DS",
          "NBIot/DS",
          "WiMax/CTR",
          "SigFox (Urban)/PIN",
          "SigFox (Rural)/PIN",
          "Ingenu-RPMA/PIN",
          "NBIot/PIN",
          "MicroWave/PIN",
          "MBWA/PIN",
          "LoRa (Urban)/PIN",
          "5G Low/CVHAS",
          "LoRa (Rural)/PIN",
          "MBWA/PCW",
          "MicroWave/PCW",
          "NBIot/PCW",
          "WiMax/PCW",
          "5G Low/PIN",
          "5G Mid/PIN",
          "CALM/PIN",
          "DSRC/Wave/PIN",
          "SigFox (Rural)/DS",
          "5G Mid/CVHAS",
          "LTE-4G/PIN",
          "MBWA/CVHAS",
          "LTE-4G/CVHAS",
          "CALM/DS",
          "WiMax/CVHAS",
          "DSRC/Wave/DS",
          "5G Mid/DS",
          "NBIot/CVHAS",
          "WIFI/CVHAS",
          "LTE-4G/DS",
          "LoRa (Rural)/DS",
          "LoRa (Urban)/DS",
          "MBWA/DS",
          "MicroWave/CVHAS",
          "Ingenu-RPMA/DS",
          "5G Low/DS",
          "LoRa (Urban)/EDCV",
          "MBWA/EDCV",
          "NBIot/EDCV",
          "MicroWave/EDCV",
          "WIFI/PIN",
          "SigFox (Rural)/FM",
          "5G Low/IFS",
          "5G Mid/ICW",
          "LTE-4G/ICW",
          "MBWA/ICW",
          "MicroWave/ICW",
          "NBIot/ICW",
          "WiMax/ICW",
          "5G Mid/IFS",
          "CALM/IFS",
          "MBWA/IFS",
          "MicroWave/IFS",
          "NBIot/IFS",
          "SigFox (Rural)/IFS",
          "SigFox (Urban)/IFS",
          "SigFox (Rural)/AAC",
          "LoRa (Rural)/AAC",
          "SigFox (Urban)/AAC",
          "LoRa (Urban)/AAC",
          "MBWA/AAC",
          "MicroWave/AAC",
          "NBIot/AAC",
          "Ingenu-RPMA/AAC",
          "LTE-4G/AAC",
          "Ingenu-RPMA/IS",
          "CALM/IS",
          "WiMax/IFS",
          "5G Low/IM",
          "WIFI/IFS",
          "5G Mid/IM",
          "CALM/IM",
          "DSRC/Wave/IM",
          "Ingenu-RPMA/IM",
          "LTE-4G/IM",
          "DSRC/Wave/IS",
          "LoRa (Rural)/IM",
          "MBWA/IM",
          "MicroWave/IM",
          "NBIot/IM",
          "SigFox (Rural)/IM",
          "SigFox (Urban)/IM",
          "WIFI/IM",
          "WiMax/IM",
          "5G Low/IS",
          "5G Mid/IS",
          "LoRa (Urban)/IM",
          "MBWA/LEC",
          "LoRa (Urban)/LEC",
          "LoRa (Rural)/LEC",
          "SigFox (Rural)/LAW",
          "Ingenu-RPMA/LEC",
          "DSRC/Wave/LEC",
          "MBWA/LAW",
          "MicroWave/LAW",
          "NBIot/LAW",
          "SigFox (Urban)/LAW",
          "WIFI/LAW",
          "WiMax/LAW",
          "5G Low/LEC",
          "5G Mid/LEC",
          "CALM/LEC",
          "MicroWave/LEC",
          "LTE-4G/LEC",
          "NBIot/LEC",
          "SigFox (Rural)/LEC",
          "5G Low/CMA",
          "NBIot/CLW",
          "LTE-4G/CLW",
          "5G Mid/CLW",
          "5G Low/CLW",
          "WiMax/CLCA",
          "NBIot/CLCA",
          "LTE-4G/CLCA",
          "5G Mid/CLCA",
          "5G Low/CLCA",
          "ZigBee/CGR",
          "WiMax/CGR",
          "WIFI/CGR",
          "UWB/CGR",
          "NBIot/CGR",
          "LTE-4G/CGR",
          "BLE/CGR",
          "5G mmWavve/CGR",
          "5G Mid/CGR",
          "5G Low/CGR",
          "WiMax/CFCW",
          "WIFI/CFCW",
          "NBIot/CFCW",
          "LTE-4G/CFCW",
          "5G Mid/CFCW",
          "5G Low/CFCW",
          "WiMax/CLW",
          "SigFox (Urban)/LEC",
          "LoRa (Rural)/LAW",
          "LTE-4G/CMA",
          "WIFI/LEC",
          "WiMax/LEC",
          "5G Low/LZM",
          "5G Mid/LZM",
          "CALM/LZM",
          "DSRC/Wave/LZM",
          "Ingenu-RPMA/LZM",
          "LTE-4G/LZM",
          "LoRa (Rural)/LZM",
          "LoRa (Urban)/LZM",
          "MBWA/LZM",
          "MicroWave/LZM",
          "NBIot/LZM",
          "SigFox (Rural)/LZM",
          "SigFox (Urban)/LZM",
          "WIFI/LZM",
          "WiMax/LZM",
          "5G Low/MD",
          "5G Mid/MD",
          "CALM/MD",
          "DSRC/Wave/MD",
          "Ingenu-RPMA/MD",
          "LoRa (Urban)/LAW",
          "MicroWave/CMA",
          "MBWA/CMA",
          "5G Mid/CMA",
          "WiMax",
          "ZigBee",
          "CALM/FM",
          "Ingenu-RPMA/FM",
          "LTE-4G/FM",
          "LoRa (Rural)/FM",
          "DSRC/Wave/FM",
          "LoRa (Urban)/FM",
          "MicroWave/FM",
          "NBIot/FM",
          "MBWA/FM",
          "5G Low/FM",
          "LTE-4G/WWDW",
          "WiMax/FADL",
          "WIFI/FADL",
          "SigFox (Urban)/FADL",
          "SigFox (Rural)/FADL",
          "NBIot/FADL",
          "WiMax/VS",
          "5G Low/WWDW",
          "5G Mid/WWDW",
          "5G Mid/FM",
          "MBWA/WWDW",
          "MicroWave/WWDW",
          "NBIot/WWDW",
          "WIFI",
          "UWB",
          "SigFox (Urban)",
          "SigFox (Rural)",
          "NBIot",
          "MicroWave",
          "MBWA",
          "LoRa (Urban)",
          "LoRa (Rural)",
          "LTE-4G",
          "Ingenu-RPMA",
          "IR",
          "DSRC/Wave",
          "CALM",
          "BLE",
          "5G mmWavve",
          "5G Mid",
          "5G Low",
          "WiMax/WWDW",
          "LoRa (Urban)/FADL",
          "LoRa (Rural)/FADL",
          "5G mmWavve/SlVW",
          "5G Low/StVW",
          "5G Low/SVA",
          "WiMax/SOSS",
          "WIFI/SOSS",
          "SigFox (Rural)/SOSS",
          "NBIot/SOSS",
          "MicroWave/SOSS",
          "ZigBee/SlVW",
          "MBWA/SOSS",
          "LoRa (Rural)/SOSS",
          "5G Mid/SlVW",
          "LTE-4G/SlVW",
          "NBIot/StVW",
          "LTE-4G/StVW",
          "5G Mid/StVW",
          "LoRa (Urban)/SOSS",
          "SigFox (Urban)/SOSS",
          "Ingenu-RPMA/SVA",
          "CALM/SVA",
          "5G Low/SiVW",
          "MBWA/SiVW",
          "MicroWave/SiVW",
          "NBIot/SiVW",
          "WiMax/SiVW",
          "5G Mid/SVA",
          "5G Low/SlVW",
          "WiMax/SlVW",
          "WIFI/SlVW",
          "UWB/SlVW",
          "5G Mid/SiVW",
          "WiMax/SVA",
          "SigFox (Urban)/SVA",
          "SigFox (Rural)/SVA",
          "NBIot/SVA",
          "MicroWave/SVA",
          "MBWA/SVA",
          "LoRa (Urban)/SVA",
          "LoRa (Rural)/SVA",
          "LTE-4G/SVA",
          "NBIot/SlVW",
          "DSRC/Wave/SVA",
          "WIFI/SVA",
          "LTE-4G/SiVW",
          "DSRC/Wave/TIRI",
          "LoRa (Rural)/TIRI",
          "LTE-4G/TIRI",
          "Ingenu-RPMA/TIRI",
          "CALM/TIRI",
          "5G Mid/TIRI",
          "5G Low/TIRI",
          "WiMax/StVW",
          "MBWA/TIRI",
          "LoRa (Urban)/TIRI",
          "MicroWave/TIRI",
          "WIFI/TOD",
          "SigFox (Rural)/TIRI",
          "MBWA/TOD",
          "MicroWave/TOD",
          "NBIot/TOD",
          "WiMax/TOD",
          "5G Low/TVSP",
          "5G Mid/TVSP",
          "CALM/TVSP",
          "LTE-4G/TOD",
          "DSRC/Wave/TVSP",
          "LTE-4G/TVSP",
          "LoRa (Rural)/TVSP",
          "LoRa (Urban)/TVSP",
          "MBWA/TVSP",
          "MicroWave/TVSP",
          "NBIot/TVSP",
          "SigFox (Rural)/TVSP",
          "Ingenu-RPMA/TVSP",
          "NBIot/TIRI",
          "5G Mid/TOD",
          "WIFI/TLOSP",
          "WiMax/TLOSP",
          "MBWA/TLOSP",
          "5G Low/TOD",
          "LTE-4G/TLOSP",
          "5G Mid/TLOSP",
          "5G Low/TLOSP",
          "WiMax/TIRI",
          "WIFI/TIRI",
          "SigFox (Urban)/TIRI",
          "NBIot/TLOSP",
          "MicroWave/TLOSP",
          "5G Low/SM",
          "WiMax/RW",
          "NBIot/RW",
          "MicroWave/RW",
          "MBWA/RW",
          "LTE-4G/RW",
          "5G Mid/RW",
          "5G Low/RW",
          "WiMax/RD",
          "5G Mid/SM",
          "WIFI/SM",
          "LTE-4G/SOSS",
          "SigFox (Urban)/SM",
          "SigFox (Rural)/SM",
          "NBIot/SM",
          "MicroWave/SM",
          "MBWA/SM",
          "LoRa (Urban)/SM",
          "LoRa (Rural)/SM",
          "WiMax/SM",
          "LTE-4G/SM",
          "5G Low/SOSS",
          "CALM/SM",
          "5G Mid/SOSS",
          "CALM/SOSS",
          "DSRC/Wave/SOSS",
          "Ingenu-RPMA/SOSS",
          "WIFI/RD",
          "Ingenu-RPMA/SM",
          "SigFox (Urban)/RD",
          "DSRC/Wave/SM",
          "NBIot/RD",
          "CALM/ERGN",
          "DSRC/Wave/ERGN",
          "Ingenu-RPMA/ERGN",
          "LTE-4G/ERGN",
          "LoRa (Rural)/ERGN",
          "LoRa (Urban)/ERGN",
          "MBWA/ERGN",
          "NBIot/ERGN",
          "5G Mid/ERGN",
          "SigFox (Rural)/ERGN",
          "WIFI/ERGN",
          "WiMax/ERGN",
          "5G Low/ETC",
          "5G Mid/ETC",
          "CALM/ETC",
          "DSRC/Wave/ETC",
          "LTE-4G/ETC",
          "MBWA/ETC",
          "SigFox (Rural)/RD",
          "5G Low/ERGN",
          "SigFox (Urban)/ERGN",
          "NBIot/EEBL",
          "WiMax/EEBL",
          "MicroWave/RD",
          "MBWA/RD",
          "LoRa (Urban)/RD",
          "LoRa (Rural)/RD",
          "LTE-4G/RD",
          "Ingenu-RPMA/RD",
          "DSRC/Wave/RD",
          "CALM/RD",
          "MicroWave/ERGN",
          "5G Low/RD",
          "WiMax/PIN",
          "SigFox (Rural)/EDCV",
          "SigFox (Urban)/EDCV",
          "WIFI/EDCV",
          "WiMax/EDCV",
          "5G Low/EEBL",
          "5G Mid/EEBL",
          "5G Mid/RD",
          "LTE-4G/EEBL",
          "NBIot/HCW",
          "MBWA/HCW",
          "LTE-4G/HCW",
          "MicroWave/HCW",
          "5G Low/HCW",
          "5G Mid/HCW",
          "WiMax/FM",
          "WIFI/FM",
          "SigFox (Urban)/FM",
          "WiMax/HCW",
          "5G Low/HLN",
          "5G Mid/HLN",
          "LTE-4G/HLN",
          "MBWA/HLN",
          "NBIot/HLN",
          "WiMax/HLN",
          "5G Low/ICW",
          "MicroWave/HLN",
          "DSRC/Wave/IFS",
          "Ingenu-RPMA/IFS",
          "LTE-4G/IFS",
          "LoRa (Rural)/IFS",
          "DSRC/Wave/InM",
          "LoRa (Urban)/InM",
          "5G Mid/LAW",
          "CALM/LAW",
          "DSRC/Wave/LAW",
          "Ingenu-RPMA/LAW",
          "LTE-4G/LAW",
          "5G Mid/InM",
          "5G Low/InM",
          "WiMax/IS",
          "WIFI/IS",
          "SigFox (Urban)/IS",
          "NBIot/IS",
          "MicroWave/IS",
          "MBWA/IS",
          "LoRa (Rural)/InM",
          "LTE-4G/IS",
          "LoRa (Rural)/IS",
          "LoRa (Urban)/IS",
          "MBWA/InM",
          "CALM/InM",
          "5G Low/LAW",
          "WiMax/InM",
          "SigFox (Rural)/IS",
          "SigFox (Urban)/InM",
          "Ingenu-RPMA/InM",
          "LTE-4G/InM",
          "5G Mid/ATTCRW",
          "5G Low/ATTCRW",
          "WiMax/AAC",
          "WIFI/AAC",
          "LTE-4G/ATTCRW",
          "MBWA/ATTCRW",
          "MicroWave/ATTCRW",
          "NBIot/ATTCRW",
          "5G Low/CACC",
          "5G Mid/CACC",
          "LTE-4G/CACC",
          "NBIot/CACC",
          "WIFI/CACC",
          "WiMax/CACC",
          "MicroWave/InM",
          "NBIot/InM",
          "SigFox (Rural)/InM",
          "WiMax/ATTCRW",
          "WIFI/InM",
          "WIFI/VRUW",
          "WiMax/VRUW",
          "IR/VRUW",
          "NBIot/VRUW",
          "MicroWave/VRUW",
          "MBWA/VRUW",
          "LTE-4G/VRUW",
          "ZigBee/VRUW",
          "5G mmWavve/VRUW",
          "UWB/VRUW",
          "5G Low/VS",
          "LoRa (Rural)/VS",
          "CALM/VS",
          "DSRC/Wave/VS",
          "Ingenu-RPMA/VS",
          "LTE-4G/VS",
          "LoRa (Urban)/VS",
          "MBWA/VS",
          "MicroWave/VS",
          "NBIot/VS",
          "SigFox (Rural)/VS",
          "SigFox (Urban)/VS",
          "WIFI/VS",
          "5G Mid/VRUW",
          "5G Mid/VS",
          "5G Low/VRUW",
          "LoRa (Rural)/VRSUDC",
          "WIFI/VRSUDC",
          "5G Low/EVW",
          "WiMax/EVSP",
          "WIFI/EVSP",
          "SigFox (Urban)/EVSP",
          "SigFox (Rural)/EVSP",
          "NBIot/EVSP",
          "MicroWave/EVSP",
          "MBWA/EVSP",
          "LoRa (Urban)/EVSP",
          "5G Mid/EVW",
          "LoRa (Rural)/EVSP",
          "Ingenu-RPMA/EVSP",
          "DSRC/Wave/EVSP",
          "CALM/EVSP",
          "5G Mid/EVSP",
          "5G Low/EVSP",
          "WiMax/ETC",
          "WIFI/ETC",
          "NBIot/ETC",
          "MicroWave/ETC",
          "LTE-4G/EVSP",
          "LTE-4G/EVW",
          "MBWA/EVW",
          "MicroWave/EVW",
          "SigFox (Urban)/VRSUDC",
          "SigFox (Rural)/VRSUDC",
          "NBIot/VRSUDC",
          "MicroWave/VRSUDC",
          "MBWA/VRSUDC",
          "LoRa (Urban)/VRSUDC",
          "LTE-4G/VRSUDC",
          "Ingenu-RPMA/VRSUDC",
          "CALM/VRSUDC",
          "5G Mid/VRSUDC",
          "5G Low/VRSUDC",
          "WiMax/TVSP",
          "WIFI/TVSP",
          "SigFox (Urban)/TVSP",
          "LTE-4G/FADL",
          "DSRC/Wave/FADL",
          "CALM/FADL",
          "5G Mid/FADL",
          "5G Low/FADL",
          "WiMax/EVW",
          "NBIot/EVW",
          "WiMax/VRSUDC",
          "DSRC/Wave/VRSUDC",
          "5G Mid/AAC",
          "DSRC/Wave/AAC",
          "CALM/AAC",
          "LoRa (Urban)/IFS",
          "5G Low/AAC"
         ],
         "labels": [
          "MW",
          "CTR",
          "CTR",
          "CTR",
          "CTR",
          "CTR",
          "CTR",
          "CTR",
          "CTR",
          "CTR",
          "CTR",
          "OVW",
          "OVW",
          "OVW",
          "MW",
          "MW",
          "CTR",
          "MW",
          "CTR",
          "CTR",
          "CSL",
          "CSL",
          "CSL",
          "CSL",
          "CSL",
          "CSL",
          "CRWRSU",
          "CRWRSU",
          "CRWRSU",
          "CRWRSU",
          "CRWRSU",
          "CRWRSU",
          "CRWRSU",
          "CMA",
          "CMA",
          "CTR",
          "MW",
          "CSL",
          "MW",
          "MDU",
          "MDU",
          "MDU",
          "MDU",
          "MDU",
          "MD",
          "MD",
          "MD",
          "MD",
          "MD",
          "MD",
          "MD",
          "MD",
          "MD",
          "MD",
          "MDU",
          "MDU",
          "MDU",
          "MDU",
          "MW",
          "MW",
          "MW",
          "MTTCRW",
          "MTTCRW",
          "MTTCRW",
          "MTTCRW",
          "CSL",
          "MTTCRW",
          "MTTCRW",
          "MDU",
          "MDU",
          "MDU",
          "MDU",
          "MDU",
          "MDU",
          "MTTCRW",
          "PA",
          "EDCV",
          "PCSW",
          "PCSW",
          "PCSW",
          "PCSW",
          "PCW",
          "PCW",
          "EDCV",
          "EDCV",
          "EDCV",
          "EDCV",
          "EDCV",
          "EDCV",
          "PCSW",
          "PCSW",
          "PCSW",
          "PA",
          "PA",
          "OVW",
          "OVW",
          "PA",
          "PA",
          "PA",
          "PA",
          "PA",
          "PA",
          "PA",
          "DS",
          "PA",
          "PA",
          "PA",
          "PA",
          "PA",
          "DS",
          "DS",
          "DS",
          "CTR",
          "PIN",
          "PIN",
          "PIN",
          "PIN",
          "PIN",
          "PIN",
          "PIN",
          "CVHAS",
          "PIN",
          "PCW",
          "PCW",
          "PCW",
          "PCW",
          "PIN",
          "PIN",
          "PIN",
          "PIN",
          "DS",
          "CVHAS",
          "PIN",
          "CVHAS",
          "CVHAS",
          "DS",
          "CVHAS",
          "DS",
          "DS",
          "CVHAS",
          "CVHAS",
          "DS",
          "DS",
          "DS",
          "DS",
          "CVHAS",
          "DS",
          "DS",
          "EDCV",
          "EDCV",
          "EDCV",
          "EDCV",
          "PIN",
          "FM",
          "IFS",
          "ICW",
          "ICW",
          "ICW",
          "ICW",
          "ICW",
          "ICW",
          "IFS",
          "IFS",
          "IFS",
          "IFS",
          "IFS",
          "IFS",
          "IFS",
          "AAC",
          "AAC",
          "AAC",
          "AAC",
          "AAC",
          "AAC",
          "AAC",
          "AAC",
          "AAC",
          "IS",
          "IS",
          "IFS",
          "IM",
          "IFS",
          "IM",
          "IM",
          "IM",
          "IM",
          "IM",
          "IS",
          "IM",
          "IM",
          "IM",
          "IM",
          "IM",
          "IM",
          "IM",
          "IM",
          "IS",
          "IS",
          "IM",
          "LEC",
          "LEC",
          "LEC",
          "LAW",
          "LEC",
          "LEC",
          "LAW",
          "LAW",
          "LAW",
          "LAW",
          "LAW",
          "LAW",
          "LEC",
          "LEC",
          "LEC",
          "LEC",
          "LEC",
          "LEC",
          "LEC",
          "CMA",
          "CLW",
          "CLW",
          "CLW",
          "CLW",
          "CLCA",
          "CLCA",
          "CLCA",
          "CLCA",
          "CLCA",
          "CGR",
          "CGR",
          "CGR",
          "CGR",
          "CGR",
          "CGR",
          "CGR",
          "CGR",
          "CGR",
          "CGR",
          "CFCW",
          "CFCW",
          "CFCW",
          "CFCW",
          "CFCW",
          "CFCW",
          "CLW",
          "LEC",
          "LAW",
          "CMA",
          "LEC",
          "LEC",
          "LZM",
          "LZM",
          "LZM",
          "LZM",
          "LZM",
          "LZM",
          "LZM",
          "LZM",
          "LZM",
          "LZM",
          "LZM",
          "LZM",
          "LZM",
          "LZM",
          "LZM",
          "MD",
          "MD",
          "MD",
          "MD",
          "MD",
          "LAW",
          "CMA",
          "CMA",
          "CMA",
          "WiMax",
          "ZigBee",
          "FM",
          "FM",
          "FM",
          "FM",
          "FM",
          "FM",
          "FM",
          "FM",
          "FM",
          "FM",
          "WWDW",
          "FADL",
          "FADL",
          "FADL",
          "FADL",
          "FADL",
          "VS",
          "WWDW",
          "WWDW",
          "FM",
          "WWDW",
          "WWDW",
          "WWDW",
          "WIFI",
          "UWB",
          "SigFox (Urban)",
          "SigFox (Rural)",
          "NBIot",
          "MicroWave",
          "MBWA",
          "LoRa (Urban)",
          "LoRa (Rural)",
          "LTE-4G",
          "Ingenu-RPMA",
          "IR",
          "DSRC/Wave",
          "CALM",
          "BLE",
          "5G mmWavve",
          "5G Mid",
          "5G Low",
          "WWDW",
          "FADL",
          "FADL",
          "SlVW",
          "StVW",
          "SVA",
          "SOSS",
          "SOSS",
          "SOSS",
          "SOSS",
          "SOSS",
          "SlVW",
          "SOSS",
          "SOSS",
          "SlVW",
          "SlVW",
          "StVW",
          "StVW",
          "StVW",
          "SOSS",
          "SOSS",
          "SVA",
          "SVA",
          "SiVW",
          "SiVW",
          "SiVW",
          "SiVW",
          "SiVW",
          "SVA",
          "SlVW",
          "SlVW",
          "SlVW",
          "SlVW",
          "SiVW",
          "SVA",
          "SVA",
          "SVA",
          "SVA",
          "SVA",
          "SVA",
          "SVA",
          "SVA",
          "SVA",
          "SlVW",
          "SVA",
          "SVA",
          "SiVW",
          "TIRI",
          "TIRI",
          "TIRI",
          "TIRI",
          "TIRI",
          "TIRI",
          "TIRI",
          "StVW",
          "TIRI",
          "TIRI",
          "TIRI",
          "TOD",
          "TIRI",
          "TOD",
          "TOD",
          "TOD",
          "TOD",
          "TVSP",
          "TVSP",
          "TVSP",
          "TOD",
          "TVSP",
          "TVSP",
          "TVSP",
          "TVSP",
          "TVSP",
          "TVSP",
          "TVSP",
          "TVSP",
          "TVSP",
          "TIRI",
          "TOD",
          "TLOSP",
          "TLOSP",
          "TLOSP",
          "TOD",
          "TLOSP",
          "TLOSP",
          "TLOSP",
          "TIRI",
          "TIRI",
          "TIRI",
          "TLOSP",
          "TLOSP",
          "SM",
          "RW",
          "RW",
          "RW",
          "RW",
          "RW",
          "RW",
          "RW",
          "RD",
          "SM",
          "SM",
          "SOSS",
          "SM",
          "SM",
          "SM",
          "SM",
          "SM",
          "SM",
          "SM",
          "SM",
          "SM",
          "SOSS",
          "SM",
          "SOSS",
          "SOSS",
          "SOSS",
          "SOSS",
          "RD",
          "SM",
          "RD",
          "SM",
          "RD",
          "ERGN",
          "ERGN",
          "ERGN",
          "ERGN",
          "ERGN",
          "ERGN",
          "ERGN",
          "ERGN",
          "ERGN",
          "ERGN",
          "ERGN",
          "ERGN",
          "ETC",
          "ETC",
          "ETC",
          "ETC",
          "ETC",
          "ETC",
          "RD",
          "ERGN",
          "ERGN",
          "EEBL",
          "EEBL",
          "RD",
          "RD",
          "RD",
          "RD",
          "RD",
          "RD",
          "RD",
          "RD",
          "ERGN",
          "RD",
          "PIN",
          "EDCV",
          "EDCV",
          "EDCV",
          "EDCV",
          "EEBL",
          "EEBL",
          "RD",
          "EEBL",
          "HCW",
          "HCW",
          "HCW",
          "HCW",
          "HCW",
          "HCW",
          "FM",
          "FM",
          "FM",
          "HCW",
          "HLN",
          "HLN",
          "HLN",
          "HLN",
          "HLN",
          "HLN",
          "ICW",
          "HLN",
          "IFS",
          "IFS",
          "IFS",
          "IFS",
          "InM",
          "InM",
          "LAW",
          "LAW",
          "LAW",
          "LAW",
          "LAW",
          "InM",
          "InM",
          "IS",
          "IS",
          "IS",
          "IS",
          "IS",
          "IS",
          "InM",
          "IS",
          "IS",
          "IS",
          "InM",
          "InM",
          "LAW",
          "InM",
          "IS",
          "InM",
          "InM",
          "InM",
          "ATTCRW",
          "ATTCRW",
          "AAC",
          "AAC",
          "ATTCRW",
          "ATTCRW",
          "ATTCRW",
          "ATTCRW",
          "CACC",
          "CACC",
          "CACC",
          "CACC",
          "CACC",
          "CACC",
          "InM",
          "InM",
          "InM",
          "ATTCRW",
          "InM",
          "VRUW",
          "VRUW",
          "VRUW",
          "VRUW",
          "VRUW",
          "VRUW",
          "VRUW",
          "VRUW",
          "VRUW",
          "VRUW",
          "VS",
          "VS",
          "VS",
          "VS",
          "VS",
          "VS",
          "VS",
          "VS",
          "VS",
          "VS",
          "VS",
          "VS",
          "VS",
          "VRUW",
          "VS",
          "VRUW",
          "VRSUDC",
          "VRSUDC",
          "EVW",
          "EVSP",
          "EVSP",
          "EVSP",
          "EVSP",
          "EVSP",
          "EVSP",
          "EVSP",
          "EVSP",
          "EVW",
          "EVSP",
          "EVSP",
          "EVSP",
          "EVSP",
          "EVSP",
          "EVSP",
          "ETC",
          "ETC",
          "ETC",
          "ETC",
          "EVSP",
          "EVW",
          "EVW",
          "EVW",
          "VRSUDC",
          "VRSUDC",
          "VRSUDC",
          "VRSUDC",
          "VRSUDC",
          "VRSUDC",
          "VRSUDC",
          "VRSUDC",
          "VRSUDC",
          "VRSUDC",
          "VRSUDC",
          "TVSP",
          "TVSP",
          "TVSP",
          "FADL",
          "FADL",
          "FADL",
          "FADL",
          "FADL",
          "EVW",
          "EVW",
          "VRSUDC",
          "VRSUDC",
          "AAC",
          "AAC",
          "AAC",
          "IFS",
          "AAC"
         ],
         "marker": {
          "colors": [
           "#636efa",
           "#EF553B",
           "#00cc96",
           "#ab63fa",
           "#FFA15A",
           "#19d3f3",
           "#FF6692",
           "#636efa",
           "#B6E880",
           "#FF97FF",
           "#FECB52",
           "#00cc96",
           "#636efa",
           "#EF553B",
           "#00cc96",
           "#ab63fa",
           "#FFA15A",
           "#FECB52",
           "#19d3f3",
           "#EF553B",
           "#636efa",
           "#FF6692",
           "#19d3f3",
           "#00cc96",
           "#636efa",
           "#EF553B",
           "#ab63fa",
           "#636efa",
           "#FF6692",
           "#19d3f3",
           "#00cc96",
           "#636efa",
           "#EF553B",
           "#ab63fa",
           "#636efa",
           "#636efa",
           "#FF6692",
           "#ab63fa",
           "#00cc96",
           "#EF553B",
           "#FFA15A",
           "#19d3f3",
           "#636efa",
           "#EF553B",
           "#ab63fa",
           "#FECB52",
           "#FF97FF",
           "#B6E880",
           "#636efa",
           "#FF6692",
           "#19d3f3",
           "#FFA15A",
           "#ab63fa",
           "#00cc96",
           "#00cc96",
           "#ab63fa",
           "#FFA15A",
           "#19d3f3",
           "#B6E880",
           "#636efa",
           "#EF553B",
           "#ab63fa",
           "#636efa",
           "#FF6692",
           "#19d3f3",
           "#FECB52",
           "#00cc96",
           "#EF553B",
           "#ab63fa",
           "#FECB52",
           "#FF97FF",
           "#B6E880",
           "#636efa",
           "#FF6692",
           "#636efa",
           "#636efa",
           "#EF553B",
           "#00cc96",
           "#FF6692",
           "#ab63fa",
           "#00cc96",
           "#EF553B",
           "#00cc96",
           "#ab63fa",
           "#00cc96",
           "#EF553B",
           "#FFA15A",
           "#19d3f3",
           "#636efa",
           "#636efa",
           "#B6E880",
           "#EF553B",
           "#FFA15A",
           "#FECB52",
           "#636efa",
           "#ab63fa",
           "#EF553B",
           "#636efa",
           "#19d3f3",
           "#FFA15A",
           "#ab63fa",
           "#EF553B",
           "#ab63fa",
           "#ab63fa",
           "#19d3f3",
           "#FF6692",
           "#B6E880",
           "#FF97FF",
           "#00cc96",
           "#FF97FF",
           "#FF6692",
           "#636efa",
           "#ab63fa",
           "#FF97FF",
           "#B6E880",
           "#EF553B",
           "#636efa",
           "#FF6692",
           "#19d3f3",
           "#FFA15A",
           "#EF553B",
           "#ab63fa",
           "#19d3f3",
           "#FF6692",
           "#636efa",
           "#ab63fa",
           "#EF553B",
           "#636efa",
           "#19d3f3",
           "#FFA15A",
           "#B6E880",
           "#636efa",
           "#00cc96",
           "#19d3f3",
           "#00cc96",
           "#19d3f3",
           "#ab63fa",
           "#FFA15A",
           "#636efa",
           "#636efa",
           "#FECB52",
           "#00cc96",
           "#ab63fa",
           "#FFA15A",
           "#19d3f3",
           "#FF6692",
           "#EF553B",
           "#EF553B",
           "#FFA15A",
           "#19d3f3",
           "#636efa",
           "#FF6692",
           "#FECB52",
           "#B6E880",
           "#EF553B",
           "#636efa",
           "#00cc96",
           "#19d3f3",
           "#FF6692",
           "#636efa",
           "#ab63fa",
           "#636efa",
           "#19d3f3",
           "#19d3f3",
           "#FF6692",
           "#636efa",
           "#B6E880",
           "#FF97FF",
           "#B6E880",
           "#ab63fa",
           "#FF97FF",
           "#FFA15A",
           "#19d3f3",
           "#FF6692",
           "#636efa",
           "#EF553B",
           "#00cc96",
           "#EF553B",
           "#19d3f3",
           "#ab63fa",
           "#EF553B",
           "#FECB52",
           "#636efa",
           "#19d3f3",
           "#FFA15A",
           "#EF553B",
           "#00cc96",
           "#FFA15A",
           "#ab63fa",
           "#19d3f3",
           "#FF6692",
           "#636efa",
           "#B6E880",
           "#FF97FF",
           "#FECB52",
           "#ab63fa",
           "#EF553B",
           "#636efa",
           "#FFA15A",
           "#19d3f3",
           "#FFA15A",
           "#ab63fa",
           "#B6E880",
           "#EF553B",
           "#FFA15A",
           "#19d3f3",
           "#FF6692",
           "#636efa",
           "#FF97FF",
           "#FECB52",
           "#ab63fa",
           "#EF553B",
           "#636efa",
           "#19d3f3",
           "#FF6692",
           "#00cc96",
           "#636efa",
           "#B6E880",
           "#EF553B",
           "#636efa",
           "#00cc96",
           "#636efa",
           "#EF553B",
           "#ab63fa",
           "#636efa",
           "#00cc96",
           "#636efa",
           "#EF553B",
           "#00cc96",
           "#ab63fa",
           "#FECB52",
           "#FF6692",
           "#636efa",
           "#00cc96",
           "#FF97FF",
           "#B6E880",
           "#636efa",
           "#EF553B",
           "#ab63fa",
           "#FECB52",
           "#636efa",
           "#00cc96",
           "#636efa",
           "#EF553B",
           "#ab63fa",
           "#FF97FF",
           "#ab63fa",
           "#00cc96",
           "#FECB52",
           "#ab63fa",
           "#EF553B",
           "#636efa",
           "#19d3f3",
           "#FFA15A",
           "#EF553B",
           "#00cc96",
           "#ab63fa",
           "#FFA15A",
           "#19d3f3",
           "#FF6692",
           "#636efa",
           "#B6E880",
           "#FF97FF",
           "#FECB52",
           "#ab63fa",
           "#EF553B",
           "#636efa",
           "#19d3f3",
           "#FFA15A",
           "#EF553B",
           "#FFA15A",
           "#FF6692",
           "#19d3f3",
           "#636efa",
           "#ab63fa",
           "#00cc96",
           "#19d3f3",
           "#EF553B",
           "#00cc96",
           "#ab63fa",
           "#FFA15A",
           "#FFA15A",
           "#FF6692",
           "#636efa",
           "#19d3f3",
           "#EF553B",
           "#00cc96",
           "#ab63fa",
           "#FECB52",
           "#FF97FF",
           "#B6E880",
           "#636efa",
           "#ab63fa",
           "#EF553B",
           "#636efa",
           "#636efa",
           "#19d3f3",
           "#FF6692",
           "#636efa",
           "#FECB52",
           "#FF6692",
           "#FF97FF",
           "#B6E880",
           "#636efa",
           "#FF6692",
           "#19d3f3",
           "#FFA15A",
           "#ab63fa",
           "#00cc96",
           "#EF553B",
           "#FECB52",
           "#FFA15A",
           "#19d3f3",
           "#FF97FF",
           "#B6E880",
           "#636efa",
           "#EF553B",
           "#ab63fa",
           "#FFA15A",
           "#ab63fa",
           "#B6E880",
           "#EF553B",
           "#EF553B",
           "#ab63fa",
           "#FECB52",
           "#B6E880",
           "#636efa",
           "#FF6692",
           "#00cc96",
           "#19d3f3",
           "#ab63fa",
           "#636efa",
           "#00cc96",
           "#636efa",
           "#00cc96",
           "#636efa",
           "#FFA15A",
           "#FF97FF",
           "#EF553B",
           "#19d3f3",
           "#EF553B",
           "#19d3f3",
           "#FF6692",
           "#636efa",
           "#ab63fa",
           "#636efa",
           "#EF553B",
           "#ab63fa",
           "#FECB52",
           "#FF6692",
           "#636efa",
           "#ab63fa",
           "#FF97FF",
           "#B6E880",
           "#636efa",
           "#FF6692",
           "#19d3f3",
           "#FFA15A",
           "#ab63fa",
           "#00cc96",
           "#636efa",
           "#FFA15A",
           "#FECB52",
           "#00cc96",
           "#FFA15A",
           "#ab63fa",
           "#00cc96",
           "#EF553B",
           "#19d3f3",
           "#636efa",
           "#EF553B",
           "#ab63fa",
           "#19d3f3",
           "#FFA15A",
           "#FF6692",
           "#FECB52",
           "#B6E880",
           "#19d3f3",
           "#FF6692",
           "#636efa",
           "#ab63fa",
           "#EF553B",
           "#636efa",
           "#19d3f3",
           "#00cc96",
           "#FFA15A",
           "#00cc96",
           "#ab63fa",
           "#FFA15A",
           "#19d3f3",
           "#FF6692",
           "#636efa",
           "#B6E880",
           "#EF553B",
           "#636efa",
           "#636efa",
           "#FECB52",
           "#ab63fa",
           "#19d3f3",
           "#EF553B",
           "#00cc96",
           "#636efa",
           "#EF553B",
           "#ab63fa",
           "#FECB52",
           "#FF97FF",
           "#636efa",
           "#FF6692",
           "#EF553B",
           "#ab63fa",
           "#636efa",
           "#FF6692",
           "#19d3f3",
           "#00cc96",
           "#636efa",
           "#EF553B",
           "#ab63fa",
           "#636efa",
           "#FECB52",
           "#00cc96",
           "#FF97FF",
           "#B6E880",
           "#636efa",
           "#FF6692",
           "#19d3f3",
           "#FFA15A",
           "#ab63fa",
           "#ab63fa",
           "#00cc96",
           "#EF553B",
           "#19d3f3",
           "#636efa",
           "#19d3f3",
           "#FFA15A",
           "#EF553B",
           "#FECB52",
           "#EF553B",
           "#FF97FF",
           "#FFA15A",
           "#636efa",
           "#19d3f3",
           "#FFA15A",
           "#EF553B",
           "#00cc96",
           "#ab63fa",
           "#FFA15A",
           "#19d3f3",
           "#636efa",
           "#636efa",
           "#B6E880",
           "#FECB52",
           "#ab63fa",
           "#EF553B",
           "#636efa",
           "#19d3f3",
           "#FFA15A",
           "#00cc96",
           "#19d3f3",
           "#B6E880",
           "#EF553B",
           "#FF97FF",
           "#636efa",
           "#ab63fa",
           "#FF6692",
           "#19d3f3",
           "#FFA15A",
           "#ab63fa",
           "#00cc96",
           "#EF553B",
           "#FFA15A",
           "#19d3f3",
           "#FF6692",
           "#EF553B",
           "#ab63fa",
           "#B6E880",
           "#FF97FF",
           "#FECB52",
           "#ab63fa",
           "#EF553B",
           "#636efa",
           "#636efa",
           "#00cc96",
           "#636efa",
           "#19d3f3",
           "#00cc96",
           "#FF6692",
           "#EF553B",
           "#636efa",
           "#ab63fa",
           "#FECB52",
           "#FF97FF",
           "#ab63fa",
           "#EF553B",
           "#636efa",
           "#00cc96",
           "#19d3f3",
           "#636efa",
           "#ab63fa",
           "#EF553B",
           "#FF6692",
           "#FFA15A",
           "#EF553B",
           "#00cc96",
           "#ab63fa",
           "#FFA15A",
           "#FFA15A",
           "#636efa",
           "#19d3f3",
           "#FFA15A",
           "#EF553B",
           "#00cc96",
           "#636efa",
           "#EF553B",
           "#ab63fa",
           "#FECB52",
           "#FF97FF",
           "#636efa",
           "#FF6692",
           "#19d3f3",
           "#ab63fa",
           "#00cc96",
           "#ab63fa",
           "#FFA15A",
           "#19d3f3",
           "#19d3f3",
           "#EF553B",
           "#ab63fa",
           "#B6E880",
           "#FF97FF",
           "#EF553B",
           "#00cc96",
           "#636efa",
           "#EF553B",
           "#ab63fa",
           "#FECB52",
           "#00cc96",
           "#19d3f3",
           "#FF6692",
           "#636efa",
           "#EF553B",
           "#636efa",
           "#00cc96",
           "#636efa",
           "#FECB52",
           "#ab63fa",
           "#FF6692",
           "#636efa",
           "#B6E880",
           "#ab63fa",
           "#FECB52",
           "#FECB52",
           "#ab63fa",
           "#FECB52",
           "#636efa",
           "#FF6692",
           "#19d3f3",
           "#00cc96",
           "#00cc96",
           "#B6E880",
           "#FF6692",
           "#EF553B",
           "#ab63fa",
           "#19d3f3",
           "#FFA15A",
           "#EF553B",
           "#00cc96",
           "#FFA15A",
           "#19d3f3",
           "#FF6692",
           "#636efa",
           "#B6E880",
           "#FF97FF",
           "#FECB52",
           "#636efa",
           "#636efa",
           "#EF553B",
           "#ab63fa",
           "#FECB52",
           "#EF553B",
           "#ab63fa",
           "#FECB52",
           "#FF97FF",
           "#B6E880",
           "#636efa",
           "#FF6692",
           "#19d3f3",
           "#FFA15A",
           "#636efa",
           "#ab63fa",
           "#EF553B",
           "#FFA15A",
           "#19d3f3",
           "#636efa",
           "#EF553B",
           "#ab63fa",
           "#FECB52",
           "#636efa",
           "#FF6692",
           "#00cc96",
           "#00cc96",
           "#19d3f3",
           "#FF6692",
           "#FF97FF",
           "#B6E880",
           "#636efa",
           "#FF6692",
           "#19d3f3",
           "#FFA15A",
           "#00cc96",
           "#EF553B",
           "#19d3f3",
           "#636efa",
           "#EF553B",
           "#ab63fa",
           "#FECB52",
           "#FF97FF",
           "#00cc96",
           "#FFA15A",
           "#19d3f3",
           "#636efa",
           "#EF553B",
           "#ab63fa",
           "#636efa",
           "#ab63fa",
           "#FFA15A",
           "#636efa",
           "#FFA15A",
           "#19d3f3",
           "#FFA15A",
           "#EF553B"
          ]
         },
         "name": "",
         "parents": [
          "NBIot",
          "Ingenu-RPMA",
          "LTE-4G",
          "LoRa (Rural)",
          "LoRa (Urban)",
          "MBWA",
          "MicroWave",
          "NBIot",
          "SigFox (Rural)",
          "SigFox (Urban)",
          "WIFI",
          "LTE-4G",
          "5G Mid",
          "5G Low",
          "ZigBee",
          "WiMax",
          "DSRC/Wave",
          "WIFI",
          "CALM",
          "5G Low",
          "NBIot",
          "MicroWave",
          "MBWA",
          "LTE-4G",
          "5G Mid",
          "5G Low",
          "WiMax",
          "NBIot",
          "MicroWave",
          "MBWA",
          "LTE-4G",
          "5G Mid",
          "5G Low",
          "WiMax",
          "NBIot",
          "5G Mid",
          "UWB",
          "WiMax",
          "LTE-4G",
          "Ingenu-RPMA",
          "DSRC/Wave",
          "CALM",
          "5G Mid",
          "5G Low",
          "WiMax",
          "WIFI",
          "SigFox (Urban)",
          "SigFox (Rural)",
          "NBIot",
          "MicroWave",
          "MBWA",
          "LoRa (Urban)",
          "LoRa (Rural)",
          "LTE-4G",
          "LTE-4G",
          "LoRa (Rural)",
          "LoRa (Urban)",
          "MBWA",
          "5G mmWavve",
          "5G Mid",
          "5G Low",
          "WiMax",
          "NBIot",
          "MicroWave",
          "MBWA",
          "WIFI",
          "LTE-4G",
          "5G Low",
          "WiMax",
          "WIFI",
          "SigFox (Urban)",
          "SigFox (Rural)",
          "NBIot",
          "MicroWave",
          "5G Mid",
          "NBIot",
          "5G Low",
          "LTE-4G",
          "UWB",
          "WiMax",
          "ZigBee",
          "5G Low",
          "LTE-4G",
          "LoRa (Rural)",
          "LTE-4G",
          "Ingenu-RPMA",
          "DSRC/Wave",
          "CALM",
          "5G Mid",
          "5G Mid",
          "5G mmWavve",
          "5G Low",
          "LoRa (Urban)",
          "WIFI",
          "NBIot",
          "WiMax",
          "5G Low",
          "5G Mid",
          "CALM",
          "DSRC/Wave",
          "WiMax",
          "Ingenu-RPMA",
          "LoRa (Rural)",
          "WiMax",
          "MBWA",
          "MicroWave",
          "SigFox (Rural)",
          "SigFox (Urban)",
          "LTE-4G",
          "SigFox (Urban)",
          "MicroWave",
          "NBIot",
          "WiMax",
          "SigFox (Urban)",
          "SigFox (Rural)",
          "Ingenu-RPMA",
          "NBIot",
          "MicroWave",
          "MBWA",
          "LoRa (Urban)",
          "5G Low",
          "LoRa (Rural)",
          "MBWA",
          "MicroWave",
          "NBIot",
          "WiMax",
          "5G Low",
          "5G Mid",
          "CALM",
          "DSRC/Wave",
          "SigFox (Rural)",
          "5G Mid",
          "LTE-4G",
          "MBWA",
          "LTE-4G",
          "CALM",
          "WiMax",
          "DSRC/Wave",
          "5G Mid",
          "NBIot",
          "WIFI",
          "LTE-4G",
          "LoRa (Rural)",
          "LoRa (Urban)",
          "MBWA",
          "MicroWave",
          "Ingenu-RPMA",
          "5G Low",
          "LoRa (Urban)",
          "MBWA",
          "NBIot",
          "MicroWave",
          "WIFI",
          "SigFox (Rural)",
          "5G Low",
          "5G Mid",
          "LTE-4G",
          "MBWA",
          "MicroWave",
          "NBIot",
          "WiMax",
          "5G Mid",
          "CALM",
          "MBWA",
          "MicroWave",
          "NBIot",
          "SigFox (Rural)",
          "SigFox (Urban)",
          "SigFox (Rural)",
          "LoRa (Rural)",
          "SigFox (Urban)",
          "LoRa (Urban)",
          "MBWA",
          "MicroWave",
          "NBIot",
          "Ingenu-RPMA",
          "LTE-4G",
          "Ingenu-RPMA",
          "CALM",
          "WiMax",
          "5G Low",
          "WIFI",
          "5G Mid",
          "CALM",
          "DSRC/Wave",
          "Ingenu-RPMA",
          "LTE-4G",
          "DSRC/Wave",
          "LoRa (Rural)",
          "MBWA",
          "MicroWave",
          "NBIot",
          "SigFox (Rural)",
          "SigFox (Urban)",
          "WIFI",
          "WiMax",
          "5G Low",
          "5G Mid",
          "LoRa (Urban)",
          "MBWA",
          "LoRa (Urban)",
          "LoRa (Rural)",
          "SigFox (Rural)",
          "Ingenu-RPMA",
          "DSRC/Wave",
          "MBWA",
          "MicroWave",
          "NBIot",
          "SigFox (Urban)",
          "WIFI",
          "WiMax",
          "5G Low",
          "5G Mid",
          "CALM",
          "MicroWave",
          "LTE-4G",
          "NBIot",
          "SigFox (Rural)",
          "5G Low",
          "NBIot",
          "LTE-4G",
          "5G Mid",
          "5G Low",
          "WiMax",
          "NBIot",
          "LTE-4G",
          "5G Mid",
          "5G Low",
          "ZigBee",
          "WiMax",
          "WIFI",
          "UWB",
          "NBIot",
          "LTE-4G",
          "BLE",
          "5G mmWavve",
          "5G Mid",
          "5G Low",
          "WiMax",
          "WIFI",
          "NBIot",
          "LTE-4G",
          "5G Mid",
          "5G Low",
          "WiMax",
          "SigFox (Urban)",
          "LoRa (Rural)",
          "LTE-4G",
          "WIFI",
          "WiMax",
          "5G Low",
          "5G Mid",
          "CALM",
          "DSRC/Wave",
          "Ingenu-RPMA",
          "LTE-4G",
          "LoRa (Rural)",
          "LoRa (Urban)",
          "MBWA",
          "MicroWave",
          "NBIot",
          "SigFox (Rural)",
          "SigFox (Urban)",
          "WIFI",
          "WiMax",
          "5G Low",
          "5G Mid",
          "CALM",
          "DSRC/Wave",
          "Ingenu-RPMA",
          "LoRa (Urban)",
          "MicroWave",
          "MBWA",
          "5G Mid",
          "",
          "",
          "CALM",
          "Ingenu-RPMA",
          "LTE-4G",
          "LoRa (Rural)",
          "DSRC/Wave",
          "LoRa (Urban)",
          "MicroWave",
          "NBIot",
          "MBWA",
          "5G Low",
          "LTE-4G",
          "WiMax",
          "WIFI",
          "SigFox (Urban)",
          "SigFox (Rural)",
          "NBIot",
          "WiMax",
          "5G Low",
          "5G Mid",
          "5G Mid",
          "MBWA",
          "MicroWave",
          "NBIot",
          "",
          "",
          "",
          "",
          "",
          "",
          "",
          "",
          "",
          "",
          "",
          "",
          "",
          "",
          "",
          "",
          "",
          "",
          "WiMax",
          "LoRa (Urban)",
          "LoRa (Rural)",
          "5G mmWavve",
          "5G Low",
          "5G Low",
          "WiMax",
          "WIFI",
          "SigFox (Rural)",
          "NBIot",
          "MicroWave",
          "ZigBee",
          "MBWA",
          "LoRa (Rural)",
          "5G Mid",
          "LTE-4G",
          "NBIot",
          "LTE-4G",
          "5G Mid",
          "LoRa (Urban)",
          "SigFox (Urban)",
          "Ingenu-RPMA",
          "CALM",
          "5G Low",
          "MBWA",
          "MicroWave",
          "NBIot",
          "WiMax",
          "5G Mid",
          "5G Low",
          "WiMax",
          "WIFI",
          "UWB",
          "5G Mid",
          "WiMax",
          "SigFox (Urban)",
          "SigFox (Rural)",
          "NBIot",
          "MicroWave",
          "MBWA",
          "LoRa (Urban)",
          "LoRa (Rural)",
          "LTE-4G",
          "NBIot",
          "DSRC/Wave",
          "WIFI",
          "LTE-4G",
          "DSRC/Wave",
          "LoRa (Rural)",
          "LTE-4G",
          "Ingenu-RPMA",
          "CALM",
          "5G Mid",
          "5G Low",
          "WiMax",
          "MBWA",
          "LoRa (Urban)",
          "MicroWave",
          "WIFI",
          "SigFox (Rural)",
          "MBWA",
          "MicroWave",
          "NBIot",
          "WiMax",
          "5G Low",
          "5G Mid",
          "CALM",
          "LTE-4G",
          "DSRC/Wave",
          "LTE-4G",
          "LoRa (Rural)",
          "LoRa (Urban)",
          "MBWA",
          "MicroWave",
          "NBIot",
          "SigFox (Rural)",
          "Ingenu-RPMA",
          "NBIot",
          "5G Mid",
          "WIFI",
          "WiMax",
          "MBWA",
          "5G Low",
          "LTE-4G",
          "5G Mid",
          "5G Low",
          "WiMax",
          "WIFI",
          "SigFox (Urban)",
          "NBIot",
          "MicroWave",
          "5G Low",
          "WiMax",
          "NBIot",
          "MicroWave",
          "MBWA",
          "LTE-4G",
          "5G Mid",
          "5G Low",
          "WiMax",
          "5G Mid",
          "WIFI",
          "LTE-4G",
          "SigFox (Urban)",
          "SigFox (Rural)",
          "NBIot",
          "MicroWave",
          "MBWA",
          "LoRa (Urban)",
          "LoRa (Rural)",
          "WiMax",
          "LTE-4G",
          "5G Low",
          "CALM",
          "5G Mid",
          "CALM",
          "DSRC/Wave",
          "Ingenu-RPMA",
          "WIFI",
          "Ingenu-RPMA",
          "SigFox (Urban)",
          "DSRC/Wave",
          "NBIot",
          "CALM",
          "DSRC/Wave",
          "Ingenu-RPMA",
          "LTE-4G",
          "LoRa (Rural)",
          "LoRa (Urban)",
          "MBWA",
          "NBIot",
          "5G Mid",
          "SigFox (Rural)",
          "WIFI",
          "WiMax",
          "5G Low",
          "5G Mid",
          "CALM",
          "DSRC/Wave",
          "LTE-4G",
          "MBWA",
          "SigFox (Rural)",
          "5G Low",
          "SigFox (Urban)",
          "NBIot",
          "WiMax",
          "MicroWave",
          "MBWA",
          "LoRa (Urban)",
          "LoRa (Rural)",
          "LTE-4G",
          "Ingenu-RPMA",
          "DSRC/Wave",
          "CALM",
          "MicroWave",
          "5G Low",
          "WiMax",
          "SigFox (Rural)",
          "SigFox (Urban)",
          "WIFI",
          "WiMax",
          "5G Low",
          "5G Mid",
          "5G Mid",
          "LTE-4G",
          "NBIot",
          "MBWA",
          "LTE-4G",
          "MicroWave",
          "5G Low",
          "5G Mid",
          "WiMax",
          "WIFI",
          "SigFox (Urban)",
          "WiMax",
          "5G Low",
          "5G Mid",
          "LTE-4G",
          "MBWA",
          "NBIot",
          "WiMax",
          "5G Low",
          "MicroWave",
          "DSRC/Wave",
          "Ingenu-RPMA",
          "LTE-4G",
          "LoRa (Rural)",
          "DSRC/Wave",
          "LoRa (Urban)",
          "5G Mid",
          "CALM",
          "DSRC/Wave",
          "Ingenu-RPMA",
          "LTE-4G",
          "5G Mid",
          "5G Low",
          "WiMax",
          "WIFI",
          "SigFox (Urban)",
          "NBIot",
          "MicroWave",
          "MBWA",
          "LoRa (Rural)",
          "LTE-4G",
          "LoRa (Rural)",
          "LoRa (Urban)",
          "MBWA",
          "CALM",
          "5G Low",
          "WiMax",
          "SigFox (Rural)",
          "SigFox (Urban)",
          "Ingenu-RPMA",
          "LTE-4G",
          "5G Mid",
          "5G Low",
          "WiMax",
          "WIFI",
          "LTE-4G",
          "MBWA",
          "MicroWave",
          "NBIot",
          "5G Low",
          "5G Mid",
          "LTE-4G",
          "NBIot",
          "WIFI",
          "WiMax",
          "MicroWave",
          "NBIot",
          "SigFox (Rural)",
          "WiMax",
          "WIFI",
          "WIFI",
          "WiMax",
          "IR",
          "NBIot",
          "MicroWave",
          "MBWA",
          "LTE-4G",
          "ZigBee",
          "5G mmWavve",
          "UWB",
          "5G Low",
          "LoRa (Rural)",
          "CALM",
          "DSRC/Wave",
          "Ingenu-RPMA",
          "LTE-4G",
          "LoRa (Urban)",
          "MBWA",
          "MicroWave",
          "NBIot",
          "SigFox (Rural)",
          "SigFox (Urban)",
          "WIFI",
          "5G Mid",
          "5G Mid",
          "5G Low",
          "LoRa (Rural)",
          "WIFI",
          "5G Low",
          "WiMax",
          "WIFI",
          "SigFox (Urban)",
          "SigFox (Rural)",
          "NBIot",
          "MicroWave",
          "MBWA",
          "LoRa (Urban)",
          "5G Mid",
          "LoRa (Rural)",
          "Ingenu-RPMA",
          "DSRC/Wave",
          "CALM",
          "5G Mid",
          "5G Low",
          "WiMax",
          "WIFI",
          "NBIot",
          "MicroWave",
          "LTE-4G",
          "LTE-4G",
          "MBWA",
          "MicroWave",
          "SigFox (Urban)",
          "SigFox (Rural)",
          "NBIot",
          "MicroWave",
          "MBWA",
          "LoRa (Urban)",
          "LTE-4G",
          "Ingenu-RPMA",
          "CALM",
          "5G Mid",
          "5G Low",
          "WiMax",
          "WIFI",
          "SigFox (Urban)",
          "LTE-4G",
          "DSRC/Wave",
          "CALM",
          "5G Mid",
          "5G Low",
          "WiMax",
          "NBIot",
          "WiMax",
          "DSRC/Wave",
          "5G Mid",
          "DSRC/Wave",
          "CALM",
          "LoRa (Urban)",
          "5G Low"
         ],
         "type": "treemap",
         "values": [
          1,
          1,
          1,
          1,
          1,
          1,
          1,
          1,
          1,
          1,
          1,
          1,
          1,
          1,
          1,
          1,
          1,
          1,
          1,
          1,
          1,
          1,
          1,
          1,
          1,
          1,
          2,
          2,
          1,
          1,
          2,
          2,
          2,
          2,
          2,
          1,
          1,
          1,
          1,
          1,
          2,
          2,
          2,
          2,
          1,
          1,
          1,
          1,
          1,
          1,
          1,
          1,
          1,
          1,
          2,
          2,
          2,
          1,
          1,
          1,
          1,
          2,
          2,
          1,
          1,
          1,
          2,
          2,
          2,
          2,
          2,
          2,
          2,
          1,
          2,
          1,
          2,
          2,
          1,
          1,
          2,
          2,
          2,
          2,
          2,
          1,
          2,
          2,
          2,
          2,
          2,
          2,
          1,
          1,
          1,
          1,
          1,
          1,
          1,
          1,
          1,
          1,
          1,
          2,
          1,
          1,
          1,
          1,
          1,
          2,
          1,
          2,
          1,
          1,
          1,
          1,
          1,
          1,
          1,
          1,
          2,
          1,
          1,
          1,
          2,
          2,
          1,
          1,
          1,
          1,
          2,
          2,
          1,
          1,
          2,
          2,
          2,
          2,
          2,
          2,
          2,
          2,
          2,
          2,
          1,
          1,
          1,
          2,
          2,
          1,
          2,
          1,
          1,
          1,
          1,
          3,
          3,
          1,
          1,
          3,
          2,
          1,
          1,
          1,
          1,
          1,
          1,
          1,
          1,
          1,
          1,
          1,
          1,
          1,
          1,
          1,
          1,
          1,
          1,
          1,
          2,
          1,
          2,
          2,
          2,
          1,
          2,
          1,
          2,
          1,
          1,
          2,
          2,
          2,
          2,
          2,
          1,
          1,
          2,
          1,
          1,
          1,
          1,
          1,
          1,
          1,
          1,
          1,
          1,
          1,
          1,
          1,
          1,
          1,
          1,
          1,
          1,
          1,
          2,
          1,
          1,
          1,
          1,
          1,
          1,
          1,
          1,
          1,
          1,
          1,
          1,
          1,
          1,
          1,
          1,
          1,
          1,
          1,
          1,
          1,
          1,
          1,
          1,
          1,
          1,
          1,
          1,
          2,
          1,
          1,
          1,
          1,
          1,
          1,
          1,
          1,
          1,
          1,
          1,
          1,
          1,
          1,
          1,
          1,
          1,
          1,
          1,
          1,
          1,
          1,
          1,
          1,
          1,
          2,
          75,
          7,
          1,
          1,
          1,
          1,
          1,
          1,
          1,
          1,
          1,
          1,
          1,
          1,
          1,
          1,
          1,
          1,
          1,
          1,
          1,
          1,
          1,
          1,
          1,
          47,
          5,
          35,
          35,
          76,
          44,
          44,
          35,
          35,
          78,
          26,
          1,
          36,
          36,
          1,
          7,
          76,
          78,
          1,
          1,
          1,
          1,
          1,
          2,
          2,
          2,
          2,
          2,
          1,
          1,
          1,
          2,
          1,
          1,
          1,
          1,
          1,
          2,
          2,
          1,
          2,
          1,
          1,
          1,
          1,
          1,
          2,
          1,
          1,
          1,
          1,
          1,
          2,
          2,
          2,
          2,
          1,
          1,
          2,
          2,
          2,
          1,
          2,
          2,
          1,
          1,
          1,
          1,
          1,
          1,
          1,
          1,
          1,
          1,
          1,
          1,
          1,
          1,
          1,
          1,
          1,
          1,
          1,
          1,
          1,
          1,
          1,
          1,
          1,
          1,
          1,
          1,
          1,
          1,
          1,
          1,
          1,
          2,
          2,
          1,
          1,
          2,
          2,
          2,
          1,
          1,
          1,
          2,
          1,
          1,
          1,
          1,
          1,
          1,
          1,
          1,
          1,
          2,
          1,
          1,
          2,
          1,
          1,
          1,
          1,
          1,
          1,
          1,
          1,
          1,
          2,
          1,
          2,
          2,
          2,
          1,
          2,
          1,
          2,
          1,
          2,
          1,
          1,
          1,
          1,
          1,
          1,
          1,
          1,
          1,
          1,
          1,
          1,
          1,
          1,
          1,
          1,
          1,
          1,
          2,
          1,
          1,
          1,
          1,
          1,
          1,
          2,
          2,
          2,
          1,
          2,
          2,
          1,
          2,
          1,
          2,
          2,
          2,
          2,
          1,
          1,
          2,
          1,
          2,
          1,
          2,
          1,
          2,
          2,
          1,
          1,
          1,
          2,
          2,
          2,
          2,
          1,
          2,
          2,
          3,
          1,
          1,
          1,
          1,
          1,
          2,
          2,
          1,
          1,
          1,
          1,
          1,
          2,
          2,
          1,
          1,
          1,
          1,
          1,
          1,
          2,
          1,
          1,
          1,
          1,
          2,
          1,
          2,
          1,
          2,
          1,
          2,
          2,
          2,
          1,
          1,
          2,
          1,
          1,
          2,
          1,
          1,
          1,
          1,
          1,
          1,
          1,
          2,
          2,
          2,
          2,
          2,
          1,
          1,
          2,
          1,
          1,
          2,
          2,
          2,
          1,
          1,
          1,
          1,
          1,
          1,
          1,
          1,
          1,
          1,
          1,
          1,
          1,
          1,
          2,
          1,
          2,
          1,
          1,
          2,
          1,
          1,
          1,
          1,
          1,
          1,
          1,
          1,
          2,
          1,
          1,
          1,
          1,
          1,
          1,
          1,
          1,
          1,
          1,
          1,
          2,
          1,
          1,
          1,
          1,
          1,
          1,
          1,
          1,
          1,
          1,
          1,
          1,
          1,
          1,
          1,
          1,
          1,
          1,
          1,
          1,
          1,
          2,
          2,
          1,
          1,
          1,
          1,
          1,
          1,
          1
         ]
        }
       ],
       "layout": {
        "legend": {
         "tracegroupgap": 0
        },
        "margin": {
         "t": 60
        },
        "template": {
         "data": {
          "bar": [
           {
            "error_x": {
             "color": "#2a3f5f"
            },
            "error_y": {
             "color": "#2a3f5f"
            },
            "marker": {
             "line": {
              "color": "#E5ECF6",
              "width": 0.5
             }
            },
            "type": "bar"
           }
          ],
          "barpolar": [
           {
            "marker": {
             "line": {
              "color": "#E5ECF6",
              "width": 0.5
             }
            },
            "type": "barpolar"
           }
          ],
          "carpet": [
           {
            "aaxis": {
             "endlinecolor": "#2a3f5f",
             "gridcolor": "white",
             "linecolor": "white",
             "minorgridcolor": "white",
             "startlinecolor": "#2a3f5f"
            },
            "baxis": {
             "endlinecolor": "#2a3f5f",
             "gridcolor": "white",
             "linecolor": "white",
             "minorgridcolor": "white",
             "startlinecolor": "#2a3f5f"
            },
            "type": "carpet"
           }
          ],
          "choropleth": [
           {
            "colorbar": {
             "outlinewidth": 0,
             "ticks": ""
            },
            "type": "choropleth"
           }
          ],
          "contour": [
           {
            "colorbar": {
             "outlinewidth": 0,
             "ticks": ""
            },
            "colorscale": [
             [
              0,
              "#0d0887"
             ],
             [
              0.1111111111111111,
              "#46039f"
             ],
             [
              0.2222222222222222,
              "#7201a8"
             ],
             [
              0.3333333333333333,
              "#9c179e"
             ],
             [
              0.4444444444444444,
              "#bd3786"
             ],
             [
              0.5555555555555556,
              "#d8576b"
             ],
             [
              0.6666666666666666,
              "#ed7953"
             ],
             [
              0.7777777777777778,
              "#fb9f3a"
             ],
             [
              0.8888888888888888,
              "#fdca26"
             ],
             [
              1,
              "#f0f921"
             ]
            ],
            "type": "contour"
           }
          ],
          "contourcarpet": [
           {
            "colorbar": {
             "outlinewidth": 0,
             "ticks": ""
            },
            "type": "contourcarpet"
           }
          ],
          "heatmap": [
           {
            "colorbar": {
             "outlinewidth": 0,
             "ticks": ""
            },
            "colorscale": [
             [
              0,
              "#0d0887"
             ],
             [
              0.1111111111111111,
              "#46039f"
             ],
             [
              0.2222222222222222,
              "#7201a8"
             ],
             [
              0.3333333333333333,
              "#9c179e"
             ],
             [
              0.4444444444444444,
              "#bd3786"
             ],
             [
              0.5555555555555556,
              "#d8576b"
             ],
             [
              0.6666666666666666,
              "#ed7953"
             ],
             [
              0.7777777777777778,
              "#fb9f3a"
             ],
             [
              0.8888888888888888,
              "#fdca26"
             ],
             [
              1,
              "#f0f921"
             ]
            ],
            "type": "heatmap"
           }
          ],
          "heatmapgl": [
           {
            "colorbar": {
             "outlinewidth": 0,
             "ticks": ""
            },
            "colorscale": [
             [
              0,
              "#0d0887"
             ],
             [
              0.1111111111111111,
              "#46039f"
             ],
             [
              0.2222222222222222,
              "#7201a8"
             ],
             [
              0.3333333333333333,
              "#9c179e"
             ],
             [
              0.4444444444444444,
              "#bd3786"
             ],
             [
              0.5555555555555556,
              "#d8576b"
             ],
             [
              0.6666666666666666,
              "#ed7953"
             ],
             [
              0.7777777777777778,
              "#fb9f3a"
             ],
             [
              0.8888888888888888,
              "#fdca26"
             ],
             [
              1,
              "#f0f921"
             ]
            ],
            "type": "heatmapgl"
           }
          ],
          "histogram": [
           {
            "marker": {
             "colorbar": {
              "outlinewidth": 0,
              "ticks": ""
             }
            },
            "type": "histogram"
           }
          ],
          "histogram2d": [
           {
            "colorbar": {
             "outlinewidth": 0,
             "ticks": ""
            },
            "colorscale": [
             [
              0,
              "#0d0887"
             ],
             [
              0.1111111111111111,
              "#46039f"
             ],
             [
              0.2222222222222222,
              "#7201a8"
             ],
             [
              0.3333333333333333,
              "#9c179e"
             ],
             [
              0.4444444444444444,
              "#bd3786"
             ],
             [
              0.5555555555555556,
              "#d8576b"
             ],
             [
              0.6666666666666666,
              "#ed7953"
             ],
             [
              0.7777777777777778,
              "#fb9f3a"
             ],
             [
              0.8888888888888888,
              "#fdca26"
             ],
             [
              1,
              "#f0f921"
             ]
            ],
            "type": "histogram2d"
           }
          ],
          "histogram2dcontour": [
           {
            "colorbar": {
             "outlinewidth": 0,
             "ticks": ""
            },
            "colorscale": [
             [
              0,
              "#0d0887"
             ],
             [
              0.1111111111111111,
              "#46039f"
             ],
             [
              0.2222222222222222,
              "#7201a8"
             ],
             [
              0.3333333333333333,
              "#9c179e"
             ],
             [
              0.4444444444444444,
              "#bd3786"
             ],
             [
              0.5555555555555556,
              "#d8576b"
             ],
             [
              0.6666666666666666,
              "#ed7953"
             ],
             [
              0.7777777777777778,
              "#fb9f3a"
             ],
             [
              0.8888888888888888,
              "#fdca26"
             ],
             [
              1,
              "#f0f921"
             ]
            ],
            "type": "histogram2dcontour"
           }
          ],
          "mesh3d": [
           {
            "colorbar": {
             "outlinewidth": 0,
             "ticks": ""
            },
            "type": "mesh3d"
           }
          ],
          "parcoords": [
           {
            "line": {
             "colorbar": {
              "outlinewidth": 0,
              "ticks": ""
             }
            },
            "type": "parcoords"
           }
          ],
          "pie": [
           {
            "automargin": true,
            "type": "pie"
           }
          ],
          "scatter": [
           {
            "marker": {
             "colorbar": {
              "outlinewidth": 0,
              "ticks": ""
             }
            },
            "type": "scatter"
           }
          ],
          "scatter3d": [
           {
            "line": {
             "colorbar": {
              "outlinewidth": 0,
              "ticks": ""
             }
            },
            "marker": {
             "colorbar": {
              "outlinewidth": 0,
              "ticks": ""
             }
            },
            "type": "scatter3d"
           }
          ],
          "scattercarpet": [
           {
            "marker": {
             "colorbar": {
              "outlinewidth": 0,
              "ticks": ""
             }
            },
            "type": "scattercarpet"
           }
          ],
          "scattergeo": [
           {
            "marker": {
             "colorbar": {
              "outlinewidth": 0,
              "ticks": ""
             }
            },
            "type": "scattergeo"
           }
          ],
          "scattergl": [
           {
            "marker": {
             "colorbar": {
              "outlinewidth": 0,
              "ticks": ""
             }
            },
            "type": "scattergl"
           }
          ],
          "scattermapbox": [
           {
            "marker": {
             "colorbar": {
              "outlinewidth": 0,
              "ticks": ""
             }
            },
            "type": "scattermapbox"
           }
          ],
          "scatterpolar": [
           {
            "marker": {
             "colorbar": {
              "outlinewidth": 0,
              "ticks": ""
             }
            },
            "type": "scatterpolar"
           }
          ],
          "scatterpolargl": [
           {
            "marker": {
             "colorbar": {
              "outlinewidth": 0,
              "ticks": ""
             }
            },
            "type": "scatterpolargl"
           }
          ],
          "scatterternary": [
           {
            "marker": {
             "colorbar": {
              "outlinewidth": 0,
              "ticks": ""
             }
            },
            "type": "scatterternary"
           }
          ],
          "surface": [
           {
            "colorbar": {
             "outlinewidth": 0,
             "ticks": ""
            },
            "colorscale": [
             [
              0,
              "#0d0887"
             ],
             [
              0.1111111111111111,
              "#46039f"
             ],
             [
              0.2222222222222222,
              "#7201a8"
             ],
             [
              0.3333333333333333,
              "#9c179e"
             ],
             [
              0.4444444444444444,
              "#bd3786"
             ],
             [
              0.5555555555555556,
              "#d8576b"
             ],
             [
              0.6666666666666666,
              "#ed7953"
             ],
             [
              0.7777777777777778,
              "#fb9f3a"
             ],
             [
              0.8888888888888888,
              "#fdca26"
             ],
             [
              1,
              "#f0f921"
             ]
            ],
            "type": "surface"
           }
          ],
          "table": [
           {
            "cells": {
             "fill": {
              "color": "#EBF0F8"
             },
             "line": {
              "color": "white"
             }
            },
            "header": {
             "fill": {
              "color": "#C8D4E3"
             },
             "line": {
              "color": "white"
             }
            },
            "type": "table"
           }
          ]
         },
         "layout": {
          "annotationdefaults": {
           "arrowcolor": "#2a3f5f",
           "arrowhead": 0,
           "arrowwidth": 1
          },
          "autotypenumbers": "strict",
          "coloraxis": {
           "colorbar": {
            "outlinewidth": 0,
            "ticks": ""
           }
          },
          "colorscale": {
           "diverging": [
            [
             0,
             "#8e0152"
            ],
            [
             0.1,
             "#c51b7d"
            ],
            [
             0.2,
             "#de77ae"
            ],
            [
             0.3,
             "#f1b6da"
            ],
            [
             0.4,
             "#fde0ef"
            ],
            [
             0.5,
             "#f7f7f7"
            ],
            [
             0.6,
             "#e6f5d0"
            ],
            [
             0.7,
             "#b8e186"
            ],
            [
             0.8,
             "#7fbc41"
            ],
            [
             0.9,
             "#4d9221"
            ],
            [
             1,
             "#276419"
            ]
           ],
           "sequential": [
            [
             0,
             "#0d0887"
            ],
            [
             0.1111111111111111,
             "#46039f"
            ],
            [
             0.2222222222222222,
             "#7201a8"
            ],
            [
             0.3333333333333333,
             "#9c179e"
            ],
            [
             0.4444444444444444,
             "#bd3786"
            ],
            [
             0.5555555555555556,
             "#d8576b"
            ],
            [
             0.6666666666666666,
             "#ed7953"
            ],
            [
             0.7777777777777778,
             "#fb9f3a"
            ],
            [
             0.8888888888888888,
             "#fdca26"
            ],
            [
             1,
             "#f0f921"
            ]
           ],
           "sequentialminus": [
            [
             0,
             "#0d0887"
            ],
            [
             0.1111111111111111,
             "#46039f"
            ],
            [
             0.2222222222222222,
             "#7201a8"
            ],
            [
             0.3333333333333333,
             "#9c179e"
            ],
            [
             0.4444444444444444,
             "#bd3786"
            ],
            [
             0.5555555555555556,
             "#d8576b"
            ],
            [
             0.6666666666666666,
             "#ed7953"
            ],
            [
             0.7777777777777778,
             "#fb9f3a"
            ],
            [
             0.8888888888888888,
             "#fdca26"
            ],
            [
             1,
             "#f0f921"
            ]
           ]
          },
          "colorway": [
           "#636efa",
           "#EF553B",
           "#00cc96",
           "#ab63fa",
           "#FFA15A",
           "#19d3f3",
           "#FF6692",
           "#B6E880",
           "#FF97FF",
           "#FECB52"
          ],
          "font": {
           "color": "#2a3f5f"
          },
          "geo": {
           "bgcolor": "white",
           "lakecolor": "white",
           "landcolor": "#E5ECF6",
           "showlakes": true,
           "showland": true,
           "subunitcolor": "white"
          },
          "hoverlabel": {
           "align": "left"
          },
          "hovermode": "closest",
          "mapbox": {
           "style": "light"
          },
          "paper_bgcolor": "white",
          "plot_bgcolor": "#E5ECF6",
          "polar": {
           "angularaxis": {
            "gridcolor": "white",
            "linecolor": "white",
            "ticks": ""
           },
           "bgcolor": "#E5ECF6",
           "radialaxis": {
            "gridcolor": "white",
            "linecolor": "white",
            "ticks": ""
           }
          },
          "scene": {
           "xaxis": {
            "backgroundcolor": "#E5ECF6",
            "gridcolor": "white",
            "gridwidth": 2,
            "linecolor": "white",
            "showbackground": true,
            "ticks": "",
            "zerolinecolor": "white"
           },
           "yaxis": {
            "backgroundcolor": "#E5ECF6",
            "gridcolor": "white",
            "gridwidth": 2,
            "linecolor": "white",
            "showbackground": true,
            "ticks": "",
            "zerolinecolor": "white"
           },
           "zaxis": {
            "backgroundcolor": "#E5ECF6",
            "gridcolor": "white",
            "gridwidth": 2,
            "linecolor": "white",
            "showbackground": true,
            "ticks": "",
            "zerolinecolor": "white"
           }
          },
          "shapedefaults": {
           "line": {
            "color": "#2a3f5f"
           }
          },
          "ternary": {
           "aaxis": {
            "gridcolor": "white",
            "linecolor": "white",
            "ticks": ""
           },
           "baxis": {
            "gridcolor": "white",
            "linecolor": "white",
            "ticks": ""
           },
           "bgcolor": "#E5ECF6",
           "caxis": {
            "gridcolor": "white",
            "linecolor": "white",
            "ticks": ""
           }
          },
          "title": {
           "x": 0.05
          },
          "xaxis": {
           "automargin": true,
           "gridcolor": "white",
           "linecolor": "white",
           "ticks": "",
           "title": {
            "standoff": 15
           },
           "zerolinecolor": "white",
           "zerolinewidth": 2
          },
          "yaxis": {
           "automargin": true,
           "gridcolor": "white",
           "linecolor": "white",
           "ticks": "",
           "title": {
            "standoff": 15
           },
           "zerolinecolor": "white",
           "zerolinewidth": 2
          }
         }
        }
       }
      },
      "text/html": [
       "<div>                            <div id=\"7d2be2b7-5149-409d-a14b-eabfe68ac8b4\" class=\"plotly-graph-div\" style=\"height:525px; width:100%;\"></div>            <script type=\"text/javascript\">                require([\"plotly\"], function(Plotly) {                    window.PLOTLYENV=window.PLOTLYENV || {};                                    if (document.getElementById(\"7d2be2b7-5149-409d-a14b-eabfe68ac8b4\")) {                    Plotly.newPlot(                        \"7d2be2b7-5149-409d-a14b-eabfe68ac8b4\",                        [{\"branchvalues\": \"total\", \"customdata\": [[\"NBIot\"], [\"Ingenu-RPMA\"], [\"LTE-4G\"], [\"LoRa (Rural)\"], [\"LoRa (Urban)\"], [\"MBWA\"], [\"MicroWave\"], [\"NBIot\"], [\"SigFox (Rural)\"], [\"SigFox (Urban)\"], [\"WIFI\"], [\"LTE-4G\"], [\"5G Mid\"], [\"5G Low\"], [\"ZigBee\"], [\"WiMax\"], [\"DSRC/Wave\"], [\"WIFI\"], [\"CALM\"], [\"5G Low\"], [\"NBIot\"], [\"MicroWave\"], [\"MBWA\"], [\"LTE-4G\"], [\"5G Mid\"], [\"5G Low\"], [\"WiMax\"], [\"NBIot\"], [\"MicroWave\"], [\"MBWA\"], [\"LTE-4G\"], [\"5G Mid\"], [\"5G Low\"], [\"WiMax\"], [\"NBIot\"], [\"5G Mid\"], [\"UWB\"], [\"WiMax\"], [\"LTE-4G\"], [\"Ingenu-RPMA\"], [\"DSRC/Wave\"], [\"CALM\"], [\"5G Mid\"], [\"5G Low\"], [\"WiMax\"], [\"WIFI\"], [\"SigFox (Urban)\"], [\"SigFox (Rural)\"], [\"NBIot\"], [\"MicroWave\"], [\"MBWA\"], [\"LoRa (Urban)\"], [\"LoRa (Rural)\"], [\"LTE-4G\"], [\"LTE-4G\"], [\"LoRa (Rural)\"], [\"LoRa (Urban)\"], [\"MBWA\"], [\"5G mmWavve\"], [\"5G Mid\"], [\"5G Low\"], [\"WiMax\"], [\"NBIot\"], [\"MicroWave\"], [\"MBWA\"], [\"WIFI\"], [\"LTE-4G\"], [\"5G Low\"], [\"WiMax\"], [\"WIFI\"], [\"SigFox (Urban)\"], [\"SigFox (Rural)\"], [\"NBIot\"], [\"MicroWave\"], [\"5G Mid\"], [\"NBIot\"], [\"5G Low\"], [\"LTE-4G\"], [\"UWB\"], [\"WiMax\"], [\"ZigBee\"], [\"5G Low\"], [\"LTE-4G\"], [\"LoRa (Rural)\"], [\"LTE-4G\"], [\"Ingenu-RPMA\"], [\"DSRC/Wave\"], [\"CALM\"], [\"5G Mid\"], [\"5G Mid\"], [\"5G mmWavve\"], [\"5G Low\"], [\"LoRa (Urban)\"], [\"WIFI\"], [\"NBIot\"], [\"WiMax\"], [\"5G Low\"], [\"5G Mid\"], [\"CALM\"], [\"DSRC/Wave\"], [\"WiMax\"], [\"Ingenu-RPMA\"], [\"LoRa (Rural)\"], [\"WiMax\"], [\"MBWA\"], [\"MicroWave\"], [\"SigFox (Rural)\"], [\"SigFox (Urban)\"], [\"LTE-4G\"], [\"SigFox (Urban)\"], [\"MicroWave\"], [\"NBIot\"], [\"WiMax\"], [\"SigFox (Urban)\"], [\"SigFox (Rural)\"], [\"Ingenu-RPMA\"], [\"NBIot\"], [\"MicroWave\"], [\"MBWA\"], [\"LoRa (Urban)\"], [\"5G Low\"], [\"LoRa (Rural)\"], [\"MBWA\"], [\"MicroWave\"], [\"NBIot\"], [\"WiMax\"], [\"5G Low\"], [\"5G Mid\"], [\"CALM\"], [\"DSRC/Wave\"], [\"SigFox (Rural)\"], [\"5G Mid\"], [\"LTE-4G\"], [\"MBWA\"], [\"LTE-4G\"], [\"CALM\"], [\"WiMax\"], [\"DSRC/Wave\"], [\"5G Mid\"], [\"NBIot\"], [\"WIFI\"], [\"LTE-4G\"], [\"LoRa (Rural)\"], [\"LoRa (Urban)\"], [\"MBWA\"], [\"MicroWave\"], [\"Ingenu-RPMA\"], [\"5G Low\"], [\"LoRa (Urban)\"], [\"MBWA\"], [\"NBIot\"], [\"MicroWave\"], [\"WIFI\"], [\"SigFox (Rural)\"], [\"5G Low\"], [\"5G Mid\"], [\"LTE-4G\"], [\"MBWA\"], [\"MicroWave\"], [\"NBIot\"], [\"WiMax\"], [\"5G Mid\"], [\"CALM\"], [\"MBWA\"], [\"MicroWave\"], [\"NBIot\"], [\"SigFox (Rural)\"], [\"SigFox (Urban)\"], [\"SigFox (Rural)\"], [\"LoRa (Rural)\"], [\"SigFox (Urban)\"], [\"LoRa (Urban)\"], [\"MBWA\"], [\"MicroWave\"], [\"NBIot\"], [\"Ingenu-RPMA\"], [\"LTE-4G\"], [\"Ingenu-RPMA\"], [\"CALM\"], [\"WiMax\"], [\"5G Low\"], [\"WIFI\"], [\"5G Mid\"], [\"CALM\"], [\"DSRC/Wave\"], [\"Ingenu-RPMA\"], [\"LTE-4G\"], [\"DSRC/Wave\"], [\"LoRa (Rural)\"], [\"MBWA\"], [\"MicroWave\"], [\"NBIot\"], [\"SigFox (Rural)\"], [\"SigFox (Urban)\"], [\"WIFI\"], [\"WiMax\"], [\"5G Low\"], [\"5G Mid\"], [\"LoRa (Urban)\"], [\"MBWA\"], [\"LoRa (Urban)\"], [\"LoRa (Rural)\"], [\"SigFox (Rural)\"], [\"Ingenu-RPMA\"], [\"DSRC/Wave\"], [\"MBWA\"], [\"MicroWave\"], [\"NBIot\"], [\"SigFox (Urban)\"], [\"WIFI\"], [\"WiMax\"], [\"5G Low\"], [\"5G Mid\"], [\"CALM\"], [\"MicroWave\"], [\"LTE-4G\"], [\"NBIot\"], [\"SigFox (Rural)\"], [\"5G Low\"], [\"NBIot\"], [\"LTE-4G\"], [\"5G Mid\"], [\"5G Low\"], [\"WiMax\"], [\"NBIot\"], [\"LTE-4G\"], [\"5G Mid\"], [\"5G Low\"], [\"ZigBee\"], [\"WiMax\"], [\"WIFI\"], [\"UWB\"], [\"NBIot\"], [\"LTE-4G\"], [\"BLE\"], [\"5G mmWavve\"], [\"5G Mid\"], [\"5G Low\"], [\"WiMax\"], [\"WIFI\"], [\"NBIot\"], [\"LTE-4G\"], [\"5G Mid\"], [\"5G Low\"], [\"WiMax\"], [\"SigFox (Urban)\"], [\"LoRa (Rural)\"], [\"LTE-4G\"], [\"WIFI\"], [\"WiMax\"], [\"5G Low\"], [\"5G Mid\"], [\"CALM\"], [\"DSRC/Wave\"], [\"Ingenu-RPMA\"], [\"LTE-4G\"], [\"LoRa (Rural)\"], [\"LoRa (Urban)\"], [\"MBWA\"], [\"MicroWave\"], [\"NBIot\"], [\"SigFox (Rural)\"], [\"SigFox (Urban)\"], [\"WIFI\"], [\"WiMax\"], [\"5G Low\"], [\"5G Mid\"], [\"CALM\"], [\"DSRC/Wave\"], [\"Ingenu-RPMA\"], [\"LoRa (Urban)\"], [\"MicroWave\"], [\"MBWA\"], [\"5G Mid\"], [\"WiMax\"], [\"ZigBee\"], [\"CALM\"], [\"Ingenu-RPMA\"], [\"LTE-4G\"], [\"LoRa (Rural)\"], [\"DSRC/Wave\"], [\"LoRa (Urban)\"], [\"MicroWave\"], [\"NBIot\"], [\"MBWA\"], [\"5G Low\"], [\"LTE-4G\"], [\"WiMax\"], [\"WIFI\"], [\"SigFox (Urban)\"], [\"SigFox (Rural)\"], [\"NBIot\"], [\"WiMax\"], [\"5G Low\"], [\"5G Mid\"], [\"5G Mid\"], [\"MBWA\"], [\"MicroWave\"], [\"NBIot\"], [\"WIFI\"], [\"UWB\"], [\"SigFox (Urban)\"], [\"SigFox (Rural)\"], [\"NBIot\"], [\"MicroWave\"], [\"MBWA\"], [\"LoRa (Urban)\"], [\"LoRa (Rural)\"], [\"LTE-4G\"], [\"Ingenu-RPMA\"], [\"IR\"], [\"DSRC/Wave\"], [\"CALM\"], [\"BLE\"], [\"5G mmWavve\"], [\"5G Mid\"], [\"5G Low\"], [\"WiMax\"], [\"LoRa (Urban)\"], [\"LoRa (Rural)\"], [\"5G mmWavve\"], [\"5G Low\"], [\"5G Low\"], [\"WiMax\"], [\"WIFI\"], [\"SigFox (Rural)\"], [\"NBIot\"], [\"MicroWave\"], [\"ZigBee\"], [\"MBWA\"], [\"LoRa (Rural)\"], [\"5G Mid\"], [\"LTE-4G\"], [\"NBIot\"], [\"LTE-4G\"], [\"5G Mid\"], [\"LoRa (Urban)\"], [\"SigFox (Urban)\"], [\"Ingenu-RPMA\"], [\"CALM\"], [\"5G Low\"], [\"MBWA\"], [\"MicroWave\"], [\"NBIot\"], [\"WiMax\"], [\"5G Mid\"], [\"5G Low\"], [\"WiMax\"], [\"WIFI\"], [\"UWB\"], [\"5G Mid\"], [\"WiMax\"], [\"SigFox (Urban)\"], [\"SigFox (Rural)\"], [\"NBIot\"], [\"MicroWave\"], [\"MBWA\"], [\"LoRa (Urban)\"], [\"LoRa (Rural)\"], [\"LTE-4G\"], [\"NBIot\"], [\"DSRC/Wave\"], [\"WIFI\"], [\"LTE-4G\"], [\"DSRC/Wave\"], [\"LoRa (Rural)\"], [\"LTE-4G\"], [\"Ingenu-RPMA\"], [\"CALM\"], [\"5G Mid\"], [\"5G Low\"], [\"WiMax\"], [\"MBWA\"], [\"LoRa (Urban)\"], [\"MicroWave\"], [\"WIFI\"], [\"SigFox (Rural)\"], [\"MBWA\"], [\"MicroWave\"], [\"NBIot\"], [\"WiMax\"], [\"5G Low\"], [\"5G Mid\"], [\"CALM\"], [\"LTE-4G\"], [\"DSRC/Wave\"], [\"LTE-4G\"], [\"LoRa (Rural)\"], [\"LoRa (Urban)\"], [\"MBWA\"], [\"MicroWave\"], [\"NBIot\"], [\"SigFox (Rural)\"], [\"Ingenu-RPMA\"], [\"NBIot\"], [\"5G Mid\"], [\"WIFI\"], [\"WiMax\"], [\"MBWA\"], [\"5G Low\"], [\"LTE-4G\"], [\"5G Mid\"], [\"5G Low\"], [\"WiMax\"], [\"WIFI\"], [\"SigFox (Urban)\"], [\"NBIot\"], [\"MicroWave\"], [\"5G Low\"], [\"WiMax\"], [\"NBIot\"], [\"MicroWave\"], [\"MBWA\"], [\"LTE-4G\"], [\"5G Mid\"], [\"5G Low\"], [\"WiMax\"], [\"5G Mid\"], [\"WIFI\"], [\"LTE-4G\"], [\"SigFox (Urban)\"], [\"SigFox (Rural)\"], [\"NBIot\"], [\"MicroWave\"], [\"MBWA\"], [\"LoRa (Urban)\"], [\"LoRa (Rural)\"], [\"WiMax\"], [\"LTE-4G\"], [\"5G Low\"], [\"CALM\"], [\"5G Mid\"], [\"CALM\"], [\"DSRC/Wave\"], [\"Ingenu-RPMA\"], [\"WIFI\"], [\"Ingenu-RPMA\"], [\"SigFox (Urban)\"], [\"DSRC/Wave\"], [\"NBIot\"], [\"CALM\"], [\"DSRC/Wave\"], [\"Ingenu-RPMA\"], [\"LTE-4G\"], [\"LoRa (Rural)\"], [\"LoRa (Urban)\"], [\"MBWA\"], [\"NBIot\"], [\"5G Mid\"], [\"SigFox (Rural)\"], [\"WIFI\"], [\"WiMax\"], [\"5G Low\"], [\"5G Mid\"], [\"CALM\"], [\"DSRC/Wave\"], [\"LTE-4G\"], [\"MBWA\"], [\"SigFox (Rural)\"], [\"5G Low\"], [\"SigFox (Urban)\"], [\"NBIot\"], [\"WiMax\"], [\"MicroWave\"], [\"MBWA\"], [\"LoRa (Urban)\"], [\"LoRa (Rural)\"], [\"LTE-4G\"], [\"Ingenu-RPMA\"], [\"DSRC/Wave\"], [\"CALM\"], [\"MicroWave\"], [\"5G Low\"], [\"WiMax\"], [\"SigFox (Rural)\"], [\"SigFox (Urban)\"], [\"WIFI\"], [\"WiMax\"], [\"5G Low\"], [\"5G Mid\"], [\"5G Mid\"], [\"LTE-4G\"], [\"NBIot\"], [\"MBWA\"], [\"LTE-4G\"], [\"MicroWave\"], [\"5G Low\"], [\"5G Mid\"], [\"WiMax\"], [\"WIFI\"], [\"SigFox (Urban)\"], [\"WiMax\"], [\"5G Low\"], [\"5G Mid\"], [\"LTE-4G\"], [\"MBWA\"], [\"NBIot\"], [\"WiMax\"], [\"5G Low\"], [\"MicroWave\"], [\"DSRC/Wave\"], [\"Ingenu-RPMA\"], [\"LTE-4G\"], [\"LoRa (Rural)\"], [\"DSRC/Wave\"], [\"LoRa (Urban)\"], [\"5G Mid\"], [\"CALM\"], [\"DSRC/Wave\"], [\"Ingenu-RPMA\"], [\"LTE-4G\"], [\"5G Mid\"], [\"5G Low\"], [\"WiMax\"], [\"WIFI\"], [\"SigFox (Urban)\"], [\"NBIot\"], [\"MicroWave\"], [\"MBWA\"], [\"LoRa (Rural)\"], [\"LTE-4G\"], [\"LoRa (Rural)\"], [\"LoRa (Urban)\"], [\"MBWA\"], [\"CALM\"], [\"5G Low\"], [\"WiMax\"], [\"SigFox (Rural)\"], [\"SigFox (Urban)\"], [\"Ingenu-RPMA\"], [\"LTE-4G\"], [\"5G Mid\"], [\"5G Low\"], [\"WiMax\"], [\"WIFI\"], [\"LTE-4G\"], [\"MBWA\"], [\"MicroWave\"], [\"NBIot\"], [\"5G Low\"], [\"5G Mid\"], [\"LTE-4G\"], [\"NBIot\"], [\"WIFI\"], [\"WiMax\"], [\"MicroWave\"], [\"NBIot\"], [\"SigFox (Rural)\"], [\"WiMax\"], [\"WIFI\"], [\"WIFI\"], [\"WiMax\"], [\"IR\"], [\"NBIot\"], [\"MicroWave\"], [\"MBWA\"], [\"LTE-4G\"], [\"ZigBee\"], [\"5G mmWavve\"], [\"UWB\"], [\"5G Low\"], [\"LoRa (Rural)\"], [\"CALM\"], [\"DSRC/Wave\"], [\"Ingenu-RPMA\"], [\"LTE-4G\"], [\"LoRa (Urban)\"], [\"MBWA\"], [\"MicroWave\"], [\"NBIot\"], [\"SigFox (Rural)\"], [\"SigFox (Urban)\"], [\"WIFI\"], [\"5G Mid\"], [\"5G Mid\"], [\"5G Low\"], [\"LoRa (Rural)\"], [\"WIFI\"], [\"5G Low\"], [\"WiMax\"], [\"WIFI\"], [\"SigFox (Urban)\"], [\"SigFox (Rural)\"], [\"NBIot\"], [\"MicroWave\"], [\"MBWA\"], [\"LoRa (Urban)\"], [\"5G Mid\"], [\"LoRa (Rural)\"], [\"Ingenu-RPMA\"], [\"DSRC/Wave\"], [\"CALM\"], [\"5G Mid\"], [\"5G Low\"], [\"WiMax\"], [\"WIFI\"], [\"NBIot\"], [\"MicroWave\"], [\"LTE-4G\"], [\"LTE-4G\"], [\"MBWA\"], [\"MicroWave\"], [\"SigFox (Urban)\"], [\"SigFox (Rural)\"], [\"NBIot\"], [\"MicroWave\"], [\"MBWA\"], [\"LoRa (Urban)\"], [\"LTE-4G\"], [\"Ingenu-RPMA\"], [\"CALM\"], [\"5G Mid\"], [\"5G Low\"], [\"WiMax\"], [\"WIFI\"], [\"SigFox (Urban)\"], [\"LTE-4G\"], [\"DSRC/Wave\"], [\"CALM\"], [\"5G Mid\"], [\"5G Low\"], [\"WiMax\"], [\"NBIot\"], [\"WiMax\"], [\"DSRC/Wave\"], [\"5G Mid\"], [\"DSRC/Wave\"], [\"CALM\"], [\"LoRa (Urban)\"], [\"5G Low\"]], \"domain\": {\"x\": [0.0, 1.0], \"y\": [0.0, 1.0]}, \"hovertemplate\": \"labels=%{label}<br>count=%{value}<br>parent=%{parent}<br>id=%{id}<br>Technology=%{customdata[0]}<extra></extra>\", \"ids\": [\"NBIot/MW\", \"Ingenu-RPMA/CTR\", \"LTE-4G/CTR\", \"LoRa (Rural)/CTR\", \"LoRa (Urban)/CTR\", \"MBWA/CTR\", \"MicroWave/CTR\", \"NBIot/CTR\", \"SigFox (Rural)/CTR\", \"SigFox (Urban)/CTR\", \"WIFI/CTR\", \"LTE-4G/OVW\", \"5G Mid/OVW\", \"5G Low/OVW\", \"ZigBee/MW\", \"WiMax/MW\", \"DSRC/Wave/CTR\", \"WIFI/MW\", \"CALM/CTR\", \"5G Low/CTR\", \"NBIot/CSL\", \"MicroWave/CSL\", \"MBWA/CSL\", \"LTE-4G/CSL\", \"5G Mid/CSL\", \"5G Low/CSL\", \"WiMax/CRWRSU\", \"NBIot/CRWRSU\", \"MicroWave/CRWRSU\", \"MBWA/CRWRSU\", \"LTE-4G/CRWRSU\", \"5G Mid/CRWRSU\", \"5G Low/CRWRSU\", \"WiMax/CMA\", \"NBIot/CMA\", \"5G Mid/CTR\", \"UWB/MW\", \"WiMax/CSL\", \"LTE-4G/MW\", \"Ingenu-RPMA/MDU\", \"DSRC/Wave/MDU\", \"CALM/MDU\", \"5G Mid/MDU\", \"5G Low/MDU\", \"WiMax/MD\", \"WIFI/MD\", \"SigFox (Urban)/MD\", \"SigFox (Rural)/MD\", \"NBIot/MD\", \"MicroWave/MD\", \"MBWA/MD\", \"LoRa (Urban)/MD\", \"LoRa (Rural)/MD\", \"LTE-4G/MD\", \"LTE-4G/MDU\", \"LoRa (Rural)/MDU\", \"LoRa (Urban)/MDU\", \"MBWA/MDU\", \"5G mmWavve/MW\", \"5G Mid/MW\", \"5G Low/MW\", \"WiMax/MTTCRW\", \"NBIot/MTTCRW\", \"MicroWave/MTTCRW\", \"MBWA/MTTCRW\", \"WIFI/CSL\", \"LTE-4G/MTTCRW\", \"5G Low/MTTCRW\", \"WiMax/MDU\", \"WIFI/MDU\", \"SigFox (Urban)/MDU\", \"SigFox (Rural)/MDU\", \"NBIot/MDU\", \"MicroWave/MDU\", \"5G Mid/MTTCRW\", \"NBIot/PA\", \"5G Low/EDCV\", \"LTE-4G/PCSW\", \"UWB/PCSW\", \"WiMax/PCSW\", \"ZigBee/PCSW\", \"5G Low/PCW\", \"LTE-4G/PCW\", \"LoRa (Rural)/EDCV\", \"LTE-4G/EDCV\", \"Ingenu-RPMA/EDCV\", \"DSRC/Wave/EDCV\", \"CALM/EDCV\", \"5G Mid/EDCV\", \"5G Mid/PCSW\", \"5G mmWavve/PCSW\", \"5G Low/PCSW\", \"LoRa (Urban)/PA\", \"WIFI/PA\", \"NBIot/OVW\", \"WiMax/OVW\", \"5G Low/PA\", \"5G Mid/PA\", \"CALM/PA\", \"DSRC/Wave/PA\", \"WiMax/PA\", \"Ingenu-RPMA/PA\", \"LoRa (Rural)/PA\", \"WiMax/DS\", \"MBWA/PA\", \"MicroWave/PA\", \"SigFox (Rural)/PA\", \"SigFox (Urban)/PA\", \"LTE-4G/PA\", \"SigFox (Urban)/DS\", \"MicroWave/DS\", \"NBIot/DS\", \"WiMax/CTR\", \"SigFox (Urban)/PIN\", \"SigFox (Rural)/PIN\", \"Ingenu-RPMA/PIN\", \"NBIot/PIN\", \"MicroWave/PIN\", \"MBWA/PIN\", \"LoRa (Urban)/PIN\", \"5G Low/CVHAS\", \"LoRa (Rural)/PIN\", \"MBWA/PCW\", \"MicroWave/PCW\", \"NBIot/PCW\", \"WiMax/PCW\", \"5G Low/PIN\", \"5G Mid/PIN\", \"CALM/PIN\", \"DSRC/Wave/PIN\", \"SigFox (Rural)/DS\", \"5G Mid/CVHAS\", \"LTE-4G/PIN\", \"MBWA/CVHAS\", \"LTE-4G/CVHAS\", \"CALM/DS\", \"WiMax/CVHAS\", \"DSRC/Wave/DS\", \"5G Mid/DS\", \"NBIot/CVHAS\", \"WIFI/CVHAS\", \"LTE-4G/DS\", \"LoRa (Rural)/DS\", \"LoRa (Urban)/DS\", \"MBWA/DS\", \"MicroWave/CVHAS\", \"Ingenu-RPMA/DS\", \"5G Low/DS\", \"LoRa (Urban)/EDCV\", \"MBWA/EDCV\", \"NBIot/EDCV\", \"MicroWave/EDCV\", \"WIFI/PIN\", \"SigFox (Rural)/FM\", \"5G Low/IFS\", \"5G Mid/ICW\", \"LTE-4G/ICW\", \"MBWA/ICW\", \"MicroWave/ICW\", \"NBIot/ICW\", \"WiMax/ICW\", \"5G Mid/IFS\", \"CALM/IFS\", \"MBWA/IFS\", \"MicroWave/IFS\", \"NBIot/IFS\", \"SigFox (Rural)/IFS\", \"SigFox (Urban)/IFS\", \"SigFox (Rural)/AAC\", \"LoRa (Rural)/AAC\", \"SigFox (Urban)/AAC\", \"LoRa (Urban)/AAC\", \"MBWA/AAC\", \"MicroWave/AAC\", \"NBIot/AAC\", \"Ingenu-RPMA/AAC\", \"LTE-4G/AAC\", \"Ingenu-RPMA/IS\", \"CALM/IS\", \"WiMax/IFS\", \"5G Low/IM\", \"WIFI/IFS\", \"5G Mid/IM\", \"CALM/IM\", \"DSRC/Wave/IM\", \"Ingenu-RPMA/IM\", \"LTE-4G/IM\", \"DSRC/Wave/IS\", \"LoRa (Rural)/IM\", \"MBWA/IM\", \"MicroWave/IM\", \"NBIot/IM\", \"SigFox (Rural)/IM\", \"SigFox (Urban)/IM\", \"WIFI/IM\", \"WiMax/IM\", \"5G Low/IS\", \"5G Mid/IS\", \"LoRa (Urban)/IM\", \"MBWA/LEC\", \"LoRa (Urban)/LEC\", \"LoRa (Rural)/LEC\", \"SigFox (Rural)/LAW\", \"Ingenu-RPMA/LEC\", \"DSRC/Wave/LEC\", \"MBWA/LAW\", \"MicroWave/LAW\", \"NBIot/LAW\", \"SigFox (Urban)/LAW\", \"WIFI/LAW\", \"WiMax/LAW\", \"5G Low/LEC\", \"5G Mid/LEC\", \"CALM/LEC\", \"MicroWave/LEC\", \"LTE-4G/LEC\", \"NBIot/LEC\", \"SigFox (Rural)/LEC\", \"5G Low/CMA\", \"NBIot/CLW\", \"LTE-4G/CLW\", \"5G Mid/CLW\", \"5G Low/CLW\", \"WiMax/CLCA\", \"NBIot/CLCA\", \"LTE-4G/CLCA\", \"5G Mid/CLCA\", \"5G Low/CLCA\", \"ZigBee/CGR\", \"WiMax/CGR\", \"WIFI/CGR\", \"UWB/CGR\", \"NBIot/CGR\", \"LTE-4G/CGR\", \"BLE/CGR\", \"5G mmWavve/CGR\", \"5G Mid/CGR\", \"5G Low/CGR\", \"WiMax/CFCW\", \"WIFI/CFCW\", \"NBIot/CFCW\", \"LTE-4G/CFCW\", \"5G Mid/CFCW\", \"5G Low/CFCW\", \"WiMax/CLW\", \"SigFox (Urban)/LEC\", \"LoRa (Rural)/LAW\", \"LTE-4G/CMA\", \"WIFI/LEC\", \"WiMax/LEC\", \"5G Low/LZM\", \"5G Mid/LZM\", \"CALM/LZM\", \"DSRC/Wave/LZM\", \"Ingenu-RPMA/LZM\", \"LTE-4G/LZM\", \"LoRa (Rural)/LZM\", \"LoRa (Urban)/LZM\", \"MBWA/LZM\", \"MicroWave/LZM\", \"NBIot/LZM\", \"SigFox (Rural)/LZM\", \"SigFox (Urban)/LZM\", \"WIFI/LZM\", \"WiMax/LZM\", \"5G Low/MD\", \"5G Mid/MD\", \"CALM/MD\", \"DSRC/Wave/MD\", \"Ingenu-RPMA/MD\", \"LoRa (Urban)/LAW\", \"MicroWave/CMA\", \"MBWA/CMA\", \"5G Mid/CMA\", \"WiMax\", \"ZigBee\", \"CALM/FM\", \"Ingenu-RPMA/FM\", \"LTE-4G/FM\", \"LoRa (Rural)/FM\", \"DSRC/Wave/FM\", \"LoRa (Urban)/FM\", \"MicroWave/FM\", \"NBIot/FM\", \"MBWA/FM\", \"5G Low/FM\", \"LTE-4G/WWDW\", \"WiMax/FADL\", \"WIFI/FADL\", \"SigFox (Urban)/FADL\", \"SigFox (Rural)/FADL\", \"NBIot/FADL\", \"WiMax/VS\", \"5G Low/WWDW\", \"5G Mid/WWDW\", \"5G Mid/FM\", \"MBWA/WWDW\", \"MicroWave/WWDW\", \"NBIot/WWDW\", \"WIFI\", \"UWB\", \"SigFox (Urban)\", \"SigFox (Rural)\", \"NBIot\", \"MicroWave\", \"MBWA\", \"LoRa (Urban)\", \"LoRa (Rural)\", \"LTE-4G\", \"Ingenu-RPMA\", \"IR\", \"DSRC/Wave\", \"CALM\", \"BLE\", \"5G mmWavve\", \"5G Mid\", \"5G Low\", \"WiMax/WWDW\", \"LoRa (Urban)/FADL\", \"LoRa (Rural)/FADL\", \"5G mmWavve/SlVW\", \"5G Low/StVW\", \"5G Low/SVA\", \"WiMax/SOSS\", \"WIFI/SOSS\", \"SigFox (Rural)/SOSS\", \"NBIot/SOSS\", \"MicroWave/SOSS\", \"ZigBee/SlVW\", \"MBWA/SOSS\", \"LoRa (Rural)/SOSS\", \"5G Mid/SlVW\", \"LTE-4G/SlVW\", \"NBIot/StVW\", \"LTE-4G/StVW\", \"5G Mid/StVW\", \"LoRa (Urban)/SOSS\", \"SigFox (Urban)/SOSS\", \"Ingenu-RPMA/SVA\", \"CALM/SVA\", \"5G Low/SiVW\", \"MBWA/SiVW\", \"MicroWave/SiVW\", \"NBIot/SiVW\", \"WiMax/SiVW\", \"5G Mid/SVA\", \"5G Low/SlVW\", \"WiMax/SlVW\", \"WIFI/SlVW\", \"UWB/SlVW\", \"5G Mid/SiVW\", \"WiMax/SVA\", \"SigFox (Urban)/SVA\", \"SigFox (Rural)/SVA\", \"NBIot/SVA\", \"MicroWave/SVA\", \"MBWA/SVA\", \"LoRa (Urban)/SVA\", \"LoRa (Rural)/SVA\", \"LTE-4G/SVA\", \"NBIot/SlVW\", \"DSRC/Wave/SVA\", \"WIFI/SVA\", \"LTE-4G/SiVW\", \"DSRC/Wave/TIRI\", \"LoRa (Rural)/TIRI\", \"LTE-4G/TIRI\", \"Ingenu-RPMA/TIRI\", \"CALM/TIRI\", \"5G Mid/TIRI\", \"5G Low/TIRI\", \"WiMax/StVW\", \"MBWA/TIRI\", \"LoRa (Urban)/TIRI\", \"MicroWave/TIRI\", \"WIFI/TOD\", \"SigFox (Rural)/TIRI\", \"MBWA/TOD\", \"MicroWave/TOD\", \"NBIot/TOD\", \"WiMax/TOD\", \"5G Low/TVSP\", \"5G Mid/TVSP\", \"CALM/TVSP\", \"LTE-4G/TOD\", \"DSRC/Wave/TVSP\", \"LTE-4G/TVSP\", \"LoRa (Rural)/TVSP\", \"LoRa (Urban)/TVSP\", \"MBWA/TVSP\", \"MicroWave/TVSP\", \"NBIot/TVSP\", \"SigFox (Rural)/TVSP\", \"Ingenu-RPMA/TVSP\", \"NBIot/TIRI\", \"5G Mid/TOD\", \"WIFI/TLOSP\", \"WiMax/TLOSP\", \"MBWA/TLOSP\", \"5G Low/TOD\", \"LTE-4G/TLOSP\", \"5G Mid/TLOSP\", \"5G Low/TLOSP\", \"WiMax/TIRI\", \"WIFI/TIRI\", \"SigFox (Urban)/TIRI\", \"NBIot/TLOSP\", \"MicroWave/TLOSP\", \"5G Low/SM\", \"WiMax/RW\", \"NBIot/RW\", \"MicroWave/RW\", \"MBWA/RW\", \"LTE-4G/RW\", \"5G Mid/RW\", \"5G Low/RW\", \"WiMax/RD\", \"5G Mid/SM\", \"WIFI/SM\", \"LTE-4G/SOSS\", \"SigFox (Urban)/SM\", \"SigFox (Rural)/SM\", \"NBIot/SM\", \"MicroWave/SM\", \"MBWA/SM\", \"LoRa (Urban)/SM\", \"LoRa (Rural)/SM\", \"WiMax/SM\", \"LTE-4G/SM\", \"5G Low/SOSS\", \"CALM/SM\", \"5G Mid/SOSS\", \"CALM/SOSS\", \"DSRC/Wave/SOSS\", \"Ingenu-RPMA/SOSS\", \"WIFI/RD\", \"Ingenu-RPMA/SM\", \"SigFox (Urban)/RD\", \"DSRC/Wave/SM\", \"NBIot/RD\", \"CALM/ERGN\", \"DSRC/Wave/ERGN\", \"Ingenu-RPMA/ERGN\", \"LTE-4G/ERGN\", \"LoRa (Rural)/ERGN\", \"LoRa (Urban)/ERGN\", \"MBWA/ERGN\", \"NBIot/ERGN\", \"5G Mid/ERGN\", \"SigFox (Rural)/ERGN\", \"WIFI/ERGN\", \"WiMax/ERGN\", \"5G Low/ETC\", \"5G Mid/ETC\", \"CALM/ETC\", \"DSRC/Wave/ETC\", \"LTE-4G/ETC\", \"MBWA/ETC\", \"SigFox (Rural)/RD\", \"5G Low/ERGN\", \"SigFox (Urban)/ERGN\", \"NBIot/EEBL\", \"WiMax/EEBL\", \"MicroWave/RD\", \"MBWA/RD\", \"LoRa (Urban)/RD\", \"LoRa (Rural)/RD\", \"LTE-4G/RD\", \"Ingenu-RPMA/RD\", \"DSRC/Wave/RD\", \"CALM/RD\", \"MicroWave/ERGN\", \"5G Low/RD\", \"WiMax/PIN\", \"SigFox (Rural)/EDCV\", \"SigFox (Urban)/EDCV\", \"WIFI/EDCV\", \"WiMax/EDCV\", \"5G Low/EEBL\", \"5G Mid/EEBL\", \"5G Mid/RD\", \"LTE-4G/EEBL\", \"NBIot/HCW\", \"MBWA/HCW\", \"LTE-4G/HCW\", \"MicroWave/HCW\", \"5G Low/HCW\", \"5G Mid/HCW\", \"WiMax/FM\", \"WIFI/FM\", \"SigFox (Urban)/FM\", \"WiMax/HCW\", \"5G Low/HLN\", \"5G Mid/HLN\", \"LTE-4G/HLN\", \"MBWA/HLN\", \"NBIot/HLN\", \"WiMax/HLN\", \"5G Low/ICW\", \"MicroWave/HLN\", \"DSRC/Wave/IFS\", \"Ingenu-RPMA/IFS\", \"LTE-4G/IFS\", \"LoRa (Rural)/IFS\", \"DSRC/Wave/InM\", \"LoRa (Urban)/InM\", \"5G Mid/LAW\", \"CALM/LAW\", \"DSRC/Wave/LAW\", \"Ingenu-RPMA/LAW\", \"LTE-4G/LAW\", \"5G Mid/InM\", \"5G Low/InM\", \"WiMax/IS\", \"WIFI/IS\", \"SigFox (Urban)/IS\", \"NBIot/IS\", \"MicroWave/IS\", \"MBWA/IS\", \"LoRa (Rural)/InM\", \"LTE-4G/IS\", \"LoRa (Rural)/IS\", \"LoRa (Urban)/IS\", \"MBWA/InM\", \"CALM/InM\", \"5G Low/LAW\", \"WiMax/InM\", \"SigFox (Rural)/IS\", \"SigFox (Urban)/InM\", \"Ingenu-RPMA/InM\", \"LTE-4G/InM\", \"5G Mid/ATTCRW\", \"5G Low/ATTCRW\", \"WiMax/AAC\", \"WIFI/AAC\", \"LTE-4G/ATTCRW\", \"MBWA/ATTCRW\", \"MicroWave/ATTCRW\", \"NBIot/ATTCRW\", \"5G Low/CACC\", \"5G Mid/CACC\", \"LTE-4G/CACC\", \"NBIot/CACC\", \"WIFI/CACC\", \"WiMax/CACC\", \"MicroWave/InM\", \"NBIot/InM\", \"SigFox (Rural)/InM\", \"WiMax/ATTCRW\", \"WIFI/InM\", \"WIFI/VRUW\", \"WiMax/VRUW\", \"IR/VRUW\", \"NBIot/VRUW\", \"MicroWave/VRUW\", \"MBWA/VRUW\", \"LTE-4G/VRUW\", \"ZigBee/VRUW\", \"5G mmWavve/VRUW\", \"UWB/VRUW\", \"5G Low/VS\", \"LoRa (Rural)/VS\", \"CALM/VS\", \"DSRC/Wave/VS\", \"Ingenu-RPMA/VS\", \"LTE-4G/VS\", \"LoRa (Urban)/VS\", \"MBWA/VS\", \"MicroWave/VS\", \"NBIot/VS\", \"SigFox (Rural)/VS\", \"SigFox (Urban)/VS\", \"WIFI/VS\", \"5G Mid/VRUW\", \"5G Mid/VS\", \"5G Low/VRUW\", \"LoRa (Rural)/VRSUDC\", \"WIFI/VRSUDC\", \"5G Low/EVW\", \"WiMax/EVSP\", \"WIFI/EVSP\", \"SigFox (Urban)/EVSP\", \"SigFox (Rural)/EVSP\", \"NBIot/EVSP\", \"MicroWave/EVSP\", \"MBWA/EVSP\", \"LoRa (Urban)/EVSP\", \"5G Mid/EVW\", \"LoRa (Rural)/EVSP\", \"Ingenu-RPMA/EVSP\", \"DSRC/Wave/EVSP\", \"CALM/EVSP\", \"5G Mid/EVSP\", \"5G Low/EVSP\", \"WiMax/ETC\", \"WIFI/ETC\", \"NBIot/ETC\", \"MicroWave/ETC\", \"LTE-4G/EVSP\", \"LTE-4G/EVW\", \"MBWA/EVW\", \"MicroWave/EVW\", \"SigFox (Urban)/VRSUDC\", \"SigFox (Rural)/VRSUDC\", \"NBIot/VRSUDC\", \"MicroWave/VRSUDC\", \"MBWA/VRSUDC\", \"LoRa (Urban)/VRSUDC\", \"LTE-4G/VRSUDC\", \"Ingenu-RPMA/VRSUDC\", \"CALM/VRSUDC\", \"5G Mid/VRSUDC\", \"5G Low/VRSUDC\", \"WiMax/TVSP\", \"WIFI/TVSP\", \"SigFox (Urban)/TVSP\", \"LTE-4G/FADL\", \"DSRC/Wave/FADL\", \"CALM/FADL\", \"5G Mid/FADL\", \"5G Low/FADL\", \"WiMax/EVW\", \"NBIot/EVW\", \"WiMax/VRSUDC\", \"DSRC/Wave/VRSUDC\", \"5G Mid/AAC\", \"DSRC/Wave/AAC\", \"CALM/AAC\", \"LoRa (Urban)/IFS\", \"5G Low/AAC\"], \"labels\": [\"MW\", \"CTR\", \"CTR\", \"CTR\", \"CTR\", \"CTR\", \"CTR\", \"CTR\", \"CTR\", \"CTR\", \"CTR\", \"OVW\", \"OVW\", \"OVW\", \"MW\", \"MW\", \"CTR\", \"MW\", \"CTR\", \"CTR\", \"CSL\", \"CSL\", \"CSL\", \"CSL\", \"CSL\", \"CSL\", \"CRWRSU\", \"CRWRSU\", \"CRWRSU\", \"CRWRSU\", \"CRWRSU\", \"CRWRSU\", \"CRWRSU\", \"CMA\", \"CMA\", \"CTR\", \"MW\", \"CSL\", \"MW\", \"MDU\", \"MDU\", \"MDU\", \"MDU\", \"MDU\", \"MD\", \"MD\", \"MD\", \"MD\", \"MD\", \"MD\", \"MD\", \"MD\", \"MD\", \"MD\", \"MDU\", \"MDU\", \"MDU\", \"MDU\", \"MW\", \"MW\", \"MW\", \"MTTCRW\", \"MTTCRW\", \"MTTCRW\", \"MTTCRW\", \"CSL\", \"MTTCRW\", \"MTTCRW\", \"MDU\", \"MDU\", \"MDU\", \"MDU\", \"MDU\", \"MDU\", \"MTTCRW\", \"PA\", \"EDCV\", \"PCSW\", \"PCSW\", \"PCSW\", \"PCSW\", \"PCW\", \"PCW\", \"EDCV\", \"EDCV\", \"EDCV\", \"EDCV\", \"EDCV\", \"EDCV\", \"PCSW\", \"PCSW\", \"PCSW\", \"PA\", \"PA\", \"OVW\", \"OVW\", \"PA\", \"PA\", \"PA\", \"PA\", \"PA\", \"PA\", \"PA\", \"DS\", \"PA\", \"PA\", \"PA\", \"PA\", \"PA\", \"DS\", \"DS\", \"DS\", \"CTR\", \"PIN\", \"PIN\", \"PIN\", \"PIN\", \"PIN\", \"PIN\", \"PIN\", \"CVHAS\", \"PIN\", \"PCW\", \"PCW\", \"PCW\", \"PCW\", \"PIN\", \"PIN\", \"PIN\", \"PIN\", \"DS\", \"CVHAS\", \"PIN\", \"CVHAS\", \"CVHAS\", \"DS\", \"CVHAS\", \"DS\", \"DS\", \"CVHAS\", \"CVHAS\", \"DS\", \"DS\", \"DS\", \"DS\", \"CVHAS\", \"DS\", \"DS\", \"EDCV\", \"EDCV\", \"EDCV\", \"EDCV\", \"PIN\", \"FM\", \"IFS\", \"ICW\", \"ICW\", \"ICW\", \"ICW\", \"ICW\", \"ICW\", \"IFS\", \"IFS\", \"IFS\", \"IFS\", \"IFS\", \"IFS\", \"IFS\", \"AAC\", \"AAC\", \"AAC\", \"AAC\", \"AAC\", \"AAC\", \"AAC\", \"AAC\", \"AAC\", \"IS\", \"IS\", \"IFS\", \"IM\", \"IFS\", \"IM\", \"IM\", \"IM\", \"IM\", \"IM\", \"IS\", \"IM\", \"IM\", \"IM\", \"IM\", \"IM\", \"IM\", \"IM\", \"IM\", \"IS\", \"IS\", \"IM\", \"LEC\", \"LEC\", \"LEC\", \"LAW\", \"LEC\", \"LEC\", \"LAW\", \"LAW\", \"LAW\", \"LAW\", \"LAW\", \"LAW\", \"LEC\", \"LEC\", \"LEC\", \"LEC\", \"LEC\", \"LEC\", \"LEC\", \"CMA\", \"CLW\", \"CLW\", \"CLW\", \"CLW\", \"CLCA\", \"CLCA\", \"CLCA\", \"CLCA\", \"CLCA\", \"CGR\", \"CGR\", \"CGR\", \"CGR\", \"CGR\", \"CGR\", \"CGR\", \"CGR\", \"CGR\", \"CGR\", \"CFCW\", \"CFCW\", \"CFCW\", \"CFCW\", \"CFCW\", \"CFCW\", \"CLW\", \"LEC\", \"LAW\", \"CMA\", \"LEC\", \"LEC\", \"LZM\", \"LZM\", \"LZM\", \"LZM\", \"LZM\", \"LZM\", \"LZM\", \"LZM\", \"LZM\", \"LZM\", \"LZM\", \"LZM\", \"LZM\", \"LZM\", \"LZM\", \"MD\", \"MD\", \"MD\", \"MD\", \"MD\", \"LAW\", \"CMA\", \"CMA\", \"CMA\", \"WiMax\", \"ZigBee\", \"FM\", \"FM\", \"FM\", \"FM\", \"FM\", \"FM\", \"FM\", \"FM\", \"FM\", \"FM\", \"WWDW\", \"FADL\", \"FADL\", \"FADL\", \"FADL\", \"FADL\", \"VS\", \"WWDW\", \"WWDW\", \"FM\", \"WWDW\", \"WWDW\", \"WWDW\", \"WIFI\", \"UWB\", \"SigFox (Urban)\", \"SigFox (Rural)\", \"NBIot\", \"MicroWave\", \"MBWA\", \"LoRa (Urban)\", \"LoRa (Rural)\", \"LTE-4G\", \"Ingenu-RPMA\", \"IR\", \"DSRC/Wave\", \"CALM\", \"BLE\", \"5G mmWavve\", \"5G Mid\", \"5G Low\", \"WWDW\", \"FADL\", \"FADL\", \"SlVW\", \"StVW\", \"SVA\", \"SOSS\", \"SOSS\", \"SOSS\", \"SOSS\", \"SOSS\", \"SlVW\", \"SOSS\", \"SOSS\", \"SlVW\", \"SlVW\", \"StVW\", \"StVW\", \"StVW\", \"SOSS\", \"SOSS\", \"SVA\", \"SVA\", \"SiVW\", \"SiVW\", \"SiVW\", \"SiVW\", \"SiVW\", \"SVA\", \"SlVW\", \"SlVW\", \"SlVW\", \"SlVW\", \"SiVW\", \"SVA\", \"SVA\", \"SVA\", \"SVA\", \"SVA\", \"SVA\", \"SVA\", \"SVA\", \"SVA\", \"SlVW\", \"SVA\", \"SVA\", \"SiVW\", \"TIRI\", \"TIRI\", \"TIRI\", \"TIRI\", \"TIRI\", \"TIRI\", \"TIRI\", \"StVW\", \"TIRI\", \"TIRI\", \"TIRI\", \"TOD\", \"TIRI\", \"TOD\", \"TOD\", \"TOD\", \"TOD\", \"TVSP\", \"TVSP\", \"TVSP\", \"TOD\", \"TVSP\", \"TVSP\", \"TVSP\", \"TVSP\", \"TVSP\", \"TVSP\", \"TVSP\", \"TVSP\", \"TVSP\", \"TIRI\", \"TOD\", \"TLOSP\", \"TLOSP\", \"TLOSP\", \"TOD\", \"TLOSP\", \"TLOSP\", \"TLOSP\", \"TIRI\", \"TIRI\", \"TIRI\", \"TLOSP\", \"TLOSP\", \"SM\", \"RW\", \"RW\", \"RW\", \"RW\", \"RW\", \"RW\", \"RW\", \"RD\", \"SM\", \"SM\", \"SOSS\", \"SM\", \"SM\", \"SM\", \"SM\", \"SM\", \"SM\", \"SM\", \"SM\", \"SM\", \"SOSS\", \"SM\", \"SOSS\", \"SOSS\", \"SOSS\", \"SOSS\", \"RD\", \"SM\", \"RD\", \"SM\", \"RD\", \"ERGN\", \"ERGN\", \"ERGN\", \"ERGN\", \"ERGN\", \"ERGN\", \"ERGN\", \"ERGN\", \"ERGN\", \"ERGN\", \"ERGN\", \"ERGN\", \"ETC\", \"ETC\", \"ETC\", \"ETC\", \"ETC\", \"ETC\", \"RD\", \"ERGN\", \"ERGN\", \"EEBL\", \"EEBL\", \"RD\", \"RD\", \"RD\", \"RD\", \"RD\", \"RD\", \"RD\", \"RD\", \"ERGN\", \"RD\", \"PIN\", \"EDCV\", \"EDCV\", \"EDCV\", \"EDCV\", \"EEBL\", \"EEBL\", \"RD\", \"EEBL\", \"HCW\", \"HCW\", \"HCW\", \"HCW\", \"HCW\", \"HCW\", \"FM\", \"FM\", \"FM\", \"HCW\", \"HLN\", \"HLN\", \"HLN\", \"HLN\", \"HLN\", \"HLN\", \"ICW\", \"HLN\", \"IFS\", \"IFS\", \"IFS\", \"IFS\", \"InM\", \"InM\", \"LAW\", \"LAW\", \"LAW\", \"LAW\", \"LAW\", \"InM\", \"InM\", \"IS\", \"IS\", \"IS\", \"IS\", \"IS\", \"IS\", \"InM\", \"IS\", \"IS\", \"IS\", \"InM\", \"InM\", \"LAW\", \"InM\", \"IS\", \"InM\", \"InM\", \"InM\", \"ATTCRW\", \"ATTCRW\", \"AAC\", \"AAC\", \"ATTCRW\", \"ATTCRW\", \"ATTCRW\", \"ATTCRW\", \"CACC\", \"CACC\", \"CACC\", \"CACC\", \"CACC\", \"CACC\", \"InM\", \"InM\", \"InM\", \"ATTCRW\", \"InM\", \"VRUW\", \"VRUW\", \"VRUW\", \"VRUW\", \"VRUW\", \"VRUW\", \"VRUW\", \"VRUW\", \"VRUW\", \"VRUW\", \"VS\", \"VS\", \"VS\", \"VS\", \"VS\", \"VS\", \"VS\", \"VS\", \"VS\", \"VS\", \"VS\", \"VS\", \"VS\", \"VRUW\", \"VS\", \"VRUW\", \"VRSUDC\", \"VRSUDC\", \"EVW\", \"EVSP\", \"EVSP\", \"EVSP\", \"EVSP\", \"EVSP\", \"EVSP\", \"EVSP\", \"EVSP\", \"EVW\", \"EVSP\", \"EVSP\", \"EVSP\", \"EVSP\", \"EVSP\", \"EVSP\", \"ETC\", \"ETC\", \"ETC\", \"ETC\", \"EVSP\", \"EVW\", \"EVW\", \"EVW\", \"VRSUDC\", \"VRSUDC\", \"VRSUDC\", \"VRSUDC\", \"VRSUDC\", \"VRSUDC\", \"VRSUDC\", \"VRSUDC\", \"VRSUDC\", \"VRSUDC\", \"VRSUDC\", \"TVSP\", \"TVSP\", \"TVSP\", \"FADL\", \"FADL\", \"FADL\", \"FADL\", \"FADL\", \"EVW\", \"EVW\", \"VRSUDC\", \"VRSUDC\", \"AAC\", \"AAC\", \"AAC\", \"IFS\", \"AAC\"], \"marker\": {\"colors\": [\"#636efa\", \"#EF553B\", \"#00cc96\", \"#ab63fa\", \"#FFA15A\", \"#19d3f3\", \"#FF6692\", \"#636efa\", \"#B6E880\", \"#FF97FF\", \"#FECB52\", \"#00cc96\", \"#636efa\", \"#EF553B\", \"#00cc96\", \"#ab63fa\", \"#FFA15A\", \"#FECB52\", \"#19d3f3\", \"#EF553B\", \"#636efa\", \"#FF6692\", \"#19d3f3\", \"#00cc96\", \"#636efa\", \"#EF553B\", \"#ab63fa\", \"#636efa\", \"#FF6692\", \"#19d3f3\", \"#00cc96\", \"#636efa\", \"#EF553B\", \"#ab63fa\", \"#636efa\", \"#636efa\", \"#FF6692\", \"#ab63fa\", \"#00cc96\", \"#EF553B\", \"#FFA15A\", \"#19d3f3\", \"#636efa\", \"#EF553B\", \"#ab63fa\", \"#FECB52\", \"#FF97FF\", \"#B6E880\", \"#636efa\", \"#FF6692\", \"#19d3f3\", \"#FFA15A\", \"#ab63fa\", \"#00cc96\", \"#00cc96\", \"#ab63fa\", \"#FFA15A\", \"#19d3f3\", \"#B6E880\", \"#636efa\", \"#EF553B\", \"#ab63fa\", \"#636efa\", \"#FF6692\", \"#19d3f3\", \"#FECB52\", \"#00cc96\", \"#EF553B\", \"#ab63fa\", \"#FECB52\", \"#FF97FF\", \"#B6E880\", \"#636efa\", \"#FF6692\", \"#636efa\", \"#636efa\", \"#EF553B\", \"#00cc96\", \"#FF6692\", \"#ab63fa\", \"#00cc96\", \"#EF553B\", \"#00cc96\", \"#ab63fa\", \"#00cc96\", \"#EF553B\", \"#FFA15A\", \"#19d3f3\", \"#636efa\", \"#636efa\", \"#B6E880\", \"#EF553B\", \"#FFA15A\", \"#FECB52\", \"#636efa\", \"#ab63fa\", \"#EF553B\", \"#636efa\", \"#19d3f3\", \"#FFA15A\", \"#ab63fa\", \"#EF553B\", \"#ab63fa\", \"#ab63fa\", \"#19d3f3\", \"#FF6692\", \"#B6E880\", \"#FF97FF\", \"#00cc96\", \"#FF97FF\", \"#FF6692\", \"#636efa\", \"#ab63fa\", \"#FF97FF\", \"#B6E880\", \"#EF553B\", \"#636efa\", \"#FF6692\", \"#19d3f3\", \"#FFA15A\", \"#EF553B\", \"#ab63fa\", \"#19d3f3\", \"#FF6692\", \"#636efa\", \"#ab63fa\", \"#EF553B\", \"#636efa\", \"#19d3f3\", \"#FFA15A\", \"#B6E880\", \"#636efa\", \"#00cc96\", \"#19d3f3\", \"#00cc96\", \"#19d3f3\", \"#ab63fa\", \"#FFA15A\", \"#636efa\", \"#636efa\", \"#FECB52\", \"#00cc96\", \"#ab63fa\", \"#FFA15A\", \"#19d3f3\", \"#FF6692\", \"#EF553B\", \"#EF553B\", \"#FFA15A\", \"#19d3f3\", \"#636efa\", \"#FF6692\", \"#FECB52\", \"#B6E880\", \"#EF553B\", \"#636efa\", \"#00cc96\", \"#19d3f3\", \"#FF6692\", \"#636efa\", \"#ab63fa\", \"#636efa\", \"#19d3f3\", \"#19d3f3\", \"#FF6692\", \"#636efa\", \"#B6E880\", \"#FF97FF\", \"#B6E880\", \"#ab63fa\", \"#FF97FF\", \"#FFA15A\", \"#19d3f3\", \"#FF6692\", \"#636efa\", \"#EF553B\", \"#00cc96\", \"#EF553B\", \"#19d3f3\", \"#ab63fa\", \"#EF553B\", \"#FECB52\", \"#636efa\", \"#19d3f3\", \"#FFA15A\", \"#EF553B\", \"#00cc96\", \"#FFA15A\", \"#ab63fa\", \"#19d3f3\", \"#FF6692\", \"#636efa\", \"#B6E880\", \"#FF97FF\", \"#FECB52\", \"#ab63fa\", \"#EF553B\", \"#636efa\", \"#FFA15A\", \"#19d3f3\", \"#FFA15A\", \"#ab63fa\", \"#B6E880\", \"#EF553B\", \"#FFA15A\", \"#19d3f3\", \"#FF6692\", \"#636efa\", \"#FF97FF\", \"#FECB52\", \"#ab63fa\", \"#EF553B\", \"#636efa\", \"#19d3f3\", \"#FF6692\", \"#00cc96\", \"#636efa\", \"#B6E880\", \"#EF553B\", \"#636efa\", \"#00cc96\", \"#636efa\", \"#EF553B\", \"#ab63fa\", \"#636efa\", \"#00cc96\", \"#636efa\", \"#EF553B\", \"#00cc96\", \"#ab63fa\", \"#FECB52\", \"#FF6692\", \"#636efa\", \"#00cc96\", \"#FF97FF\", \"#B6E880\", \"#636efa\", \"#EF553B\", \"#ab63fa\", \"#FECB52\", \"#636efa\", \"#00cc96\", \"#636efa\", \"#EF553B\", \"#ab63fa\", \"#FF97FF\", \"#ab63fa\", \"#00cc96\", \"#FECB52\", \"#ab63fa\", \"#EF553B\", \"#636efa\", \"#19d3f3\", \"#FFA15A\", \"#EF553B\", \"#00cc96\", \"#ab63fa\", \"#FFA15A\", \"#19d3f3\", \"#FF6692\", \"#636efa\", \"#B6E880\", \"#FF97FF\", \"#FECB52\", \"#ab63fa\", \"#EF553B\", \"#636efa\", \"#19d3f3\", \"#FFA15A\", \"#EF553B\", \"#FFA15A\", \"#FF6692\", \"#19d3f3\", \"#636efa\", \"#ab63fa\", \"#00cc96\", \"#19d3f3\", \"#EF553B\", \"#00cc96\", \"#ab63fa\", \"#FFA15A\", \"#FFA15A\", \"#FF6692\", \"#636efa\", \"#19d3f3\", \"#EF553B\", \"#00cc96\", \"#ab63fa\", \"#FECB52\", \"#FF97FF\", \"#B6E880\", \"#636efa\", \"#ab63fa\", \"#EF553B\", \"#636efa\", \"#636efa\", \"#19d3f3\", \"#FF6692\", \"#636efa\", \"#FECB52\", \"#FF6692\", \"#FF97FF\", \"#B6E880\", \"#636efa\", \"#FF6692\", \"#19d3f3\", \"#FFA15A\", \"#ab63fa\", \"#00cc96\", \"#EF553B\", \"#FECB52\", \"#FFA15A\", \"#19d3f3\", \"#FF97FF\", \"#B6E880\", \"#636efa\", \"#EF553B\", \"#ab63fa\", \"#FFA15A\", \"#ab63fa\", \"#B6E880\", \"#EF553B\", \"#EF553B\", \"#ab63fa\", \"#FECB52\", \"#B6E880\", \"#636efa\", \"#FF6692\", \"#00cc96\", \"#19d3f3\", \"#ab63fa\", \"#636efa\", \"#00cc96\", \"#636efa\", \"#00cc96\", \"#636efa\", \"#FFA15A\", \"#FF97FF\", \"#EF553B\", \"#19d3f3\", \"#EF553B\", \"#19d3f3\", \"#FF6692\", \"#636efa\", \"#ab63fa\", \"#636efa\", \"#EF553B\", \"#ab63fa\", \"#FECB52\", \"#FF6692\", \"#636efa\", \"#ab63fa\", \"#FF97FF\", \"#B6E880\", \"#636efa\", \"#FF6692\", \"#19d3f3\", \"#FFA15A\", \"#ab63fa\", \"#00cc96\", \"#636efa\", \"#FFA15A\", \"#FECB52\", \"#00cc96\", \"#FFA15A\", \"#ab63fa\", \"#00cc96\", \"#EF553B\", \"#19d3f3\", \"#636efa\", \"#EF553B\", \"#ab63fa\", \"#19d3f3\", \"#FFA15A\", \"#FF6692\", \"#FECB52\", \"#B6E880\", \"#19d3f3\", \"#FF6692\", \"#636efa\", \"#ab63fa\", \"#EF553B\", \"#636efa\", \"#19d3f3\", \"#00cc96\", \"#FFA15A\", \"#00cc96\", \"#ab63fa\", \"#FFA15A\", \"#19d3f3\", \"#FF6692\", \"#636efa\", \"#B6E880\", \"#EF553B\", \"#636efa\", \"#636efa\", \"#FECB52\", \"#ab63fa\", \"#19d3f3\", \"#EF553B\", \"#00cc96\", \"#636efa\", \"#EF553B\", \"#ab63fa\", \"#FECB52\", \"#FF97FF\", \"#636efa\", \"#FF6692\", \"#EF553B\", \"#ab63fa\", \"#636efa\", \"#FF6692\", \"#19d3f3\", \"#00cc96\", \"#636efa\", \"#EF553B\", \"#ab63fa\", \"#636efa\", \"#FECB52\", \"#00cc96\", \"#FF97FF\", \"#B6E880\", \"#636efa\", \"#FF6692\", \"#19d3f3\", \"#FFA15A\", \"#ab63fa\", \"#ab63fa\", \"#00cc96\", \"#EF553B\", \"#19d3f3\", \"#636efa\", \"#19d3f3\", \"#FFA15A\", \"#EF553B\", \"#FECB52\", \"#EF553B\", \"#FF97FF\", \"#FFA15A\", \"#636efa\", \"#19d3f3\", \"#FFA15A\", \"#EF553B\", \"#00cc96\", \"#ab63fa\", \"#FFA15A\", \"#19d3f3\", \"#636efa\", \"#636efa\", \"#B6E880\", \"#FECB52\", \"#ab63fa\", \"#EF553B\", \"#636efa\", \"#19d3f3\", \"#FFA15A\", \"#00cc96\", \"#19d3f3\", \"#B6E880\", \"#EF553B\", \"#FF97FF\", \"#636efa\", \"#ab63fa\", \"#FF6692\", \"#19d3f3\", \"#FFA15A\", \"#ab63fa\", \"#00cc96\", \"#EF553B\", \"#FFA15A\", \"#19d3f3\", \"#FF6692\", \"#EF553B\", \"#ab63fa\", \"#B6E880\", \"#FF97FF\", \"#FECB52\", \"#ab63fa\", \"#EF553B\", \"#636efa\", \"#636efa\", \"#00cc96\", \"#636efa\", \"#19d3f3\", \"#00cc96\", \"#FF6692\", \"#EF553B\", \"#636efa\", \"#ab63fa\", \"#FECB52\", \"#FF97FF\", \"#ab63fa\", \"#EF553B\", \"#636efa\", \"#00cc96\", \"#19d3f3\", \"#636efa\", \"#ab63fa\", \"#EF553B\", \"#FF6692\", \"#FFA15A\", \"#EF553B\", \"#00cc96\", \"#ab63fa\", \"#FFA15A\", \"#FFA15A\", \"#636efa\", \"#19d3f3\", \"#FFA15A\", \"#EF553B\", \"#00cc96\", \"#636efa\", \"#EF553B\", \"#ab63fa\", \"#FECB52\", \"#FF97FF\", \"#636efa\", \"#FF6692\", \"#19d3f3\", \"#ab63fa\", \"#00cc96\", \"#ab63fa\", \"#FFA15A\", \"#19d3f3\", \"#19d3f3\", \"#EF553B\", \"#ab63fa\", \"#B6E880\", \"#FF97FF\", \"#EF553B\", \"#00cc96\", \"#636efa\", \"#EF553B\", \"#ab63fa\", \"#FECB52\", \"#00cc96\", \"#19d3f3\", \"#FF6692\", \"#636efa\", \"#EF553B\", \"#636efa\", \"#00cc96\", \"#636efa\", \"#FECB52\", \"#ab63fa\", \"#FF6692\", \"#636efa\", \"#B6E880\", \"#ab63fa\", \"#FECB52\", \"#FECB52\", \"#ab63fa\", \"#FECB52\", \"#636efa\", \"#FF6692\", \"#19d3f3\", \"#00cc96\", \"#00cc96\", \"#B6E880\", \"#FF6692\", \"#EF553B\", \"#ab63fa\", \"#19d3f3\", \"#FFA15A\", \"#EF553B\", \"#00cc96\", \"#FFA15A\", \"#19d3f3\", \"#FF6692\", \"#636efa\", \"#B6E880\", \"#FF97FF\", \"#FECB52\", \"#636efa\", \"#636efa\", \"#EF553B\", \"#ab63fa\", \"#FECB52\", \"#EF553B\", \"#ab63fa\", \"#FECB52\", \"#FF97FF\", \"#B6E880\", \"#636efa\", \"#FF6692\", \"#19d3f3\", \"#FFA15A\", \"#636efa\", \"#ab63fa\", \"#EF553B\", \"#FFA15A\", \"#19d3f3\", \"#636efa\", \"#EF553B\", \"#ab63fa\", \"#FECB52\", \"#636efa\", \"#FF6692\", \"#00cc96\", \"#00cc96\", \"#19d3f3\", \"#FF6692\", \"#FF97FF\", \"#B6E880\", \"#636efa\", \"#FF6692\", \"#19d3f3\", \"#FFA15A\", \"#00cc96\", \"#EF553B\", \"#19d3f3\", \"#636efa\", \"#EF553B\", \"#ab63fa\", \"#FECB52\", \"#FF97FF\", \"#00cc96\", \"#FFA15A\", \"#19d3f3\", \"#636efa\", \"#EF553B\", \"#ab63fa\", \"#636efa\", \"#ab63fa\", \"#FFA15A\", \"#636efa\", \"#FFA15A\", \"#19d3f3\", \"#FFA15A\", \"#EF553B\"]}, \"name\": \"\", \"parents\": [\"NBIot\", \"Ingenu-RPMA\", \"LTE-4G\", \"LoRa (Rural)\", \"LoRa (Urban)\", \"MBWA\", \"MicroWave\", \"NBIot\", \"SigFox (Rural)\", \"SigFox (Urban)\", \"WIFI\", \"LTE-4G\", \"5G Mid\", \"5G Low\", \"ZigBee\", \"WiMax\", \"DSRC/Wave\", \"WIFI\", \"CALM\", \"5G Low\", \"NBIot\", \"MicroWave\", \"MBWA\", \"LTE-4G\", \"5G Mid\", \"5G Low\", \"WiMax\", \"NBIot\", \"MicroWave\", \"MBWA\", \"LTE-4G\", \"5G Mid\", \"5G Low\", \"WiMax\", \"NBIot\", \"5G Mid\", \"UWB\", \"WiMax\", \"LTE-4G\", \"Ingenu-RPMA\", \"DSRC/Wave\", \"CALM\", \"5G Mid\", \"5G Low\", \"WiMax\", \"WIFI\", \"SigFox (Urban)\", \"SigFox (Rural)\", \"NBIot\", \"MicroWave\", \"MBWA\", \"LoRa (Urban)\", \"LoRa (Rural)\", \"LTE-4G\", \"LTE-4G\", \"LoRa (Rural)\", \"LoRa (Urban)\", \"MBWA\", \"5G mmWavve\", \"5G Mid\", \"5G Low\", \"WiMax\", \"NBIot\", \"MicroWave\", \"MBWA\", \"WIFI\", \"LTE-4G\", \"5G Low\", \"WiMax\", \"WIFI\", \"SigFox (Urban)\", \"SigFox (Rural)\", \"NBIot\", \"MicroWave\", \"5G Mid\", \"NBIot\", \"5G Low\", \"LTE-4G\", \"UWB\", \"WiMax\", \"ZigBee\", \"5G Low\", \"LTE-4G\", \"LoRa (Rural)\", \"LTE-4G\", \"Ingenu-RPMA\", \"DSRC/Wave\", \"CALM\", \"5G Mid\", \"5G Mid\", \"5G mmWavve\", \"5G Low\", \"LoRa (Urban)\", \"WIFI\", \"NBIot\", \"WiMax\", \"5G Low\", \"5G Mid\", \"CALM\", \"DSRC/Wave\", \"WiMax\", \"Ingenu-RPMA\", \"LoRa (Rural)\", \"WiMax\", \"MBWA\", \"MicroWave\", \"SigFox (Rural)\", \"SigFox (Urban)\", \"LTE-4G\", \"SigFox (Urban)\", \"MicroWave\", \"NBIot\", \"WiMax\", \"SigFox (Urban)\", \"SigFox (Rural)\", \"Ingenu-RPMA\", \"NBIot\", \"MicroWave\", \"MBWA\", \"LoRa (Urban)\", \"5G Low\", \"LoRa (Rural)\", \"MBWA\", \"MicroWave\", \"NBIot\", \"WiMax\", \"5G Low\", \"5G Mid\", \"CALM\", \"DSRC/Wave\", \"SigFox (Rural)\", \"5G Mid\", \"LTE-4G\", \"MBWA\", \"LTE-4G\", \"CALM\", \"WiMax\", \"DSRC/Wave\", \"5G Mid\", \"NBIot\", \"WIFI\", \"LTE-4G\", \"LoRa (Rural)\", \"LoRa (Urban)\", \"MBWA\", \"MicroWave\", \"Ingenu-RPMA\", \"5G Low\", \"LoRa (Urban)\", \"MBWA\", \"NBIot\", \"MicroWave\", \"WIFI\", \"SigFox (Rural)\", \"5G Low\", \"5G Mid\", \"LTE-4G\", \"MBWA\", \"MicroWave\", \"NBIot\", \"WiMax\", \"5G Mid\", \"CALM\", \"MBWA\", \"MicroWave\", \"NBIot\", \"SigFox (Rural)\", \"SigFox (Urban)\", \"SigFox (Rural)\", \"LoRa (Rural)\", \"SigFox (Urban)\", \"LoRa (Urban)\", \"MBWA\", \"MicroWave\", \"NBIot\", \"Ingenu-RPMA\", \"LTE-4G\", \"Ingenu-RPMA\", \"CALM\", \"WiMax\", \"5G Low\", \"WIFI\", \"5G Mid\", \"CALM\", \"DSRC/Wave\", \"Ingenu-RPMA\", \"LTE-4G\", \"DSRC/Wave\", \"LoRa (Rural)\", \"MBWA\", \"MicroWave\", \"NBIot\", \"SigFox (Rural)\", \"SigFox (Urban)\", \"WIFI\", \"WiMax\", \"5G Low\", \"5G Mid\", \"LoRa (Urban)\", \"MBWA\", \"LoRa (Urban)\", \"LoRa (Rural)\", \"SigFox (Rural)\", \"Ingenu-RPMA\", \"DSRC/Wave\", \"MBWA\", \"MicroWave\", \"NBIot\", \"SigFox (Urban)\", \"WIFI\", \"WiMax\", \"5G Low\", \"5G Mid\", \"CALM\", \"MicroWave\", \"LTE-4G\", \"NBIot\", \"SigFox (Rural)\", \"5G Low\", \"NBIot\", \"LTE-4G\", \"5G Mid\", \"5G Low\", \"WiMax\", \"NBIot\", \"LTE-4G\", \"5G Mid\", \"5G Low\", \"ZigBee\", \"WiMax\", \"WIFI\", \"UWB\", \"NBIot\", \"LTE-4G\", \"BLE\", \"5G mmWavve\", \"5G Mid\", \"5G Low\", \"WiMax\", \"WIFI\", \"NBIot\", \"LTE-4G\", \"5G Mid\", \"5G Low\", \"WiMax\", \"SigFox (Urban)\", \"LoRa (Rural)\", \"LTE-4G\", \"WIFI\", \"WiMax\", \"5G Low\", \"5G Mid\", \"CALM\", \"DSRC/Wave\", \"Ingenu-RPMA\", \"LTE-4G\", \"LoRa (Rural)\", \"LoRa (Urban)\", \"MBWA\", \"MicroWave\", \"NBIot\", \"SigFox (Rural)\", \"SigFox (Urban)\", \"WIFI\", \"WiMax\", \"5G Low\", \"5G Mid\", \"CALM\", \"DSRC/Wave\", \"Ingenu-RPMA\", \"LoRa (Urban)\", \"MicroWave\", \"MBWA\", \"5G Mid\", \"\", \"\", \"CALM\", \"Ingenu-RPMA\", \"LTE-4G\", \"LoRa (Rural)\", \"DSRC/Wave\", \"LoRa (Urban)\", \"MicroWave\", \"NBIot\", \"MBWA\", \"5G Low\", \"LTE-4G\", \"WiMax\", \"WIFI\", \"SigFox (Urban)\", \"SigFox (Rural)\", \"NBIot\", \"WiMax\", \"5G Low\", \"5G Mid\", \"5G Mid\", \"MBWA\", \"MicroWave\", \"NBIot\", \"\", \"\", \"\", \"\", \"\", \"\", \"\", \"\", \"\", \"\", \"\", \"\", \"\", \"\", \"\", \"\", \"\", \"\", \"WiMax\", \"LoRa (Urban)\", \"LoRa (Rural)\", \"5G mmWavve\", \"5G Low\", \"5G Low\", \"WiMax\", \"WIFI\", \"SigFox (Rural)\", \"NBIot\", \"MicroWave\", \"ZigBee\", \"MBWA\", \"LoRa (Rural)\", \"5G Mid\", \"LTE-4G\", \"NBIot\", \"LTE-4G\", \"5G Mid\", \"LoRa (Urban)\", \"SigFox (Urban)\", \"Ingenu-RPMA\", \"CALM\", \"5G Low\", \"MBWA\", \"MicroWave\", \"NBIot\", \"WiMax\", \"5G Mid\", \"5G Low\", \"WiMax\", \"WIFI\", \"UWB\", \"5G Mid\", \"WiMax\", \"SigFox (Urban)\", \"SigFox (Rural)\", \"NBIot\", \"MicroWave\", \"MBWA\", \"LoRa (Urban)\", \"LoRa (Rural)\", \"LTE-4G\", \"NBIot\", \"DSRC/Wave\", \"WIFI\", \"LTE-4G\", \"DSRC/Wave\", \"LoRa (Rural)\", \"LTE-4G\", \"Ingenu-RPMA\", \"CALM\", \"5G Mid\", \"5G Low\", \"WiMax\", \"MBWA\", \"LoRa (Urban)\", \"MicroWave\", \"WIFI\", \"SigFox (Rural)\", \"MBWA\", \"MicroWave\", \"NBIot\", \"WiMax\", \"5G Low\", \"5G Mid\", \"CALM\", \"LTE-4G\", \"DSRC/Wave\", \"LTE-4G\", \"LoRa (Rural)\", \"LoRa (Urban)\", \"MBWA\", \"MicroWave\", \"NBIot\", \"SigFox (Rural)\", \"Ingenu-RPMA\", \"NBIot\", \"5G Mid\", \"WIFI\", \"WiMax\", \"MBWA\", \"5G Low\", \"LTE-4G\", \"5G Mid\", \"5G Low\", \"WiMax\", \"WIFI\", \"SigFox (Urban)\", \"NBIot\", \"MicroWave\", \"5G Low\", \"WiMax\", \"NBIot\", \"MicroWave\", \"MBWA\", \"LTE-4G\", \"5G Mid\", \"5G Low\", \"WiMax\", \"5G Mid\", \"WIFI\", \"LTE-4G\", \"SigFox (Urban)\", \"SigFox (Rural)\", \"NBIot\", \"MicroWave\", \"MBWA\", \"LoRa (Urban)\", \"LoRa (Rural)\", \"WiMax\", \"LTE-4G\", \"5G Low\", \"CALM\", \"5G Mid\", \"CALM\", \"DSRC/Wave\", \"Ingenu-RPMA\", \"WIFI\", \"Ingenu-RPMA\", \"SigFox (Urban)\", \"DSRC/Wave\", \"NBIot\", \"CALM\", \"DSRC/Wave\", \"Ingenu-RPMA\", \"LTE-4G\", \"LoRa (Rural)\", \"LoRa (Urban)\", \"MBWA\", \"NBIot\", \"5G Mid\", \"SigFox (Rural)\", \"WIFI\", \"WiMax\", \"5G Low\", \"5G Mid\", \"CALM\", \"DSRC/Wave\", \"LTE-4G\", \"MBWA\", \"SigFox (Rural)\", \"5G Low\", \"SigFox (Urban)\", \"NBIot\", \"WiMax\", \"MicroWave\", \"MBWA\", \"LoRa (Urban)\", \"LoRa (Rural)\", \"LTE-4G\", \"Ingenu-RPMA\", \"DSRC/Wave\", \"CALM\", \"MicroWave\", \"5G Low\", \"WiMax\", \"SigFox (Rural)\", \"SigFox (Urban)\", \"WIFI\", \"WiMax\", \"5G Low\", \"5G Mid\", \"5G Mid\", \"LTE-4G\", \"NBIot\", \"MBWA\", \"LTE-4G\", \"MicroWave\", \"5G Low\", \"5G Mid\", \"WiMax\", \"WIFI\", \"SigFox (Urban)\", \"WiMax\", \"5G Low\", \"5G Mid\", \"LTE-4G\", \"MBWA\", \"NBIot\", \"WiMax\", \"5G Low\", \"MicroWave\", \"DSRC/Wave\", \"Ingenu-RPMA\", \"LTE-4G\", \"LoRa (Rural)\", \"DSRC/Wave\", \"LoRa (Urban)\", \"5G Mid\", \"CALM\", \"DSRC/Wave\", \"Ingenu-RPMA\", \"LTE-4G\", \"5G Mid\", \"5G Low\", \"WiMax\", \"WIFI\", \"SigFox (Urban)\", \"NBIot\", \"MicroWave\", \"MBWA\", \"LoRa (Rural)\", \"LTE-4G\", \"LoRa (Rural)\", \"LoRa (Urban)\", \"MBWA\", \"CALM\", \"5G Low\", \"WiMax\", \"SigFox (Rural)\", \"SigFox (Urban)\", \"Ingenu-RPMA\", \"LTE-4G\", \"5G Mid\", \"5G Low\", \"WiMax\", \"WIFI\", \"LTE-4G\", \"MBWA\", \"MicroWave\", \"NBIot\", \"5G Low\", \"5G Mid\", \"LTE-4G\", \"NBIot\", \"WIFI\", \"WiMax\", \"MicroWave\", \"NBIot\", \"SigFox (Rural)\", \"WiMax\", \"WIFI\", \"WIFI\", \"WiMax\", \"IR\", \"NBIot\", \"MicroWave\", \"MBWA\", \"LTE-4G\", \"ZigBee\", \"5G mmWavve\", \"UWB\", \"5G Low\", \"LoRa (Rural)\", \"CALM\", \"DSRC/Wave\", \"Ingenu-RPMA\", \"LTE-4G\", \"LoRa (Urban)\", \"MBWA\", \"MicroWave\", \"NBIot\", \"SigFox (Rural)\", \"SigFox (Urban)\", \"WIFI\", \"5G Mid\", \"5G Mid\", \"5G Low\", \"LoRa (Rural)\", \"WIFI\", \"5G Low\", \"WiMax\", \"WIFI\", \"SigFox (Urban)\", \"SigFox (Rural)\", \"NBIot\", \"MicroWave\", \"MBWA\", \"LoRa (Urban)\", \"5G Mid\", \"LoRa (Rural)\", \"Ingenu-RPMA\", \"DSRC/Wave\", \"CALM\", \"5G Mid\", \"5G Low\", \"WiMax\", \"WIFI\", \"NBIot\", \"MicroWave\", \"LTE-4G\", \"LTE-4G\", \"MBWA\", \"MicroWave\", \"SigFox (Urban)\", \"SigFox (Rural)\", \"NBIot\", \"MicroWave\", \"MBWA\", \"LoRa (Urban)\", \"LTE-4G\", \"Ingenu-RPMA\", \"CALM\", \"5G Mid\", \"5G Low\", \"WiMax\", \"WIFI\", \"SigFox (Urban)\", \"LTE-4G\", \"DSRC/Wave\", \"CALM\", \"5G Mid\", \"5G Low\", \"WiMax\", \"NBIot\", \"WiMax\", \"DSRC/Wave\", \"5G Mid\", \"DSRC/Wave\", \"CALM\", \"LoRa (Urban)\", \"5G Low\"], \"type\": \"treemap\", \"values\": [1, 1, 1, 1, 1, 1, 1, 1, 1, 1, 1, 1, 1, 1, 1, 1, 1, 1, 1, 1, 1, 1, 1, 1, 1, 1, 2, 2, 1, 1, 2, 2, 2, 2, 2, 1, 1, 1, 1, 1, 2, 2, 2, 2, 1, 1, 1, 1, 1, 1, 1, 1, 1, 1, 2, 2, 2, 1, 1, 1, 1, 2, 2, 1, 1, 1, 2, 2, 2, 2, 2, 2, 2, 1, 2, 1, 2, 2, 1, 1, 2, 2, 2, 2, 2, 1, 2, 2, 2, 2, 2, 2, 1, 1, 1, 1, 1, 1, 1, 1, 1, 1, 1, 2, 1, 1, 1, 1, 1, 2, 1, 2, 1, 1, 1, 1, 1, 1, 1, 1, 2, 1, 1, 1, 2, 2, 1, 1, 1, 1, 2, 2, 1, 1, 2, 2, 2, 2, 2, 2, 2, 2, 2, 2, 1, 1, 1, 2, 2, 1, 2, 1, 1, 1, 1, 3, 3, 1, 1, 3, 2, 1, 1, 1, 1, 1, 1, 1, 1, 1, 1, 1, 1, 1, 1, 1, 1, 1, 1, 1, 2, 1, 2, 2, 2, 1, 2, 1, 2, 1, 1, 2, 2, 2, 2, 2, 1, 1, 2, 1, 1, 1, 1, 1, 1, 1, 1, 1, 1, 1, 1, 1, 1, 1, 1, 1, 1, 1, 2, 1, 1, 1, 1, 1, 1, 1, 1, 1, 1, 1, 1, 1, 1, 1, 1, 1, 1, 1, 1, 1, 1, 1, 1, 1, 1, 1, 1, 2, 1, 1, 1, 1, 1, 1, 1, 1, 1, 1, 1, 1, 1, 1, 1, 1, 1, 1, 1, 1, 1, 1, 1, 1, 1, 2, 75, 7, 1, 1, 1, 1, 1, 1, 1, 1, 1, 1, 1, 1, 1, 1, 1, 1, 1, 1, 1, 1, 1, 1, 1, 47, 5, 35, 35, 76, 44, 44, 35, 35, 78, 26, 1, 36, 36, 1, 7, 76, 78, 1, 1, 1, 1, 1, 2, 2, 2, 2, 2, 1, 1, 1, 2, 1, 1, 1, 1, 1, 2, 2, 1, 2, 1, 1, 1, 1, 1, 2, 1, 1, 1, 1, 1, 2, 2, 2, 2, 1, 1, 2, 2, 2, 1, 2, 2, 1, 1, 1, 1, 1, 1, 1, 1, 1, 1, 1, 1, 1, 1, 1, 1, 1, 1, 1, 1, 1, 1, 1, 1, 1, 1, 1, 1, 1, 1, 1, 1, 1, 2, 2, 1, 1, 2, 2, 2, 1, 1, 1, 2, 1, 1, 1, 1, 1, 1, 1, 1, 1, 2, 1, 1, 2, 1, 1, 1, 1, 1, 1, 1, 1, 1, 2, 1, 2, 2, 2, 1, 2, 1, 2, 1, 2, 1, 1, 1, 1, 1, 1, 1, 1, 1, 1, 1, 1, 1, 1, 1, 1, 1, 1, 2, 1, 1, 1, 1, 1, 1, 2, 2, 2, 1, 2, 2, 1, 2, 1, 2, 2, 2, 2, 1, 1, 2, 1, 2, 1, 2, 1, 2, 2, 1, 1, 1, 2, 2, 2, 2, 1, 2, 2, 3, 1, 1, 1, 1, 1, 2, 2, 1, 1, 1, 1, 1, 2, 2, 1, 1, 1, 1, 1, 1, 2, 1, 1, 1, 1, 2, 1, 2, 1, 2, 1, 2, 2, 2, 1, 1, 2, 1, 1, 2, 1, 1, 1, 1, 1, 1, 1, 2, 2, 2, 2, 2, 1, 1, 2, 1, 1, 2, 2, 2, 1, 1, 1, 1, 1, 1, 1, 1, 1, 1, 1, 1, 1, 1, 2, 1, 2, 1, 1, 2, 1, 1, 1, 1, 1, 1, 1, 1, 2, 1, 1, 1, 1, 1, 1, 1, 1, 1, 1, 1, 2, 1, 1, 1, 1, 1, 1, 1, 1, 1, 1, 1, 1, 1, 1, 1, 1, 1, 1, 1, 1, 1, 2, 2, 1, 1, 1, 1, 1, 1, 1]}],                        {\"legend\": {\"tracegroupgap\": 0}, \"margin\": {\"t\": 60}, \"template\": {\"data\": {\"bar\": [{\"error_x\": {\"color\": \"#2a3f5f\"}, \"error_y\": {\"color\": \"#2a3f5f\"}, \"marker\": {\"line\": {\"color\": \"#E5ECF6\", \"width\": 0.5}}, \"type\": \"bar\"}], \"barpolar\": [{\"marker\": {\"line\": {\"color\": \"#E5ECF6\", \"width\": 0.5}}, \"type\": \"barpolar\"}], \"carpet\": [{\"aaxis\": {\"endlinecolor\": \"#2a3f5f\", \"gridcolor\": \"white\", \"linecolor\": \"white\", \"minorgridcolor\": \"white\", \"startlinecolor\": \"#2a3f5f\"}, \"baxis\": {\"endlinecolor\": \"#2a3f5f\", \"gridcolor\": \"white\", \"linecolor\": \"white\", \"minorgridcolor\": \"white\", \"startlinecolor\": \"#2a3f5f\"}, \"type\": \"carpet\"}], \"choropleth\": [{\"colorbar\": {\"outlinewidth\": 0, \"ticks\": \"\"}, \"type\": \"choropleth\"}], \"contour\": [{\"colorbar\": {\"outlinewidth\": 0, \"ticks\": \"\"}, \"colorscale\": [[0.0, \"#0d0887\"], [0.1111111111111111, \"#46039f\"], [0.2222222222222222, \"#7201a8\"], [0.3333333333333333, \"#9c179e\"], [0.4444444444444444, \"#bd3786\"], [0.5555555555555556, \"#d8576b\"], [0.6666666666666666, \"#ed7953\"], [0.7777777777777778, \"#fb9f3a\"], [0.8888888888888888, \"#fdca26\"], [1.0, \"#f0f921\"]], \"type\": \"contour\"}], \"contourcarpet\": [{\"colorbar\": {\"outlinewidth\": 0, \"ticks\": \"\"}, \"type\": \"contourcarpet\"}], \"heatmap\": [{\"colorbar\": {\"outlinewidth\": 0, \"ticks\": \"\"}, \"colorscale\": [[0.0, \"#0d0887\"], [0.1111111111111111, \"#46039f\"], [0.2222222222222222, \"#7201a8\"], [0.3333333333333333, \"#9c179e\"], [0.4444444444444444, \"#bd3786\"], [0.5555555555555556, \"#d8576b\"], [0.6666666666666666, \"#ed7953\"], [0.7777777777777778, \"#fb9f3a\"], [0.8888888888888888, \"#fdca26\"], [1.0, \"#f0f921\"]], \"type\": \"heatmap\"}], \"heatmapgl\": [{\"colorbar\": {\"outlinewidth\": 0, \"ticks\": \"\"}, \"colorscale\": [[0.0, \"#0d0887\"], [0.1111111111111111, \"#46039f\"], [0.2222222222222222, \"#7201a8\"], [0.3333333333333333, \"#9c179e\"], [0.4444444444444444, \"#bd3786\"], [0.5555555555555556, \"#d8576b\"], [0.6666666666666666, \"#ed7953\"], [0.7777777777777778, \"#fb9f3a\"], [0.8888888888888888, \"#fdca26\"], [1.0, \"#f0f921\"]], \"type\": \"heatmapgl\"}], \"histogram\": [{\"marker\": {\"colorbar\": {\"outlinewidth\": 0, \"ticks\": \"\"}}, \"type\": \"histogram\"}], \"histogram2d\": [{\"colorbar\": {\"outlinewidth\": 0, \"ticks\": \"\"}, \"colorscale\": [[0.0, \"#0d0887\"], [0.1111111111111111, \"#46039f\"], [0.2222222222222222, \"#7201a8\"], [0.3333333333333333, \"#9c179e\"], [0.4444444444444444, \"#bd3786\"], [0.5555555555555556, \"#d8576b\"], [0.6666666666666666, \"#ed7953\"], [0.7777777777777778, \"#fb9f3a\"], [0.8888888888888888, \"#fdca26\"], [1.0, \"#f0f921\"]], \"type\": \"histogram2d\"}], \"histogram2dcontour\": [{\"colorbar\": {\"outlinewidth\": 0, \"ticks\": \"\"}, \"colorscale\": [[0.0, \"#0d0887\"], [0.1111111111111111, \"#46039f\"], [0.2222222222222222, \"#7201a8\"], [0.3333333333333333, \"#9c179e\"], [0.4444444444444444, \"#bd3786\"], [0.5555555555555556, \"#d8576b\"], [0.6666666666666666, \"#ed7953\"], [0.7777777777777778, \"#fb9f3a\"], [0.8888888888888888, \"#fdca26\"], [1.0, \"#f0f921\"]], \"type\": \"histogram2dcontour\"}], \"mesh3d\": [{\"colorbar\": {\"outlinewidth\": 0, \"ticks\": \"\"}, \"type\": \"mesh3d\"}], \"parcoords\": [{\"line\": {\"colorbar\": {\"outlinewidth\": 0, \"ticks\": \"\"}}, \"type\": \"parcoords\"}], \"pie\": [{\"automargin\": true, \"type\": \"pie\"}], \"scatter\": [{\"marker\": {\"colorbar\": {\"outlinewidth\": 0, \"ticks\": \"\"}}, \"type\": \"scatter\"}], \"scatter3d\": [{\"line\": {\"colorbar\": {\"outlinewidth\": 0, \"ticks\": \"\"}}, \"marker\": {\"colorbar\": {\"outlinewidth\": 0, \"ticks\": \"\"}}, \"type\": \"scatter3d\"}], \"scattercarpet\": [{\"marker\": {\"colorbar\": {\"outlinewidth\": 0, \"ticks\": \"\"}}, \"type\": \"scattercarpet\"}], \"scattergeo\": [{\"marker\": {\"colorbar\": {\"outlinewidth\": 0, \"ticks\": \"\"}}, \"type\": \"scattergeo\"}], \"scattergl\": [{\"marker\": {\"colorbar\": {\"outlinewidth\": 0, \"ticks\": \"\"}}, \"type\": \"scattergl\"}], \"scattermapbox\": [{\"marker\": {\"colorbar\": {\"outlinewidth\": 0, \"ticks\": \"\"}}, \"type\": \"scattermapbox\"}], \"scatterpolar\": [{\"marker\": {\"colorbar\": {\"outlinewidth\": 0, \"ticks\": \"\"}}, \"type\": \"scatterpolar\"}], \"scatterpolargl\": [{\"marker\": {\"colorbar\": {\"outlinewidth\": 0, \"ticks\": \"\"}}, \"type\": \"scatterpolargl\"}], \"scatterternary\": [{\"marker\": {\"colorbar\": {\"outlinewidth\": 0, \"ticks\": \"\"}}, \"type\": \"scatterternary\"}], \"surface\": [{\"colorbar\": {\"outlinewidth\": 0, \"ticks\": \"\"}, \"colorscale\": [[0.0, \"#0d0887\"], [0.1111111111111111, \"#46039f\"], [0.2222222222222222, \"#7201a8\"], [0.3333333333333333, \"#9c179e\"], [0.4444444444444444, \"#bd3786\"], [0.5555555555555556, \"#d8576b\"], [0.6666666666666666, \"#ed7953\"], [0.7777777777777778, \"#fb9f3a\"], [0.8888888888888888, \"#fdca26\"], [1.0, \"#f0f921\"]], \"type\": \"surface\"}], \"table\": [{\"cells\": {\"fill\": {\"color\": \"#EBF0F8\"}, \"line\": {\"color\": \"white\"}}, \"header\": {\"fill\": {\"color\": \"#C8D4E3\"}, \"line\": {\"color\": \"white\"}}, \"type\": \"table\"}]}, \"layout\": {\"annotationdefaults\": {\"arrowcolor\": \"#2a3f5f\", \"arrowhead\": 0, \"arrowwidth\": 1}, \"autotypenumbers\": \"strict\", \"coloraxis\": {\"colorbar\": {\"outlinewidth\": 0, \"ticks\": \"\"}}, \"colorscale\": {\"diverging\": [[0, \"#8e0152\"], [0.1, \"#c51b7d\"], [0.2, \"#de77ae\"], [0.3, \"#f1b6da\"], [0.4, \"#fde0ef\"], [0.5, \"#f7f7f7\"], [0.6, \"#e6f5d0\"], [0.7, \"#b8e186\"], [0.8, \"#7fbc41\"], [0.9, \"#4d9221\"], [1, \"#276419\"]], \"sequential\": [[0.0, \"#0d0887\"], [0.1111111111111111, \"#46039f\"], [0.2222222222222222, \"#7201a8\"], [0.3333333333333333, \"#9c179e\"], [0.4444444444444444, \"#bd3786\"], [0.5555555555555556, \"#d8576b\"], [0.6666666666666666, \"#ed7953\"], [0.7777777777777778, \"#fb9f3a\"], [0.8888888888888888, \"#fdca26\"], [1.0, \"#f0f921\"]], \"sequentialminus\": [[0.0, \"#0d0887\"], [0.1111111111111111, \"#46039f\"], [0.2222222222222222, \"#7201a8\"], [0.3333333333333333, \"#9c179e\"], [0.4444444444444444, \"#bd3786\"], [0.5555555555555556, \"#d8576b\"], [0.6666666666666666, \"#ed7953\"], [0.7777777777777778, \"#fb9f3a\"], [0.8888888888888888, \"#fdca26\"], [1.0, \"#f0f921\"]]}, \"colorway\": [\"#636efa\", \"#EF553B\", \"#00cc96\", \"#ab63fa\", \"#FFA15A\", \"#19d3f3\", \"#FF6692\", \"#B6E880\", \"#FF97FF\", \"#FECB52\"], \"font\": {\"color\": \"#2a3f5f\"}, \"geo\": {\"bgcolor\": \"white\", \"lakecolor\": \"white\", \"landcolor\": \"#E5ECF6\", \"showlakes\": true, \"showland\": true, \"subunitcolor\": \"white\"}, \"hoverlabel\": {\"align\": \"left\"}, \"hovermode\": \"closest\", \"mapbox\": {\"style\": \"light\"}, \"paper_bgcolor\": \"white\", \"plot_bgcolor\": \"#E5ECF6\", \"polar\": {\"angularaxis\": {\"gridcolor\": \"white\", \"linecolor\": \"white\", \"ticks\": \"\"}, \"bgcolor\": \"#E5ECF6\", \"radialaxis\": {\"gridcolor\": \"white\", \"linecolor\": \"white\", \"ticks\": \"\"}}, \"scene\": {\"xaxis\": {\"backgroundcolor\": \"#E5ECF6\", \"gridcolor\": \"white\", \"gridwidth\": 2, \"linecolor\": \"white\", \"showbackground\": true, \"ticks\": \"\", \"zerolinecolor\": \"white\"}, \"yaxis\": {\"backgroundcolor\": \"#E5ECF6\", \"gridcolor\": \"white\", \"gridwidth\": 2, \"linecolor\": \"white\", \"showbackground\": true, \"ticks\": \"\", \"zerolinecolor\": \"white\"}, \"zaxis\": {\"backgroundcolor\": \"#E5ECF6\", \"gridcolor\": \"white\", \"gridwidth\": 2, \"linecolor\": \"white\", \"showbackground\": true, \"ticks\": \"\", \"zerolinecolor\": \"white\"}}, \"shapedefaults\": {\"line\": {\"color\": \"#2a3f5f\"}}, \"ternary\": {\"aaxis\": {\"gridcolor\": \"white\", \"linecolor\": \"white\", \"ticks\": \"\"}, \"baxis\": {\"gridcolor\": \"white\", \"linecolor\": \"white\", \"ticks\": \"\"}, \"bgcolor\": \"#E5ECF6\", \"caxis\": {\"gridcolor\": \"white\", \"linecolor\": \"white\", \"ticks\": \"\"}}, \"title\": {\"x\": 0.05}, \"xaxis\": {\"automargin\": true, \"gridcolor\": \"white\", \"linecolor\": \"white\", \"ticks\": \"\", \"title\": {\"standoff\": 15}, \"zerolinecolor\": \"white\", \"zerolinewidth\": 2}, \"yaxis\": {\"automargin\": true, \"gridcolor\": \"white\", \"linecolor\": \"white\", \"ticks\": \"\", \"title\": {\"standoff\": 15}, \"zerolinecolor\": \"white\", \"zerolinewidth\": 2}}}},                        {\"responsive\": true}                    ).then(function(){\n",
       "                            \n",
       "var gd = document.getElementById('7d2be2b7-5149-409d-a14b-eabfe68ac8b4');\n",
       "var x = new MutationObserver(function (mutations, observer) {{\n",
       "        var display = window.getComputedStyle(gd).display;\n",
       "        if (!display || display === 'none') {{\n",
       "            console.log([gd, 'removed!']);\n",
       "            Plotly.purge(gd);\n",
       "            observer.disconnect();\n",
       "        }}\n",
       "}});\n",
       "\n",
       "// Listen for the removal of the full notebook cells\n",
       "var notebookContainer = gd.closest('#notebook-container');\n",
       "if (notebookContainer) {{\n",
       "    x.observe(notebookContainer, {childList: true});\n",
       "}}\n",
       "\n",
       "// Listen for the clearing of the current output cell\n",
       "var outputEl = gd.closest('.output');\n",
       "if (outputEl) {{\n",
       "    x.observe(outputEl, {childList: true});\n",
       "}}\n",
       "\n",
       "                        })                };                });            </script>        </div>"
      ]
     },
     "metadata": {},
     "output_type": "display_data"
    }
   ],
   "source": [
    "px.treemap(test, path=['Technology','Application'], color='Technology')"
   ]
  },
  {
   "cell_type": "code",
   "execution_count": null,
   "id": "4581ac6a",
   "metadata": {},
   "outputs": [],
   "source": []
  }
 ],
 "metadata": {
  "kernelspec": {
   "display_name": "Python 3",
   "language": "python",
   "name": "python3"
  },
  "language_info": {
   "codemirror_mode": {
    "name": "ipython",
    "version": 3
   },
   "file_extension": ".py",
   "mimetype": "text/x-python",
   "name": "python",
   "nbconvert_exporter": "python",
   "pygments_lexer": "ipython3",
   "version": "3.7.6"
  }
 },
 "nbformat": 4,
 "nbformat_minor": 5
}
